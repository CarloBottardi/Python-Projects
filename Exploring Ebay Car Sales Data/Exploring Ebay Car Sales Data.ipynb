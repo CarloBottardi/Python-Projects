{
 "cells": [
  {
   "cell_type": "markdown",
   "metadata": {},
   "source": [
    "## Exploring Ebay Car Sales Data"
   ]
  },
  {
   "cell_type": "markdown",
   "metadata": {},
   "source": [
    "In this project, I'll work with a dataset of used cars from eBay Kleinanzeigen, a classifieds section of the German eBay website.\n",
    "The aim of this project is to clean the data and analyze the included used car listings.\n",
    "\n",
    "The data dictionary provided with data is as follows:\n",
    "\n",
    "dateCrawled - When this ad was first crawled. All field-values are taken from this date.\n",
    "\n",
    "name - Name of the car.\n",
    "\n",
    "seller - Whether the seller is private or a dealer.\n",
    "\n",
    "offerType - The type of listing\n",
    "\n",
    "price - The price on the ad to sell the car.\n",
    "\n",
    "abtest - Whether the listing is included in an A/B test.\n",
    "\n",
    "vehicleType - The vehicle Type.\n",
    "\n",
    "yearOfRegistration - The year in which which year the car was first registered.\n",
    "\n",
    "gearbox - The transmission type.\n",
    "\n",
    "powerPS - The power of the car in PS.\n",
    "\n",
    "model - The car model name.\n",
    "\n",
    "kilometer - How many kilometers the car has driven.\n",
    "\n",
    "monthOfRegistration - The month in which which year the car was first registered.\n",
    "\n",
    "fuelType - What type of fuel the car uses.\n",
    "\n",
    "brand - The brand of the car.\n",
    "\n",
    "notRepairedDamage - If the car has a damage which is not yet repaired.\n",
    "\n",
    "dateCreated - The date on which the eBay listing was created.\n",
    "\n",
    "nrOfPictures - The number of pictures in the ad.\n",
    "\n",
    "postalCode - The postal code for the location of the vehicle.\n",
    "\n",
    "lastSeenOnline - When the crawler saw this ad last online."
   ]
  },
  {
   "cell_type": "code",
   "execution_count": 1,
   "metadata": {
    "collapsed": false
   },
   "outputs": [],
   "source": [
    "import pandas as pd\n",
    "import numpy as np\n",
    "\n",
    "autos = pd.read_csv(\"autos.csv\",encoding=\"Latin-1\")"
   ]
  },
  {
   "cell_type": "code",
   "execution_count": 2,
   "metadata": {
    "collapsed": false
   },
   "outputs": [
    {
     "name": "stdout",
     "output_type": "stream",
     "text": [
      "<class 'pandas.core.frame.DataFrame'>\n",
      "RangeIndex: 50000 entries, 0 to 49999\n",
      "Data columns (total 20 columns):\n",
      "dateCrawled            50000 non-null object\n",
      "name                   50000 non-null object\n",
      "seller                 50000 non-null object\n",
      "offerType              50000 non-null object\n",
      "price                  50000 non-null object\n",
      "abtest                 50000 non-null object\n",
      "vehicleType            44905 non-null object\n",
      "yearOfRegistration     50000 non-null int64\n",
      "gearbox                47320 non-null object\n",
      "powerPS                50000 non-null int64\n",
      "model                  47242 non-null object\n",
      "odometer               50000 non-null object\n",
      "monthOfRegistration    50000 non-null int64\n",
      "fuelType               45518 non-null object\n",
      "brand                  50000 non-null object\n",
      "notRepairedDamage      40171 non-null object\n",
      "dateCreated            50000 non-null object\n",
      "nrOfPictures           50000 non-null int64\n",
      "postalCode             50000 non-null int64\n",
      "lastSeen               50000 non-null object\n",
      "dtypes: int64(5), object(15)\n",
      "memory usage: 7.6+ MB\n"
     ]
    },
    {
     "data": {
      "text/html": [
       "<div>\n",
       "<style scoped>\n",
       "    .dataframe tbody tr th:only-of-type {\n",
       "        vertical-align: middle;\n",
       "    }\n",
       "\n",
       "    .dataframe tbody tr th {\n",
       "        vertical-align: top;\n",
       "    }\n",
       "\n",
       "    .dataframe thead th {\n",
       "        text-align: right;\n",
       "    }\n",
       "</style>\n",
       "<table border=\"1\" class=\"dataframe\">\n",
       "  <thead>\n",
       "    <tr style=\"text-align: right;\">\n",
       "      <th></th>\n",
       "      <th>dateCrawled</th>\n",
       "      <th>name</th>\n",
       "      <th>seller</th>\n",
       "      <th>offerType</th>\n",
       "      <th>price</th>\n",
       "      <th>abtest</th>\n",
       "      <th>vehicleType</th>\n",
       "      <th>yearOfRegistration</th>\n",
       "      <th>gearbox</th>\n",
       "      <th>powerPS</th>\n",
       "      <th>model</th>\n",
       "      <th>odometer</th>\n",
       "      <th>monthOfRegistration</th>\n",
       "      <th>fuelType</th>\n",
       "      <th>brand</th>\n",
       "      <th>notRepairedDamage</th>\n",
       "      <th>dateCreated</th>\n",
       "      <th>nrOfPictures</th>\n",
       "      <th>postalCode</th>\n",
       "      <th>lastSeen</th>\n",
       "    </tr>\n",
       "  </thead>\n",
       "  <tbody>\n",
       "    <tr>\n",
       "      <th>0</th>\n",
       "      <td>2016-03-26 17:47:46</td>\n",
       "      <td>Peugeot_807_160_NAVTECH_ON_BOARD</td>\n",
       "      <td>privat</td>\n",
       "      <td>Angebot</td>\n",
       "      <td>$5,000</td>\n",
       "      <td>control</td>\n",
       "      <td>bus</td>\n",
       "      <td>2004</td>\n",
       "      <td>manuell</td>\n",
       "      <td>158</td>\n",
       "      <td>andere</td>\n",
       "      <td>150,000km</td>\n",
       "      <td>3</td>\n",
       "      <td>lpg</td>\n",
       "      <td>peugeot</td>\n",
       "      <td>nein</td>\n",
       "      <td>2016-03-26 00:00:00</td>\n",
       "      <td>0</td>\n",
       "      <td>79588</td>\n",
       "      <td>2016-04-06 06:45:54</td>\n",
       "    </tr>\n",
       "    <tr>\n",
       "      <th>1</th>\n",
       "      <td>2016-04-04 13:38:56</td>\n",
       "      <td>BMW_740i_4_4_Liter_HAMANN_UMBAU_Mega_Optik</td>\n",
       "      <td>privat</td>\n",
       "      <td>Angebot</td>\n",
       "      <td>$8,500</td>\n",
       "      <td>control</td>\n",
       "      <td>limousine</td>\n",
       "      <td>1997</td>\n",
       "      <td>automatik</td>\n",
       "      <td>286</td>\n",
       "      <td>7er</td>\n",
       "      <td>150,000km</td>\n",
       "      <td>6</td>\n",
       "      <td>benzin</td>\n",
       "      <td>bmw</td>\n",
       "      <td>nein</td>\n",
       "      <td>2016-04-04 00:00:00</td>\n",
       "      <td>0</td>\n",
       "      <td>71034</td>\n",
       "      <td>2016-04-06 14:45:08</td>\n",
       "    </tr>\n",
       "    <tr>\n",
       "      <th>2</th>\n",
       "      <td>2016-03-26 18:57:24</td>\n",
       "      <td>Volkswagen_Golf_1.6_United</td>\n",
       "      <td>privat</td>\n",
       "      <td>Angebot</td>\n",
       "      <td>$8,990</td>\n",
       "      <td>test</td>\n",
       "      <td>limousine</td>\n",
       "      <td>2009</td>\n",
       "      <td>manuell</td>\n",
       "      <td>102</td>\n",
       "      <td>golf</td>\n",
       "      <td>70,000km</td>\n",
       "      <td>7</td>\n",
       "      <td>benzin</td>\n",
       "      <td>volkswagen</td>\n",
       "      <td>nein</td>\n",
       "      <td>2016-03-26 00:00:00</td>\n",
       "      <td>0</td>\n",
       "      <td>35394</td>\n",
       "      <td>2016-04-06 20:15:37</td>\n",
       "    </tr>\n",
       "    <tr>\n",
       "      <th>3</th>\n",
       "      <td>2016-03-12 16:58:10</td>\n",
       "      <td>Smart_smart_fortwo_coupe_softouch/F1/Klima/Pan...</td>\n",
       "      <td>privat</td>\n",
       "      <td>Angebot</td>\n",
       "      <td>$4,350</td>\n",
       "      <td>control</td>\n",
       "      <td>kleinwagen</td>\n",
       "      <td>2007</td>\n",
       "      <td>automatik</td>\n",
       "      <td>71</td>\n",
       "      <td>fortwo</td>\n",
       "      <td>70,000km</td>\n",
       "      <td>6</td>\n",
       "      <td>benzin</td>\n",
       "      <td>smart</td>\n",
       "      <td>nein</td>\n",
       "      <td>2016-03-12 00:00:00</td>\n",
       "      <td>0</td>\n",
       "      <td>33729</td>\n",
       "      <td>2016-03-15 03:16:28</td>\n",
       "    </tr>\n",
       "    <tr>\n",
       "      <th>4</th>\n",
       "      <td>2016-04-01 14:38:50</td>\n",
       "      <td>Ford_Focus_1_6_Benzin_TÜV_neu_ist_sehr_gepfleg...</td>\n",
       "      <td>privat</td>\n",
       "      <td>Angebot</td>\n",
       "      <td>$1,350</td>\n",
       "      <td>test</td>\n",
       "      <td>kombi</td>\n",
       "      <td>2003</td>\n",
       "      <td>manuell</td>\n",
       "      <td>0</td>\n",
       "      <td>focus</td>\n",
       "      <td>150,000km</td>\n",
       "      <td>7</td>\n",
       "      <td>benzin</td>\n",
       "      <td>ford</td>\n",
       "      <td>nein</td>\n",
       "      <td>2016-04-01 00:00:00</td>\n",
       "      <td>0</td>\n",
       "      <td>39218</td>\n",
       "      <td>2016-04-01 14:38:50</td>\n",
       "    </tr>\n",
       "  </tbody>\n",
       "</table>\n",
       "</div>"
      ],
      "text/plain": [
       "           dateCrawled                                               name  \\\n",
       "0  2016-03-26 17:47:46                   Peugeot_807_160_NAVTECH_ON_BOARD   \n",
       "1  2016-04-04 13:38:56         BMW_740i_4_4_Liter_HAMANN_UMBAU_Mega_Optik   \n",
       "2  2016-03-26 18:57:24                         Volkswagen_Golf_1.6_United   \n",
       "3  2016-03-12 16:58:10  Smart_smart_fortwo_coupe_softouch/F1/Klima/Pan...   \n",
       "4  2016-04-01 14:38:50  Ford_Focus_1_6_Benzin_TÜV_neu_ist_sehr_gepfleg...   \n",
       "\n",
       "   seller offerType   price   abtest vehicleType  yearOfRegistration  \\\n",
       "0  privat   Angebot  $5,000  control         bus                2004   \n",
       "1  privat   Angebot  $8,500  control   limousine                1997   \n",
       "2  privat   Angebot  $8,990     test   limousine                2009   \n",
       "3  privat   Angebot  $4,350  control  kleinwagen                2007   \n",
       "4  privat   Angebot  $1,350     test       kombi                2003   \n",
       "\n",
       "     gearbox  powerPS   model   odometer  monthOfRegistration fuelType  \\\n",
       "0    manuell      158  andere  150,000km                    3      lpg   \n",
       "1  automatik      286     7er  150,000km                    6   benzin   \n",
       "2    manuell      102    golf   70,000km                    7   benzin   \n",
       "3  automatik       71  fortwo   70,000km                    6   benzin   \n",
       "4    manuell        0   focus  150,000km                    7   benzin   \n",
       "\n",
       "        brand notRepairedDamage          dateCreated  nrOfPictures  \\\n",
       "0     peugeot              nein  2016-03-26 00:00:00             0   \n",
       "1         bmw              nein  2016-04-04 00:00:00             0   \n",
       "2  volkswagen              nein  2016-03-26 00:00:00             0   \n",
       "3       smart              nein  2016-03-12 00:00:00             0   \n",
       "4        ford              nein  2016-04-01 00:00:00             0   \n",
       "\n",
       "   postalCode             lastSeen  \n",
       "0       79588  2016-04-06 06:45:54  \n",
       "1       71034  2016-04-06 14:45:08  \n",
       "2       35394  2016-04-06 20:15:37  \n",
       "3       33729  2016-03-15 03:16:28  \n",
       "4       39218  2016-04-01 14:38:50  "
      ]
     },
     "execution_count": 2,
     "metadata": {},
     "output_type": "execute_result"
    }
   ],
   "source": [
    "autos.info()\n",
    "autos.head()"
   ]
  },
  {
   "cell_type": "markdown",
   "metadata": {},
   "source": [
    "The dataset contains 20 columns, most of which are stored as strings. There are a few columns with null values, but no columns have more than ~20% null values. There are some columns that contain dates stored as strings.\n",
    "\n",
    "I'll start by cleaning the column names to make the data easier to work with."
   ]
  },
  {
   "cell_type": "markdown",
   "metadata": {},
   "source": [
    "## Cleaning column names"
   ]
  },
  {
   "cell_type": "code",
   "execution_count": 3,
   "metadata": {
    "collapsed": false
   },
   "outputs": [
    {
     "data": {
      "text/plain": [
       "Index(['dateCrawled', 'name', 'seller', 'offerType', 'price', 'abtest',\n",
       "       'vehicleType', 'yearOfRegistration', 'gearbox', 'powerPS', 'model',\n",
       "       'odometer', 'monthOfRegistration', 'fuelType', 'brand',\n",
       "       'notRepairedDamage', 'dateCreated', 'nrOfPictures', 'postalCode',\n",
       "       'lastSeen'],\n",
       "      dtype='object')"
      ]
     },
     "execution_count": 3,
     "metadata": {},
     "output_type": "execute_result"
    }
   ],
   "source": [
    "autos.columns"
   ]
  },
  {
   "cell_type": "code",
   "execution_count": 4,
   "metadata": {
    "collapsed": false
   },
   "outputs": [
    {
     "name": "stdout",
     "output_type": "stream",
     "text": [
      "Index(['ad_crawled', 'name', 'seller', 'offer_type', 'price', 'abtest',\n",
      "       'vehicle_type', 'registration_year', 'gearbox', 'power_ps', 'model',\n",
      "       'odometer_km', 'registration_month', 'fuel_type', 'brand',\n",
      "       'unrepaired_damage', 'ad_created', 'nr_of_pictures', 'postal_code',\n",
      "       'ad_last_seen'],\n",
      "      dtype='object')\n"
     ]
    }
   ],
   "source": [
    "mapping_dict = {\n",
    "    'name':'name',\n",
    "    'seller':'seller',\n",
    "    'price':'price',\n",
    "    'abtest':'abtest',\n",
    "    'gearbox':'gearbox',\n",
    "    'model':'model',\n",
    "    'odometer':'odometer_km',\n",
    "    'brand':'brand',\n",
    "    'yearOfRegistration': 'registration_year',\n",
    "    'monthOfRegistration': 'registration_month',\n",
    "    'notRepairedDamage': 'unrepaired_damage',\n",
    "    'dateCreated': 'ad_created',\n",
    "    'dateCrawled': 'ad_crawled',\n",
    "    'offerType': 'offer_type',\n",
    "    'vehicleType': 'vehicle_type',\n",
    "    'powerPS': 'power_ps',\n",
    "    'fuelType': 'fuel_type',\n",
    "    'nrOfPictures': 'nr_of_pictures',\n",
    "    'postalCode': 'postal_code',\n",
    "    'lastSeen': 'ad_last_seen',\n",
    "}\n",
    "\n",
    "autos.rename(columns=mapping_dict,inplace=True)\n",
    "print(autos.columns)"
   ]
  },
  {
   "cell_type": "code",
   "execution_count": 5,
   "metadata": {
    "collapsed": false
   },
   "outputs": [
    {
     "data": {
      "text/html": [
       "<div>\n",
       "<style scoped>\n",
       "    .dataframe tbody tr th:only-of-type {\n",
       "        vertical-align: middle;\n",
       "    }\n",
       "\n",
       "    .dataframe tbody tr th {\n",
       "        vertical-align: top;\n",
       "    }\n",
       "\n",
       "    .dataframe thead th {\n",
       "        text-align: right;\n",
       "    }\n",
       "</style>\n",
       "<table border=\"1\" class=\"dataframe\">\n",
       "  <thead>\n",
       "    <tr style=\"text-align: right;\">\n",
       "      <th></th>\n",
       "      <th>ad_crawled</th>\n",
       "      <th>name</th>\n",
       "      <th>seller</th>\n",
       "      <th>offer_type</th>\n",
       "      <th>price</th>\n",
       "      <th>abtest</th>\n",
       "      <th>vehicle_type</th>\n",
       "      <th>registration_year</th>\n",
       "      <th>gearbox</th>\n",
       "      <th>power_ps</th>\n",
       "      <th>model</th>\n",
       "      <th>odometer_km</th>\n",
       "      <th>registration_month</th>\n",
       "      <th>fuel_type</th>\n",
       "      <th>brand</th>\n",
       "      <th>unrepaired_damage</th>\n",
       "      <th>ad_created</th>\n",
       "      <th>nr_of_pictures</th>\n",
       "      <th>postal_code</th>\n",
       "      <th>ad_last_seen</th>\n",
       "    </tr>\n",
       "  </thead>\n",
       "  <tbody>\n",
       "    <tr>\n",
       "      <th>0</th>\n",
       "      <td>2016-03-26 17:47:46</td>\n",
       "      <td>Peugeot_807_160_NAVTECH_ON_BOARD</td>\n",
       "      <td>privat</td>\n",
       "      <td>Angebot</td>\n",
       "      <td>$5,000</td>\n",
       "      <td>control</td>\n",
       "      <td>bus</td>\n",
       "      <td>2004</td>\n",
       "      <td>manuell</td>\n",
       "      <td>158</td>\n",
       "      <td>andere</td>\n",
       "      <td>150,000km</td>\n",
       "      <td>3</td>\n",
       "      <td>lpg</td>\n",
       "      <td>peugeot</td>\n",
       "      <td>nein</td>\n",
       "      <td>2016-03-26 00:00:00</td>\n",
       "      <td>0</td>\n",
       "      <td>79588</td>\n",
       "      <td>2016-04-06 06:45:54</td>\n",
       "    </tr>\n",
       "    <tr>\n",
       "      <th>1</th>\n",
       "      <td>2016-04-04 13:38:56</td>\n",
       "      <td>BMW_740i_4_4_Liter_HAMANN_UMBAU_Mega_Optik</td>\n",
       "      <td>privat</td>\n",
       "      <td>Angebot</td>\n",
       "      <td>$8,500</td>\n",
       "      <td>control</td>\n",
       "      <td>limousine</td>\n",
       "      <td>1997</td>\n",
       "      <td>automatik</td>\n",
       "      <td>286</td>\n",
       "      <td>7er</td>\n",
       "      <td>150,000km</td>\n",
       "      <td>6</td>\n",
       "      <td>benzin</td>\n",
       "      <td>bmw</td>\n",
       "      <td>nein</td>\n",
       "      <td>2016-04-04 00:00:00</td>\n",
       "      <td>0</td>\n",
       "      <td>71034</td>\n",
       "      <td>2016-04-06 14:45:08</td>\n",
       "    </tr>\n",
       "    <tr>\n",
       "      <th>2</th>\n",
       "      <td>2016-03-26 18:57:24</td>\n",
       "      <td>Volkswagen_Golf_1.6_United</td>\n",
       "      <td>privat</td>\n",
       "      <td>Angebot</td>\n",
       "      <td>$8,990</td>\n",
       "      <td>test</td>\n",
       "      <td>limousine</td>\n",
       "      <td>2009</td>\n",
       "      <td>manuell</td>\n",
       "      <td>102</td>\n",
       "      <td>golf</td>\n",
       "      <td>70,000km</td>\n",
       "      <td>7</td>\n",
       "      <td>benzin</td>\n",
       "      <td>volkswagen</td>\n",
       "      <td>nein</td>\n",
       "      <td>2016-03-26 00:00:00</td>\n",
       "      <td>0</td>\n",
       "      <td>35394</td>\n",
       "      <td>2016-04-06 20:15:37</td>\n",
       "    </tr>\n",
       "    <tr>\n",
       "      <th>3</th>\n",
       "      <td>2016-03-12 16:58:10</td>\n",
       "      <td>Smart_smart_fortwo_coupe_softouch/F1/Klima/Pan...</td>\n",
       "      <td>privat</td>\n",
       "      <td>Angebot</td>\n",
       "      <td>$4,350</td>\n",
       "      <td>control</td>\n",
       "      <td>kleinwagen</td>\n",
       "      <td>2007</td>\n",
       "      <td>automatik</td>\n",
       "      <td>71</td>\n",
       "      <td>fortwo</td>\n",
       "      <td>70,000km</td>\n",
       "      <td>6</td>\n",
       "      <td>benzin</td>\n",
       "      <td>smart</td>\n",
       "      <td>nein</td>\n",
       "      <td>2016-03-12 00:00:00</td>\n",
       "      <td>0</td>\n",
       "      <td>33729</td>\n",
       "      <td>2016-03-15 03:16:28</td>\n",
       "    </tr>\n",
       "    <tr>\n",
       "      <th>4</th>\n",
       "      <td>2016-04-01 14:38:50</td>\n",
       "      <td>Ford_Focus_1_6_Benzin_TÜV_neu_ist_sehr_gepfleg...</td>\n",
       "      <td>privat</td>\n",
       "      <td>Angebot</td>\n",
       "      <td>$1,350</td>\n",
       "      <td>test</td>\n",
       "      <td>kombi</td>\n",
       "      <td>2003</td>\n",
       "      <td>manuell</td>\n",
       "      <td>0</td>\n",
       "      <td>focus</td>\n",
       "      <td>150,000km</td>\n",
       "      <td>7</td>\n",
       "      <td>benzin</td>\n",
       "      <td>ford</td>\n",
       "      <td>nein</td>\n",
       "      <td>2016-04-01 00:00:00</td>\n",
       "      <td>0</td>\n",
       "      <td>39218</td>\n",
       "      <td>2016-04-01 14:38:50</td>\n",
       "    </tr>\n",
       "  </tbody>\n",
       "</table>\n",
       "</div>"
      ],
      "text/plain": [
       "            ad_crawled                                               name  \\\n",
       "0  2016-03-26 17:47:46                   Peugeot_807_160_NAVTECH_ON_BOARD   \n",
       "1  2016-04-04 13:38:56         BMW_740i_4_4_Liter_HAMANN_UMBAU_Mega_Optik   \n",
       "2  2016-03-26 18:57:24                         Volkswagen_Golf_1.6_United   \n",
       "3  2016-03-12 16:58:10  Smart_smart_fortwo_coupe_softouch/F1/Klima/Pan...   \n",
       "4  2016-04-01 14:38:50  Ford_Focus_1_6_Benzin_TÜV_neu_ist_sehr_gepfleg...   \n",
       "\n",
       "   seller offer_type   price   abtest vehicle_type  registration_year  \\\n",
       "0  privat    Angebot  $5,000  control          bus               2004   \n",
       "1  privat    Angebot  $8,500  control    limousine               1997   \n",
       "2  privat    Angebot  $8,990     test    limousine               2009   \n",
       "3  privat    Angebot  $4,350  control   kleinwagen               2007   \n",
       "4  privat    Angebot  $1,350     test        kombi               2003   \n",
       "\n",
       "     gearbox  power_ps   model odometer_km  registration_month fuel_type  \\\n",
       "0    manuell       158  andere   150,000km                   3       lpg   \n",
       "1  automatik       286     7er   150,000km                   6    benzin   \n",
       "2    manuell       102    golf    70,000km                   7    benzin   \n",
       "3  automatik        71  fortwo    70,000km                   6    benzin   \n",
       "4    manuell         0   focus   150,000km                   7    benzin   \n",
       "\n",
       "        brand unrepaired_damage           ad_created  nr_of_pictures  \\\n",
       "0     peugeot              nein  2016-03-26 00:00:00               0   \n",
       "1         bmw              nein  2016-04-04 00:00:00               0   \n",
       "2  volkswagen              nein  2016-03-26 00:00:00               0   \n",
       "3       smart              nein  2016-03-12 00:00:00               0   \n",
       "4        ford              nein  2016-04-01 00:00:00               0   \n",
       "\n",
       "   postal_code         ad_last_seen  \n",
       "0        79588  2016-04-06 06:45:54  \n",
       "1        71034  2016-04-06 14:45:08  \n",
       "2        35394  2016-04-06 20:15:37  \n",
       "3        33729  2016-03-15 03:16:28  \n",
       "4        39218  2016-04-01 14:38:50  "
      ]
     },
     "execution_count": 5,
     "metadata": {},
     "output_type": "execute_result"
    }
   ],
   "source": [
    "autos.head()"
   ]
  },
  {
   "cell_type": "markdown",
   "metadata": {},
   "source": [
    "I've changed all the camelcases to snakecases (prefereed in Python) in order to make the columns more readable"
   ]
  },
  {
   "cell_type": "markdown",
   "metadata": {},
   "source": [
    "## Initial exploration and cleaning"
   ]
  },
  {
   "cell_type": "code",
   "execution_count": 6,
   "metadata": {
    "collapsed": false
   },
   "outputs": [
    {
     "data": {
      "text/html": [
       "<div>\n",
       "<style scoped>\n",
       "    .dataframe tbody tr th:only-of-type {\n",
       "        vertical-align: middle;\n",
       "    }\n",
       "\n",
       "    .dataframe tbody tr th {\n",
       "        vertical-align: top;\n",
       "    }\n",
       "\n",
       "    .dataframe thead th {\n",
       "        text-align: right;\n",
       "    }\n",
       "</style>\n",
       "<table border=\"1\" class=\"dataframe\">\n",
       "  <thead>\n",
       "    <tr style=\"text-align: right;\">\n",
       "      <th></th>\n",
       "      <th>ad_crawled</th>\n",
       "      <th>name</th>\n",
       "      <th>seller</th>\n",
       "      <th>offer_type</th>\n",
       "      <th>price</th>\n",
       "      <th>abtest</th>\n",
       "      <th>vehicle_type</th>\n",
       "      <th>registration_year</th>\n",
       "      <th>gearbox</th>\n",
       "      <th>power_ps</th>\n",
       "      <th>model</th>\n",
       "      <th>odometer_km</th>\n",
       "      <th>registration_month</th>\n",
       "      <th>fuel_type</th>\n",
       "      <th>brand</th>\n",
       "      <th>unrepaired_damage</th>\n",
       "      <th>ad_created</th>\n",
       "      <th>nr_of_pictures</th>\n",
       "      <th>postal_code</th>\n",
       "      <th>ad_last_seen</th>\n",
       "    </tr>\n",
       "  </thead>\n",
       "  <tbody>\n",
       "    <tr>\n",
       "      <th>count</th>\n",
       "      <td>50000</td>\n",
       "      <td>50000</td>\n",
       "      <td>50000</td>\n",
       "      <td>50000</td>\n",
       "      <td>50000</td>\n",
       "      <td>50000</td>\n",
       "      <td>44905</td>\n",
       "      <td>50000.000000</td>\n",
       "      <td>47320</td>\n",
       "      <td>50000.000000</td>\n",
       "      <td>47242</td>\n",
       "      <td>50000</td>\n",
       "      <td>50000.000000</td>\n",
       "      <td>45518</td>\n",
       "      <td>50000</td>\n",
       "      <td>40171</td>\n",
       "      <td>50000</td>\n",
       "      <td>50000.0</td>\n",
       "      <td>50000.000000</td>\n",
       "      <td>50000</td>\n",
       "    </tr>\n",
       "    <tr>\n",
       "      <th>unique</th>\n",
       "      <td>48213</td>\n",
       "      <td>38754</td>\n",
       "      <td>2</td>\n",
       "      <td>2</td>\n",
       "      <td>2357</td>\n",
       "      <td>2</td>\n",
       "      <td>8</td>\n",
       "      <td>NaN</td>\n",
       "      <td>2</td>\n",
       "      <td>NaN</td>\n",
       "      <td>245</td>\n",
       "      <td>13</td>\n",
       "      <td>NaN</td>\n",
       "      <td>7</td>\n",
       "      <td>40</td>\n",
       "      <td>2</td>\n",
       "      <td>76</td>\n",
       "      <td>NaN</td>\n",
       "      <td>NaN</td>\n",
       "      <td>39481</td>\n",
       "    </tr>\n",
       "    <tr>\n",
       "      <th>top</th>\n",
       "      <td>2016-03-12 16:06:22</td>\n",
       "      <td>Ford_Fiesta</td>\n",
       "      <td>privat</td>\n",
       "      <td>Angebot</td>\n",
       "      <td>$0</td>\n",
       "      <td>test</td>\n",
       "      <td>limousine</td>\n",
       "      <td>NaN</td>\n",
       "      <td>manuell</td>\n",
       "      <td>NaN</td>\n",
       "      <td>golf</td>\n",
       "      <td>150,000km</td>\n",
       "      <td>NaN</td>\n",
       "      <td>benzin</td>\n",
       "      <td>volkswagen</td>\n",
       "      <td>nein</td>\n",
       "      <td>2016-04-03 00:00:00</td>\n",
       "      <td>NaN</td>\n",
       "      <td>NaN</td>\n",
       "      <td>2016-04-07 06:17:27</td>\n",
       "    </tr>\n",
       "    <tr>\n",
       "      <th>freq</th>\n",
       "      <td>3</td>\n",
       "      <td>78</td>\n",
       "      <td>49999</td>\n",
       "      <td>49999</td>\n",
       "      <td>1421</td>\n",
       "      <td>25756</td>\n",
       "      <td>12859</td>\n",
       "      <td>NaN</td>\n",
       "      <td>36993</td>\n",
       "      <td>NaN</td>\n",
       "      <td>4024</td>\n",
       "      <td>32424</td>\n",
       "      <td>NaN</td>\n",
       "      <td>30107</td>\n",
       "      <td>10687</td>\n",
       "      <td>35232</td>\n",
       "      <td>1946</td>\n",
       "      <td>NaN</td>\n",
       "      <td>NaN</td>\n",
       "      <td>8</td>\n",
       "    </tr>\n",
       "    <tr>\n",
       "      <th>mean</th>\n",
       "      <td>NaN</td>\n",
       "      <td>NaN</td>\n",
       "      <td>NaN</td>\n",
       "      <td>NaN</td>\n",
       "      <td>NaN</td>\n",
       "      <td>NaN</td>\n",
       "      <td>NaN</td>\n",
       "      <td>2005.073280</td>\n",
       "      <td>NaN</td>\n",
       "      <td>116.355920</td>\n",
       "      <td>NaN</td>\n",
       "      <td>NaN</td>\n",
       "      <td>5.723360</td>\n",
       "      <td>NaN</td>\n",
       "      <td>NaN</td>\n",
       "      <td>NaN</td>\n",
       "      <td>NaN</td>\n",
       "      <td>0.0</td>\n",
       "      <td>50813.627300</td>\n",
       "      <td>NaN</td>\n",
       "    </tr>\n",
       "    <tr>\n",
       "      <th>std</th>\n",
       "      <td>NaN</td>\n",
       "      <td>NaN</td>\n",
       "      <td>NaN</td>\n",
       "      <td>NaN</td>\n",
       "      <td>NaN</td>\n",
       "      <td>NaN</td>\n",
       "      <td>NaN</td>\n",
       "      <td>105.712813</td>\n",
       "      <td>NaN</td>\n",
       "      <td>209.216627</td>\n",
       "      <td>NaN</td>\n",
       "      <td>NaN</td>\n",
       "      <td>3.711984</td>\n",
       "      <td>NaN</td>\n",
       "      <td>NaN</td>\n",
       "      <td>NaN</td>\n",
       "      <td>NaN</td>\n",
       "      <td>0.0</td>\n",
       "      <td>25779.747957</td>\n",
       "      <td>NaN</td>\n",
       "    </tr>\n",
       "    <tr>\n",
       "      <th>min</th>\n",
       "      <td>NaN</td>\n",
       "      <td>NaN</td>\n",
       "      <td>NaN</td>\n",
       "      <td>NaN</td>\n",
       "      <td>NaN</td>\n",
       "      <td>NaN</td>\n",
       "      <td>NaN</td>\n",
       "      <td>1000.000000</td>\n",
       "      <td>NaN</td>\n",
       "      <td>0.000000</td>\n",
       "      <td>NaN</td>\n",
       "      <td>NaN</td>\n",
       "      <td>0.000000</td>\n",
       "      <td>NaN</td>\n",
       "      <td>NaN</td>\n",
       "      <td>NaN</td>\n",
       "      <td>NaN</td>\n",
       "      <td>0.0</td>\n",
       "      <td>1067.000000</td>\n",
       "      <td>NaN</td>\n",
       "    </tr>\n",
       "    <tr>\n",
       "      <th>25%</th>\n",
       "      <td>NaN</td>\n",
       "      <td>NaN</td>\n",
       "      <td>NaN</td>\n",
       "      <td>NaN</td>\n",
       "      <td>NaN</td>\n",
       "      <td>NaN</td>\n",
       "      <td>NaN</td>\n",
       "      <td>1999.000000</td>\n",
       "      <td>NaN</td>\n",
       "      <td>70.000000</td>\n",
       "      <td>NaN</td>\n",
       "      <td>NaN</td>\n",
       "      <td>3.000000</td>\n",
       "      <td>NaN</td>\n",
       "      <td>NaN</td>\n",
       "      <td>NaN</td>\n",
       "      <td>NaN</td>\n",
       "      <td>0.0</td>\n",
       "      <td>30451.000000</td>\n",
       "      <td>NaN</td>\n",
       "    </tr>\n",
       "    <tr>\n",
       "      <th>50%</th>\n",
       "      <td>NaN</td>\n",
       "      <td>NaN</td>\n",
       "      <td>NaN</td>\n",
       "      <td>NaN</td>\n",
       "      <td>NaN</td>\n",
       "      <td>NaN</td>\n",
       "      <td>NaN</td>\n",
       "      <td>2003.000000</td>\n",
       "      <td>NaN</td>\n",
       "      <td>105.000000</td>\n",
       "      <td>NaN</td>\n",
       "      <td>NaN</td>\n",
       "      <td>6.000000</td>\n",
       "      <td>NaN</td>\n",
       "      <td>NaN</td>\n",
       "      <td>NaN</td>\n",
       "      <td>NaN</td>\n",
       "      <td>0.0</td>\n",
       "      <td>49577.000000</td>\n",
       "      <td>NaN</td>\n",
       "    </tr>\n",
       "    <tr>\n",
       "      <th>75%</th>\n",
       "      <td>NaN</td>\n",
       "      <td>NaN</td>\n",
       "      <td>NaN</td>\n",
       "      <td>NaN</td>\n",
       "      <td>NaN</td>\n",
       "      <td>NaN</td>\n",
       "      <td>NaN</td>\n",
       "      <td>2008.000000</td>\n",
       "      <td>NaN</td>\n",
       "      <td>150.000000</td>\n",
       "      <td>NaN</td>\n",
       "      <td>NaN</td>\n",
       "      <td>9.000000</td>\n",
       "      <td>NaN</td>\n",
       "      <td>NaN</td>\n",
       "      <td>NaN</td>\n",
       "      <td>NaN</td>\n",
       "      <td>0.0</td>\n",
       "      <td>71540.000000</td>\n",
       "      <td>NaN</td>\n",
       "    </tr>\n",
       "    <tr>\n",
       "      <th>max</th>\n",
       "      <td>NaN</td>\n",
       "      <td>NaN</td>\n",
       "      <td>NaN</td>\n",
       "      <td>NaN</td>\n",
       "      <td>NaN</td>\n",
       "      <td>NaN</td>\n",
       "      <td>NaN</td>\n",
       "      <td>9999.000000</td>\n",
       "      <td>NaN</td>\n",
       "      <td>17700.000000</td>\n",
       "      <td>NaN</td>\n",
       "      <td>NaN</td>\n",
       "      <td>12.000000</td>\n",
       "      <td>NaN</td>\n",
       "      <td>NaN</td>\n",
       "      <td>NaN</td>\n",
       "      <td>NaN</td>\n",
       "      <td>0.0</td>\n",
       "      <td>99998.000000</td>\n",
       "      <td>NaN</td>\n",
       "    </tr>\n",
       "  </tbody>\n",
       "</table>\n",
       "</div>"
      ],
      "text/plain": [
       "                 ad_crawled         name  seller offer_type  price abtest  \\\n",
       "count                 50000        50000   50000      50000  50000  50000   \n",
       "unique                48213        38754       2          2   2357      2   \n",
       "top     2016-03-12 16:06:22  Ford_Fiesta  privat    Angebot     $0   test   \n",
       "freq                      3           78   49999      49999   1421  25756   \n",
       "mean                    NaN          NaN     NaN        NaN    NaN    NaN   \n",
       "std                     NaN          NaN     NaN        NaN    NaN    NaN   \n",
       "min                     NaN          NaN     NaN        NaN    NaN    NaN   \n",
       "25%                     NaN          NaN     NaN        NaN    NaN    NaN   \n",
       "50%                     NaN          NaN     NaN        NaN    NaN    NaN   \n",
       "75%                     NaN          NaN     NaN        NaN    NaN    NaN   \n",
       "max                     NaN          NaN     NaN        NaN    NaN    NaN   \n",
       "\n",
       "       vehicle_type  registration_year  gearbox      power_ps  model  \\\n",
       "count         44905       50000.000000    47320  50000.000000  47242   \n",
       "unique            8                NaN        2           NaN    245   \n",
       "top       limousine                NaN  manuell           NaN   golf   \n",
       "freq          12859                NaN    36993           NaN   4024   \n",
       "mean            NaN        2005.073280      NaN    116.355920    NaN   \n",
       "std             NaN         105.712813      NaN    209.216627    NaN   \n",
       "min             NaN        1000.000000      NaN      0.000000    NaN   \n",
       "25%             NaN        1999.000000      NaN     70.000000    NaN   \n",
       "50%             NaN        2003.000000      NaN    105.000000    NaN   \n",
       "75%             NaN        2008.000000      NaN    150.000000    NaN   \n",
       "max             NaN        9999.000000      NaN  17700.000000    NaN   \n",
       "\n",
       "       odometer_km  registration_month fuel_type       brand  \\\n",
       "count        50000        50000.000000     45518       50000   \n",
       "unique          13                 NaN         7          40   \n",
       "top      150,000km                 NaN    benzin  volkswagen   \n",
       "freq         32424                 NaN     30107       10687   \n",
       "mean           NaN            5.723360       NaN         NaN   \n",
       "std            NaN            3.711984       NaN         NaN   \n",
       "min            NaN            0.000000       NaN         NaN   \n",
       "25%            NaN            3.000000       NaN         NaN   \n",
       "50%            NaN            6.000000       NaN         NaN   \n",
       "75%            NaN            9.000000       NaN         NaN   \n",
       "max            NaN           12.000000       NaN         NaN   \n",
       "\n",
       "       unrepaired_damage           ad_created  nr_of_pictures   postal_code  \\\n",
       "count              40171                50000         50000.0  50000.000000   \n",
       "unique                 2                   76             NaN           NaN   \n",
       "top                 nein  2016-04-03 00:00:00             NaN           NaN   \n",
       "freq               35232                 1946             NaN           NaN   \n",
       "mean                 NaN                  NaN             0.0  50813.627300   \n",
       "std                  NaN                  NaN             0.0  25779.747957   \n",
       "min                  NaN                  NaN             0.0   1067.000000   \n",
       "25%                  NaN                  NaN             0.0  30451.000000   \n",
       "50%                  NaN                  NaN             0.0  49577.000000   \n",
       "75%                  NaN                  NaN             0.0  71540.000000   \n",
       "max                  NaN                  NaN             0.0  99998.000000   \n",
       "\n",
       "               ad_last_seen  \n",
       "count                 50000  \n",
       "unique                39481  \n",
       "top     2016-04-07 06:17:27  \n",
       "freq                      8  \n",
       "mean                    NaN  \n",
       "std                     NaN  \n",
       "min                     NaN  \n",
       "25%                     NaN  \n",
       "50%                     NaN  \n",
       "75%                     NaN  \n",
       "max                     NaN  "
      ]
     },
     "execution_count": 6,
     "metadata": {},
     "output_type": "execute_result"
    }
   ],
   "source": [
    "autos.describe(include=\"all\")"
   ]
  },
  {
   "cell_type": "markdown",
   "metadata": {},
   "source": [
    "Our initial observations:\n",
    "\n",
    "- There are some text columns where all (or nearly all) of the values are the same (seller, offer_type).\n",
    "- The num_photos column looks odd, we'll need to investigate this further."
   ]
  },
  {
   "cell_type": "code",
   "execution_count": 7,
   "metadata": {
    "collapsed": false
   },
   "outputs": [
    {
     "data": {
      "text/plain": [
       "0    50000\n",
       "Name: nr_of_pictures, dtype: int64"
      ]
     },
     "execution_count": 7,
     "metadata": {},
     "output_type": "execute_result"
    }
   ],
   "source": [
    "autos[\"nr_of_pictures\"].value_counts()"
   ]
  },
  {
   "cell_type": "markdown",
   "metadata": {},
   "source": [
    "The column \"nr_of_pictures\" contains the same value for each entry.\n",
    "I should drop the columns seller, offer_type and nr_of_pictures."
   ]
  },
  {
   "cell_type": "code",
   "execution_count": 8,
   "metadata": {
    "collapsed": false
   },
   "outputs": [],
   "source": [
    "autos = autos.drop([\"nr_of_pictures\", \"seller\", \"offer_type\"], axis=1)"
   ]
  },
  {
   "cell_type": "markdown",
   "metadata": {},
   "source": [
    "There are two columns, price and odometer, which are numeric values with extra characters being stored as text. I'll clean and convert these."
   ]
  },
  {
   "cell_type": "code",
   "execution_count": 9,
   "metadata": {
    "collapsed": false
   },
   "outputs": [
    {
     "name": "stdout",
     "output_type": "stream",
     "text": [
      "0    5000.0\n",
      "1    8500.0\n",
      "2    8990.0\n",
      "3    4350.0\n",
      "4    1350.0\n",
      "Name: price, dtype: float64\n"
     ]
    }
   ],
   "source": [
    "autos[\"price\"].value_counts()\n",
    "autos[\"price\"] = autos[\"price\"].str.replace('$','')\n",
    "autos[\"price\"] = autos[\"price\"].str.replace(',','')\n",
    "autos[\"price\"] = autos[\"price\"].astype(float)\n",
    "print(autos[\"price\"].head())"
   ]
  },
  {
   "cell_type": "code",
   "execution_count": 10,
   "metadata": {
    "collapsed": false
   },
   "outputs": [
    {
     "name": "stdout",
     "output_type": "stream",
     "text": [
      "0    150000.0\n",
      "1    150000.0\n",
      "2     70000.0\n",
      "3     70000.0\n",
      "4    150000.0\n",
      "Name: odometer_km, dtype: float64\n"
     ]
    }
   ],
   "source": [
    "autos[\"odometer_km\"].value_counts()\n",
    "autos[\"odometer_km\"] = autos[\"odometer_km\"].str.replace('km','')\n",
    "autos[\"odometer_km\"] = autos[\"odometer_km\"].str.replace(',','')\n",
    "autos[\"odometer_km\"] = autos[\"odometer_km\"].astype(float)\n",
    "print(autos[\"odometer_km\"].head())"
   ]
  },
  {
   "cell_type": "markdown",
   "metadata": {},
   "source": [
    "## Odometer and Price columns"
   ]
  },
  {
   "cell_type": "code",
   "execution_count": 11,
   "metadata": {
    "collapsed": false
   },
   "outputs": [
    {
     "name": "stdout",
     "output_type": "stream",
     "text": [
      "count    5.000000e+04\n",
      "mean     9.840044e+03\n",
      "std      4.811044e+05\n",
      "min      0.000000e+00\n",
      "25%      1.100000e+03\n",
      "50%      2.950000e+03\n",
      "75%      7.200000e+03\n",
      "max      1.000000e+08\n",
      "Name: price, dtype: float64\n",
      "count     50000.000000\n",
      "mean     125732.700000\n",
      "std       40042.211706\n",
      "min        5000.000000\n",
      "25%      125000.000000\n",
      "50%      150000.000000\n",
      "75%      150000.000000\n",
      "max      150000.000000\n",
      "Name: odometer_km, dtype: float64\n",
      "0.0           1421\n",
      "1.0            156\n",
      "2.0              3\n",
      "3.0              1\n",
      "5.0              2\n",
      "8.0              1\n",
      "9.0              1\n",
      "10.0             7\n",
      "11.0             2\n",
      "12.0             3\n",
      "13.0             2\n",
      "14.0             1\n",
      "15.0             2\n",
      "17.0             3\n",
      "18.0             1\n",
      "20.0             4\n",
      "25.0             5\n",
      "29.0             1\n",
      "30.0             7\n",
      "35.0             1\n",
      "40.0             6\n",
      "45.0             4\n",
      "47.0             1\n",
      "49.0             4\n",
      "50.0            49\n",
      "55.0             2\n",
      "59.0             1\n",
      "60.0             9\n",
      "65.0             5\n",
      "66.0             1\n",
      "              ... \n",
      "151990.0         1\n",
      "155000.0         1\n",
      "163500.0         1\n",
      "163991.0         1\n",
      "169000.0         1\n",
      "169999.0         1\n",
      "175000.0         1\n",
      "180000.0         1\n",
      "190000.0         1\n",
      "194000.0         1\n",
      "197000.0         1\n",
      "198000.0         1\n",
      "220000.0         1\n",
      "250000.0         1\n",
      "259000.0         1\n",
      "265000.0         1\n",
      "295000.0         1\n",
      "299000.0         1\n",
      "345000.0         1\n",
      "350000.0         1\n",
      "999990.0         1\n",
      "999999.0         2\n",
      "1234566.0        1\n",
      "1300000.0        1\n",
      "3890000.0        1\n",
      "10000000.0       1\n",
      "11111111.0       2\n",
      "12345678.0       3\n",
      "27322222.0       1\n",
      "99999999.0       1\n",
      "Name: price, Length: 2357, dtype: int64\n"
     ]
    }
   ],
   "source": [
    "print(autos[\"price\"].describe())\n",
    "print(autos[\"odometer_km\"].describe())\n",
    "print(autos[\"price\"].value_counts().sort_index(ascending=True))"
   ]
  },
  {
   "cell_type": "code",
   "execution_count": 12,
   "metadata": {
    "collapsed": false
   },
   "outputs": [
    {
     "name": "stdout",
     "output_type": "stream",
     "text": [
      "100.0      134\n",
      "110.0        3\n",
      "111.0        2\n",
      "115.0        2\n",
      "117.0        1\n",
      "120.0       39\n",
      "122.0        1\n",
      "125.0        8\n",
      "129.0        1\n",
      "130.0       15\n",
      "135.0        1\n",
      "139.0        1\n",
      "140.0        9\n",
      "145.0        2\n",
      "149.0        7\n",
      "150.0      224\n",
      "156.0        2\n",
      "160.0        8\n",
      "170.0        7\n",
      "173.0        1\n",
      "175.0       12\n",
      "179.0        1\n",
      "180.0       35\n",
      "185.0        1\n",
      "188.0        1\n",
      "190.0       16\n",
      "193.0        1\n",
      "195.0        2\n",
      "198.0        1\n",
      "199.0       41\n",
      "          ... \n",
      "73500.0      1\n",
      "73900.0      1\n",
      "73996.0      1\n",
      "74900.0      3\n",
      "74999.0      2\n",
      "75000.0      1\n",
      "75900.0      1\n",
      "75997.0      1\n",
      "76997.0      1\n",
      "78911.0      1\n",
      "79500.0      1\n",
      "79933.0      1\n",
      "79980.0      1\n",
      "79999.0      1\n",
      "80000.0      3\n",
      "82987.0      1\n",
      "83000.0      1\n",
      "84000.0      1\n",
      "84997.0      1\n",
      "85000.0      1\n",
      "86500.0      1\n",
      "88900.0      1\n",
      "89000.0      1\n",
      "89900.0      1\n",
      "93000.0      2\n",
      "93911.0      1\n",
      "94999.0      1\n",
      "98500.0      1\n",
      "99000.0      2\n",
      "99900.0      2\n",
      "Name: price, Length: 2273, dtype: int64\n"
     ]
    }
   ],
   "source": [
    "#print(autos[\"price\"].describe())\n",
    "#print(autos[\"odometer_km\"].describe())\n",
    "#print(autos[\"price\"].value_counts().sort_index(ascending=True))\n",
    "autos.loc[~(autos[\"price\"].between(100,100000)),\"price\"]=np.nan\n",
    "print(autos[\"price\"].value_counts().sort_index(ascending=True))"
   ]
  },
  {
   "cell_type": "markdown",
   "metadata": {},
   "source": [
    "I decided to remove the prices below 100 \\$ and above 100000 \\$ because I judged those prices not realistics, while I haven't removed any value in the odometer_km column."
   ]
  },
  {
   "cell_type": "markdown",
   "metadata": {},
   "source": [
    "## Date column"
   ]
  },
  {
   "cell_type": "markdown",
   "metadata": {},
   "source": [
    "There are a number of columns with date information:\n",
    "\n",
    "- date_crawled\n",
    "- registration_month\n",
    "- registration_year\n",
    "- ad_created\n",
    "- last_seen"
   ]
  },
  {
   "cell_type": "code",
   "execution_count": 13,
   "metadata": {
    "collapsed": false
   },
   "outputs": [
    {
     "name": "stdout",
     "output_type": "stream",
     "text": [
      "2016    50000\n",
      "Name: ad_crawled, dtype: int64\n"
     ]
    }
   ],
   "source": [
    "years_date_crawled=autos['ad_crawled'].str[:4]\n",
    "years_date_crawled=years_date_crawled.astype(int)\n",
    "print(years_date_crawled.value_counts())"
   ]
  },
  {
   "cell_type": "code",
   "execution_count": 14,
   "metadata": {
    "collapsed": false
   },
   "outputs": [
    {
     "name": "stdout",
     "output_type": "stream",
     "text": [
      "2016    49994\n",
      "2015        6\n",
      "Name: ad_created, dtype: int64\n"
     ]
    }
   ],
   "source": [
    "years_date_created=autos['ad_created'].str[:4]\n",
    "years_date_created=years_date_created.astype(int)\n",
    "print(years_date_created.value_counts())"
   ]
  },
  {
   "cell_type": "code",
   "execution_count": 15,
   "metadata": {
    "collapsed": false
   },
   "outputs": [
    {
     "name": "stdout",
     "output_type": "stream",
     "text": [
      "2016    50000\n",
      "Name: ad_last_seen, dtype: int64\n"
     ]
    }
   ],
   "source": [
    "years_last_seen=autos['ad_last_seen'].str[:4]\n",
    "years_last_seen=years_last_seen.astype(int)\n",
    "print(years_last_seen.value_counts())"
   ]
  },
  {
   "cell_type": "code",
   "execution_count": 16,
   "metadata": {
    "collapsed": false
   },
   "outputs": [
    {
     "data": {
      "text/plain": [
       "count    50000.000000\n",
       "mean      2005.073280\n",
       "std        105.712813\n",
       "min       1000.000000\n",
       "25%       1999.000000\n",
       "50%       2003.000000\n",
       "75%       2008.000000\n",
       "max       9999.000000\n",
       "Name: registration_year, dtype: float64"
      ]
     },
     "execution_count": 16,
     "metadata": {},
     "output_type": "execute_result"
    }
   ],
   "source": [
    "autos[\"registration_year\"].describe()"
   ]
  },
  {
   "cell_type": "markdown",
   "metadata": {},
   "source": [
    "The \"registration_year\" column, which indicates the year of registration of the car, has some odd values like 1000 or 9999. I have to clean the column."
   ]
  },
  {
   "cell_type": "code",
   "execution_count": 17,
   "metadata": {
    "collapsed": false
   },
   "outputs": [
    {
     "name": "stdout",
     "output_type": "stream",
     "text": [
      "1000       1\n",
      "1001       1\n",
      "1111       1\n",
      "1500       1\n",
      "1800       2\n",
      "1910       9\n",
      "1927       1\n",
      "1929       1\n",
      "1931       1\n",
      "1934       2\n",
      "1937       4\n",
      "1938       1\n",
      "1939       1\n",
      "1941       2\n",
      "1943       1\n",
      "1948       1\n",
      "1950       3\n",
      "1951       2\n",
      "1952       1\n",
      "1953       1\n",
      "1954       2\n",
      "1955       2\n",
      "1956       5\n",
      "1957       2\n",
      "1958       4\n",
      "1959       7\n",
      "1960      34\n",
      "1961       6\n",
      "1962       4\n",
      "1963       9\n",
      "        ... \n",
      "2001    2703\n",
      "2002    2533\n",
      "2003    2727\n",
      "2004    2737\n",
      "2005    3015\n",
      "2006    2708\n",
      "2007    2304\n",
      "2008    2231\n",
      "2009    2098\n",
      "2010    1597\n",
      "2011    1634\n",
      "2012    1323\n",
      "2013     806\n",
      "2014     666\n",
      "2015     399\n",
      "2016    1316\n",
      "2017    1453\n",
      "2018     492\n",
      "2019       3\n",
      "2800       1\n",
      "4100       1\n",
      "4500       1\n",
      "4800       1\n",
      "5000       4\n",
      "5911       1\n",
      "6200       1\n",
      "8888       1\n",
      "9000       2\n",
      "9996       1\n",
      "9999       4\n",
      "Name: registration_year, Length: 97, dtype: int64\n"
     ]
    }
   ],
   "source": [
    "print(autos[\"registration_year\"].value_counts().sort_index())"
   ]
  },
  {
   "cell_type": "code",
   "execution_count": 18,
   "metadata": {
    "collapsed": false
   },
   "outputs": [
    {
     "name": "stdout",
     "output_type": "stream",
     "text": [
      "3    41895\n",
      "4     8105\n",
      "Name: ad_crawled, dtype: int64\n"
     ]
    }
   ],
   "source": [
    "month_date_crawled=autos['ad_crawled'].str[5:7]\n",
    "month_date_crawled=month_date_crawled.astype(int)\n",
    "print(month_date_crawled.value_counts())"
   ]
  },
  {
   "cell_type": "code",
   "execution_count": 19,
   "metadata": {
    "collapsed": false
   },
   "outputs": [
    {
     "name": "stdout",
     "output_type": "stream",
     "text": [
      "3     1934\n",
      "5     1924\n",
      "20    1891\n",
      "21    1876\n",
      "7     1869\n",
      "12    1839\n",
      "14    1831\n",
      "4     1826\n",
      "2     1770\n",
      "19    1745\n",
      "28    1742\n",
      "29    1709\n",
      "15    1699\n",
      "1     1690\n",
      "30    1681\n",
      "8     1665\n",
      "9     1661\n",
      "22    1647\n",
      "26    1624\n",
      "11    1624\n",
      "23    1619\n",
      "10    1606\n",
      "31    1596\n",
      "25    1587\n",
      "17    1576\n",
      "27    1552\n",
      "16    1475\n",
      "24    1455\n",
      "6      856\n",
      "13     778\n",
      "18     653\n",
      "Name: ad_crawled, dtype: int64\n"
     ]
    }
   ],
   "source": [
    "day_date_crawled=autos['ad_crawled'].str[8:10]\n",
    "day_date_crawled=day_date_crawled.astype(int)\n",
    "print(day_date_crawled.value_counts())"
   ]
  },
  {
   "cell_type": "code",
   "execution_count": 20,
   "metadata": {
    "collapsed": false
   },
   "outputs": [
    {
     "name": "stdout",
     "output_type": "stream",
     "text": [
      "3     41866\n",
      "4      8053\n",
      "2        63\n",
      "1        12\n",
      "12        2\n",
      "11        1\n",
      "9         1\n",
      "8         1\n",
      "6         1\n",
      "Name: ad_created, dtype: int64\n",
      "3     1990\n",
      "4     1916\n",
      "20    1895\n",
      "21    1889\n",
      "12    1834\n",
      "7     1803\n",
      "14    1764\n",
      "2     1761\n",
      "28    1758\n",
      "5     1747\n",
      "29    1716\n",
      "1     1696\n",
      "19    1695\n",
      "15    1687\n",
      "30    1673\n",
      "8     1668\n",
      "9     1665\n",
      "22    1642\n",
      "11    1641\n",
      "26    1630\n",
      "23    1613\n",
      "25    1597\n",
      "10    1597\n",
      "31    1596\n",
      "17    1561\n",
      "27    1554\n",
      "16    1502\n",
      "24    1456\n",
      "6      919\n",
      "13     847\n",
      "18     688\n",
      "Name: ad_created, dtype: int64\n",
      "4    28709\n",
      "3    21291\n",
      "Name: ad_last_seen, dtype: int64\n",
      "6     11271\n",
      "7      6814\n",
      "5      6268\n",
      "17     1396\n",
      "3      1268\n",
      "2      1245\n",
      "30     1242\n",
      "4      1231\n",
      "31     1192\n",
      "12     1191\n",
      "1      1155\n",
      "29     1117\n",
      "22     1079\n",
      "28     1043\n",
      "21     1037\n",
      "20     1035\n",
      "24      978\n",
      "25      960\n",
      "23      929\n",
      "26      848\n",
      "16      822\n",
      "27      801\n",
      "15      794\n",
      "19      787\n",
      "14      640\n",
      "11      626\n",
      "10      538\n",
      "9       493\n",
      "13      449\n",
      "8       380\n",
      "18      371\n",
      "Name: ad_last_seen, dtype: int64\n"
     ]
    }
   ],
   "source": [
    "month_date_created=autos['ad_created'].str[5:7]\n",
    "month_date_created=month_date_created.astype(int)\n",
    "print(month_date_created.value_counts())\n",
    "day_date_created=autos['ad_created'].str[8:10]\n",
    "day_date_created=day_date_created.astype(int)\n",
    "print(day_date_created.value_counts())\n",
    "month_ad_last_seen=autos['ad_last_seen'].str[5:7]\n",
    "month_ad_last_seen=month_ad_last_seen.astype(int)\n",
    "print(month_ad_last_seen.value_counts())\n",
    "day_ad_last_seen=autos['ad_last_seen'].str[8:10]\n",
    "day_ad_last_seen=day_ad_last_seen.astype(int)\n",
    "print(day_ad_last_seen.value_counts())"
   ]
  },
  {
   "cell_type": "code",
   "execution_count": 21,
   "metadata": {
    "collapsed": false
   },
   "outputs": [
    {
     "name": "stdout",
     "output_type": "stream",
     "text": [
      "0     5075\n",
      "1     3282\n",
      "2     3008\n",
      "3     5071\n",
      "4     4102\n",
      "5     4107\n",
      "6     4368\n",
      "7     3949\n",
      "8     3191\n",
      "9     3389\n",
      "10    3651\n",
      "11    3360\n",
      "12    3447\n",
      "Name: registration_month, dtype: int64\n"
     ]
    }
   ],
   "source": [
    "print(autos[\"registration_month\"].value_counts().sort_index())"
   ]
  },
  {
   "cell_type": "code",
   "execution_count": 22,
   "metadata": {
    "collapsed": false
   },
   "outputs": [
    {
     "name": "stdout",
     "output_type": "stream",
     "text": [
      "                ad_crawled                                               name  \\\n",
      "0      2016-03-26 17:47:46                   Peugeot_807_160_NAVTECH_ON_BOARD   \n",
      "1      2016-04-04 13:38:56         BMW_740i_4_4_Liter_HAMANN_UMBAU_Mega_Optik   \n",
      "2      2016-03-26 18:57:24                         Volkswagen_Golf_1.6_United   \n",
      "3      2016-03-12 16:58:10  Smart_smart_fortwo_coupe_softouch/F1/Klima/Pan...   \n",
      "4      2016-04-01 14:38:50  Ford_Focus_1_6_Benzin_TÜV_neu_ist_sehr_gepfleg...   \n",
      "5      2016-03-21 13:47:45  Chrysler_Grand_Voyager_2.8_CRD_Aut.Limited_Sto...   \n",
      "6      2016-03-20 17:55:21  VW_Golf_III_GT_Special_Electronic_Green_Metall...   \n",
      "7      2016-03-16 18:55:19                               Golf_IV_1.9_TDI_90PS   \n",
      "8      2016-03-22 16:51:34                                         Seat_Arosa   \n",
      "9      2016-03-16 13:47:02          Renault_Megane_Scenic_1.6e_RT_Klimaanlage   \n",
      "11     2016-03-16 18:45:34                         Mercedes_A140_Motorschaden   \n",
      "12     2016-03-31 19:48:22  Smart_smart_fortwo_coupe_softouch_pure_MHD_Pan...   \n",
      "13     2016-03-23 10:48:32                                 Audi_A3_1.6_tuning   \n",
      "14     2016-03-23 11:50:46  Renault_Clio_3__Dynamique_1.2__16_V;_viele_Ver...   \n",
      "15     2016-04-01 12:06:20        Corvette_C3_Coupe_T_Top_Crossfire_Injection   \n",
      "16     2016-03-16 14:59:02                                Opel_Vectra_B_Kombi   \n",
      "17     2016-03-29 11:46:22                          Volkswagen_Scirocco_2_G60   \n",
      "18     2016-03-26 19:57:44               Verkaufen_mein_bmw_e36_320_i_touring   \n",
      "19     2016-03-17 13:36:21        mazda_tribute_2.0_mit_gas_und_tuev_neu_2018   \n",
      "20     2016-03-05 19:57:31  Audi_A4_Avant_1.9_TDI_*6_Gang*AHK*Klimatronik*...   \n",
      "21     2016-03-06 19:07:10                      Porsche_911_Carrera_4S_Cabrio   \n",
      "22     2016-03-28 20:50:54                               MINI_Cooper_S_Cabrio   \n",
      "23     2016-03-10 19:55:34   Peugeot_Boxer_2_2_HDi_120_Ps_9_Sitzer_inkl_Klima   \n",
      "24     2016-04-03 11:57:02                         BMW_535i_xDrive_Sport_Aut.   \n",
      "25     2016-03-21 21:56:18  Ford_escort_kombi_an_bastler_mit_ghia_ausstattung   \n",
      "26     2016-04-03 22:46:28                                Volkswagen_Polo_Fox   \n",
      "27     2016-03-27 18:45:01             Hat_einer_Ahnung_mit_Ford_Galaxy_HILFE   \n",
      "28     2016-03-19 21:56:19                                      MINI_Cooper_D   \n",
      "29     2016-04-02 12:45:44  Mercedes_Benz_E_320_T_CDI_Avantgarde_DPF7_Sitz...   \n",
      "30     2016-03-14 11:47:31                         Peugeot_206_Unfallfahrzeug   \n",
      "...                    ...                                                ...   \n",
      "49970  2016-03-21 22:47:37  c4_Grand_Picasso_mit_Automatik_Leder_Navi_Temp...   \n",
      "49971  2016-03-29 14:54:12                                         W.Lupo_1.0   \n",
      "49972  2016-03-26 22:25:23          Mercedes_Benz_Vito_115_CDI_Extralang_Aut.   \n",
      "49973  2016-03-27 05:32:39                   Mercedes_Benz_SLK_200_Kompressor   \n",
      "49974  2016-03-20 10:52:31  Golf_1_Cabrio_Tuev_Neu_viele_Extras_alles_eing...   \n",
      "49975  2016-03-27 20:51:39          Honda_Jazz_1.3_DSi_i_VTEC_IMA_CVT_Comfort   \n",
      "49976  2016-03-19 18:56:05  Audi_80_Avant_2.6_E__Vollausstattung!!_Einziga...   \n",
      "49977  2016-03-31 18:37:18                        Mercedes_Benz_C200_Cdi_W203   \n",
      "49978  2016-04-04 10:37:14                        Mercedes_Benz_E_200_Classic   \n",
      "49979  2016-03-20 18:38:40                      Volkswagen_Polo_1.6_TDI_Style   \n",
      "49980  2016-03-12 10:55:54                            Ford_Escort_Turnier_16V   \n",
      "49981  2016-03-15 09:38:21             Opel_Astra_Kombi_mit_Anhaengerkupplung   \n",
      "49982  2016-03-29 18:51:08            Skoda_Fabia_4_Tuerer_Bj:2004__85.000Tkm   \n",
      "49983  2016-03-06 12:43:04                                      Ford_focus_99   \n",
      "49984  2016-03-31 22:48:48  Student_sucht_ein__Anfaengerauto___ab_2000_BJ_...   \n",
      "49985  2016-04-02 16:38:23                          Verkaufe_meinen_vw_vento!   \n",
      "49986  2016-04-04 20:46:02  Chrysler_300C_3.0_CRD_DPF_Automatik_Voll_Ausst...   \n",
      "49987  2016-03-22 20:47:27  Audi_A3_Limousine_2.0_TDI_DPF_Ambition__NAVI__...   \n",
      "49988  2016-03-28 19:49:51                                         BMW_330_Ci   \n",
      "49989  2016-03-11 19:50:37        VW_Polo_zum_Ausschlachten_oder_Wiederaufbau   \n",
      "49990  2016-03-21 19:54:19         Mercedes_Benz_A_200__BlueEFFICIENCY__Urban   \n",
      "49991  2016-03-06 15:25:19                                         Kleinwagen   \n",
      "49992  2016-03-10 19:37:38              Fiat_Grande_Punto_1.4_T_Jet_16V_Sport   \n",
      "49993  2016-03-15 18:47:35           Audi_A3__1_8l__Silber;_schoenes_Fahrzeug   \n",
      "49994  2016-03-22 17:36:42  Audi_A6__S6__Avant_4.2_quattro_eventuell_Tausc...   \n",
      "49995  2016-03-27 14:38:19   Audi_Q5_3.0_TDI_qu._S_tr.__Navi__Panorama__Xenon   \n",
      "49996  2016-03-28 10:50:25  Opel_Astra_F_Cabrio_Bertone_Edition___TÜV_neu+...   \n",
      "49997  2016-04-02 14:44:48                     Fiat_500_C_1.2_Dualogic_Lounge   \n",
      "49998  2016-03-08 19:25:42                 Audi_A3_2.0_TDI_Sportback_Ambition   \n",
      "49999  2016-03-14 00:42:12                                Opel_Vectra_1.6_16V   \n",
      "\n",
      "         price   abtest vehicle_type  registration_year    gearbox  power_ps  \\\n",
      "0       5000.0  control          bus               2004    manuell       158   \n",
      "1       8500.0  control    limousine               1997  automatik       286   \n",
      "2       8990.0     test    limousine               2009    manuell       102   \n",
      "3       4350.0  control   kleinwagen               2007  automatik        71   \n",
      "4       1350.0     test        kombi               2003    manuell         0   \n",
      "5       7900.0     test          bus               2006  automatik       150   \n",
      "6        300.0     test    limousine               1995    manuell        90   \n",
      "7       1990.0  control    limousine               1998    manuell        90   \n",
      "8        250.0     test          NaN               2000    manuell         0   \n",
      "9        590.0  control          bus               1997    manuell        90   \n",
      "11       350.0  control          NaN               2000        NaN         0   \n",
      "12      5299.0  control   kleinwagen               2010  automatik        71   \n",
      "13      1350.0  control    limousine               1999    manuell       101   \n",
      "14      3999.0     test   kleinwagen               2007    manuell        75   \n",
      "15     18900.0     test        coupe               1982  automatik       203   \n",
      "16       350.0     test        kombi               1999    manuell       101   \n",
      "17      5500.0     test        coupe               1990    manuell       205   \n",
      "18       300.0  control          bus               1995    manuell       150   \n",
      "19      4150.0  control          suv               2004    manuell       124   \n",
      "20      3500.0     test        kombi               2003    manuell       131   \n",
      "21     41500.0     test       cabrio               2004    manuell       320   \n",
      "22     25450.0  control       cabrio               2015    manuell       184   \n",
      "23      7999.0  control          bus               2010    manuell       120   \n",
      "24     48500.0  control    limousine               2014  automatik       306   \n",
      "25         NaN  control        kombi               1996    manuell       116   \n",
      "26       777.0  control   kleinwagen               1992    manuell        54   \n",
      "27         NaN  control          NaN               2005        NaN         0   \n",
      "28      5250.0  control   kleinwagen               2007    manuell       110   \n",
      "29      4999.0     test        kombi               2004  automatik       204   \n",
      "30         NaN     test   kleinwagen               2002    manuell        60   \n",
      "...        ...      ...          ...                ...        ...       ...   \n",
      "49970  15800.0  control          bus               2010  automatik       136   \n",
      "49971    950.0     test   kleinwagen               2001    manuell        50   \n",
      "49972   3300.0  control          bus               2004  automatik       150   \n",
      "49973   6000.0  control       cabrio               2004    manuell       163   \n",
      "49974      NaN  control       cabrio               1983    manuell        70   \n",
      "49975   9700.0  control   kleinwagen               2012  automatik        88   \n",
      "49976   5900.0     test        kombi               1992  automatik       150   \n",
      "49977   5500.0  control    limousine               2003    manuell       116   \n",
      "49978    900.0  control    limousine               1996  automatik       136   \n",
      "49979  11000.0     test   kleinwagen               2011    manuell        90   \n",
      "49980    400.0  control        kombi               1995    manuell       105   \n",
      "49981   2000.0  control        kombi               1998    manuell       115   \n",
      "49982   1950.0  control   kleinwagen               2004    manuell         0   \n",
      "49983    600.0     test   kleinwagen               1999    manuell       101   \n",
      "49984      NaN     test          NaN               2000        NaN         0   \n",
      "49985   1000.0  control          NaN               1995  automatik         0   \n",
      "49986  15900.0  control    limousine               2010  automatik       218   \n",
      "49987  21990.0  control    limousine               2013    manuell       150   \n",
      "49988   9550.0  control        coupe               2001    manuell       231   \n",
      "49989    150.0     test   kleinwagen               1997    manuell         0   \n",
      "49990  17500.0     test    limousine               2012    manuell       156   \n",
      "49991    500.0  control          NaN               2016    manuell         0   \n",
      "49992   4800.0  control   kleinwagen               2009    manuell       120   \n",
      "49993   1650.0  control   kleinwagen               1997    manuell         0   \n",
      "49994   5000.0  control        kombi               2001  automatik       299   \n",
      "49995  24900.0  control    limousine               2011  automatik       239   \n",
      "49996   1980.0  control       cabrio               1996    manuell        75   \n",
      "49997  13200.0     test       cabrio               2014  automatik        69   \n",
      "49998  22900.0  control        kombi               2013    manuell       150   \n",
      "49999   1250.0  control    limousine               1996    manuell       101   \n",
      "\n",
      "          model  odometer_km  registration_month fuel_type           brand  \\\n",
      "0        andere     150000.0                   3       lpg         peugeot   \n",
      "1           7er     150000.0                   6    benzin             bmw   \n",
      "2          golf      70000.0                   7    benzin      volkswagen   \n",
      "3        fortwo      70000.0                   6    benzin           smart   \n",
      "4         focus     150000.0                   7    benzin            ford   \n",
      "5       voyager     150000.0                   4    diesel        chrysler   \n",
      "6          golf     150000.0                   8    benzin      volkswagen   \n",
      "7          golf     150000.0                  12    diesel      volkswagen   \n",
      "8         arosa     150000.0                  10       NaN            seat   \n",
      "9        megane     150000.0                   7    benzin         renault   \n",
      "11          NaN     150000.0                   0    benzin   mercedes_benz   \n",
      "12       fortwo      50000.0                   9    benzin           smart   \n",
      "13           a3     150000.0                  11    benzin            audi   \n",
      "14         clio     150000.0                   9    benzin         renault   \n",
      "15          NaN      80000.0                   6    benzin  sonstige_autos   \n",
      "16       vectra     150000.0                   5    benzin            opel   \n",
      "17     scirocco     150000.0                   6    benzin      volkswagen   \n",
      "18          3er     150000.0                   0    benzin             bmw   \n",
      "19       andere     150000.0                   2       lpg           mazda   \n",
      "20           a4     150000.0                   5    diesel            audi   \n",
      "21          911     150000.0                   4    benzin         porsche   \n",
      "22       cooper      10000.0                   1    benzin            mini   \n",
      "23          NaN     150000.0                   2    diesel         peugeot   \n",
      "24          5er      30000.0                  12    benzin             bmw   \n",
      "25          NaN     150000.0                   4    benzin            ford   \n",
      "26         polo     125000.0                   2    benzin      volkswagen   \n",
      "27          NaN     150000.0                   0       NaN            ford   \n",
      "28       cooper     150000.0                   7    diesel            mini   \n",
      "29     e_klasse     150000.0                  10    diesel   mercedes_benz   \n",
      "30      2_reihe     150000.0                   6    benzin         peugeot   \n",
      "...         ...          ...                 ...       ...             ...   \n",
      "49970        c4      60000.0                   4    diesel         citroen   \n",
      "49971      lupo     150000.0                   4    benzin      volkswagen   \n",
      "49972      vito     150000.0                  10    diesel   mercedes_benz   \n",
      "49973       slk     150000.0                  11    benzin   mercedes_benz   \n",
      "49974      golf     150000.0                   2    benzin      volkswagen   \n",
      "49975      jazz     100000.0                  11    hybrid           honda   \n",
      "49976        80     150000.0                  12    benzin            audi   \n",
      "49977  c_klasse     150000.0                   2    diesel   mercedes_benz   \n",
      "49978  e_klasse     150000.0                   9    benzin   mercedes_benz   \n",
      "49979      polo      70000.0                  11    diesel      volkswagen   \n",
      "49980    escort     125000.0                   3    benzin            ford   \n",
      "49981     astra     150000.0                  12    benzin            opel   \n",
      "49982     fabia      90000.0                   7    benzin           skoda   \n",
      "49983     focus     150000.0                   4    benzin            ford   \n",
      "49984       NaN     150000.0                   0       NaN  sonstige_autos   \n",
      "49985       NaN     150000.0                   0    benzin      volkswagen   \n",
      "49986      300c     125000.0                  11    diesel        chrysler   \n",
      "49987        a3      50000.0                  11    diesel            audi   \n",
      "49988       3er     150000.0                  10    benzin             bmw   \n",
      "49989      polo     150000.0                   5    benzin      volkswagen   \n",
      "49990  a_klasse      30000.0                  12    benzin   mercedes_benz   \n",
      "49991    twingo     150000.0                   0    benzin         renault   \n",
      "49992    andere     125000.0                   9       lpg            fiat   \n",
      "49993       NaN     150000.0                   7    benzin            audi   \n",
      "49994        a6     150000.0                   1    benzin            audi   \n",
      "49995        q5     100000.0                   1    diesel            audi   \n",
      "49996     astra     150000.0                   5    benzin            opel   \n",
      "49997       500       5000.0                  11    benzin            fiat   \n",
      "49998        a3      40000.0                  11    diesel            audi   \n",
      "49999    vectra     150000.0                   1    benzin            opel   \n",
      "\n",
      "      unrepaired_damage           ad_created  postal_code         ad_last_seen  \n",
      "0                  nein  2016-03-26 00:00:00        79588  2016-04-06 06:45:54  \n",
      "1                  nein  2016-04-04 00:00:00        71034  2016-04-06 14:45:08  \n",
      "2                  nein  2016-03-26 00:00:00        35394  2016-04-06 20:15:37  \n",
      "3                  nein  2016-03-12 00:00:00        33729  2016-03-15 03:16:28  \n",
      "4                  nein  2016-04-01 00:00:00        39218  2016-04-01 14:38:50  \n",
      "5                   NaN  2016-03-21 00:00:00        22962  2016-04-06 09:45:21  \n",
      "6                   NaN  2016-03-20 00:00:00        31535  2016-03-23 02:48:59  \n",
      "7                  nein  2016-03-16 00:00:00        53474  2016-04-07 03:17:32  \n",
      "8                  nein  2016-03-22 00:00:00         7426  2016-03-26 18:18:10  \n",
      "9                  nein  2016-03-16 00:00:00        15749  2016-04-06 10:46:35  \n",
      "11                  NaN  2016-03-16 00:00:00        17498  2016-03-16 18:45:34  \n",
      "12                 nein  2016-03-31 00:00:00        34590  2016-04-06 14:17:52  \n",
      "13                 nein  2016-03-23 00:00:00        12043  2016-04-01 14:17:13  \n",
      "14                  NaN  2016-03-23 00:00:00        81737  2016-04-01 15:46:47  \n",
      "15                 nein  2016-04-01 00:00:00        61276  2016-04-02 21:10:48  \n",
      "16                 nein  2016-03-16 00:00:00        57299  2016-03-18 05:29:37  \n",
      "17                 nein  2016-03-29 00:00:00        74821  2016-04-05 20:46:26  \n",
      "18                  NaN  2016-03-26 00:00:00        54329  2016-04-02 12:16:41  \n",
      "19                 nein  2016-03-17 00:00:00        40878  2016-03-17 14:45:58  \n",
      "20                  NaN  2016-03-05 00:00:00        53913  2016-03-07 05:46:46  \n",
      "21                 nein  2016-03-06 00:00:00        65428  2016-04-05 23:46:19  \n",
      "22                 nein  2016-03-28 00:00:00        44789  2016-04-01 06:45:30  \n",
      "23                 nein  2016-03-10 00:00:00        30900  2016-03-17 08:45:17  \n",
      "24                 nein  2016-04-03 00:00:00        22547  2016-04-07 13:16:50  \n",
      "25                   ja  2016-03-21 00:00:00        27574  2016-04-01 05:16:49  \n",
      "26                 nein  2016-04-03 00:00:00        38110  2016-04-05 23:46:48  \n",
      "27                  NaN  2016-03-27 00:00:00        66701  2016-03-27 18:45:01  \n",
      "28                   ja  2016-03-19 00:00:00        15745  2016-04-07 14:58:48  \n",
      "29                 nein  2016-04-02 00:00:00        47638  2016-04-02 12:45:44  \n",
      "30                   ja  2016-03-14 00:00:00        57076  2016-03-14 11:47:31  \n",
      "...                 ...                  ...          ...                  ...  \n",
      "49970              nein  2016-03-21 00:00:00        14947  2016-04-07 04:17:34  \n",
      "49971              nein  2016-03-29 00:00:00        65197  2016-03-29 20:41:51  \n",
      "49972                ja  2016-03-26 00:00:00        65326  2016-03-28 11:28:18  \n",
      "49973              nein  2016-03-27 00:00:00        53567  2016-03-27 08:25:24  \n",
      "49974              nein  2016-03-20 00:00:00         8209  2016-03-27 19:48:16  \n",
      "49975              nein  2016-03-27 00:00:00        84385  2016-04-05 19:45:34  \n",
      "49976              nein  2016-03-19 00:00:00        36100  2016-04-07 06:16:44  \n",
      "49977              nein  2016-03-31 00:00:00        33739  2016-04-06 12:16:11  \n",
      "49978                ja  2016-04-04 00:00:00        24405  2016-04-06 12:44:20  \n",
      "49979              nein  2016-03-20 00:00:00        48455  2016-04-07 01:45:12  \n",
      "49980               NaN  2016-03-12 00:00:00        56218  2016-04-06 17:16:49  \n",
      "49981              nein  2016-03-15 00:00:00        86859  2016-04-05 17:21:46  \n",
      "49982               NaN  2016-03-29 00:00:00        45884  2016-03-29 18:51:08  \n",
      "49983               NaN  2016-03-06 00:00:00        52477  2016-03-09 06:16:08  \n",
      "49984               NaN  2016-03-31 00:00:00        12103  2016-04-02 19:44:53  \n",
      "49985               NaN  2016-04-02 00:00:00        30900  2016-04-06 15:17:52  \n",
      "49986              nein  2016-04-04 00:00:00        73527  2016-04-06 23:16:00  \n",
      "49987              nein  2016-03-22 00:00:00        94362  2016-03-26 22:46:06  \n",
      "49988              nein  2016-03-28 00:00:00        83646  2016-04-07 02:17:40  \n",
      "49989                ja  2016-03-11 00:00:00        21244  2016-03-12 10:17:55  \n",
      "49990              nein  2016-03-21 00:00:00        58239  2016-04-06 22:46:57  \n",
      "49991               NaN  2016-03-06 00:00:00        61350  2016-03-06 18:24:19  \n",
      "49992              nein  2016-03-10 00:00:00        68642  2016-03-13 01:44:51  \n",
      "49993               NaN  2016-03-15 00:00:00        65203  2016-04-06 19:46:53  \n",
      "49994              nein  2016-03-22 00:00:00        46537  2016-04-06 08:16:39  \n",
      "49995              nein  2016-03-27 00:00:00        82131  2016-04-01 13:47:40  \n",
      "49996              nein  2016-03-28 00:00:00        44807  2016-04-02 14:18:02  \n",
      "49997              nein  2016-04-02 00:00:00        73430  2016-04-04 11:47:27  \n",
      "49998              nein  2016-03-08 00:00:00        35683  2016-04-05 16:45:07  \n",
      "49999              nein  2016-03-13 00:00:00        45897  2016-04-06 21:18:48  \n",
      "\n",
      "[48004 rows x 17 columns]\n"
     ]
    }
   ],
   "source": [
    "autos_wo=autos[autos[\"registration_year\"].between(1950,2016)]\n",
    "print(autos_wo)"
   ]
  },
  {
   "cell_type": "markdown",
   "metadata": {},
   "source": [
    "I decided to remove all the rows with registration year  below 1950, it seems difficult to believe that someone is selling such old cars."
   ]
  },
  {
   "cell_type": "code",
   "execution_count": 23,
   "metadata": {
    "collapsed": false
   },
   "outputs": [
    {
     "data": {
      "text/plain": [
       "2000    0.069869\n",
       "2005    0.062807\n",
       "1999    0.062495\n",
       "2004    0.057016\n",
       "2003    0.056808\n",
       "2006    0.056412\n",
       "2001    0.056308\n",
       "2002    0.052766\n",
       "1998    0.051100\n",
       "2007    0.047996\n",
       "2008    0.046475\n",
       "2009    0.043705\n",
       "1997    0.042246\n",
       "2011    0.034039\n",
       "2010    0.033268\n",
       "1996    0.030081\n",
       "2012    0.027560\n",
       "2016    0.027414\n",
       "1995    0.027352\n",
       "2013    0.016790\n",
       "2014    0.013874\n",
       "1994    0.013749\n",
       "1993    0.009270\n",
       "2015    0.008312\n",
       "1990    0.008228\n",
       "1992    0.008145\n",
       "1991    0.007416\n",
       "1989    0.003771\n",
       "1988    0.002958\n",
       "1985    0.002187\n",
       "          ...   \n",
       "1982    0.000896\n",
       "1972    0.000729\n",
       "1979    0.000729\n",
       "1960    0.000708\n",
       "1981    0.000646\n",
       "1967    0.000562\n",
       "1976    0.000562\n",
       "1971    0.000562\n",
       "1968    0.000542\n",
       "1973    0.000542\n",
       "1974    0.000500\n",
       "1966    0.000458\n",
       "1977    0.000458\n",
       "1969    0.000396\n",
       "1975    0.000396\n",
       "1965    0.000354\n",
       "1964    0.000250\n",
       "1963    0.000187\n",
       "1959    0.000146\n",
       "1961    0.000125\n",
       "1956    0.000104\n",
       "1962    0.000083\n",
       "1958    0.000083\n",
       "1950    0.000062\n",
       "1955    0.000042\n",
       "1957    0.000042\n",
       "1954    0.000042\n",
       "1951    0.000042\n",
       "1953    0.000021\n",
       "1952    0.000021\n",
       "Name: registration_year, Length: 67, dtype: float64"
      ]
     },
     "execution_count": 23,
     "metadata": {},
     "output_type": "execute_result"
    }
   ],
   "source": [
    "autos_wo[\"registration_year\"].value_counts(normalize=True)"
   ]
  },
  {
   "cell_type": "markdown",
   "metadata": {},
   "source": [
    "The distribution seems peaked in the 2000-2005 years."
   ]
  },
  {
   "cell_type": "markdown",
   "metadata": {},
   "source": [
    "## Exploring Price by Brand"
   ]
  },
  {
   "cell_type": "code",
   "execution_count": 24,
   "metadata": {
    "collapsed": false
   },
   "outputs": [
    {
     "name": "stdout",
     "output_type": "stream",
     "text": [
      "[('daewoo', 1064.0579710144928), ('rover', 1602.2903225806451), ('daihatsu', 1649.655172413793), ('trabant', 1846.5238095238096), ('renault', 2496.940394314535), ('lada', 2688.296296296296), ('fiat', 2836.8736310025274), ('opel', 3005.9309720265646), ('peugeot', 3113.860549132948), ('saab', 3211.6493506493507), ('mitsubishi', 3439.10290237467), ('lancia', 3444.877551020408), ('chrysler', 3486.5766871165642), ('smart', 3596.40273556231), ('ford', 3727.959789669038), ('citroen', 3796.26267281106), ('subaru', 4033.7551020408164), ('alfa_romeo', 4100.915857605178), ('honda', 4119.109589041096), ('suzuki', 4126.341818181818), ('mazda', 4129.774787535411), ('seat', 4433.419621749409), ('nissan', 4756.659634317863), ('volvo', 4993.208037825059), ('toyota', 5167.091062394604), ('hyundai', 5411.075431034483), ('volkswagen', 5433.228618085323), ('dacia', 5915.528455284553), ('kia', 6018.442073170731), ('skoda', 6409.609724047306), ('chevrolet', 6759.885931558935), ('bmw', 8249.015481089555), ('mercedes_benz', 8570.232849162012), ('audi', 9339.529967669734), ('mini', 10639.450980392157), ('sonstige_autos', 10890.197674418605), ('jeep', 11650.5), ('jaguar', 11961.56338028169), ('land_rover', 19108.091836734693), ('porsche', 34368.41106719367)]\n"
     ]
    }
   ],
   "source": [
    "import operator\n",
    "mean_price={}\n",
    "brands = autos_wo[\"brand\"].unique()\n",
    "for b in brands:\n",
    "    mean_price_brand = autos_wo[autos_wo[\"brand\"] == b]\n",
    "    mean_value=mean_price_brand[\"price\"].mean(skipna=True)\n",
    "    mean_price[b]=mean_value\n",
    "sorted_means=sorted(mean_price.items(),key=operator.itemgetter(1))\n",
    "print(sorted_means)"
   ]
  },
  {
   "cell_type": "markdown",
   "metadata": {},
   "source": [
    "For now I decided to loop over every brand to understand better the price distribution.\n",
    "The dataset includes every kind of cars, from the cheapest (daewoo, rover, daihatsu) to the most expensive (jaguar, land rover, porsche)."
   ]
  },
  {
   "cell_type": "code",
   "execution_count": 25,
   "metadata": {
    "collapsed": false
   },
   "outputs": [
    {
     "name": "stdout",
     "output_type": "stream",
     "text": [
      "volkswagen       10187\n",
      "bmw               5283\n",
      "opel              5192\n",
      "mercedes_benz     4578\n",
      "audi              4149\n",
      "ford              3349\n",
      "Name: brand, dtype: int64\n",
      "[('opel', 3005.9309720265646), ('ford', 3727.959789669038), ('volkswagen', 5433.228618085323), ('bmw', 8249.015481089555), ('mercedes_benz', 8570.232849162012), ('audi', 9339.529967669734)]\n"
     ]
    }
   ],
   "source": [
    "mean_price_top_seller={}\n",
    "counting_cars=autos_wo[\"brand\"].value_counts()\n",
    "top_brands=counting_cars.sort_values(ascending=False).head(6)\n",
    "print(top_brands)\n",
    "for b in top_brands.index:\n",
    "    mean_price_brand = autos_wo[autos_wo[\"brand\"] == b]\n",
    "    mean_value=mean_price_brand[\"price\"].mean(skipna=True)\n",
    "    mean_price_top_seller[b]=mean_value\n",
    "sorted_means=sorted(mean_price_top_seller.items(),key=operator.itemgetter(1))\n",
    "print(sorted_means)"
   ]
  },
  {
   "cell_type": "markdown",
   "metadata": {},
   "source": [
    "Of the top 5 brands, there is a distinct price gap:\n",
    "\n",
    "- Audi, BMW and Mercedes Benz are more expensive;\n",
    "- Ford and Opel are less expensive;\n",
    "- Volkswagen is in between.\n",
    "Volkswagen can be seen as a good trade-off and this can explain his popularity."
   ]
  },
  {
   "cell_type": "markdown",
   "metadata": {},
   "source": [
    "## Exploring Mileage by Brand"
   ]
  },
  {
   "cell_type": "code",
   "execution_count": 26,
   "metadata": {
    "collapsed": false
   },
   "outputs": [
    {
     "name": "stdout",
     "output_type": "stream",
     "text": [
      "                mean_price  mean_distance\n",
      "audi           9339.529968  129287.780188\n",
      "bmw            8249.015481  132458.830210\n",
      "ford           3727.959790  124151.985667\n",
      "mercedes_benz  8570.232849  130903.232853\n",
      "opel           3005.930972  129252.696456\n",
      "volkswagen     5433.228618  128733.189359\n"
     ]
    }
   ],
   "source": [
    "mean_mileage_top_seller={}\n",
    "for b in top_brands.index:\n",
    "    mean_mileage_brand = autos_wo[autos_wo[\"brand\"] == b]\n",
    "    mean_distance=mean_mileage_brand[\"odometer_km\"].mean(skipna=True)\n",
    "    mean_mileage_top_seller[b]=mean_distance\n",
    "mileage_series=pd.Series(mean_mileage_top_seller)\n",
    "price_series=pd.Series(mean_price_top_seller)\n",
    "auto_aggreg=pd.DataFrame(price_series,columns=[\"mean_price\"])\n",
    "auto_aggreg[\"mean_distance\"]=mileage_series\n",
    "import pprint\n",
    "pp = pprint.PrettyPrinter()\n",
    "pp.pprint(auto_aggreg)"
   ]
  },
  {
   "cell_type": "markdown",
   "metadata": {},
   "source": [
    "The range of car mileages does not vary as much as the prices do by brand, instead all falling within 10% for the top brands. There is a slight trend to the more expensive vehicles having higher mileage, with the less expensive vehicles having lower mileage."
   ]
  },
  {
   "cell_type": "markdown",
   "metadata": {},
   "source": [
    "## Further cleaning and analisys"
   ]
  },
  {
   "cell_type": "code",
   "execution_count": 27,
   "metadata": {
    "collapsed": false
   },
   "outputs": [],
   "source": [
    "date_crawled=autos_wo['ad_crawled'].str[:4].str[:4]+autos_wo['ad_crawled'].str[5:7]+autos_wo['ad_crawled'].str[8:10]\n",
    "date_crawled=date_crawled.astype(int)\n",
    "date_created=autos_wo['ad_created'].str[:4]+autos_wo['ad_created'].str[5:7]+autos_wo['ad_created'].str[8:10]\n",
    "date_created=date_created.astype(int)\n",
    "date_last_seen=autos_wo['ad_last_seen'].str[:4]+autos_wo['ad_last_seen'].str[5:7]+autos_wo['ad_last_seen'].str[8:10]\n",
    "date_last_seen=date_last_seen.astype(int)\n",
    "autos_def=autos_wo.copy()\n",
    "autos_def['ad_crawled']=date_crawled\n",
    "autos_def['ad_created']=date_created\n",
    "autos_def['ad_last_seen']=date_last_seen"
   ]
  },
  {
   "cell_type": "code",
   "execution_count": 28,
   "metadata": {
    "collapsed": false
   },
   "outputs": [
    {
     "name": "stdout",
     "output_type": "stream",
     "text": [
      "['Peugeot_807_160_NAVTECH_ON_BOARD'\n",
      " 'BMW_740i_4_4_Liter_HAMANN_UMBAU_Mega_Optik' 'Volkswagen_Golf_1.6_United'\n",
      " ... 'Audi_Q5_3.0_TDI_qu._S_tr.__Navi__Panorama__Xenon'\n",
      " 'Opel_Astra_F_Cabrio_Bertone_Edition___TÜV_neu+Reifen_neu_!!'\n",
      " 'Fiat_500_C_1.2_Dualogic_Lounge']\n",
      "['control' 'test']\n",
      "['bus' 'limousine' 'kleinwagen' 'kombi' nan 'coupe' 'suv' 'cabrio'\n",
      " 'andere']\n",
      "['manuell' 'automatik' nan]\n",
      "['andere' '7er' 'golf' 'fortwo' 'focus' 'voyager' 'arosa' 'megane' nan\n",
      " 'a3' 'clio' 'vectra' 'scirocco' '3er' 'a4' '911' 'cooper' '5er' 'polo'\n",
      " 'e_klasse' '2_reihe' 'c_klasse' 'corsa' 'mondeo' 'altea' 'a1' 'twingo'\n",
      " 'a_klasse' 'cl' '3_reihe' 's_klasse' 'sandero' 'passat' 'primera'\n",
      " 'wrangler' 'a6' 'transporter' 'astra' 'v40' 'ibiza' 'micra' '1er' 'yaris'\n",
      " 'colt' '6_reihe' '5_reihe' 'corolla' 'ka' 'tigra' 'punto' 'vito'\n",
      " 'cordoba' 'galaxy' '100' 'sharan' 'octavia' 'm_klasse' 'lupo' 'fiesta'\n",
      " 'superb' 'meriva' 'c_max' 'laguna' 'touran' '1_reihe' 'm_reihe' 'touareg'\n",
      " 'seicento' 'avensis' 'vivaro' 'x_reihe' 'ducato' 'carnival' 'boxster'\n",
      " 'signum' 'zafira' 'rav' 'a5' 'beetle' 'c_reihe' 'phaeton' 'i_reihe' 'sl'\n",
      " 'insignia' 'up' 'civic' '80' 'mx_reihe' 'omega' 'sorento' 'z_reihe'\n",
      " 'berlingo' 'clk' 's_max' 'kalos' 'cx_reihe' 'grand' 'swift' 'tiguan'\n",
      " 'sprinter' 'mii' 'viano' 'kaefer' 'almera' 'picanto' 'espace' 'scenic'\n",
      " 'one' 'bora' 'fox' 'leon' 'transit' 'tucson' 'tt' 'qashqai' 'mustang'\n",
      " 'jazz' 'nubira' 'v70' 'duster' 'stilo' 'justy' 'kangoo' 'fabia' 'matiz'\n",
      " 'freelander' 'lancer' 'forester' 's_type' 'bravo' '500' '156' 'cr_reihe'\n",
      " 'toledo' 'panda' 'a8' 'ceed' 'caddy' 'aygo' 'citigo' 'exeo' 'c1' 'doblo'\n",
      " 'impreza' '147' 'agila' '145' 'c3' 'roomster' 'auris' '601' 'eos' 'aveo'\n",
      " 'slk' 'terios' 'fusion' 'c4' 'glk' 'materia' 'v50' 'combo' 'yeti' '900'\n",
      " '850' 'outlander' 'rio' 'escort' 'c2' 'jimny' 'forfour' 'a2' 'spider'\n",
      " 'kadett' 'b_klasse' 'carisma' 'cayenne' 'r19' 'cc' 'note' 'logan'\n",
      " 'xc_reihe' 'verso' 'v_klasse' 'jetta' 'c5' 'q5' 'getz' 'navara' 'x_type'\n",
      " 'clubman' 's60' '4_reihe' 'lybra' 'cherokee' 'q3' 'q7' 'roadster'\n",
      " 'captiva' 'cuore' '90' 'ptcruiser' 'kuga' 'x_trail' 'ypsilon' 'pajero'\n",
      " 'delta' 'rx_reihe' 'modus' 'sportage' 'calibra' 'sirion' '6er' 'gl'\n",
      " 'amarok' 'santa' '300c' 'antara' 'accord' 'crossfire' '159' 'niva'\n",
      " 'galant' 'legacy' 'defender' 'range_rover' 'juke' 'spark' 'lanos' 'v60'\n",
      " 'alhambra' 'discovery' 'range_rover_sport' 'range_rover_evoque' 'move'\n",
      " 'croma' 'g_klasse' 'lodgy' 'rangerover' 'samara' 'kappa' '9000' 'charade'\n",
      " 'i3' '200' 'b_max']\n",
      "['lpg' 'benzin' 'diesel' nan 'cng' 'hybrid' 'elektro' 'andere']\n",
      "['peugeot' 'bmw' 'volkswagen' 'smart' 'ford' 'chrysler' 'seat' 'renault'\n",
      " 'mercedes_benz' 'audi' 'sonstige_autos' 'opel' 'mazda' 'porsche' 'mini'\n",
      " 'toyota' 'dacia' 'nissan' 'jeep' 'saab' 'volvo' 'mitsubishi' 'jaguar'\n",
      " 'fiat' 'skoda' 'subaru' 'kia' 'citroen' 'chevrolet' 'hyundai' 'honda'\n",
      " 'daewoo' 'suzuki' 'trabant' 'land_rover' 'alfa_romeo' 'lada' 'rover'\n",
      " 'daihatsu' 'lancia']\n",
      "['nein' nan 'ja']\n"
     ]
    }
   ],
   "source": [
    "for c in autos_def.columns:\n",
    "    if autos_def[c].dtype==\"object\":\n",
    "        print(autos_def[c].unique())"
   ]
  },
  {
   "cell_type": "markdown",
   "metadata": {},
   "source": [
    "I'll translate some values from German to English."
   ]
  },
  {
   "cell_type": "code",
   "execution_count": 29,
   "metadata": {
    "collapsed": false
   },
   "outputs": [],
   "source": [
    "traduction={\n",
    "    \"manuell\":\"manual\",\n",
    "    \"automatik\":\"automatic\",\n",
    "    \"nein\":\"no\",\n",
    "    \"ja\":\"yes\"\n",
    "}\n",
    "autos_def[\"gearbox\"]=autos_def[\"gearbox\"].map(traduction)\n",
    "autos_def[\"unrepaired_damage\"]=autos_def[\"unrepaired_damage\"].map(traduction)"
   ]
  },
  {
   "cell_type": "markdown",
   "metadata": {},
   "source": [
    "Below are listed the most common model for the most popular brands."
   ]
  },
  {
   "cell_type": "code",
   "execution_count": 30,
   "metadata": {
    "collapsed": false
   },
   "outputs": [
    {
     "name": "stdout",
     "output_type": "stream",
     "text": [
      "{'audi': 'tt', 'bmw': 'z_reihe', 'mercedes_benz': 'vito', 'ford': 'transit', 'volkswagen': 'up', 'opel': 'zafira'}\n"
     ]
    }
   ],
   "source": [
    "common_model_for_brands={}\n",
    "for b in top_brands.index:\n",
    "    common_model = autos_def[autos_def[\"brand\"] == b].sort_values(\"model\",ascending=False).iloc[0].loc[\"model\"]\n",
    "    common_model_for_brands[b]=common_model\n",
    "print(common_model_for_brands)"
   ]
  },
  {
   "cell_type": "code",
   "execution_count": 31,
   "metadata": {
    "collapsed": false
   },
   "outputs": [
    {
     "name": "stdout",
     "output_type": "stream",
     "text": [
      "[150000.  70000.  50000.  80000.  10000.  30000. 125000.  90000.  20000.\n",
      "  60000.   5000.  40000. 100000.]\n"
     ]
    }
   ],
   "source": [
    "print(autos_def[\"odometer_km\"].unique())"
   ]
  },
  {
   "cell_type": "markdown",
   "metadata": {},
   "source": [
    "I'll now analize the price in function of the mileage."
   ]
  },
  {
   "cell_type": "code",
   "execution_count": 32,
   "metadata": {
    "collapsed": false
   },
   "outputs": [
    {
     "name": "stdout",
     "output_type": "stream",
     "text": [
      "5000.0       7101.380403\n",
      "10000.0     19569.886463\n",
      "20000.0     16704.047880\n",
      "30000.0     15734.814913\n",
      "40000.0     15331.973552\n",
      "50000.0     13556.101317\n",
      "60000.0     12113.074866\n",
      "70000.0     10954.826014\n",
      "80000.0      9673.630197\n",
      "90000.0      8473.360862\n",
      "100000.0     7970.518863\n",
      "125000.0     6189.368280\n",
      "150000.0     3778.533110\n",
      "dtype: float64\n"
     ]
    }
   ],
   "source": [
    "mean_price_for_milage={}\n",
    "group_milage=autos_def[\"odometer_km\"].unique()\n",
    "for g in group_milage:\n",
    "    data_milage = autos_def[autos_def[\"odometer_km\"] == g]\n",
    "    mean_price=data_milage[\"price\"].mean(skipna=True)\n",
    "    mean_price_for_milage[g]=mean_price\n",
    "milage_price_series=pd.Series(mean_price_for_milage)\n",
    "print(milage_price_series)"
   ]
  },
  {
   "cell_type": "markdown",
   "metadata": {},
   "source": [
    "Excluding the very first values of milage, which include damaged cars, the price predictibly decreases when the milage increases."
   ]
  },
  {
   "cell_type": "code",
   "execution_count": 33,
   "metadata": {
    "collapsed": false
   },
   "outputs": [
    {
     "name": "stdout",
     "output_type": "stream",
     "text": [
      "NaN            NaN\n",
      "yes    2250.537757\n",
      "no     6995.619141\n",
      "dtype: float64\n"
     ]
    }
   ],
   "source": [
    "mean_price_for_damage={}\n",
    "group_damage=autos_def[\"unrepaired_damage\"].unique()\n",
    "for g in group_damage:\n",
    "    data_damage = autos_def[autos_def[\"unrepaired_damage\"] == g]\n",
    "    mean_price=data_damage[\"price\"].mean(skipna=True)\n",
    "    mean_price_for_damage[g]=mean_price\n",
    "damage_price_series=pd.Series(mean_price_for_damage)\n",
    "print(damage_price_series)"
   ]
  },
  {
   "cell_type": "markdown",
   "metadata": {
    "collapsed": true
   },
   "source": [
    "In average the damaged cars costs less than one third than the non-damaged.\n",
    "This result, though, is biased by the fact that a luxury car is more probably repaired before the sale."
   ]
  }
 ],
 "metadata": {
  "kernelspec": {
   "display_name": "Python 3",
   "language": "python",
   "name": "python3"
  },
  "language_info": {
   "codemirror_mode": {
    "name": "ipython",
    "version": 3
   },
   "file_extension": ".py",
   "mimetype": "text/x-python",
   "name": "python",
   "nbconvert_exporter": "python",
   "pygments_lexer": "ipython3",
   "version": "3.4.3"
  }
 },
 "nbformat": 4,
 "nbformat_minor": 2
}
