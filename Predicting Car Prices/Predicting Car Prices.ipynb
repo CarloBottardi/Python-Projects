{
 "cells": [
  {
   "cell_type": "markdown",
   "metadata": {},
   "source": [
    "# Predicting Car Prices"
   ]
  },
  {
   "cell_type": "markdown",
   "metadata": {},
   "source": [
    "I explored the fundamentals of machine learning using the k-nearest neighbors algorithm. In this project, I'll practice the machine learning workflow you've learned so far to predict a car's market price using its attributes. \n",
    "\n",
    "The data set I'll be working with contains information on various cars. For each car there are information about the technical aspects of the vehicle such as the motor's displacement, the weight of the car, the miles per gallon, how fast the car accelerates, and more."
   ]
  },
  {
   "cell_type": "markdown",
   "metadata": {},
   "source": [
    "## Reading the data"
   ]
  },
  {
   "cell_type": "code",
   "execution_count": 1,
   "metadata": {
    "collapsed": false
   },
   "outputs": [
    {
     "name": "stdout",
     "output_type": "stream",
     "text": [
      "   symboling normalized_losses         make fuel_type aspiration num_doors  \\\n",
      "0          3                 ?  alfa-romero       gas        std       two   \n",
      "1          3                 ?  alfa-romero       gas        std       two   \n",
      "2          1                 ?  alfa-romero       gas        std       two   \n",
      "3          2               164         audi       gas        std      four   \n",
      "4          2               164         audi       gas        std      four   \n",
      "\n",
      "    body_style drive_wheels engine_location  wheel_base  ...    engine_size  \\\n",
      "0  convertible          rwd           front        88.6  ...            130   \n",
      "1  convertible          rwd           front        88.6  ...            130   \n",
      "2    hatchback          rwd           front        94.5  ...            152   \n",
      "3        sedan          fwd           front        99.8  ...            109   \n",
      "4        sedan          4wd           front        99.4  ...            136   \n",
      "\n",
      "   fuel_system  bore  stroke compression_ratio horsepower  peak_rpm city_mpg  \\\n",
      "0         mpfi  3.47    2.68               9.0        111      5000       21   \n",
      "1         mpfi  3.47    2.68               9.0        111      5000       21   \n",
      "2         mpfi  2.68    3.47               9.0        154      5000       19   \n",
      "3         mpfi  3.19    3.40              10.0        102      5500       24   \n",
      "4         mpfi  3.19    3.40               8.0        115      5500       18   \n",
      "\n",
      "  highway_mpg  price  \n",
      "0          27  13495  \n",
      "1          27  16500  \n",
      "2          26  16500  \n",
      "3          30  13950  \n",
      "4          22  17450  \n",
      "\n",
      "[5 rows x 26 columns]\n"
     ]
    }
   ],
   "source": [
    "import pandas as pd\n",
    "columns=[\n",
    "    \"symboling\",\n",
    "    \"normalized_losses\",\n",
    "    \"make\",\n",
    "    \"fuel_type\",\n",
    "    \"aspiration\",\n",
    "    \"num_doors\",\n",
    "    \"body_style\",\n",
    "    \"drive_wheels\",\n",
    "    \"engine_location\",\n",
    "    \"wheel_base\",\n",
    "    \"length\",\n",
    "    \"width\",\n",
    "    \"height\",\n",
    "    \"curb_weight\",\n",
    "    \"engine_type\",\n",
    "    \"num_cylinders\",\n",
    "    \"engine_size\",\n",
    "    \"fuel_system\",\n",
    "    \"bore\",\n",
    "    \"stroke\",\n",
    "    \"compression_ratio\",\n",
    "    \"horsepower\",\n",
    "    \"peak_rpm\",\n",
    "    \"city_mpg\",\n",
    "    \"highway_mpg\",\n",
    "    \"price\"\n",
    "]\n",
    "cars=pd.read_csv(\"imports-85.data\", names=columns)\n",
    "print(cars.head())"
   ]
  },
  {
   "cell_type": "code",
   "execution_count": 2,
   "metadata": {
    "collapsed": false
   },
   "outputs": [
    {
     "name": "stdout",
     "output_type": "stream",
     "text": [
      "symboling              int64\n",
      "normalized_losses     object\n",
      "make                  object\n",
      "fuel_type             object\n",
      "aspiration            object\n",
      "num_doors             object\n",
      "body_style            object\n",
      "drive_wheels          object\n",
      "engine_location       object\n",
      "wheel_base           float64\n",
      "length               float64\n",
      "width                float64\n",
      "height               float64\n",
      "curb_weight            int64\n",
      "engine_type           object\n",
      "num_cylinders         object\n",
      "engine_size            int64\n",
      "fuel_system           object\n",
      "bore                  object\n",
      "stroke                object\n",
      "compression_ratio    float64\n",
      "horsepower            object\n",
      "peak_rpm              object\n",
      "city_mpg               int64\n",
      "highway_mpg            int64\n",
      "price                 object\n",
      "dtype: object\n"
     ]
    }
   ],
   "source": [
    "print(cars.dtypes)"
   ]
  },
  {
   "cell_type": "code",
   "execution_count": 3,
   "metadata": {
    "collapsed": false
   },
   "outputs": [],
   "source": [
    "# Select only the columns with continuous values from - https://archive.ics.uci.edu/ml/machine-learning-databases/autos/imports-85.names\n",
    "continuous_values_cols = ['normalized_losses', 'wheel_base', 'length', 'width', 'height', 'curb_weight', 'engine_size', 'bore', 'stroke', 'compression_ratio', 'horsepower', 'peak_rpm', 'city_mpg', 'highway_mpg', 'price']\n",
    "numeric_cars = cars[continuous_values_cols]"
   ]
  },
  {
   "cell_type": "markdown",
   "metadata": {},
   "source": [
    "The target column is obviously \"__price__\"."
   ]
  },
  {
   "cell_type": "markdown",
   "metadata": {},
   "source": [
    "## Data Cleaning"
   ]
  },
  {
   "cell_type": "markdown",
   "metadata": {},
   "source": [
    "You usually can't have any missing values if ypu want to use them for predictive modeling. Based on the data set preview from the last step, it's clear that the normalized-losses column contains missing values represented using \"?\". \n",
    "\n",
    "- Let's replace these values and look for the presence of missing values in other numeric columns. \n",
    "- Let's also rescale the values in the numeric columns so they all range from 0 to 1."
   ]
  },
  {
   "cell_type": "code",
   "execution_count": 4,
   "metadata": {
    "collapsed": false
   },
   "outputs": [
    {
     "name": "stdout",
     "output_type": "stream",
     "text": [
      "  normalized_losses  wheel_base  length  width  height  curb_weight  \\\n",
      "0               NaN        88.6   168.8   64.1    48.8         2548   \n",
      "1               NaN        88.6   168.8   64.1    48.8         2548   \n",
      "2               NaN        94.5   171.2   65.5    52.4         2823   \n",
      "3               164        99.8   176.6   66.2    54.3         2337   \n",
      "4               164        99.4   176.6   66.4    54.3         2824   \n",
      "\n",
      "   engine_size  bore stroke  compression_ratio horsepower peak_rpm  city_mpg  \\\n",
      "0          130  3.47   2.68                9.0        111     5000        21   \n",
      "1          130  3.47   2.68                9.0        111     5000        21   \n",
      "2          152  2.68   3.47                9.0        154     5000        19   \n",
      "3          109  3.19   3.40               10.0        102     5500        24   \n",
      "4          136  3.19   3.40                8.0        115     5500        18   \n",
      "\n",
      "   highway_mpg  price  \n",
      "0           27  13495  \n",
      "1           27  16500  \n",
      "2           26  16500  \n",
      "3           30  13950  \n",
      "4           22  17450  \n",
      "normalized_losses     object\n",
      "wheel_base           float64\n",
      "length               float64\n",
      "width                float64\n",
      "height               float64\n",
      "curb_weight            int64\n",
      "engine_size            int64\n",
      "bore                  object\n",
      "stroke                object\n",
      "compression_ratio    float64\n",
      "horsepower            object\n",
      "peak_rpm              object\n",
      "city_mpg               int64\n",
      "highway_mpg            int64\n",
      "price                 object\n",
      "dtype: object\n"
     ]
    }
   ],
   "source": [
    "import numpy as np\n",
    "numeric_cars=numeric_cars.replace(\"?\", np.nan)\n",
    "print(numeric_cars.head())\n",
    "print(numeric_cars.dtypes)"
   ]
  },
  {
   "cell_type": "code",
   "execution_count": 5,
   "metadata": {
    "collapsed": false
   },
   "outputs": [
    {
     "name": "stdout",
     "output_type": "stream",
     "text": [
      "normalized_losses    float64\n",
      "wheel_base           float64\n",
      "length               float64\n",
      "width                float64\n",
      "height               float64\n",
      "curb_weight          float64\n",
      "engine_size          float64\n",
      "bore                 float64\n",
      "stroke               float64\n",
      "compression_ratio    float64\n",
      "horsepower           float64\n",
      "peak_rpm             float64\n",
      "city_mpg             float64\n",
      "highway_mpg          float64\n",
      "price                float64\n",
      "dtype: object\n",
      "normalized_losses    41\n",
      "wheel_base            0\n",
      "length                0\n",
      "width                 0\n",
      "height                0\n",
      "curb_weight           0\n",
      "engine_size           0\n",
      "bore                  4\n",
      "stroke                4\n",
      "compression_ratio     0\n",
      "horsepower            2\n",
      "peak_rpm              2\n",
      "city_mpg              0\n",
      "highway_mpg           0\n",
      "price                 4\n",
      "dtype: int64\n"
     ]
    }
   ],
   "source": [
    "numeric_cars = numeric_cars.astype('float')\n",
    "print(numeric_cars.dtypes)\n",
    "print(numeric_cars.isnull().sum())"
   ]
  },
  {
   "cell_type": "code",
   "execution_count": 6,
   "metadata": {
    "collapsed": false
   },
   "outputs": [
    {
     "name": "stdout",
     "output_type": "stream",
     "text": [
      "(205, 15)\n"
     ]
    }
   ],
   "source": [
    "print(numeric_cars.shape)"
   ]
  },
  {
   "cell_type": "code",
   "execution_count": 7,
   "metadata": {
    "collapsed": false
   },
   "outputs": [
    {
     "name": "stdout",
     "output_type": "stream",
     "text": [
      "normalized_losses    37\n",
      "wheel_base            0\n",
      "length                0\n",
      "width                 0\n",
      "height                0\n",
      "curb_weight           0\n",
      "engine_size           0\n",
      "bore                  4\n",
      "stroke                4\n",
      "compression_ratio     0\n",
      "horsepower            2\n",
      "peak_rpm              2\n",
      "city_mpg              0\n",
      "highway_mpg           0\n",
      "price                 0\n",
      "dtype: int64\n"
     ]
    }
   ],
   "source": [
    "numeric_cars = numeric_cars.dropna(subset=['price'])\n",
    "print(numeric_cars.isnull().sum())"
   ]
  },
  {
   "cell_type": "code",
   "execution_count": 8,
   "metadata": {
    "collapsed": false
   },
   "outputs": [
    {
     "name": "stdout",
     "output_type": "stream",
     "text": [
      "    normalized_losses  wheel_base  length  width  height  curb_weight  \\\n",
      "55              150.0        95.3   169.0   65.7    49.6       2380.0   \n",
      "56              150.0        95.3   169.0   65.7    49.6       2380.0   \n",
      "57              150.0        95.3   169.0   65.7    49.6       2385.0   \n",
      "58              150.0        95.3   169.0   65.7    49.6       2500.0   \n",
      "\n",
      "    engine_size  bore  stroke  compression_ratio  horsepower  peak_rpm  \\\n",
      "55         70.0   NaN     NaN                9.4       101.0    6000.0   \n",
      "56         70.0   NaN     NaN                9.4       101.0    6000.0   \n",
      "57         70.0   NaN     NaN                9.4       101.0    6000.0   \n",
      "58         80.0   NaN     NaN                9.4       135.0    6000.0   \n",
      "\n",
      "    city_mpg  highway_mpg    price  \n",
      "55      17.0         23.0  10945.0  \n",
      "56      17.0         23.0  11845.0  \n",
      "57      17.0         23.0  13645.0  \n",
      "58      16.0         23.0  15645.0  \n"
     ]
    }
   ],
   "source": [
    "problematic_rows=numeric_cars[numeric_cars[\"bore\"].isnull()]\n",
    "print(problematic_rows)"
   ]
  },
  {
   "cell_type": "code",
   "execution_count": 9,
   "metadata": {
    "collapsed": false
   },
   "outputs": [
    {
     "name": "stdout",
     "output_type": "stream",
     "text": [
      "     normalized_losses  wheel_base  length  width  height  curb_weight  \\\n",
      "130                NaN        96.1   181.5   66.5    55.2       2579.0   \n",
      "131                NaN        96.1   176.8   66.6    50.5       2460.0   \n",
      "\n",
      "     engine_size  bore  stroke  compression_ratio  horsepower  peak_rpm  \\\n",
      "130        132.0  3.46     3.9                8.7         NaN       NaN   \n",
      "131        132.0  3.46     3.9                8.7         NaN       NaN   \n",
      "\n",
      "     city_mpg  highway_mpg   price  \n",
      "130      23.0         31.0  9295.0  \n",
      "131      23.0         31.0  9895.0  \n"
     ]
    }
   ],
   "source": [
    "problematic_rows_2=numeric_cars[numeric_cars[\"horsepower\"].isnull()]\n",
    "print(problematic_rows_2)"
   ]
  },
  {
   "cell_type": "code",
   "execution_count": 10,
   "metadata": {
    "collapsed": false
   },
   "outputs": [
    {
     "name": "stdout",
     "output_type": "stream",
     "text": [
      "     normalized_losses  wheel_base  length  width  height  curb_weight  \\\n",
      "130              122.0        96.1   181.5   66.5    55.2       2579.0   \n",
      "131              122.0        96.1   176.8   66.6    50.5       2460.0   \n",
      "\n",
      "     engine_size  bore  stroke  compression_ratio  horsepower    peak_rpm  \\\n",
      "130        132.0  3.46     3.9                8.7  103.396985  5117.58794   \n",
      "131        132.0  3.46     3.9                8.7  103.396985  5117.58794   \n",
      "\n",
      "     city_mpg  highway_mpg   price  \n",
      "130      23.0         31.0  9295.0  \n",
      "131      23.0         31.0  9895.0  \n"
     ]
    }
   ],
   "source": [
    "numeric_cars = numeric_cars.fillna(numeric_cars.mean())\n",
    "print(numeric_cars.iloc[126:128])"
   ]
  },
  {
   "cell_type": "code",
   "execution_count": 11,
   "metadata": {
    "collapsed": false
   },
   "outputs": [
    {
     "data": {
      "text/html": [
       "<div>\n",
       "<style scoped>\n",
       "    .dataframe tbody tr th:only-of-type {\n",
       "        vertical-align: middle;\n",
       "    }\n",
       "\n",
       "    .dataframe tbody tr th {\n",
       "        vertical-align: top;\n",
       "    }\n",
       "\n",
       "    .dataframe thead th {\n",
       "        text-align: right;\n",
       "    }\n",
       "</style>\n",
       "<table border=\"1\" class=\"dataframe\">\n",
       "  <thead>\n",
       "    <tr style=\"text-align: right;\">\n",
       "      <th></th>\n",
       "      <th>normalized_losses</th>\n",
       "      <th>wheel_base</th>\n",
       "      <th>length</th>\n",
       "      <th>width</th>\n",
       "      <th>height</th>\n",
       "      <th>curb_weight</th>\n",
       "      <th>engine_size</th>\n",
       "      <th>bore</th>\n",
       "      <th>stroke</th>\n",
       "      <th>compression_ratio</th>\n",
       "      <th>horsepower</th>\n",
       "      <th>peak_rpm</th>\n",
       "      <th>city_mpg</th>\n",
       "      <th>highway_mpg</th>\n",
       "      <th>price</th>\n",
       "    </tr>\n",
       "  </thead>\n",
       "  <tbody>\n",
       "    <tr>\n",
       "      <th>count</th>\n",
       "      <td>201.000000</td>\n",
       "      <td>201.000000</td>\n",
       "      <td>201.000000</td>\n",
       "      <td>201.000000</td>\n",
       "      <td>201.000000</td>\n",
       "      <td>201.000000</td>\n",
       "      <td>201.000000</td>\n",
       "      <td>201.000000</td>\n",
       "      <td>201.000000</td>\n",
       "      <td>201.000000</td>\n",
       "      <td>201.000000</td>\n",
       "      <td>201.000000</td>\n",
       "      <td>201.000000</td>\n",
       "      <td>201.000000</td>\n",
       "      <td>201.000000</td>\n",
       "    </tr>\n",
       "    <tr>\n",
       "      <th>mean</th>\n",
       "      <td>0.298429</td>\n",
       "      <td>0.355598</td>\n",
       "      <td>0.494045</td>\n",
       "      <td>0.477697</td>\n",
       "      <td>0.497222</td>\n",
       "      <td>0.414145</td>\n",
       "      <td>0.248587</td>\n",
       "      <td>0.564793</td>\n",
       "      <td>0.565192</td>\n",
       "      <td>0.197767</td>\n",
       "      <td>0.258864</td>\n",
       "      <td>0.394934</td>\n",
       "      <td>0.338308</td>\n",
       "      <td>0.386489</td>\n",
       "      <td>13207.129353</td>\n",
       "    </tr>\n",
       "    <tr>\n",
       "      <th>std</th>\n",
       "      <td>0.167520</td>\n",
       "      <td>0.176862</td>\n",
       "      <td>0.183913</td>\n",
       "      <td>0.179613</td>\n",
       "      <td>0.203985</td>\n",
       "      <td>0.200658</td>\n",
       "      <td>0.156781</td>\n",
       "      <td>0.191480</td>\n",
       "      <td>0.150499</td>\n",
       "      <td>0.250310</td>\n",
       "      <td>0.174606</td>\n",
       "      <td>0.195148</td>\n",
       "      <td>0.178423</td>\n",
       "      <td>0.179346</td>\n",
       "      <td>7947.066342</td>\n",
       "    </tr>\n",
       "    <tr>\n",
       "      <th>min</th>\n",
       "      <td>0.000000</td>\n",
       "      <td>0.000000</td>\n",
       "      <td>0.000000</td>\n",
       "      <td>0.000000</td>\n",
       "      <td>0.000000</td>\n",
       "      <td>0.000000</td>\n",
       "      <td>0.000000</td>\n",
       "      <td>0.000000</td>\n",
       "      <td>0.000000</td>\n",
       "      <td>0.000000</td>\n",
       "      <td>0.000000</td>\n",
       "      <td>0.000000</td>\n",
       "      <td>0.000000</td>\n",
       "      <td>0.000000</td>\n",
       "      <td>5118.000000</td>\n",
       "    </tr>\n",
       "    <tr>\n",
       "      <th>25%</th>\n",
       "      <td>0.188482</td>\n",
       "      <td>0.230321</td>\n",
       "      <td>0.383582</td>\n",
       "      <td>0.324786</td>\n",
       "      <td>0.350000</td>\n",
       "      <td>0.264158</td>\n",
       "      <td>0.139623</td>\n",
       "      <td>0.435714</td>\n",
       "      <td>0.495238</td>\n",
       "      <td>0.100000</td>\n",
       "      <td>0.102804</td>\n",
       "      <td>0.265306</td>\n",
       "      <td>0.166667</td>\n",
       "      <td>0.236842</td>\n",
       "      <td>7775.000000</td>\n",
       "    </tr>\n",
       "    <tr>\n",
       "      <th>50%</th>\n",
       "      <td>0.298429</td>\n",
       "      <td>0.303207</td>\n",
       "      <td>0.479104</td>\n",
       "      <td>0.444444</td>\n",
       "      <td>0.525000</td>\n",
       "      <td>0.359193</td>\n",
       "      <td>0.222642</td>\n",
       "      <td>0.550000</td>\n",
       "      <td>0.580952</td>\n",
       "      <td>0.125000</td>\n",
       "      <td>0.219626</td>\n",
       "      <td>0.394934</td>\n",
       "      <td>0.305556</td>\n",
       "      <td>0.368421</td>\n",
       "      <td>10295.000000</td>\n",
       "    </tr>\n",
       "    <tr>\n",
       "      <th>75%</th>\n",
       "      <td>0.376963</td>\n",
       "      <td>0.460641</td>\n",
       "      <td>0.632836</td>\n",
       "      <td>0.538462</td>\n",
       "      <td>0.641667</td>\n",
       "      <td>0.557797</td>\n",
       "      <td>0.301887</td>\n",
       "      <td>0.742857</td>\n",
       "      <td>0.638095</td>\n",
       "      <td>0.150000</td>\n",
       "      <td>0.317757</td>\n",
       "      <td>0.551020</td>\n",
       "      <td>0.472222</td>\n",
       "      <td>0.473684</td>\n",
       "      <td>16500.000000</td>\n",
       "    </tr>\n",
       "    <tr>\n",
       "      <th>max</th>\n",
       "      <td>1.000000</td>\n",
       "      <td>1.000000</td>\n",
       "      <td>1.000000</td>\n",
       "      <td>1.000000</td>\n",
       "      <td>1.000000</td>\n",
       "      <td>1.000000</td>\n",
       "      <td>1.000000</td>\n",
       "      <td>1.000000</td>\n",
       "      <td>1.000000</td>\n",
       "      <td>1.000000</td>\n",
       "      <td>1.000000</td>\n",
       "      <td>1.000000</td>\n",
       "      <td>1.000000</td>\n",
       "      <td>1.000000</td>\n",
       "      <td>45400.000000</td>\n",
       "    </tr>\n",
       "  </tbody>\n",
       "</table>\n",
       "</div>"
      ],
      "text/plain": [
       "       normalized_losses  wheel_base      length       width      height  \\\n",
       "count         201.000000  201.000000  201.000000  201.000000  201.000000   \n",
       "mean            0.298429    0.355598    0.494045    0.477697    0.497222   \n",
       "std             0.167520    0.176862    0.183913    0.179613    0.203985   \n",
       "min             0.000000    0.000000    0.000000    0.000000    0.000000   \n",
       "25%             0.188482    0.230321    0.383582    0.324786    0.350000   \n",
       "50%             0.298429    0.303207    0.479104    0.444444    0.525000   \n",
       "75%             0.376963    0.460641    0.632836    0.538462    0.641667   \n",
       "max             1.000000    1.000000    1.000000    1.000000    1.000000   \n",
       "\n",
       "       curb_weight  engine_size        bore      stroke  compression_ratio  \\\n",
       "count   201.000000   201.000000  201.000000  201.000000         201.000000   \n",
       "mean      0.414145     0.248587    0.564793    0.565192           0.197767   \n",
       "std       0.200658     0.156781    0.191480    0.150499           0.250310   \n",
       "min       0.000000     0.000000    0.000000    0.000000           0.000000   \n",
       "25%       0.264158     0.139623    0.435714    0.495238           0.100000   \n",
       "50%       0.359193     0.222642    0.550000    0.580952           0.125000   \n",
       "75%       0.557797     0.301887    0.742857    0.638095           0.150000   \n",
       "max       1.000000     1.000000    1.000000    1.000000           1.000000   \n",
       "\n",
       "       horsepower    peak_rpm    city_mpg  highway_mpg         price  \n",
       "count  201.000000  201.000000  201.000000   201.000000    201.000000  \n",
       "mean     0.258864    0.394934    0.338308     0.386489  13207.129353  \n",
       "std      0.174606    0.195148    0.178423     0.179346   7947.066342  \n",
       "min      0.000000    0.000000    0.000000     0.000000   5118.000000  \n",
       "25%      0.102804    0.265306    0.166667     0.236842   7775.000000  \n",
       "50%      0.219626    0.394934    0.305556     0.368421  10295.000000  \n",
       "75%      0.317757    0.551020    0.472222     0.473684  16500.000000  \n",
       "max      1.000000    1.000000    1.000000     1.000000  45400.000000  "
      ]
     },
     "execution_count": 11,
     "metadata": {},
     "output_type": "execute_result"
    }
   ],
   "source": [
    "target=numeric_cars[\"price\"]\n",
    "numeric_cars=(numeric_cars-numeric_cars.min())/(numeric_cars.max()-numeric_cars.min())\n",
    "numeric_cars[\"price\"]=target\n",
    "numeric_cars.describe()"
   ]
  },
  {
   "cell_type": "code",
   "execution_count": 12,
   "metadata": {
    "collapsed": false
   },
   "outputs": [
    {
     "name": "stdout",
     "output_type": "stream",
     "text": [
      "normalized_losses    0\n",
      "wheel_base           0\n",
      "length               0\n",
      "width                0\n",
      "height               0\n",
      "curb_weight          0\n",
      "engine_size          0\n",
      "bore                 0\n",
      "stroke               0\n",
      "compression_ratio    0\n",
      "horsepower           0\n",
      "peak_rpm             0\n",
      "city_mpg             0\n",
      "highway_mpg          0\n",
      "price                0\n",
      "dtype: int64\n"
     ]
    }
   ],
   "source": [
    "print(numeric_cars.isnull().sum())"
   ]
  },
  {
   "cell_type": "code",
   "execution_count": 13,
   "metadata": {
    "collapsed": false
   },
   "outputs": [
    {
     "name": "stdout",
     "output_type": "stream",
     "text": [
      "RangeIndex(start=0, stop=201, step=1)\n",
      "     normalized_losses  wheel_base    length     width    height  curb_weight  \\\n",
      "0             0.298429    0.058309  0.413433  0.324786  0.083333     0.411171   \n",
      "1             0.298429    0.058309  0.413433  0.324786  0.083333     0.411171   \n",
      "2             0.298429    0.230321  0.449254  0.444444  0.383333     0.517843   \n",
      "3             0.518325    0.384840  0.529851  0.504274  0.541667     0.329325   \n",
      "4             0.518325    0.373178  0.529851  0.521368  0.541667     0.518231   \n",
      "5             0.298429    0.384840  0.540299  0.512821  0.441667     0.395268   \n",
      "6             0.486911    0.559767  0.770149  0.948718  0.658333     0.525989   \n",
      "7             0.298429    0.559767  0.770149  0.948718  0.658333     0.568658   \n",
      "8             0.486911    0.559767  0.770149  0.948718  0.675000     0.619860   \n",
      "9             0.664921    0.425656  0.532836  0.384615  0.541667     0.351823   \n",
      "10            0.664921    0.425656  0.532836  0.384615  0.541667     0.351823   \n",
      "11            0.643979    0.425656  0.532836  0.384615  0.541667     0.474011   \n",
      "12            0.643979    0.425656  0.532836  0.384615  0.541667     0.495345   \n",
      "13            0.298429    0.492711  0.714925  0.564103  0.658333     0.607836   \n",
      "14            0.298429    0.492711  0.714925  0.564103  0.658333     0.675718   \n",
      "15            0.298429    0.492711  0.786567  0.649573  0.491667     0.733902   \n",
      "16            0.298429    0.682216  0.834328  0.905983  0.708333     0.782389   \n",
      "17            0.293194    0.052478  0.000000  0.000000  0.450000     0.000000   \n",
      "18            0.172775    0.230321  0.220896  0.282051  0.350000     0.149728   \n",
      "19            0.083770    0.230321  0.264179  0.282051  0.350000     0.163305   \n",
      "20            0.277487    0.206997  0.241791  0.299145  0.250000     0.150504   \n",
      "21            0.277487    0.206997  0.241791  0.299145  0.250000     0.150504   \n",
      "22            0.277487    0.206997  0.241791  0.299145  0.250000     0.248254   \n",
      "23            0.434555    0.206997  0.241791  0.299145  0.233333     0.185803   \n",
      "24            0.434555    0.206997  0.241791  0.299145  0.233333     0.194337   \n",
      "25            0.434555    0.206997  0.241791  0.299145  0.233333     0.194337   \n",
      "26            0.434555    0.206997  0.241791  0.299145  0.233333     0.272692   \n",
      "27            0.235602    0.486880  0.500000  0.367521  1.000000     0.406129   \n",
      "28            0.418848    0.271137  0.479104  0.512821  0.200000     0.513189   \n",
      "29            0.376963    0.000000  0.052239  0.307692  0.250000     0.087277   \n",
      "..                 ...         ...       ...       ...       ...          ...   \n",
      "171           0.000000    0.460641  0.514925  0.529915  0.508333     0.359193   \n",
      "172           0.000000    0.460641  0.514925  0.529915  0.591667     0.359193   \n",
      "173           0.000000    0.460641  0.514925  0.529915  0.508333     0.376261   \n",
      "174           0.691099    0.475219  0.632836  0.632479  0.350000     0.577192   \n",
      "175           0.691099    0.475219  0.632836  0.632479  0.350000     0.592708   \n",
      "176           0.130890    0.521866  0.697015  0.529915  0.525000     0.637316   \n",
      "177           0.298429    0.521866  0.697015  0.529915  0.525000     0.645074   \n",
      "178           0.298429    0.311953  0.456716  0.444444  0.658333     0.299845   \n",
      "179           0.298429    0.311953  0.456716  0.444444  0.658333     0.279674   \n",
      "180           0.151832    0.311953  0.456716  0.444444  0.658333     0.301009   \n",
      "181           0.151832    0.311953  0.456716  0.444444  0.658333     0.280838   \n",
      "182           0.151832    0.311953  0.456716  0.444444  0.658333     0.305275   \n",
      "183           0.151832    0.311953  0.456716  0.444444  0.658333     0.322343   \n",
      "184           0.151832    0.311953  0.456716  0.444444  0.658333     0.314973   \n",
      "185           0.298429    0.230321  0.271642  0.333333  0.650000     0.297130   \n",
      "186           1.000000    0.230321  0.367164  0.316239  0.300000     0.284329   \n",
      "187           0.298429    0.402332  0.583582  0.564103  0.608333     0.455004   \n",
      "188           0.298429    0.402332  0.583582  0.564103  0.608333     0.423196   \n",
      "189           0.298429    0.402332  0.626866  0.564103  0.608333     0.416990   \n",
      "190           0.198953    0.516035  0.711940  0.589744  0.700000     0.552366   \n",
      "191           0.047120    0.516035  0.711940  0.589744  0.808333     0.599690   \n",
      "192           0.198953    0.516035  0.711940  0.589744  0.700000     0.561288   \n",
      "193           0.047120    0.516035  0.711940  0.589744  0.808333     0.602793   \n",
      "194           0.198953    0.516035  0.711940  0.589744  0.700000     0.603957   \n",
      "195           0.047120    0.516035  0.711940  0.589744  0.808333     0.647401   \n",
      "196           0.157068    0.655977  0.711940  0.735043  0.641667     0.567882   \n",
      "197           0.157068    0.655977  0.711940  0.726496  0.641667     0.605508   \n",
      "198           0.157068    0.655977  0.711940  0.735043  0.641667     0.591156   \n",
      "199           0.157068    0.655977  0.711940  0.735043  0.641667     0.670675   \n",
      "200           0.157068    0.655977  0.711940  0.735043  0.641667     0.610551   \n",
      "\n",
      "     engine_size      bore    stroke  compression_ratio  horsepower  peak_rpm  \\\n",
      "0       0.260377  0.664286  0.290476           0.125000    0.294393  0.346939   \n",
      "1       0.260377  0.664286  0.290476           0.125000    0.294393  0.346939   \n",
      "2       0.343396  0.100000  0.666667           0.125000    0.495327  0.346939   \n",
      "3       0.181132  0.464286  0.633333           0.187500    0.252336  0.551020   \n",
      "4       0.283019  0.464286  0.633333           0.062500    0.313084  0.551020   \n",
      "5       0.283019  0.464286  0.633333           0.093750    0.289720  0.551020   \n",
      "6       0.283019  0.464286  0.633333           0.093750    0.289720  0.551020   \n",
      "7       0.283019  0.464286  0.633333           0.093750    0.289720  0.551020   \n",
      "8       0.264151  0.421429  0.633333           0.081250    0.429907  0.551020   \n",
      "9       0.177358  0.685714  0.347619           0.112500    0.247664  0.673469   \n",
      "10      0.177358  0.685714  0.347619           0.112500    0.247664  0.673469   \n",
      "11      0.388679  0.550000  0.533333           0.125000    0.341121  0.040816   \n",
      "12      0.388679  0.550000  0.533333           0.125000    0.341121  0.040816   \n",
      "13      0.388679  0.550000  0.533333           0.125000    0.341121  0.040816   \n",
      "14      0.558491  0.771429  0.628571           0.062500    0.626168  0.510204   \n",
      "15      0.558491  0.771429  0.628571           0.062500    0.626168  0.510204   \n",
      "16      0.558491  0.771429  0.628571           0.062500    0.626168  0.510204   \n",
      "17      0.000000  0.264286  0.457143           0.156250    0.000000  0.387755   \n",
      "18      0.109434  0.350000  0.495238           0.162500    0.102804  0.510204   \n",
      "19      0.109434  0.350000  0.495238           0.162500    0.102804  0.510204   \n",
      "20      0.109434  0.307143  0.552381           0.150625    0.093458  0.551020   \n",
      "21      0.109434  0.307143  0.552381           0.150000    0.093458  0.551020   \n",
      "22      0.139623  0.350000  0.628571           0.037500    0.252336  0.551020   \n",
      "23      0.109434  0.307143  0.552381           0.150000    0.093458  0.551020   \n",
      "24      0.109434  0.307143  0.552381           0.150000    0.093458  0.551020   \n",
      "25      0.109434  0.307143  0.552381           0.150000    0.093458  0.551020   \n",
      "26      0.139623  0.350000  0.628571           0.037500    0.252336  0.551020   \n",
      "27      0.230189  0.571429  0.661905           0.093750    0.186916  0.346939   \n",
      "28      0.358491  0.757143  0.871429           0.000000    0.453271  0.346939   \n",
      "29      0.116981  0.264286  0.638095           0.162500    0.046729  0.265306   \n",
      "..           ...       ...       ...                ...         ...       ...   \n",
      "171     0.230189  0.550000  0.700000           0.106250    0.205607  0.020408   \n",
      "172     0.230189  0.550000  0.700000           0.106250    0.205607  0.020408   \n",
      "173     0.230189  0.550000  0.700000           0.106250    0.205607  0.020408   \n",
      "174     0.415094  0.521429  0.609524           0.143750    0.528037  0.428571   \n",
      "175     0.415094  0.521429  0.609524           0.143750    0.528037  0.428571   \n",
      "176     0.415094  0.521429  0.609524           0.137500    0.504673  0.428571   \n",
      "177     0.377358  0.521429  0.609524           0.137500    0.504673  0.428571   \n",
      "178     0.135849  0.335714  0.633333           1.000000    0.018692  0.265306   \n",
      "179     0.181132  0.464286  0.633333           0.125000    0.172897  0.448980   \n",
      "180     0.135849  0.335714  0.633333           1.000000    0.018692  0.265306   \n",
      "181     0.181132  0.464286  0.633333           0.125000    0.172897  0.448980   \n",
      "182     0.181132  0.464286  0.633333           0.125000    0.172897  0.448980   \n",
      "183     0.135849  0.335714  0.633333           1.000000    0.093458  0.142857   \n",
      "184     0.181132  0.464286  0.633333           0.187500    0.242991  0.551020   \n",
      "185     0.181132  0.464286  0.633333           0.093750    0.196262  0.551020   \n",
      "186     0.181132  0.464286  0.633333           0.093750    0.196262  0.551020   \n",
      "187     0.283019  0.464286  0.633333           0.093750    0.289720  0.551020   \n",
      "188     0.135849  0.335714  0.633333           1.000000    0.093458  0.142857   \n",
      "189     0.181132  0.464286  0.633333           0.125000    0.186916  0.551020   \n",
      "190     0.301887  0.885714  0.514286           0.156250    0.308411  0.510204   \n",
      "191     0.301887  0.885714  0.514286           0.156250    0.308411  0.510204   \n",
      "192     0.301887  0.885714  0.514286           0.156250    0.308411  0.510204   \n",
      "193     0.301887  0.885714  0.514286           0.156250    0.308411  0.510204   \n",
      "194     0.260377  0.771429  0.514286           0.031250    0.532710  0.387755   \n",
      "195     0.260377  0.771429  0.514286           0.031250    0.532710  0.387755   \n",
      "196     0.301887  0.885714  0.514286           0.156250    0.308411  0.510204   \n",
      "197     0.301887  0.885714  0.514286           0.106250    0.523364  0.469388   \n",
      "198     0.422642  0.742857  0.380952           0.112500    0.401869  0.551020   \n",
      "199     0.316981  0.335714  0.633333           1.000000    0.271028  0.265306   \n",
      "200     0.301887  0.885714  0.514286           0.156250    0.308411  0.510204   \n",
      "\n",
      "     city_mpg  highway_mpg    price  \n",
      "0    0.222222     0.289474  13495.0  \n",
      "1    0.222222     0.289474  16500.0  \n",
      "2    0.166667     0.263158  16500.0  \n",
      "3    0.305556     0.368421  13950.0  \n",
      "4    0.138889     0.157895  17450.0  \n",
      "5    0.166667     0.236842  15250.0  \n",
      "6    0.166667     0.236842  17710.0  \n",
      "7    0.166667     0.236842  18920.0  \n",
      "8    0.111111     0.105263  23875.0  \n",
      "9    0.277778     0.342105  16430.0  \n",
      "10   0.277778     0.342105  16925.0  \n",
      "11   0.222222     0.315789  20970.0  \n",
      "12   0.222222     0.315789  21105.0  \n",
      "13   0.194444     0.236842  24565.0  \n",
      "14   0.083333     0.157895  30760.0  \n",
      "15   0.083333     0.157895  41315.0  \n",
      "16   0.055556     0.105263  36880.0  \n",
      "17   0.944444     0.973684   5151.0  \n",
      "18   0.694444     0.710526   6295.0  \n",
      "19   0.694444     0.710526   6575.0  \n",
      "20   0.666667     0.657895   5572.0  \n",
      "21   0.500000     0.578947   6377.0  \n",
      "22   0.305556     0.368421   7957.0  \n",
      "23   0.500000     0.578947   6229.0  \n",
      "24   0.500000     0.578947   6692.0  \n",
      "25   0.500000     0.578947   7609.0  \n",
      "26   0.305556     0.368421   8558.0  \n",
      "27   0.305556     0.368421   8921.0  \n",
      "28   0.166667     0.210526  12964.0  \n",
      "29   1.000000     1.000000   6479.0  \n",
      "..        ...          ...      ...  \n",
      "171  0.388889     0.421053   9988.0  \n",
      "172  0.388889     0.421053  10898.0  \n",
      "173  0.388889     0.421053  11248.0  \n",
      "174  0.194444     0.210526  16558.0  \n",
      "175  0.166667     0.210526  15998.0  \n",
      "176  0.194444     0.210526  15690.0  \n",
      "177  0.166667     0.210526  15750.0  \n",
      "178  0.666667     0.789474   7775.0  \n",
      "179  0.388889     0.473684   7975.0  \n",
      "180  0.666667     0.789474   7995.0  \n",
      "181  0.388889     0.473684   8195.0  \n",
      "182  0.388889     0.473684   8495.0  \n",
      "183  0.666667     0.684211   9495.0  \n",
      "184  0.361111     0.421053   9995.0  \n",
      "185  0.305556     0.342105  11595.0  \n",
      "186  0.305556     0.342105   9980.0  \n",
      "187  0.166667     0.210526  13295.0  \n",
      "188  0.555556     0.578947  13845.0  \n",
      "189  0.333333     0.394737  12290.0  \n",
      "190  0.277778     0.315789  12940.0  \n",
      "191  0.277778     0.315789  13415.0  \n",
      "192  0.305556     0.315789  15985.0  \n",
      "193  0.305556     0.315789  16515.0  \n",
      "194  0.111111     0.157895  18420.0  \n",
      "195  0.111111     0.157895  18950.0  \n",
      "196  0.277778     0.315789  16845.0  \n",
      "197  0.166667     0.236842  19045.0  \n",
      "198  0.138889     0.184211  21485.0  \n",
      "199  0.361111     0.289474  22470.0  \n",
      "200  0.166667     0.236842  22625.0  \n",
      "\n",
      "[201 rows x 15 columns]\n"
     ]
    }
   ],
   "source": [
    "numeric_cars=numeric_cars.reset_index(drop=True)\n",
    "print(numeric_cars.index)\n",
    "print(numeric_cars)"
   ]
  },
  {
   "cell_type": "markdown",
   "metadata": {},
   "source": [
    "## Univariate Model"
   ]
  },
  {
   "cell_type": "markdown",
   "metadata": {},
   "source": [
    "Let's start with some univariate k-nearest neighbors models. Starting with simple models before moving to more complex models helps to structure the code workflow and understand the features better."
   ]
  },
  {
   "cell_type": "code",
   "execution_count": 14,
   "metadata": {
    "collapsed": false
   },
   "outputs": [
    {
     "data": {
      "image/png": "[encoded data removed]",
      "text/plain": [
       "<matplotlib.figure.Figure at 0x7f09e7500be0>"
      ]
     },
     "metadata": {},
     "output_type": "display_data"
    },
    {
     "data": {
      "image/png": "[encoded data removed]",
      "text/plain": [
       "<matplotlib.figure.Figure at 0x7f09f2ce6518>"
      ]
     },
     "metadata": {},
     "output_type": "display_data"
    },
    {
     "data": {
      "image/png": "[encoded data removed]",
      "text/plain": [
       "<matplotlib.figure.Figure at 0x7f09e7629048>"
      ]
     },
     "metadata": {},
     "output_type": "display_data"
    },
    {
     "data": {
      "image/png": "[encoded data removed]",
      "text/plain": [
       "<matplotlib.figure.Figure at 0x7f09e7513e10>"
      ]
     },
     "metadata": {},
     "output_type": "display_data"
    },
    {
     "data": {
      "image/png": "[encoded data removed]",
      "text/plain": [
       "<matplotlib.figure.Figure at 0x7f09e75ab4e0>"
      ]
     },
     "metadata": {},
     "output_type": "display_data"
    },
    {
     "data": {
      "image/png": "[encoded data removed]",
      "text/plain": [
       "<matplotlib.figure.Figure at 0x7f09e7560160>"
      ]
     },
     "metadata": {},
     "output_type": "display_data"
    },
    {
     "data": {
      "image/png": "[encoded data removed]",
      "text/plain": [
       "<matplotlib.figure.Figure at 0x7f09e539c908>"
      ]
     },
     "metadata": {},
     "output_type": "display_data"
    },
    {
     "data": {
      "image/png": "[encoded data removed]",
      "text/plain": [
       "<matplotlib.figure.Figure at 0x7f09e53bc6a0>"
      ]
     },
     "metadata": {},
     "output_type": "display_data"
    },
    {
     "data": {
      "image/png": "[encoded data removed]",
      "text/plain": [
       "<matplotlib.figure.Figure at 0x7f09e52d3be0>"
      ]
     },
     "metadata": {},
     "output_type": "display_data"
    },
    {
     "data": {
      "image/png": "[encoded data removed]",
      "text/plain": [
       "<matplotlib.figure.Figure at 0x7f09e52b72b0>"
      ]
     },
     "metadata": {},
     "output_type": "display_data"
    },
    {
     "data": {
      "image/png": "[encoded data removed]",
      "text/plain": [
       "<matplotlib.figure.Figure at 0x7f09e525e240>"
      ]
     },
     "metadata": {},
     "output_type": "display_data"
    },
    {
     "data": {
      "image/png": "[encoded data removed]",
      "text/plain": [
       "<matplotlib.figure.Figure at 0x7f09e53a60f0>"
      ]
     },
     "metadata": {},
     "output_type": "display_data"
    },
    {
     "data": {
      "image/png": "[encoded data removed]",
      "text/plain": [
       "<matplotlib.figure.Figure at 0x7f09e5424518>"
      ]
     },
     "metadata": {},
     "output_type": "display_data"
    },
    {
     "data": {
      "image/png": "[encoded data removed]",
      "text/plain": [
       "<matplotlib.figure.Figure at 0x7f09e765a630>"
      ]
     },
     "metadata": {},
     "output_type": "display_data"
    },
    {
     "name": "stdout",
     "output_type": "stream",
     "text": [
      "normalized_losses    6551.751599\n",
      "wheel_base           4571.204970\n",
      "length               4392.908467\n",
      "width                3878.867200\n",
      "height               8072.135940\n",
      "curb_weight          3986.108678\n",
      "engine_size          3603.651751\n",
      "bore                 6106.062419\n",
      "stroke               7783.638833\n",
      "compression_ratio    6305.457716\n",
      "horsepower           3487.980339\n",
      "peak_rpm             6876.584697\n",
      "city_mpg             3329.047336\n",
      "highway_mpg          3969.742138\n",
      "Name: Rmse_vs_feature, dtype: float64\n"
     ]
    }
   ],
   "source": [
    "from sklearn.neighbors import KNeighborsRegressor\n",
    "from sklearn.metrics import mean_squared_error\n",
    "import matplotlib.pyplot as plt\n",
    "%matplotlib inline\n",
    "\n",
    "def knn_train_test(training_name, target_name, df, k):\n",
    "    np.random.seed(1)\n",
    "    shuffled_index=np.random.permutation(range(len(df)))\n",
    "    rand_df = df.reindex(shuffled_index)\n",
    "    len_test=len(rand_df)//4\n",
    "    test_df=rand_df.iloc[:len_test]\n",
    "    train_df=rand_df.iloc[len_test:]\n",
    "    knn = KNeighborsRegressor(n_neighbors=k)\n",
    "    knn.fit(train_df[[training_name]], train_df[target_name])\n",
    "    predictions = knn.predict(test_df[[training_name]])\n",
    "    mse=mean_squared_error(test_df[target_name], predictions)\n",
    "    rmse=mse**(1/2)\n",
    "    return rmse\n",
    "\n",
    "features=numeric_cars.columns.drop(\"price\").tolist()\n",
    "k_vals=[1,3,5,7,9]\n",
    "ave_rmses=[]\n",
    "for col in features:\n",
    "    rmse_list=[]\n",
    "    for k in k_vals:\n",
    "        rmse=knn_train_test(col, \"price\", numeric_cars, k)\n",
    "        rmse_list.append(rmse)\n",
    "    rmse_ser=pd.Series(rmse_list, index=k_vals, name=col)\n",
    "    ave_rmses.append(rmse_ser.mean())\n",
    "    plt.scatter(rmse_ser.index, rmse_ser)\n",
    "    plt.show()\n",
    "ave_rmses_ser=pd.Series(ave_rmses, index=features, name=\"Rmse_vs_feature\")\n",
    "print(ave_rmses_ser)"
   ]
  },
  {
   "cell_type": "code",
   "execution_count": 15,
   "metadata": {
    "collapsed": false
   },
   "outputs": [
    {
     "name": "stdout",
     "output_type": "stream",
     "text": [
      "city_mpg             3329.047336\n",
      "horsepower           3487.980339\n",
      "engine_size          3603.651751\n",
      "width                3878.867200\n",
      "highway_mpg          3969.742138\n",
      "curb_weight          3986.108678\n",
      "length               4392.908467\n",
      "wheel_base           4571.204970\n",
      "bore                 6106.062419\n",
      "compression_ratio    6305.457716\n",
      "normalized_losses    6551.751599\n",
      "peak_rpm             6876.584697\n",
      "stroke               7783.638833\n",
      "height               8072.135940\n",
      "Name: Rmse_vs_feature, dtype: float64\n"
     ]
    }
   ],
   "source": [
    "ave_rmses_ser=ave_rmses_ser.sort_values()\n",
    "print(ave_rmses_ser)"
   ]
  },
  {
   "cell_type": "markdown",
   "metadata": {},
   "source": [
    "## Multivariate Model"
   ]
  },
  {
   "cell_type": "markdown",
   "metadata": {},
   "source": [
    "Now that I obtained a \"ranking\" of the most suitable features, let's modify the knn_train_test() function we wrote in the last step to work with multiple columns."
   ]
  },
  {
   "cell_type": "code",
   "execution_count": 16,
   "metadata": {
    "collapsed": false
   },
   "outputs": [
    {
     "name": "stdout",
     "output_type": "stream",
     "text": [
      "2    3811.869648\n",
      "3    2948.107388\n",
      "4    2686.118992\n",
      "5    2697.373137\n",
      "Name: New_rmse_ser, dtype: float64\n"
     ]
    }
   ],
   "source": [
    "def knn_train_test_mult_cols(training_list, target_name, df):\n",
    "    np.random.seed(1)\n",
    "    shuffled_index=np.random.permutation(range(len(df)))\n",
    "    rand_df = df.reindex(shuffled_index)\n",
    "    len_test=len(rand_df)//4\n",
    "    test_df=rand_df.iloc[:len_test]\n",
    "    train_df=rand_df.iloc[len_test:]\n",
    "    knn = KNeighborsRegressor()\n",
    "    knn.fit(train_df[training_list], train_df[target_name])\n",
    "    predictions = knn.predict(test_df[training_list])\n",
    "    mse=mean_squared_error(test_df[target_name], predictions)\n",
    "    rmse=mse**(1/2)\n",
    "    return rmse\n",
    "\n",
    "ordered_features=ave_rmses_ser.index.tolist()\n",
    "n_features=[2,3,4,5]\n",
    "new_rmse_list=[]\n",
    "for n in n_features:\n",
    "    training_list=ordered_features[:n]\n",
    "    new_rmse=knn_train_test_mult_cols(training_list, \"price\", numeric_cars)\n",
    "    new_rmse_list.append(new_rmse)\n",
    "new_rmse_ser=pd.Series(new_rmse_list, index=n_features, name=\"New_rmse_ser\")\n",
    "print(new_rmse_ser)"
   ]
  },
  {
   "cell_type": "markdown",
   "metadata": {},
   "source": [
    "## Hyperparameter Tuning"
   ]
  },
  {
   "cell_type": "markdown",
   "metadata": {},
   "source": [
    "Based on the previous step, it seems the best features to exploit are the first four columns of the ranking, but the model is not optimized yet."
   ]
  },
  {
   "cell_type": "code",
   "execution_count": 17,
   "metadata": {
    "collapsed": false
   },
   "outputs": [
    {
     "name": "stdout",
     "output_type": "stream",
     "text": [
      "3   [3432.512691892049, 2918.318900497339, 2607.745215485763, 2782.9823002940566, 2948.107387867681, 2929.747579570636, 2968.326836685569, 3005.5690128909037, 3034.8034361876385, 2992.431686137547, 3124.329434805184, 3165.430816058061, 3304.855856867975, 3460.794378801916, 3575.0638417050213, 3665.853428730819, 3780.7933689302185, 3886.6602292208936, 4013.0566572217767, 4071.872814381608, 4143.059673845295, 4209.482384612583, 4272.861790469437, 4328.02612911138, 4395.769828769473]\n",
      "4   [3117.2436799198103, 2281.527906908, 2245.496537516814, 2449.687857156499, 2686.11899215206, 2758.5200921669734, 2715.8372046278505, 2772.4909714686178, 2791.547826945377, 2827.884501707946, 2902.4422576242537, 3042.6542813982514, 3218.6548548171286, 3211.4781744072116, 3347.924153209634, 3333.27514261968, 3415.677792728264, 3491.9507710458074, 3569.3342151042084, 3612.375744174462, 3660.1225373586503, 3691.938914839883, 3676.8945361001347, 3694.1475933083443, 3748.6911572248787]\n",
      "5   [3258.3621683293586, 2269.7741781948266, 2160.237261660549, 2410.2654361086456, 2697.3731365163403, 2912.614525168448, 2769.1632082413544, 2729.3887536864368, 2797.1439029971402, 2981.7229430314283, 3082.7373485532776, 3096.292847884565, 3184.708000344085, 3059.1289400475976, 3210.135198495886, 3249.585474646151, 3274.6728454044173, 3371.884982624613, 3468.50802568057, 3533.0465019229505, 3567.1757030736007, 3612.6816581681346, 3644.9469023855245, 3659.1047206714757, 3730.0177196533527]\n"
     ]
    },
    {
     "data": {
      "image/png": "[encoded data removed]",
      "text/plain": [
       "<matplotlib.figure.Figure at 0x7f09e541a1d0>"
      ]
     },
     "metadata": {},
     "output_type": "display_data"
    }
   ],
   "source": [
    "def knn_train_test_def(training_list, target_name, df, k):\n",
    "    np.random.seed(1)\n",
    "    shuffled_index=np.random.permutation(range(len(df)))\n",
    "    rand_df = df.reindex(shuffled_index)\n",
    "    len_test=len(rand_df)//4\n",
    "    test_df=rand_df.iloc[:len_test]\n",
    "    train_df=rand_df.iloc[len_test:]\n",
    "    knn = KNeighborsRegressor(n_neighbors=k)\n",
    "    knn.fit(train_df[training_list], train_df[target_name])\n",
    "    predictions = knn.predict(test_df[training_list])\n",
    "    mse=mean_squared_error(test_df[target_name], predictions)\n",
    "    rmse=mse**(1/2)\n",
    "    return rmse\n",
    "\n",
    "n_features_top3=[3,4,5]\n",
    "for n in n_features_top3:\n",
    "    new_rmse_list_top3=[]\n",
    "    training_list=ordered_features[:n]\n",
    "    for k in range(1,26):\n",
    "        new_rmse_top3=knn_train_test_def(training_list, \"price\", numeric_cars, k)\n",
    "        new_rmse_list_top3.append(new_rmse_top3)\n",
    "    plt.plot(range(1,26), new_rmse_list_top3, label=str(n))\n",
    "    print(n, \" \", new_rmse_list_top3)\n",
    "plt.legend()\n",
    "plt.show()"
   ]
  },
  {
   "cell_type": "markdown",
   "metadata": {},
   "source": [
    "## Conclusion"
   ]
  },
  {
   "cell_type": "markdown",
   "metadata": {},
   "source": [
    "I found an optimal value of k=3 for each model. The best model is the one with the best 5 features and k=3."
   ]
  },
  {
   "cell_type": "markdown",
   "metadata": {},
   "source": [
    "## Next Step"
   ]
  },
  {
   "cell_type": "markdown",
   "metadata": {},
   "source": [
    "I'll Modify the knn_train_test_def() function to use k-fold cross validation instead of test/train validation."
   ]
  },
  {
   "cell_type": "code",
   "execution_count": 18,
   "metadata": {
    "collapsed": false
   },
   "outputs": [
    {
     "data": {
      "image/png": "[encoded data removed]",
      "text/plain": [
       "<matplotlib.figure.Figure at 0x7f09e763bda0>"
      ]
     },
     "metadata": {},
     "output_type": "display_data"
    }
   ],
   "source": [
    "from sklearn.model_selection import cross_val_score, KFold\n",
    "\n",
    "def cross_train_test(training_list, target_name, df):\n",
    "    num_folds = [3, 5, 7, 9, 10]\n",
    "    avg_rmse_list=[]\n",
    "    for fold in num_folds:\n",
    "        kf = KFold(fold, shuffle=True, random_state=1)\n",
    "        model = KNeighborsRegressor(n_neighbors=3)\n",
    "        mses = cross_val_score(model, df[training_list], df[target_name], scoring=\"neg_mean_squared_error\", cv=kf)\n",
    "        rmses = np.sqrt(np.absolute(mses))\n",
    "        avg_rmse = np.mean(rmses)\n",
    "        avg_rmse_list.append(avg_rmse)\n",
    "    return num_folds, avg_rmse_list\n",
    "\n",
    "training_list=ordered_features[:5]\n",
    "num_folds, avg_rmse_list = cross_train_test(training_list, \"price\", numeric_cars)\n",
    "plt.scatter(num_folds, avg_rmse_list)\n",
    "plt.show()"
   ]
  },
  {
   "cell_type": "markdown",
   "metadata": {},
   "source": [
    "The cross-validation is more effective with a 9-fold model."
   ]
  }
 ],
 "metadata": {
  "kernelspec": {
   "display_name": "Python 3",
   "language": "python",
   "name": "python3"
  },
  "language_info": {
   "codemirror_mode": {
    "name": "ipython",
    "version": 3
   },
   "file_extension": ".py",
   "mimetype": "text/x-python",
   "name": "python",
   "nbconvert_exporter": "python",
   "pygments_lexer": "ipython3",
   "version": "3.4.3"
  }
 },
 "nbformat": 4,
 "nbformat_minor": 2
}
