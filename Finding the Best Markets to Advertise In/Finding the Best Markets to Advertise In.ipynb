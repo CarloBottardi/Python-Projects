{
 "cells": [
  {
   "cell_type": "markdown",
   "metadata": {},
   "source": [
    "# Finding the Best Markets to Advertise in"
   ]
  },
  {
   "cell_type": "markdown",
   "metadata": {},
   "source": [
    "I'm working for an e-learning company that offers courses on programming. Most of our courses are on web and mobile development, but we also cover many other domains, like data science, game development, etc. I want to investigate the markets in order to find out the 2 best markets to advertise our product in."
   ]
  },
  {
   "cell_type": "markdown",
   "metadata": {},
   "source": [
    "## Read and Understanding the Data"
   ]
  },
  {
   "cell_type": "code",
   "execution_count": 1,
   "metadata": {
    "collapsed": false
   },
   "outputs": [],
   "source": [
    "import pandas as pd\n",
    "survey = pd.read_csv('2017-fCC-New-Coders-Survey-Data.csv', low_memory = 0)\n",
    "# low_memory = False to silence dtypes warning\n",
    "pd.options.display.max_columns = 150 # to avoid truncated output "
   ]
  },
  {
   "cell_type": "code",
   "execution_count": 2,
   "metadata": {
    "collapsed": false
   },
   "outputs": [
    {
     "name": "stdout",
     "output_type": "stream",
     "text": [
      "(18175, 136)\n"
     ]
    }
   ],
   "source": [
    "print(survey.shape)"
   ]
  },
  {
   "cell_type": "code",
   "execution_count": 3,
   "metadata": {
    "collapsed": false
   },
   "outputs": [
    {
     "name": "stdout",
     "output_type": "stream",
     "text": [
      "    Age  AttendedBootcamp  BootcampFinish  BootcampLoanYesNo BootcampName  \\\n",
      "0  27.0               0.0             NaN                NaN          NaN   \n",
      "1  34.0               0.0             NaN                NaN          NaN   \n",
      "2  21.0               0.0             NaN                NaN          NaN   \n",
      "3  26.0               0.0             NaN                NaN          NaN   \n",
      "4  20.0               0.0             NaN                NaN          NaN   \n",
      "\n",
      "   BootcampRecommend  ChildrenNumber                 CityPopulation  \\\n",
      "0                NaN             NaN            more than 1 million   \n",
      "1                NaN             NaN              less than 100,000   \n",
      "2                NaN             NaN            more than 1 million   \n",
      "3                NaN             NaN  between 100,000 and 1 million   \n",
      "4                NaN             NaN  between 100,000 and 1 million   \n",
      "\n",
      "   CodeEventConferences  CodeEventDjangoGirls  CodeEventFCC  CodeEventGameJam  \\\n",
      "0                   NaN                   NaN           NaN               NaN   \n",
      "1                   NaN                   NaN           NaN               NaN   \n",
      "2                   NaN                   NaN           NaN               NaN   \n",
      "3                   NaN                   NaN           NaN               NaN   \n",
      "4                   NaN                   NaN           NaN               NaN   \n",
      "\n",
      "   CodeEventGirlDev  CodeEventHackathons  CodeEventMeetup  \\\n",
      "0               NaN                  NaN              NaN   \n",
      "1               NaN                  NaN              NaN   \n",
      "2               NaN                  1.0              NaN   \n",
      "3               NaN                  NaN              NaN   \n",
      "4               NaN                  NaN              NaN   \n",
      "\n",
      "   CodeEventNodeSchool  CodeEventNone CodeEventOther  CodeEventRailsBridge  \\\n",
      "0                  NaN            NaN            NaN                   NaN   \n",
      "1                  NaN            NaN            NaN                   NaN   \n",
      "2                  1.0            NaN            NaN                   NaN   \n",
      "3                  NaN            NaN            NaN                   NaN   \n",
      "4                  NaN            NaN            NaN                   NaN   \n",
      "\n",
      "   CodeEventRailsGirls  CodeEventStartUpWknd  CodeEventWkdBootcamps  \\\n",
      "0                  NaN                   NaN                    NaN   \n",
      "1                  NaN                   NaN                    NaN   \n",
      "2                  NaN                   NaN                    NaN   \n",
      "3                  NaN                   NaN                    NaN   \n",
      "4                  NaN                   NaN                    NaN   \n",
      "\n",
      "   CodeEventWomenCode  CodeEventWorkshops       CommuteTime  \\\n",
      "0                 NaN                 NaN  15 to 29 minutes   \n",
      "1                 NaN                 NaN               NaN   \n",
      "2                 NaN                 NaN  15 to 29 minutes   \n",
      "3                 NaN                 NaN  I work from home   \n",
      "4                 NaN                 NaN               NaN   \n",
      "\n",
      "             CountryCitizen               CountryLive  \\\n",
      "0                    Canada                    Canada   \n",
      "1  United States of America  United States of America   \n",
      "2  United States of America  United States of America   \n",
      "3                    Brazil                    Brazil   \n",
      "4                  Portugal                  Portugal   \n",
      "\n",
      "               EmploymentField EmploymentFieldOther  \\\n",
      "0  software development and IT                  NaN   \n",
      "1                          NaN                  NaN   \n",
      "2  software development and IT                  NaN   \n",
      "3  software development and IT                  NaN   \n",
      "4                          NaN                  NaN   \n",
      "\n",
      "                   EmploymentStatus EmploymentStatusOther  ExpectedEarning  \\\n",
      "0                Employed for wages                   NaN              NaN   \n",
      "1  Not working but looking for work                   NaN          35000.0   \n",
      "2                Employed for wages                   NaN          70000.0   \n",
      "3                Employed for wages                   NaN          40000.0   \n",
      "4  Not working but looking for work                   NaN         140000.0   \n",
      "\n",
      "   FinanciallySupporting  FirstDevJob  Gender GenderOther  HasChildren  \\\n",
      "0                    NaN          NaN  female         NaN          NaN   \n",
      "1                    NaN          NaN    male         NaN          NaN   \n",
      "2                    NaN          NaN    male         NaN          NaN   \n",
      "3                    0.0          NaN    male         NaN          0.0   \n",
      "4                    NaN          NaN  female         NaN          NaN   \n",
      "\n",
      "   HasDebt  HasFinancialDependents  HasHighSpdInternet  HasHomeMortgage  \\\n",
      "0      1.0                     0.0                 1.0              0.0   \n",
      "1      1.0                     0.0                 1.0              0.0   \n",
      "2      0.0                     0.0                 1.0              NaN   \n",
      "3      1.0                     1.0                 1.0              1.0   \n",
      "4      0.0                     0.0                 1.0              NaN   \n",
      "\n",
      "   HasServedInMilitary  HasStudentDebt  HomeMortgageOwe  HoursLearning  \\\n",
      "0                  0.0             0.0              NaN           15.0   \n",
      "1                  0.0             1.0              NaN           10.0   \n",
      "2                  0.0             NaN              NaN           25.0   \n",
      "3                  0.0             0.0          40000.0           14.0   \n",
      "4                  0.0             NaN              NaN           10.0   \n",
      "\n",
      "                               ID.x                              ID.y  \\\n",
      "0  02d9465b21e8bd09374b0066fb2d5614  eb78c1c3ac6cd9052aec557065070fbf   \n",
      "1  5bfef9ecb211ec4f518cfc1d2a6f3e0c  21db37adb60cdcafadfa7dca1b13b6b1   \n",
      "2  14f1863afa9c7de488050b82eb3edd96  21ba173828fbe9e27ccebaf4d5166a55   \n",
      "3  91756eb4dc280062a541c25a3d44cfb0  3be37b558f02daae93a6da10f83f0c77   \n",
      "4  aa3f061a1949a90b27bef7411ecd193f  d7c56bbf2c7b62096be9db010e86d96d   \n",
      "\n",
      "    Income  IsEthnicMinority  IsReceiveDisabilitiesBenefits  IsSoftwareDev  \\\n",
      "0      NaN               NaN                            0.0            0.0   \n",
      "1      NaN               0.0                            0.0            0.0   \n",
      "2  13000.0               1.0                            0.0            0.0   \n",
      "3  24000.0               0.0                            0.0            0.0   \n",
      "4      NaN               0.0                            0.0            0.0   \n",
      "\n",
      "   IsUnderEmployed              JobApplyWhen  JobInterestBackEnd  \\\n",
      "0              0.0                       NaN                 NaN   \n",
      "1              NaN     Within 7 to 12 months                 NaN   \n",
      "2              0.0     Within 7 to 12 months                 1.0   \n",
      "3              1.0  Within the next 6 months                 1.0   \n",
      "4              NaN     Within 7 to 12 months                 1.0   \n",
      "\n",
      "   JobInterestDataEngr  JobInterestDataSci  JobInterestDevOps  \\\n",
      "0                  NaN                 NaN                NaN   \n",
      "1                  NaN                 NaN                NaN   \n",
      "2                  NaN                 NaN                1.0   \n",
      "3                  NaN                 NaN                NaN   \n",
      "4                  NaN                 NaN                NaN   \n",
      "\n",
      "   JobInterestFrontEnd  JobInterestFullStack  JobInterestGameDev  \\\n",
      "0                  NaN                   NaN                 NaN   \n",
      "1                  NaN                   1.0                 NaN   \n",
      "2                  1.0                   1.0                 NaN   \n",
      "3                  1.0                   1.0                 NaN   \n",
      "4                  1.0                   1.0                 NaN   \n",
      "\n",
      "   JobInterestInfoSec  JobInterestMobile JobInterestOther  \\\n",
      "0                 NaN                NaN              NaN   \n",
      "1                 NaN                NaN              NaN   \n",
      "2                 NaN                1.0              NaN   \n",
      "3                 NaN                NaN              NaN   \n",
      "4                 1.0                1.0              NaN   \n",
      "\n",
      "   JobInterestProjMngr  JobInterestQAEngr  JobInterestUX  \\\n",
      "0                  NaN                NaN            NaN   \n",
      "1                  NaN                NaN            NaN   \n",
      "2                  NaN                NaN            NaN   \n",
      "3                  NaN                NaN            NaN   \n",
      "4                  NaN                NaN            NaN   \n",
      "\n",
      "                                JobPref  JobRelocateYesNo  \\\n",
      "0               start your own business               NaN   \n",
      "1                  work for a nonprofit               1.0   \n",
      "2       work for a medium-sized company               1.0   \n",
      "3       work for a medium-sized company               NaN   \n",
      "4  work for a multinational corporation               1.0   \n",
      "\n",
      "                                     JobRoleInterest  \\\n",
      "0                                                NaN   \n",
      "1                           Full-Stack Web Developer   \n",
      "2    Front-End Web Developer, Back-End Web Develo...   \n",
      "3    Front-End Web Developer, Full-Stack Web Deve...   \n",
      "4  Full-Stack Web Developer, Information Security...   \n",
      "\n",
      "                         JobWherePref LanguageAtHome  \\\n",
      "0                                 NaN        English   \n",
      "1  in an office with other developers        English   \n",
      "2                       no preference        Spanish   \n",
      "3                           from home     Portuguese   \n",
      "4  in an office with other developers     Portuguese   \n",
      "\n",
      "                     MaritalStatus  MoneyForLearning  MonthsProgramming  \\\n",
      "0  married or domestic partnership             150.0                6.0   \n",
      "1            single, never married              80.0                6.0   \n",
      "2            single, never married            1000.0                5.0   \n",
      "3  married or domestic partnership               0.0                5.0   \n",
      "4            single, never married               0.0               24.0   \n",
      "\n",
      "    NetworkID         Part1EndTime       Part1StartTime         Part2EndTime  \\\n",
      "0  6f1fbc6b2b  2017-03-09 00:36:22  2017-03-09 00:32:59  2017-03-09 00:59:46   \n",
      "1  f8f8be6910  2017-03-09 00:37:07  2017-03-09 00:33:26  2017-03-09 00:38:59   \n",
      "2  2ed189768e  2017-03-09 00:37:58  2017-03-09 00:33:53  2017-03-09 00:40:14   \n",
      "3  dbdc0664d1  2017-03-09 00:40:13  2017-03-09 00:37:45  2017-03-09 00:42:26   \n",
      "4  11b0f2d8a9  2017-03-09 00:42:45  2017-03-09 00:39:44  2017-03-09 00:45:42   \n",
      "\n",
      "        Part2StartTime  PodcastChangeLog  PodcastCodeNewbie  PodcastCodePen  \\\n",
      "0  2017-03-09 00:36:26               NaN                NaN             NaN   \n",
      "1  2017-03-09 00:37:10               NaN                1.0             NaN   \n",
      "2  2017-03-09 00:38:02               1.0                NaN             1.0   \n",
      "3  2017-03-09 00:40:18               NaN                NaN             NaN   \n",
      "4  2017-03-09 00:42:50               NaN                NaN             NaN   \n",
      "\n",
      "   PodcastDevTea  PodcastDotNET  PodcastGiantRobots  PodcastJSAir  \\\n",
      "0            1.0            NaN                 NaN           NaN   \n",
      "1            NaN            NaN                 NaN           NaN   \n",
      "2            NaN            NaN                 NaN           NaN   \n",
      "3            NaN            NaN                 NaN           NaN   \n",
      "4            NaN            NaN                 NaN           NaN   \n",
      "\n",
      "   PodcastJSJabber  PodcastNone PodcastOther  PodcastProgThrowdown  \\\n",
      "0              NaN          NaN          NaN                   NaN   \n",
      "1              NaN          NaN          NaN                   NaN   \n",
      "2              NaN          NaN   Codenewbie                   NaN   \n",
      "3              NaN          NaN          NaN                   NaN   \n",
      "4              NaN          NaN          NaN                   NaN   \n",
      "\n",
      "   PodcastRubyRogues  PodcastSEDaily  PodcastSERadio  PodcastShopTalk  \\\n",
      "0                NaN             NaN             NaN              NaN   \n",
      "1                NaN             NaN             NaN              NaN   \n",
      "2                NaN             NaN             NaN              1.0   \n",
      "3                NaN             NaN             NaN              NaN   \n",
      "4                NaN             NaN             NaN              NaN   \n",
      "\n",
      "   PodcastTalkPython  PodcastTheWebAhead  ResourceCodecademy  \\\n",
      "0                NaN                 NaN                 1.0   \n",
      "1                NaN                 NaN                 1.0   \n",
      "2                NaN                 NaN                 1.0   \n",
      "3                NaN                 NaN                 NaN   \n",
      "4                NaN                 NaN                 NaN   \n",
      "\n",
      "   ResourceCodeWars  ResourceCoursera  ResourceCSS  ResourceEdX  \\\n",
      "0               NaN               NaN          NaN          NaN   \n",
      "1               NaN               NaN          1.0          NaN   \n",
      "2               NaN               NaN          1.0          NaN   \n",
      "3               NaN               NaN          NaN          NaN   \n",
      "4               NaN               NaN          NaN          NaN   \n",
      "\n",
      "   ResourceEgghead  ResourceFCC  ResourceHackerRank  ResourceKA  \\\n",
      "0              NaN          1.0                 NaN         NaN   \n",
      "1              NaN          1.0                 NaN         NaN   \n",
      "2              NaN          1.0                 NaN         NaN   \n",
      "3              1.0          1.0                 NaN         NaN   \n",
      "4              NaN          NaN                 NaN         NaN   \n",
      "\n",
      "   ResourceLynda  ResourceMDN  ResourceOdinProj ResourceOther  \\\n",
      "0            NaN          1.0               NaN           NaN   \n",
      "1            NaN          NaN               NaN           NaN   \n",
      "2            NaN          1.0               NaN           NaN   \n",
      "3            NaN          1.0               NaN           NaN   \n",
      "4            NaN          NaN               NaN           NaN   \n",
      "\n",
      "   ResourcePluralSight  ResourceSkillcrush  ResourceSO  ResourceTreehouse  \\\n",
      "0                  NaN                 NaN         NaN                NaN   \n",
      "1                  NaN                 NaN         1.0                NaN   \n",
      "2                  NaN                 NaN         NaN                NaN   \n",
      "3                  NaN                 NaN         1.0                NaN   \n",
      "4                  NaN                 NaN         1.0                NaN   \n",
      "\n",
      "   ResourceUdacity  ResourceUdemy  ResourceW3S  \\\n",
      "0              NaN            1.0          1.0   \n",
      "1              NaN            1.0          1.0   \n",
      "2              1.0            1.0          NaN   \n",
      "3              NaN            NaN          NaN   \n",
      "4              NaN            NaN          NaN   \n",
      "\n",
      "                              SchoolDegree             SchoolMajor  \\\n",
      "0           some college credit, no degree                     NaN   \n",
      "1           some college credit, no degree                     NaN   \n",
      "2  high school diploma or equivalent (GED)                     NaN   \n",
      "3           some college credit, no degree                     NaN   \n",
      "4                        bachelor's degree  Information Technology   \n",
      "\n",
      "   StudentDebtOwe  YouTubeCodeCourse  YouTubeCodingTrain  YouTubeCodingTut360  \\\n",
      "0             NaN                NaN                 NaN                  NaN   \n",
      "1             NaN                NaN                 NaN                  NaN   \n",
      "2             NaN                NaN                 NaN                  1.0   \n",
      "3             NaN                NaN                 NaN                  NaN   \n",
      "4             NaN                NaN                 NaN                  NaN   \n",
      "\n",
      "   YouTubeComputerphile  YouTubeDerekBanas  YouTubeDevTips  \\\n",
      "0                   NaN                NaN             NaN   \n",
      "1                   NaN                NaN             NaN   \n",
      "2                   NaN                1.0             1.0   \n",
      "3                   NaN                NaN             1.0   \n",
      "4                   NaN                NaN             NaN   \n",
      "\n",
      "   YouTubeEngineeredTruth  YouTubeFCC  YouTubeFunFunFunction  \\\n",
      "0                     NaN         NaN                    NaN   \n",
      "1                     NaN         1.0                    NaN   \n",
      "2                     NaN         NaN                    NaN   \n",
      "3                     NaN         1.0                    1.0   \n",
      "4                     NaN         NaN                    NaN   \n",
      "\n",
      "   YouTubeGoogleDev  YouTubeLearnCode  YouTubeLevelUpTuts  YouTubeMIT  \\\n",
      "0               NaN               NaN                 NaN         NaN   \n",
      "1               NaN               NaN                 NaN         NaN   \n",
      "2               NaN               1.0                 1.0         NaN   \n",
      "3               NaN               NaN                 1.0         NaN   \n",
      "4               NaN               NaN                 NaN         NaN   \n",
      "\n",
      "   YouTubeMozillaHacks YouTubeOther  YouTubeSimplilearn  YouTubeTheNewBoston  \n",
      "0                  NaN          NaN                 NaN                  NaN  \n",
      "1                  NaN          NaN                 NaN                  NaN  \n",
      "2                  NaN          NaN                 NaN                  NaN  \n",
      "3                  NaN          NaN                 NaN                  NaN  \n",
      "4                  NaN          NaN                 NaN                  NaN  \n"
     ]
    }
   ],
   "source": [
    "print(survey.head())"
   ]
  },
  {
   "cell_type": "code",
   "execution_count": 4,
   "metadata": {
    "collapsed": false
   },
   "outputs": [
    {
     "name": "stdout",
     "output_type": "stream",
     "text": [
      "Index(['Age', 'AttendedBootcamp', 'BootcampFinish', 'BootcampLoanYesNo',\n",
      "       'BootcampName', 'BootcampRecommend', 'ChildrenNumber', 'CityPopulation',\n",
      "       'CodeEventConferences', 'CodeEventDjangoGirls', 'CodeEventFCC',\n",
      "       'CodeEventGameJam', 'CodeEventGirlDev', 'CodeEventHackathons',\n",
      "       'CodeEventMeetup', 'CodeEventNodeSchool', 'CodeEventNone',\n",
      "       'CodeEventOther', 'CodeEventRailsBridge', 'CodeEventRailsGirls'],\n",
      "      dtype='object')\n"
     ]
    }
   ],
   "source": [
    "print(survey.columns[:20])"
   ]
  },
  {
   "cell_type": "code",
   "execution_count": 5,
   "metadata": {
    "collapsed": false
   },
   "outputs": [
    {
     "name": "stdout",
     "output_type": "stream",
     "text": [
      "Index(['CodeEventStartUpWknd', 'CodeEventWkdBootcamps', 'CodeEventWomenCode',\n",
      "       'CodeEventWorkshops', 'CommuteTime', 'CountryCitizen', 'CountryLive',\n",
      "       'EmploymentField', 'EmploymentFieldOther', 'EmploymentStatus',\n",
      "       'EmploymentStatusOther', 'ExpectedEarning', 'FinanciallySupporting',\n",
      "       'FirstDevJob', 'Gender', 'GenderOther', 'HasChildren', 'HasDebt',\n",
      "       'HasFinancialDependents', 'HasHighSpdInternet'],\n",
      "      dtype='object')\n"
     ]
    }
   ],
   "source": [
    "print(survey.columns[20:40])"
   ]
  },
  {
   "cell_type": "code",
   "execution_count": 6,
   "metadata": {
    "collapsed": false
   },
   "outputs": [
    {
     "name": "stdout",
     "output_type": "stream",
     "text": [
      "Index(['HasHomeMortgage', 'HasServedInMilitary', 'HasStudentDebt',\n",
      "       'HomeMortgageOwe', 'HoursLearning', 'ID.x', 'ID.y', 'Income',\n",
      "       'IsEthnicMinority', 'IsReceiveDisabilitiesBenefits', 'IsSoftwareDev',\n",
      "       'IsUnderEmployed', 'JobApplyWhen', 'JobInterestBackEnd',\n",
      "       'JobInterestDataEngr', 'JobInterestDataSci', 'JobInterestDevOps',\n",
      "       'JobInterestFrontEnd', 'JobInterestFullStack', 'JobInterestGameDev'],\n",
      "      dtype='object')\n"
     ]
    }
   ],
   "source": [
    "print(survey.columns[40:60])"
   ]
  },
  {
   "cell_type": "code",
   "execution_count": 7,
   "metadata": {
    "collapsed": false
   },
   "outputs": [
    {
     "name": "stdout",
     "output_type": "stream",
     "text": [
      "Index(['JobInterestInfoSec', 'JobInterestMobile', 'JobInterestOther',\n",
      "       'JobInterestProjMngr', 'JobInterestQAEngr', 'JobInterestUX', 'JobPref',\n",
      "       'JobRelocateYesNo', 'JobRoleInterest', 'JobWherePref', 'LanguageAtHome',\n",
      "       'MaritalStatus', 'MoneyForLearning', 'MonthsProgramming', 'NetworkID',\n",
      "       'Part1EndTime', 'Part1StartTime', 'Part2EndTime', 'Part2StartTime',\n",
      "       'PodcastChangeLog'],\n",
      "      dtype='object')\n"
     ]
    }
   ],
   "source": [
    "print(survey.columns[60:80])"
   ]
  },
  {
   "cell_type": "code",
   "execution_count": 8,
   "metadata": {
    "collapsed": false
   },
   "outputs": [
    {
     "name": "stdout",
     "output_type": "stream",
     "text": [
      "Index(['PodcastCodeNewbie', 'PodcastCodePen', 'PodcastDevTea', 'PodcastDotNET',\n",
      "       'PodcastGiantRobots', 'PodcastJSAir', 'PodcastJSJabber', 'PodcastNone',\n",
      "       'PodcastOther', 'PodcastProgThrowdown', 'PodcastRubyRogues',\n",
      "       'PodcastSEDaily', 'PodcastSERadio', 'PodcastShopTalk',\n",
      "       'PodcastTalkPython', 'PodcastTheWebAhead', 'ResourceCodecademy',\n",
      "       'ResourceCodeWars', 'ResourceCoursera', 'ResourceCSS'],\n",
      "      dtype='object')\n"
     ]
    }
   ],
   "source": [
    "print(survey.columns[80:100])"
   ]
  },
  {
   "cell_type": "code",
   "execution_count": 9,
   "metadata": {
    "collapsed": false
   },
   "outputs": [
    {
     "name": "stdout",
     "output_type": "stream",
     "text": [
      "Index(['ResourceEdX', 'ResourceEgghead', 'ResourceFCC', 'ResourceHackerRank',\n",
      "       'ResourceKA', 'ResourceLynda', 'ResourceMDN', 'ResourceOdinProj',\n",
      "       'ResourceOther', 'ResourcePluralSight', 'ResourceSkillcrush',\n",
      "       'ResourceSO', 'ResourceTreehouse', 'ResourceUdacity', 'ResourceUdemy',\n",
      "       'ResourceW3S', 'SchoolDegree', 'SchoolMajor', 'StudentDebtOwe',\n",
      "       'YouTubeCodeCourse', 'YouTubeCodingTrain', 'YouTubeCodingTut360',\n",
      "       'YouTubeComputerphile', 'YouTubeDerekBanas', 'YouTubeDevTips',\n",
      "       'YouTubeEngineeredTruth', 'YouTubeFCC', 'YouTubeFunFunFunction',\n",
      "       'YouTubeGoogleDev', 'YouTubeLearnCode', 'YouTubeLevelUpTuts',\n",
      "       'YouTubeMIT', 'YouTubeMozillaHacks', 'YouTubeOther',\n",
      "       'YouTubeSimplilearn', 'YouTubeTheNewBoston'],\n",
      "      dtype='object')\n"
     ]
    }
   ],
   "source": [
    "print(survey.columns[100:])"
   ]
  },
  {
   "cell_type": "markdown",
   "metadata": {},
   "source": [
    "To reach our goal, we could organize surveys for a couple of different markets to find out which would the best choices for advertising. This is very costly, however, and it's a good call to explore cheaper options first.\n",
    "\n",
    "We can try to search existing data that might be relevant for our purpose. One good candidate is the data from freeCodeCamp's 2017 New Coder Survey. freeCodeCamp is a free e-learning platform that offers courses on web development. Because they run a popular Medium publication (over 400,000 followers), their survey attracted new coders with varying interests (not only web development), which is ideal for the purpose of our analysis.\n",
    "\n",
    "The survey data is publicly available in [this GitHub repository](https://github.com/freeCodeCamp/2017-new-coder-survey/tree/master/clean-data)."
   ]
  },
  {
   "cell_type": "markdown",
   "metadata": {},
   "source": [
    "## Checking for Sample Representativity"
   ]
  },
  {
   "cell_type": "markdown",
   "metadata": {},
   "source": [
    "For the purpose of our analysis, we want to answer questions about a population of new coders that are interested in the subjects we teach. We'd like to know:\n",
    "\n",
    "- Where are these new coders located.\n",
    "- What locations have the greatest densities of new coders.\n",
    "- How much money they're willing to spend on learning.\n",
    "\n",
    "So we first need to clarify whether the data set has the right categories of people for our purpose. The \"JobRoleInterest\" column describes for every participant the role(s) they'd be interested in working in. If a participant is interested in working in a certain domain, it means that they're also interested in learning about that domain. So let's take a look at the frequency distribution table of this column and determine whether the data we have is relevant."
   ]
  },
  {
   "cell_type": "code",
   "execution_count": 10,
   "metadata": {
    "collapsed": false
   },
   "outputs": [
    {
     "name": "stdout",
     "output_type": "stream",
     "text": [
      "Full-Stack Web Developer                                                                                                                                                                                  11.770595\n",
      "  Front-End Web Developer                                                                                                                                                                                  6.435927\n",
      "  Data Scientist                                                                                                                                                                                           2.173913\n",
      "Back-End Web Developer                                                                                                                                                                                     2.030892\n",
      "  Mobile Developer                                                                                                                                                                                         1.673341\n",
      "Game Developer                                                                                                                                                                                             1.630435\n",
      "Information Security                                                                                                                                                                                       1.315789\n",
      "Full-Stack Web Developer,   Front-End Web Developer                                                                                                                                                        0.915332\n",
      "  Front-End Web Developer, Full-Stack Web Developer                                                                                                                                                        0.800915\n",
      "  Product Manager                                                                                                                                                                                          0.786613\n",
      "Data Engineer                                                                                                                                                                                              0.758009\n",
      "  User Experience Designer                                                                                                                                                                                 0.743707\n",
      "  User Experience Designer,   Front-End Web Developer                                                                                                                                                      0.614989\n",
      "  Front-End Web Developer, Back-End Web Developer, Full-Stack Web Developer                                                                                                                                0.557780\n",
      "  DevOps / SysAdmin                                                                                                                                                                                        0.514874\n",
      "Back-End Web Developer,   Front-End Web Developer, Full-Stack Web Developer                                                                                                                                0.514874\n",
      "Back-End Web Developer, Full-Stack Web Developer,   Front-End Web Developer                                                                                                                                0.514874\n",
      "Full-Stack Web Developer,   Front-End Web Developer, Back-End Web Developer                                                                                                                                0.443364\n",
      "  Front-End Web Developer, Full-Stack Web Developer, Back-End Web Developer                                                                                                                                0.429062\n",
      "  Front-End Web Developer,   User Experience Designer                                                                                                                                                      0.414760\n",
      "Full-Stack Web Developer,   Mobile Developer                                                                                                                                                               0.414760\n",
      "Back-End Web Developer, Full-Stack Web Developer                                                                                                                                                           0.386156\n",
      "Full-Stack Web Developer, Back-End Web Developer                                                                                                                                                           0.371854\n",
      "Back-End Web Developer,   Front-End Web Developer                                                                                                                                                          0.286041\n",
      "Full-Stack Web Developer, Back-End Web Developer,   Front-End Web Developer                                                                                                                                0.271739\n",
      "Data Engineer,   Data Scientist                                                                                                                                                                            0.271739\n",
      "  Front-End Web Developer,   Mobile Developer                                                                                                                                                              0.257437\n",
      "Full-Stack Web Developer,   Data Scientist                                                                                                                                                                 0.243135\n",
      "  Data Scientist, Data Engineer                                                                                                                                                                            0.228833\n",
      "  Mobile Developer, Game Developer                                                                                                                                                                         0.228833\n",
      "                                                                                                                                                                                                            ...    \n",
      "Full-Stack Web Developer,   Front-End Web Developer,   Data Scientist, Back-End Web Developer,   User Experience Designer,   Mobile Developer, Data Engineer                                               0.014302\n",
      "Full-Stack Web Developer,   Mobile Developer,   Data Scientist, Game Developer, Back-End Web Developer                                                                                                     0.014302\n",
      "Full-Stack Web Developer, Information Security,   Data Scientist, Game Developer                                                                                                                           0.014302\n",
      "Data Engineer, Back-End Web Developer, Game Developer,   Data Scientist, Full-Stack Web Developer                                                                                                          0.014302\n",
      "Full-Stack Web Developer, Information Security,   Quality Assurance Engineer, Back-End Web Developer,   Mobile Developer                                                                                   0.014302\n",
      "  Mobile Developer, Back-End Web Developer, Full-Stack Web Developer, Game Developer, Data Engineer                                                                                                        0.014302\n",
      "  Mobile Developer,   Front-End Web Developer, Back-End Web Developer, Game Developer                                                                                                                      0.014302\n",
      "Information Security, Back-End Web Developer,   Data Scientist, Data Engineer                                                                                                                              0.014302\n",
      "Full-Stack Web Developer,   Front-End Web Developer,   User Experience Designer,   Mobile Developer, Back-End Web Developer                                                                                0.014302\n",
      "Back-End Web Developer, Full-Stack Web Developer,   User Experience Designer,   DevOps / SysAdmin                                                                                                          0.014302\n",
      "  Data Scientist, Full-Stack Web Developer,   Front-End Web Developer,   Product Manager, Game Developer                                                                                                   0.014302\n",
      "Game Developer,   DevOps / SysAdmin,   Mobile Developer, Back-End Web Developer, Information Security, Data Engineer                                                                                       0.014302\n",
      "Information Security, Game Developer,   Mobile Developer, Back-End Web Developer, Full-Stack Web Developer,   Front-End Web Developer, Data Engineer                                                       0.014302\n",
      "  Data Scientist, Back-End Web Developer, Data Engineer,   Front-End Web Developer, Full-Stack Web Developer                                                                                               0.014302\n",
      "  Mobile Developer,   User Experience Designer, Information Security                                                                                                                                       0.014302\n",
      "Information Security, Back-End Web Developer,   Front-End Web Developer,   DevOps / SysAdmin, Data Engineer                                                                                                0.014302\n",
      "  Front-End Web Developer,   Product Manager, Full-Stack Web Developer, Game Developer,   Mobile Developer, Information Security, Back-End Web Developer                                                   0.014302\n",
      "Full-Stack Web Developer,   Front-End Web Developer, Data Engineer,   Data Scientist,   User Experience Designer, Back-End Web Developer,   Mobile Developer                                               0.014302\n",
      "Robotics Process Automation Specialist                                                                                                                                                                     0.014302\n",
      "  Mobile Developer, Back-End Web Developer, Data Engineer,   Data Scientist,   User Experience Designer,   Front-End Web Developer                                                                         0.014302\n",
      "  Quality Assurance Engineer, Full-Stack Web Developer, Back-End Web Developer,   Front-End Web Developer,   DevOps / SysAdmin, Information Security                                                       0.014302\n",
      "Full-Stack Web Developer, Information Security, Back-End Web Developer, Game Developer,   Front-End Web Developer,   Data Scientist, Data Engineer                                                         0.014302\n",
      "  Data Scientist,   DevOps / SysAdmin,   Mobile Developer,   Front-End Web Developer,   Quality Assurance Engineer, Information Security,   Product Manager,   User Experience Designer, Data Engineer     0.014302\n",
      "  DevOps / SysAdmin,   Product Manager, Back-End Web Developer,   Front-End Web Developer                                                                                                                  0.014302\n",
      "Full-Stack Web Developer,   User Experience Designer,   Mobile Developer,   Data Scientist,   Front-End Web Developer, Back-End Web Developer                                                              0.014302\n",
      "  User Experience Designer,   Mobile Developer, Information Security, Game Developer, Full-Stack Web Developer                                                                                             0.014302\n",
      "Data Engineer, Information Security, Back-End Web Developer,   User Experience Designer, Game Developer,   Mobile Developer,   Data Scientist                                                              0.014302\n",
      "  Data Scientist, Bioinformatics/science                                                                                                                                                                   0.014302\n",
      "  User Experience Designer,   Mobile Developer, Game Developer, Data Engineer, Full-Stack Web Developer,   Data Scientist                                                                                  0.014302\n",
      "Back-End Web Developer,   User Experience Designer,   Front-End Web Developer, Information Security                                                                                                        0.014302\n",
      "Name: JobRoleInterest, Length: 3213, dtype: float64\n"
     ]
    }
   ],
   "source": [
    "freq_survey=survey['JobRoleInterest'].value_counts(normalize = True)*100\n",
    "print(freq_survey)"
   ]
  },
  {
   "cell_type": "code",
   "execution_count": 11,
   "metadata": {
    "collapsed": false
   },
   "outputs": [
    {
     "name": "stdout",
     "output_type": "stream",
     "text": [
      "                                         JobRoleInterest  WebDev  MobDev\n",
      "0                                                              0       0\n",
      "1                               Full-Stack Web Developer       1       0\n",
      "2        Front-End Web Developer, Back-End Web Develo...       1       1\n",
      "3        Front-End Web Developer, Full-Stack Web Deve...       1       0\n",
      "4      Full-Stack Web Developer, Information Security...       1       1\n",
      "5                                                              0       0\n",
      "6                               Full-Stack Web Developer       1       0\n",
      "7                                                              0       0\n",
      "8                                                              0       0\n",
      "9      Full-Stack Web Developer,   Quality Assurance ...       1       0\n",
      "10                                                             0       0\n",
      "11       DevOps / SysAdmin,   Data Scientist, Informa...       0       0\n",
      "12                                                             0       0\n",
      "13     Back-End Web Developer, Full-Stack Web Develop...       1       0\n",
      "14                              Full-Stack Web Developer       1       0\n",
      "15                              Full-Stack Web Developer       1       0\n",
      "16                              Full-Stack Web Developer       1       0\n",
      "17                                                             0       0\n",
      "18     Full-Stack Web Developer,   Front-End Web Deve...       1       0\n",
      "19       Front-End Web Developer,   Mobile Developer,...       1       1\n",
      "20                                                             0       0\n",
      "21                                  Information Security       0       0\n",
      "22                              Full-Stack Web Developer       1       0\n",
      "23                                Back-End Web Developer       1       0\n",
      "24                                                             0       0\n",
      "25                                                             0       0\n",
      "26                                                             0       0\n",
      "27                                                             0       0\n",
      "28                              Full-Stack Web Developer       1       0\n",
      "29       Front-End Web Developer,   Data Scientist, F...       1       1\n",
      "...                                                  ...     ...     ...\n",
      "18145                                                          0       0\n",
      "18146                                                          0       0\n",
      "18147                                                          0       0\n",
      "18148                                                          0       0\n",
      "18149                                                          0       0\n",
      "18150                                                          0       0\n",
      "18151                            Front-End Web Developer       1       0\n",
      "18152                                                          0       0\n",
      "18153     Information Security, Full-Stack Web Developer       1       0\n",
      "18154                           Full-Stack Web Developer       1       0\n",
      "18155  Full-Stack Web Developer,   Front-End Web Deve...       1       0\n",
      "18156                           Full-Stack Web Developer       1       0\n",
      "18157  Back-End Web Developer, Data Engineer,   Mobil...       1       1\n",
      "18158                                                          0       0\n",
      "18159                                                          0       0\n",
      "18160                           User Experience Designer       0       0\n",
      "18161                           Full-Stack Web Developer       1       0\n",
      "18162    Data Scientist, Game Developer,   Quality As...       0       0\n",
      "18163  Back-End Web Developer, Data Engineer,   Data ...       1       0\n",
      "18164                                                          0       0\n",
      "18165                                                          0       0\n",
      "18166                                                          0       0\n",
      "18167                                                          0       0\n",
      "18168                                                          0       0\n",
      "18169                                                          0       0\n",
      "18170                                                          0       0\n",
      "18171    DevOps / SysAdmin,   Mobile Developer,   Pro...       1       1\n",
      "18172                                                          0       0\n",
      "18173                                                          0       0\n",
      "18174  Back-End Web Developer, Data Engineer,   Data ...       1       0\n",
      "\n",
      "[18175 rows x 3 columns]\n"
     ]
    }
   ],
   "source": [
    "import numpy as np\n",
    "survey_extended = survey.copy()\n",
    "survey_extended[\"JobRoleInterest\"]=survey_extended[\"JobRoleInterest\"].fillna(\"\")\n",
    "def webinterested(el):\n",
    "    if el.find(\"Web Developer\")==-1:\n",
    "        return 0\n",
    "    else:\n",
    "        return 1\n",
    "def mobinterested(el):\n",
    "    if el.find(\"Mobile Developer\")==-1:\n",
    "        return 0\n",
    "    else:\n",
    "        return 1\n",
    "survey_extended[\"WebDev\"]=survey_extended[\"JobRoleInterest\"].apply(webinterested)\n",
    "survey_extended[\"MobDev\"]=survey_extended[\"JobRoleInterest\"].apply(mobinterested)\n",
    "print(survey_extended[[\"JobRoleInterest\",\"WebDev\",\"MobDev\"]])"
   ]
  },
  {
   "cell_type": "code",
   "execution_count": 12,
   "metadata": {
    "collapsed": false
   },
   "outputs": [
    {
     "name": "stdout",
     "output_type": "stream",
     "text": [
      "6030\n"
     ]
    }
   ],
   "source": [
    "mask=(survey_extended[\"WebDev\"]==1)|(survey_extended[\"MobDev\"]==1)\n",
    "webmob_interest=survey_extended[mask].shape[0]\n",
    "print(webmob_interest)"
   ]
  },
  {
   "cell_type": "code",
   "execution_count": 13,
   "metadata": {
    "collapsed": false
   },
   "outputs": [
    {
     "name": "stdout",
     "output_type": "stream",
     "text": [
      "6992\n"
     ]
    }
   ],
   "source": [
    "mask2=survey_extended[\"JobRoleInterest\"]==\"\"\n",
    "tot_interest=survey_extended[~mask2].shape[0]\n",
    "print(tot_interest)"
   ]
  },
  {
   "cell_type": "code",
   "execution_count": 14,
   "metadata": {
    "collapsed": false
   },
   "outputs": [
    {
     "name": "stdout",
     "output_type": "stream",
     "text": [
      "Web/Mobile developer    86.241419\n",
      "Other interests         13.758581\n",
      "dtype: float64\n"
     ]
    }
   ],
   "source": [
    "perc_webmob=webmob_interest*100/tot_interest\n",
    "perc_others=(tot_interest-webmob_interest)*100/tot_interest\n",
    "web_mob_series=pd.Series([perc_webmob, perc_others], index=[\"Web/Mobile developer\", \"Other interests\"])\n",
    "print(web_mob_series)"
   ]
  },
  {
   "cell_type": "code",
   "execution_count": 15,
   "metadata": {
    "collapsed": false
   },
   "outputs": [
    {
     "data": {
      "image/png": "[encoded data removed]",
      "text/plain": [
       "<matplotlib.figure.Figure at 0x7f53bdae7fd0>"
      ]
     },
     "metadata": {},
     "output_type": "display_data"
    }
   ],
   "source": [
    "%matplotlib inline\n",
    "import matplotlib.pyplot as plt\n",
    "plt.style.use('fivethirtyeight')\n",
    "web_mob_series.plot.bar()\n",
    "plt.title('Most Participants are Interested in \\nWeb or Mobile Development',\n",
    "          y = 1.08)\n",
    "plt.ylabel('Percentage', fontsize = 12)\n",
    "plt.xticks([0,1],['Web or mobile\\ndevelopment', 'Other subject'],\n",
    "           rotation = 0)\n",
    "plt.ylim([0,100])\n",
    "plt.show()"
   ]
  },
  {
   "cell_type": "markdown",
   "metadata": {},
   "source": [
    "In the last cells I explored the interests of the programmers. Just 6992 of the 18175 partecipants have specific interests, and among them 6030 (86.2%) manifested interest for Web and Mobile Development, the other 13.8% for other topics."
   ]
  },
  {
   "cell_type": "markdown",
   "metadata": {},
   "source": [
    "## New Coders - Locations and Densities"
   ]
  },
  {
   "cell_type": "markdown",
   "metadata": {},
   "source": [
    "We can start with finding out where these new coders are located, and what are the densities (how many coderes there are) for each location.\n",
    "\n",
    "The data set provides information about the location of each participant at a country level. The \"CountryCitizen\" variable describes the country of origin for each participant, and the \"CountryLive\" variable describes what country each participants lives in (which may be different than the origin country).\n",
    "\n",
    "For our analysis, we'll work with the \"CountryLive\" variable because we're interested where people actually live at the moment when we run the ads. In other words, we're interested where people are located, not where they were born."
   ]
  },
  {
   "cell_type": "code",
   "execution_count": 16,
   "metadata": {
    "collapsed": false
   },
   "outputs": [
    {
     "name": "stdout",
     "output_type": "stream",
     "text": [
      "    Age  AttendedBootcamp  BootcampFinish  BootcampLoanYesNo BootcampName  \\\n",
      "1  34.0               0.0             NaN                NaN          NaN   \n",
      "2  21.0               0.0             NaN                NaN          NaN   \n",
      "3  26.0               0.0             NaN                NaN          NaN   \n",
      "4  20.0               0.0             NaN                NaN          NaN   \n",
      "6  29.0               0.0             NaN                NaN          NaN   \n",
      "\n",
      "   BootcampRecommend  ChildrenNumber                 CityPopulation  \\\n",
      "1                NaN             NaN              less than 100,000   \n",
      "2                NaN             NaN            more than 1 million   \n",
      "3                NaN             NaN  between 100,000 and 1 million   \n",
      "4                NaN             NaN  between 100,000 and 1 million   \n",
      "6                NaN             NaN  between 100,000 and 1 million   \n",
      "\n",
      "   CodeEventConferences  CodeEventDjangoGirls  CodeEventFCC  CodeEventGameJam  \\\n",
      "1                   NaN                   NaN           NaN               NaN   \n",
      "2                   NaN                   NaN           NaN               NaN   \n",
      "3                   NaN                   NaN           NaN               NaN   \n",
      "4                   NaN                   NaN           NaN               NaN   \n",
      "6                   1.0                   NaN           NaN               NaN   \n",
      "\n",
      "   CodeEventGirlDev  CodeEventHackathons  CodeEventMeetup  \\\n",
      "1               NaN                  NaN              NaN   \n",
      "2               NaN                  1.0              NaN   \n",
      "3               NaN                  NaN              NaN   \n",
      "4               NaN                  NaN              NaN   \n",
      "6               NaN                  NaN              1.0   \n",
      "\n",
      "   CodeEventNodeSchool  CodeEventNone CodeEventOther  CodeEventRailsBridge  \\\n",
      "1                  NaN            NaN            NaN                   NaN   \n",
      "2                  1.0            NaN            NaN                   NaN   \n",
      "3                  NaN            NaN            NaN                   NaN   \n",
      "4                  NaN            NaN            NaN                   NaN   \n",
      "6                  NaN            NaN            NaN                   NaN   \n",
      "\n",
      "   CodeEventRailsGirls  CodeEventStartUpWknd  CodeEventWkdBootcamps  \\\n",
      "1                  NaN                   NaN                    NaN   \n",
      "2                  NaN                   NaN                    NaN   \n",
      "3                  NaN                   NaN                    NaN   \n",
      "4                  NaN                   NaN                    NaN   \n",
      "6                  1.0                   NaN                    NaN   \n",
      "\n",
      "   CodeEventWomenCode  CodeEventWorkshops       CommuteTime  \\\n",
      "1                 NaN                 NaN               NaN   \n",
      "2                 NaN                 NaN  15 to 29 minutes   \n",
      "3                 NaN                 NaN  I work from home   \n",
      "4                 NaN                 NaN               NaN   \n",
      "6                 NaN                 1.0  30 to 44 minutes   \n",
      "\n",
      "             CountryCitizen               CountryLive  \\\n",
      "1  United States of America  United States of America   \n",
      "2  United States of America  United States of America   \n",
      "3                    Brazil                    Brazil   \n",
      "4                  Portugal                  Portugal   \n",
      "6            United Kingdom            United Kingdom   \n",
      "\n",
      "               EmploymentField EmploymentFieldOther  \\\n",
      "1                          NaN                  NaN   \n",
      "2  software development and IT                  NaN   \n",
      "3  software development and IT                  NaN   \n",
      "4                          NaN                  NaN   \n",
      "6                          NaN      Market research   \n",
      "\n",
      "                   EmploymentStatus EmploymentStatusOther  ExpectedEarning  \\\n",
      "1  Not working but looking for work                   NaN          35000.0   \n",
      "2                Employed for wages                   NaN          70000.0   \n",
      "3                Employed for wages                   NaN          40000.0   \n",
      "4  Not working but looking for work                   NaN         140000.0   \n",
      "6                Employed for wages                   NaN          30000.0   \n",
      "\n",
      "   FinanciallySupporting  FirstDevJob  Gender GenderOther  HasChildren  \\\n",
      "1                    NaN          NaN    male         NaN          NaN   \n",
      "2                    NaN          NaN    male         NaN          NaN   \n",
      "3                    0.0          NaN    male         NaN          0.0   \n",
      "4                    NaN          NaN  female         NaN          NaN   \n",
      "6                    NaN          NaN  female         NaN          NaN   \n",
      "\n",
      "   HasDebt  HasFinancialDependents  HasHighSpdInternet  HasHomeMortgage  \\\n",
      "1      1.0                     0.0                 1.0              0.0   \n",
      "2      0.0                     0.0                 1.0              NaN   \n",
      "3      1.0                     1.0                 1.0              1.0   \n",
      "4      0.0                     0.0                 1.0              NaN   \n",
      "6      1.0                     0.0                 1.0              1.0   \n",
      "\n",
      "   HasServedInMilitary  HasStudentDebt  HomeMortgageOwe  HoursLearning  \\\n",
      "1                  0.0             1.0              NaN           10.0   \n",
      "2                  0.0             NaN              NaN           25.0   \n",
      "3                  0.0             0.0          40000.0           14.0   \n",
      "4                  0.0             NaN              NaN           10.0   \n",
      "6                  0.0             1.0         120000.0           16.0   \n",
      "\n",
      "                               ID.x                              ID.y  \\\n",
      "1  5bfef9ecb211ec4f518cfc1d2a6f3e0c  21db37adb60cdcafadfa7dca1b13b6b1   \n",
      "2  14f1863afa9c7de488050b82eb3edd96  21ba173828fbe9e27ccebaf4d5166a55   \n",
      "3  91756eb4dc280062a541c25a3d44cfb0  3be37b558f02daae93a6da10f83f0c77   \n",
      "4  aa3f061a1949a90b27bef7411ecd193f  d7c56bbf2c7b62096be9db010e86d96d   \n",
      "6  5e130f133306abd6c2f9af31467ff37c  fe5e9f175fdfbf18bcf6c85d6e042b68   \n",
      "\n",
      "    Income  IsEthnicMinority  IsReceiveDisabilitiesBenefits  IsSoftwareDev  \\\n",
      "1      NaN               0.0                            0.0            0.0   \n",
      "2  13000.0               1.0                            0.0            0.0   \n",
      "3  24000.0               0.0                            0.0            0.0   \n",
      "4      NaN               0.0                            0.0            0.0   \n",
      "6  40000.0               NaN                            0.0            0.0   \n",
      "\n",
      "   IsUnderEmployed              JobApplyWhen  JobInterestBackEnd  \\\n",
      "1              NaN     Within 7 to 12 months                 NaN   \n",
      "2              0.0     Within 7 to 12 months                 1.0   \n",
      "3              1.0  Within the next 6 months                 1.0   \n",
      "4              NaN     Within 7 to 12 months                 1.0   \n",
      "6              0.0      I'm already applying                 NaN   \n",
      "\n",
      "   JobInterestDataEngr  JobInterestDataSci  JobInterestDevOps  \\\n",
      "1                  NaN                 NaN                NaN   \n",
      "2                  NaN                 NaN                1.0   \n",
      "3                  NaN                 NaN                NaN   \n",
      "4                  NaN                 NaN                NaN   \n",
      "6                  NaN                 NaN                NaN   \n",
      "\n",
      "   JobInterestFrontEnd  JobInterestFullStack  JobInterestGameDev  \\\n",
      "1                  NaN                   1.0                 NaN   \n",
      "2                  1.0                   1.0                 NaN   \n",
      "3                  1.0                   1.0                 NaN   \n",
      "4                  1.0                   1.0                 NaN   \n",
      "6                  NaN                   1.0                 NaN   \n",
      "\n",
      "   JobInterestInfoSec  JobInterestMobile JobInterestOther  \\\n",
      "1                 NaN                NaN              NaN   \n",
      "2                 NaN                1.0              NaN   \n",
      "3                 NaN                NaN              NaN   \n",
      "4                 1.0                1.0              NaN   \n",
      "6                 NaN                NaN              NaN   \n",
      "\n",
      "   JobInterestProjMngr  JobInterestQAEngr  JobInterestUX  \\\n",
      "1                  NaN                NaN            NaN   \n",
      "2                  NaN                NaN            NaN   \n",
      "3                  NaN                NaN            NaN   \n",
      "4                  NaN                NaN            NaN   \n",
      "6                  NaN                NaN            NaN   \n",
      "\n",
      "                                JobPref  JobRelocateYesNo  \\\n",
      "1                  work for a nonprofit               1.0   \n",
      "2       work for a medium-sized company               1.0   \n",
      "3       work for a medium-sized company               NaN   \n",
      "4  work for a multinational corporation               1.0   \n",
      "6       work for a medium-sized company               NaN   \n",
      "\n",
      "                                     JobRoleInterest  \\\n",
      "1                           Full-Stack Web Developer   \n",
      "2    Front-End Web Developer, Back-End Web Develo...   \n",
      "3    Front-End Web Developer, Full-Stack Web Deve...   \n",
      "4  Full-Stack Web Developer, Information Security...   \n",
      "6                           Full-Stack Web Developer   \n",
      "\n",
      "                         JobWherePref LanguageAtHome  \\\n",
      "1  in an office with other developers        English   \n",
      "2                       no preference        Spanish   \n",
      "3                           from home     Portuguese   \n",
      "4  in an office with other developers     Portuguese   \n",
      "6                       no preference        English   \n",
      "\n",
      "                     MaritalStatus  MoneyForLearning  MonthsProgramming  \\\n",
      "1            single, never married              80.0                6.0   \n",
      "2            single, never married            1000.0                5.0   \n",
      "3  married or domestic partnership               0.0                5.0   \n",
      "4            single, never married               0.0               24.0   \n",
      "6  married or domestic partnership               0.0               12.0   \n",
      "\n",
      "    NetworkID         Part1EndTime       Part1StartTime         Part2EndTime  \\\n",
      "1  f8f8be6910  2017-03-09 00:37:07  2017-03-09 00:33:26  2017-03-09 00:38:59   \n",
      "2  2ed189768e  2017-03-09 00:37:58  2017-03-09 00:33:53  2017-03-09 00:40:14   \n",
      "3  dbdc0664d1  2017-03-09 00:40:13  2017-03-09 00:37:45  2017-03-09 00:42:26   \n",
      "4  11b0f2d8a9  2017-03-09 00:42:45  2017-03-09 00:39:44  2017-03-09 00:45:42   \n",
      "6  f4abfae20d  2017-03-09 00:45:33  2017-03-09 00:41:27  2017-03-09 00:48:49   \n",
      "\n",
      "        Part2StartTime  PodcastChangeLog  PodcastCodeNewbie  PodcastCodePen  \\\n",
      "1  2017-03-09 00:37:10               NaN                1.0             NaN   \n",
      "2  2017-03-09 00:38:02               1.0                NaN             1.0   \n",
      "3  2017-03-09 00:40:18               NaN                NaN             NaN   \n",
      "4  2017-03-09 00:42:50               NaN                NaN             NaN   \n",
      "6  2017-03-09 00:45:52               NaN                NaN             NaN   \n",
      "\n",
      "   PodcastDevTea  PodcastDotNET  PodcastGiantRobots  PodcastJSAir  \\\n",
      "1            NaN            NaN                 NaN           NaN   \n",
      "2            NaN            NaN                 NaN           NaN   \n",
      "3            NaN            NaN                 NaN           NaN   \n",
      "4            NaN            NaN                 NaN           NaN   \n",
      "6            NaN            NaN                 NaN           NaN   \n",
      "\n",
      "   PodcastJSJabber  PodcastNone PodcastOther  PodcastProgThrowdown  \\\n",
      "1              NaN          NaN          NaN                   NaN   \n",
      "2              NaN          NaN   Codenewbie                   NaN   \n",
      "3              NaN          NaN          NaN                   NaN   \n",
      "4              NaN          NaN          NaN                   NaN   \n",
      "6              NaN          NaN          NaN                   NaN   \n",
      "\n",
      "   PodcastRubyRogues  PodcastSEDaily  PodcastSERadio  PodcastShopTalk  \\\n",
      "1                NaN             NaN             NaN              NaN   \n",
      "2                NaN             NaN             NaN              1.0   \n",
      "3                NaN             NaN             NaN              NaN   \n",
      "4                NaN             NaN             NaN              NaN   \n",
      "6                NaN             NaN             NaN              NaN   \n",
      "\n",
      "   PodcastTalkPython  PodcastTheWebAhead  ResourceCodecademy  \\\n",
      "1                NaN                 NaN                 1.0   \n",
      "2                NaN                 NaN                 1.0   \n",
      "3                NaN                 NaN                 NaN   \n",
      "4                NaN                 NaN                 NaN   \n",
      "6                NaN                 NaN                 1.0   \n",
      "\n",
      "   ResourceCodeWars  ResourceCoursera  ResourceCSS  ResourceEdX  \\\n",
      "1               NaN               NaN          1.0          NaN   \n",
      "2               NaN               NaN          1.0          NaN   \n",
      "3               NaN               NaN          NaN          NaN   \n",
      "4               NaN               NaN          NaN          NaN   \n",
      "6               NaN               NaN          NaN          NaN   \n",
      "\n",
      "   ResourceEgghead  ResourceFCC  ResourceHackerRank  ResourceKA  \\\n",
      "1              NaN          1.0                 NaN         NaN   \n",
      "2              NaN          1.0                 NaN         NaN   \n",
      "3              1.0          1.0                 NaN         NaN   \n",
      "4              NaN          NaN                 NaN         NaN   \n",
      "6              NaN          1.0                 NaN         NaN   \n",
      "\n",
      "   ResourceLynda  ResourceMDN  ResourceOdinProj ResourceOther  \\\n",
      "1            NaN          NaN               NaN           NaN   \n",
      "2            NaN          1.0               NaN           NaN   \n",
      "3            NaN          1.0               NaN           NaN   \n",
      "4            NaN          NaN               NaN           NaN   \n",
      "6            NaN          NaN               NaN     Sololearn   \n",
      "\n",
      "   ResourcePluralSight  ResourceSkillcrush  ResourceSO  ResourceTreehouse  \\\n",
      "1                  NaN                 NaN         1.0                NaN   \n",
      "2                  NaN                 NaN         NaN                NaN   \n",
      "3                  NaN                 NaN         1.0                NaN   \n",
      "4                  NaN                 NaN         1.0                NaN   \n",
      "6                  1.0                 NaN         1.0                NaN   \n",
      "\n",
      "   ResourceUdacity  ResourceUdemy  ResourceW3S  \\\n",
      "1              NaN            1.0          1.0   \n",
      "2              1.0            1.0          NaN   \n",
      "3              NaN            NaN          NaN   \n",
      "4              NaN            NaN          NaN   \n",
      "6              NaN            NaN          1.0   \n",
      "\n",
      "                              SchoolDegree             SchoolMajor  \\\n",
      "1           some college credit, no degree                     NaN   \n",
      "2  high school diploma or equivalent (GED)                     NaN   \n",
      "3           some college credit, no degree                     NaN   \n",
      "4                        bachelor's degree  Information Technology   \n",
      "6           some college credit, no degree                     NaN   \n",
      "\n",
      "   StudentDebtOwe  YouTubeCodeCourse  YouTubeCodingTrain  YouTubeCodingTut360  \\\n",
      "1             NaN                NaN                 NaN                  NaN   \n",
      "2             NaN                NaN                 NaN                  1.0   \n",
      "3             NaN                NaN                 NaN                  NaN   \n",
      "4             NaN                NaN                 NaN                  NaN   \n",
      "6          8000.0                NaN                 NaN                  NaN   \n",
      "\n",
      "   YouTubeComputerphile  YouTubeDerekBanas  YouTubeDevTips  \\\n",
      "1                   NaN                NaN             NaN   \n",
      "2                   NaN                1.0             1.0   \n",
      "3                   NaN                NaN             1.0   \n",
      "4                   NaN                NaN             NaN   \n",
      "6                   NaN                NaN             NaN   \n",
      "\n",
      "   YouTubeEngineeredTruth  YouTubeFCC  YouTubeFunFunFunction  \\\n",
      "1                     NaN         1.0                    NaN   \n",
      "2                     NaN         NaN                    NaN   \n",
      "3                     NaN         1.0                    1.0   \n",
      "4                     NaN         NaN                    NaN   \n",
      "6                     NaN         NaN                    NaN   \n",
      "\n",
      "   YouTubeGoogleDev  YouTubeLearnCode  YouTubeLevelUpTuts  YouTubeMIT  \\\n",
      "1               NaN               NaN                 NaN         NaN   \n",
      "2               NaN               1.0                 1.0         NaN   \n",
      "3               NaN               NaN                 1.0         NaN   \n",
      "4               NaN               NaN                 NaN         NaN   \n",
      "6               NaN               NaN                 NaN         NaN   \n",
      "\n",
      "   YouTubeMozillaHacks YouTubeOther  YouTubeSimplilearn  YouTubeTheNewBoston  \\\n",
      "1                  NaN          NaN                 NaN                  NaN   \n",
      "2                  NaN          NaN                 NaN                  NaN   \n",
      "3                  NaN          NaN                 NaN                  NaN   \n",
      "4                  NaN          NaN                 NaN                  NaN   \n",
      "6                  NaN          NaN                 NaN                  NaN   \n",
      "\n",
      "   WebDev  MobDev  \n",
      "1       1       0  \n",
      "2       1       1  \n",
      "3       1       0  \n",
      "4       1       1  \n",
      "6       1       0  \n"
     ]
    }
   ],
   "source": [
    "sample=survey_extended[~mask2]\n",
    "print(sample.head(5))"
   ]
  },
  {
   "cell_type": "code",
   "execution_count": 17,
   "metadata": {
    "collapsed": true
   },
   "outputs": [],
   "source": [
    "abs_freq=sample['CountryLive'].value_counts()\n",
    "rel_freq=sample['CountryLive'].value_counts(normalize = True)*100"
   ]
  },
  {
   "cell_type": "code",
   "execution_count": 18,
   "metadata": {
    "collapsed": false
   },
   "outputs": [
    {
     "name": "stdout",
     "output_type": "stream",
     "text": [
      "United States of America         3125\n",
      "India                             528\n",
      "United Kingdom                    315\n",
      "Canada                            260\n",
      "Poland                            131\n",
      "Brazil                            129\n",
      "Germany                           125\n",
      "Australia                         112\n",
      "Russia                            102\n",
      "Ukraine                            89\n",
      "Nigeria                            84\n",
      "Spain                              77\n",
      "France                             75\n",
      "Romania                            71\n",
      "Netherlands (Holland, Europe)      65\n",
      "Italy                              62\n",
      "Serbia                             52\n",
      "Philippines                        52\n",
      "Greece                             46\n",
      "Ireland                            43\n",
      "South Africa                       39\n",
      "Mexico                             37\n",
      "Turkey                             36\n",
      "Singapore                          34\n",
      "Hungary                            34\n",
      "New Zealand                        33\n",
      "Argentina                          32\n",
      "Croatia                            32\n",
      "Norway                             31\n",
      "Sweden                             31\n",
      "                                 ... \n",
      "Jordan                              1\n",
      "Somalia                             1\n",
      "Turkmenistan                        1\n",
      "Bolivia                             1\n",
      "Vanuatu                             1\n",
      "Nambia                              1\n",
      "Rwanda                              1\n",
      "Samoa                               1\n",
      "Gibraltar                           1\n",
      "Kyrgyzstan                          1\n",
      "Panama                              1\n",
      "Yemen                               1\n",
      "Channel Islands                     1\n",
      "Mozambique                          1\n",
      "Qatar                               1\n",
      "Sudan                               1\n",
      "Nicaragua                           1\n",
      "Guatemala                           1\n",
      "Anguilla                            1\n",
      "Myanmar                             1\n",
      "Guadeloupe                          1\n",
      "Aruba                               1\n",
      "Gambia                              1\n",
      "Papua New Guinea                    1\n",
      "Cayman Islands                      1\n",
      "Botswana                            1\n",
      "Cameroon                            1\n",
      "Liberia                             1\n",
      "Angola                              1\n",
      "Cuba                                1\n",
      "Name: CountryLive, Length: 137, dtype: int64\n"
     ]
    }
   ],
   "source": [
    "print(abs_freq)"
   ]
  },
  {
   "cell_type": "code",
   "execution_count": 19,
   "metadata": {
    "collapsed": false,
    "scrolled": true
   },
   "outputs": [
    {
     "name": "stdout",
     "output_type": "stream",
     "text": [
      "United States of America         45.700497\n",
      "India                             7.721556\n",
      "United Kingdom                    4.606610\n",
      "Canada                            3.802281\n",
      "Poland                            1.915765\n",
      "Brazil                            1.886517\n",
      "Germany                           1.828020\n",
      "Australia                         1.637906\n",
      "Russia                            1.491664\n",
      "Ukraine                           1.301550\n",
      "Nigeria                           1.228429\n",
      "Spain                             1.126060\n",
      "France                            1.096812\n",
      "Romania                           1.038315\n",
      "Netherlands (Holland, Europe)     0.950570\n",
      "Italy                             0.906698\n",
      "Serbia                            0.760456\n",
      "Philippines                       0.760456\n",
      "Greece                            0.672711\n",
      "Ireland                           0.628839\n",
      "South Africa                      0.570342\n",
      "Mexico                            0.541094\n",
      "Turkey                            0.526470\n",
      "Singapore                         0.497221\n",
      "Hungary                           0.497221\n",
      "New Zealand                       0.482597\n",
      "Argentina                         0.467973\n",
      "Croatia                           0.467973\n",
      "Norway                            0.453349\n",
      "Sweden                            0.453349\n",
      "                                   ...    \n",
      "Jordan                            0.014624\n",
      "Somalia                           0.014624\n",
      "Turkmenistan                      0.014624\n",
      "Bolivia                           0.014624\n",
      "Vanuatu                           0.014624\n",
      "Nambia                            0.014624\n",
      "Rwanda                            0.014624\n",
      "Samoa                             0.014624\n",
      "Gibraltar                         0.014624\n",
      "Kyrgyzstan                        0.014624\n",
      "Panama                            0.014624\n",
      "Yemen                             0.014624\n",
      "Channel Islands                   0.014624\n",
      "Mozambique                        0.014624\n",
      "Qatar                             0.014624\n",
      "Sudan                             0.014624\n",
      "Nicaragua                         0.014624\n",
      "Guatemala                         0.014624\n",
      "Anguilla                          0.014624\n",
      "Myanmar                           0.014624\n",
      "Guadeloupe                        0.014624\n",
      "Aruba                             0.014624\n",
      "Gambia                            0.014624\n",
      "Papua New Guinea                  0.014624\n",
      "Cayman Islands                    0.014624\n",
      "Botswana                          0.014624\n",
      "Cameroon                          0.014624\n",
      "Liberia                           0.014624\n",
      "Angola                            0.014624\n",
      "Cuba                              0.014624\n",
      "Name: CountryLive, Length: 137, dtype: float64\n"
     ]
    }
   ],
   "source": [
    "print(rel_freq)"
   ]
  },
  {
   "cell_type": "markdown",
   "metadata": {},
   "source": [
    "45.7% of our potential customers are located in the US, and this definitely seems like the most interesting market. India has the second customer density, but it's just 7.7%, which is not too far from the United Kingdom (4.6%) or Canada (3.8%).\n",
    "\n",
    "This is useful information, but we need to go more in depth than this and figure out how much money people are actually willing to spend on learning. Advertising in high-density markets where most people are only willing to learn for free is extremely unlikely to be profitable for us."
   ]
  },
  {
   "cell_type": "markdown",
   "metadata": {},
   "source": [
    "## Spending Money for Learning"
   ]
  },
  {
   "cell_type": "markdown",
   "metadata": {},
   "source": [
    "We can continue by figuring out how much money new coders are actually willing to spend on learning. Advertising within markets where most people are only willing to learn for free is extremely unlikely to be profitable for us.\n",
    "\n",
    "The \"MoneyForLearning\" column describes in American dollars the amount of money spent by participants from the moment they started coding until the moment they completed the survey. Our company sells subscriptions at a price of $59 per month, and for this reason we're interested in finding out how much money each student spends per month."
   ]
  },
  {
   "cell_type": "code",
   "execution_count": 20,
   "metadata": {
    "collapsed": false
   },
   "outputs": [
    {
     "name": "stdout",
     "output_type": "stream",
     "text": [
      "                CountryLive  WebDev  MobDev\n",
      "0  United States of America    2577    1052\n",
      "1                     India     423     173\n",
      "2            United Kingdom     272     106\n",
      "3                    Canada     208      88\n",
      "4                    Poland     118      30\n"
     ]
    }
   ],
   "source": [
    "grouped = sample[[\"CountryLive\",\"WebDev\",\"MobDev\"]].groupby('CountryLive')\n",
    "freq_df=grouped.agg(np.sum)\n",
    "freq_df=freq_df.sort_values(by=\"WebDev\", ascending=False)\n",
    "freq_df.reset_index(inplace=True)\n",
    "print(freq_df.head())"
   ]
  },
  {
   "cell_type": "markdown",
   "metadata": {},
   "source": [
    "Yes, the greatest markets are USA and India"
   ]
  },
  {
   "cell_type": "code",
   "execution_count": 21,
   "metadata": {
    "collapsed": false
   },
   "outputs": [
    {
     "name": "stdout",
     "output_type": "stream",
     "text": [
      "51.0       1\n",
      "56.0       1\n",
      "73.0       1\n",
      "41.0       1\n",
      "83.0       1\n",
      "89.0       1\n",
      "111.0      1\n",
      "124.0      1\n",
      "46.0       1\n",
      "408.0      1\n",
      "300.0      1\n",
      "69.0       1\n",
      "264.0      1\n",
      "370.0      1\n",
      "198.0      1\n",
      "171.0      1\n",
      "49.0       1\n",
      "113.0      1\n",
      "105.0      1\n",
      "43.0       1\n",
      "180.0      1\n",
      "86.0       1\n",
      "190.0      1\n",
      "58.0       1\n",
      "37.0       2\n",
      "59.0       2\n",
      "38.0       2\n",
      "156.0      2\n",
      "108.0      2\n",
      "33.0       2\n",
      "        ... \n",
      "28.0      13\n",
      "26.0      17\n",
      "17.0      20\n",
      "72.0      28\n",
      "50.0      29\n",
      "13.0      36\n",
      "11.0      39\n",
      "40.0      43\n",
      "16.0      58\n",
      "15.0      70\n",
      "14.0      76\n",
      "60.0      79\n",
      "30.0      82\n",
      "20.0      92\n",
      "9.0      102\n",
      "48.0     112\n",
      "7.0      124\n",
      "10.0     144\n",
      "18.0     160\n",
      "8.0      195\n",
      "0.0      235\n",
      "36.0     251\n",
      "5.0      279\n",
      "4.0      367\n",
      "24.0     422\n",
      "12.0     616\n",
      "3.0      637\n",
      "6.0      654\n",
      "2.0      669\n",
      "1.0      767\n",
      "Name: MonthsProgramming, Length: 91, dtype: int64\n"
     ]
    }
   ],
   "source": [
    "print(sample[\"MonthsProgramming\"].value_counts().sort_values())"
   ]
  },
  {
   "cell_type": "code",
   "execution_count": 22,
   "metadata": {
    "collapsed": false
   },
   "outputs": [
    {
     "name": "stdout",
     "output_type": "stream",
     "text": [
      "   MonthsProgramming  MoneyperMonth\n",
      "1                6.0      13.333333\n",
      "2                5.0     200.000000\n",
      "3                5.0       0.000000\n",
      "4               24.0       0.000000\n",
      "6               12.0       0.000000\n"
     ]
    }
   ],
   "source": [
    "def sub_zero(el):\n",
    "    if el<0.5:\n",
    "        return 1\n",
    "    else:\n",
    "        return el\n",
    "sample2=sample.copy()\n",
    "sample2[\"MonthsProgramming\"]=sample[\"MonthsProgramming\"].apply(sub_zero)\n",
    "sample2[\"MoneyperMonth\"]=sample2[\"MoneyForLearning\"]/sample2[\"MonthsProgramming\"]\n",
    "print(sample2[[\"MonthsProgramming\", \"MoneyperMonth\"]].head())"
   ]
  },
  {
   "cell_type": "code",
   "execution_count": 23,
   "metadata": {
    "collapsed": false
   },
   "outputs": [
    {
     "name": "stdout",
     "output_type": "stream",
     "text": [
      "675\n"
     ]
    }
   ],
   "source": [
    "size=sample2[sample2[\"MoneyperMonth\"].isnull()].shape[0]\n",
    "print(size)"
   ]
  },
  {
   "cell_type": "code",
   "execution_count": 24,
   "metadata": {
    "collapsed": false
   },
   "outputs": [
    {
     "name": "stdout",
     "output_type": "stream",
     "text": [
      "    Age  AttendedBootcamp  BootcampFinish  BootcampLoanYesNo BootcampName  \\\n",
      "1  34.0               0.0             NaN                NaN          NaN   \n",
      "2  21.0               0.0             NaN                NaN          NaN   \n",
      "3  26.0               0.0             NaN                NaN          NaN   \n",
      "4  20.0               0.0             NaN                NaN          NaN   \n",
      "6  29.0               0.0             NaN                NaN          NaN   \n",
      "\n",
      "   BootcampRecommend  ChildrenNumber                 CityPopulation  \\\n",
      "1                NaN             NaN              less than 100,000   \n",
      "2                NaN             NaN            more than 1 million   \n",
      "3                NaN             NaN  between 100,000 and 1 million   \n",
      "4                NaN             NaN  between 100,000 and 1 million   \n",
      "6                NaN             NaN  between 100,000 and 1 million   \n",
      "\n",
      "   CodeEventConferences  CodeEventDjangoGirls  CodeEventFCC  CodeEventGameJam  \\\n",
      "1                   NaN                   NaN           NaN               NaN   \n",
      "2                   NaN                   NaN           NaN               NaN   \n",
      "3                   NaN                   NaN           NaN               NaN   \n",
      "4                   NaN                   NaN           NaN               NaN   \n",
      "6                   1.0                   NaN           NaN               NaN   \n",
      "\n",
      "   CodeEventGirlDev  CodeEventHackathons  CodeEventMeetup  \\\n",
      "1               NaN                  NaN              NaN   \n",
      "2               NaN                  1.0              NaN   \n",
      "3               NaN                  NaN              NaN   \n",
      "4               NaN                  NaN              NaN   \n",
      "6               NaN                  NaN              1.0   \n",
      "\n",
      "   CodeEventNodeSchool  CodeEventNone CodeEventOther  CodeEventRailsBridge  \\\n",
      "1                  NaN            NaN            NaN                   NaN   \n",
      "2                  1.0            NaN            NaN                   NaN   \n",
      "3                  NaN            NaN            NaN                   NaN   \n",
      "4                  NaN            NaN            NaN                   NaN   \n",
      "6                  NaN            NaN            NaN                   NaN   \n",
      "\n",
      "   CodeEventRailsGirls  CodeEventStartUpWknd  CodeEventWkdBootcamps  \\\n",
      "1                  NaN                   NaN                    NaN   \n",
      "2                  NaN                   NaN                    NaN   \n",
      "3                  NaN                   NaN                    NaN   \n",
      "4                  NaN                   NaN                    NaN   \n",
      "6                  1.0                   NaN                    NaN   \n",
      "\n",
      "   CodeEventWomenCode  CodeEventWorkshops       CommuteTime  \\\n",
      "1                 NaN                 NaN               NaN   \n",
      "2                 NaN                 NaN  15 to 29 minutes   \n",
      "3                 NaN                 NaN  I work from home   \n",
      "4                 NaN                 NaN               NaN   \n",
      "6                 NaN                 1.0  30 to 44 minutes   \n",
      "\n",
      "             CountryCitizen               CountryLive  \\\n",
      "1  United States of America  United States of America   \n",
      "2  United States of America  United States of America   \n",
      "3                    Brazil                    Brazil   \n",
      "4                  Portugal                  Portugal   \n",
      "6            United Kingdom            United Kingdom   \n",
      "\n",
      "               EmploymentField EmploymentFieldOther  \\\n",
      "1                          NaN                  NaN   \n",
      "2  software development and IT                  NaN   \n",
      "3  software development and IT                  NaN   \n",
      "4                          NaN                  NaN   \n",
      "6                          NaN      Market research   \n",
      "\n",
      "                   EmploymentStatus EmploymentStatusOther  ExpectedEarning  \\\n",
      "1  Not working but looking for work                   NaN          35000.0   \n",
      "2                Employed for wages                   NaN          70000.0   \n",
      "3                Employed for wages                   NaN          40000.0   \n",
      "4  Not working but looking for work                   NaN         140000.0   \n",
      "6                Employed for wages                   NaN          30000.0   \n",
      "\n",
      "   FinanciallySupporting  FirstDevJob  Gender GenderOther  HasChildren  \\\n",
      "1                    NaN          NaN    male         NaN          NaN   \n",
      "2                    NaN          NaN    male         NaN          NaN   \n",
      "3                    0.0          NaN    male         NaN          0.0   \n",
      "4                    NaN          NaN  female         NaN          NaN   \n",
      "6                    NaN          NaN  female         NaN          NaN   \n",
      "\n",
      "   HasDebt  HasFinancialDependents  HasHighSpdInternet  HasHomeMortgage  \\\n",
      "1      1.0                     0.0                 1.0              0.0   \n",
      "2      0.0                     0.0                 1.0              NaN   \n",
      "3      1.0                     1.0                 1.0              1.0   \n",
      "4      0.0                     0.0                 1.0              NaN   \n",
      "6      1.0                     0.0                 1.0              1.0   \n",
      "\n",
      "   HasServedInMilitary  HasStudentDebt  HomeMortgageOwe  HoursLearning  \\\n",
      "1                  0.0             1.0              NaN           10.0   \n",
      "2                  0.0             NaN              NaN           25.0   \n",
      "3                  0.0             0.0          40000.0           14.0   \n",
      "4                  0.0             NaN              NaN           10.0   \n",
      "6                  0.0             1.0         120000.0           16.0   \n",
      "\n",
      "                               ID.x                              ID.y  \\\n",
      "1  5bfef9ecb211ec4f518cfc1d2a6f3e0c  21db37adb60cdcafadfa7dca1b13b6b1   \n",
      "2  14f1863afa9c7de488050b82eb3edd96  21ba173828fbe9e27ccebaf4d5166a55   \n",
      "3  91756eb4dc280062a541c25a3d44cfb0  3be37b558f02daae93a6da10f83f0c77   \n",
      "4  aa3f061a1949a90b27bef7411ecd193f  d7c56bbf2c7b62096be9db010e86d96d   \n",
      "6  5e130f133306abd6c2f9af31467ff37c  fe5e9f175fdfbf18bcf6c85d6e042b68   \n",
      "\n",
      "    Income  IsEthnicMinority  IsReceiveDisabilitiesBenefits  IsSoftwareDev  \\\n",
      "1      NaN               0.0                            0.0            0.0   \n",
      "2  13000.0               1.0                            0.0            0.0   \n",
      "3  24000.0               0.0                            0.0            0.0   \n",
      "4      NaN               0.0                            0.0            0.0   \n",
      "6  40000.0               NaN                            0.0            0.0   \n",
      "\n",
      "   IsUnderEmployed              JobApplyWhen  JobInterestBackEnd  \\\n",
      "1              NaN     Within 7 to 12 months                 NaN   \n",
      "2              0.0     Within 7 to 12 months                 1.0   \n",
      "3              1.0  Within the next 6 months                 1.0   \n",
      "4              NaN     Within 7 to 12 months                 1.0   \n",
      "6              0.0      I'm already applying                 NaN   \n",
      "\n",
      "   JobInterestDataEngr  JobInterestDataSci  JobInterestDevOps  \\\n",
      "1                  NaN                 NaN                NaN   \n",
      "2                  NaN                 NaN                1.0   \n",
      "3                  NaN                 NaN                NaN   \n",
      "4                  NaN                 NaN                NaN   \n",
      "6                  NaN                 NaN                NaN   \n",
      "\n",
      "   JobInterestFrontEnd  JobInterestFullStack  JobInterestGameDev  \\\n",
      "1                  NaN                   1.0                 NaN   \n",
      "2                  1.0                   1.0                 NaN   \n",
      "3                  1.0                   1.0                 NaN   \n",
      "4                  1.0                   1.0                 NaN   \n",
      "6                  NaN                   1.0                 NaN   \n",
      "\n",
      "   JobInterestInfoSec  JobInterestMobile JobInterestOther  \\\n",
      "1                 NaN                NaN              NaN   \n",
      "2                 NaN                1.0              NaN   \n",
      "3                 NaN                NaN              NaN   \n",
      "4                 1.0                1.0              NaN   \n",
      "6                 NaN                NaN              NaN   \n",
      "\n",
      "   JobInterestProjMngr  JobInterestQAEngr  JobInterestUX  \\\n",
      "1                  NaN                NaN            NaN   \n",
      "2                  NaN                NaN            NaN   \n",
      "3                  NaN                NaN            NaN   \n",
      "4                  NaN                NaN            NaN   \n",
      "6                  NaN                NaN            NaN   \n",
      "\n",
      "                                JobPref  JobRelocateYesNo  \\\n",
      "1                  work for a nonprofit               1.0   \n",
      "2       work for a medium-sized company               1.0   \n",
      "3       work for a medium-sized company               NaN   \n",
      "4  work for a multinational corporation               1.0   \n",
      "6       work for a medium-sized company               NaN   \n",
      "\n",
      "                                     JobRoleInterest  \\\n",
      "1                           Full-Stack Web Developer   \n",
      "2    Front-End Web Developer, Back-End Web Develo...   \n",
      "3    Front-End Web Developer, Full-Stack Web Deve...   \n",
      "4  Full-Stack Web Developer, Information Security...   \n",
      "6                           Full-Stack Web Developer   \n",
      "\n",
      "                         JobWherePref LanguageAtHome  \\\n",
      "1  in an office with other developers        English   \n",
      "2                       no preference        Spanish   \n",
      "3                           from home     Portuguese   \n",
      "4  in an office with other developers     Portuguese   \n",
      "6                       no preference        English   \n",
      "\n",
      "                     MaritalStatus  MoneyForLearning  MonthsProgramming  \\\n",
      "1            single, never married              80.0                6.0   \n",
      "2            single, never married            1000.0                5.0   \n",
      "3  married or domestic partnership               0.0                5.0   \n",
      "4            single, never married               0.0               24.0   \n",
      "6  married or domestic partnership               0.0               12.0   \n",
      "\n",
      "    NetworkID         Part1EndTime       Part1StartTime         Part2EndTime  \\\n",
      "1  f8f8be6910  2017-03-09 00:37:07  2017-03-09 00:33:26  2017-03-09 00:38:59   \n",
      "2  2ed189768e  2017-03-09 00:37:58  2017-03-09 00:33:53  2017-03-09 00:40:14   \n",
      "3  dbdc0664d1  2017-03-09 00:40:13  2017-03-09 00:37:45  2017-03-09 00:42:26   \n",
      "4  11b0f2d8a9  2017-03-09 00:42:45  2017-03-09 00:39:44  2017-03-09 00:45:42   \n",
      "6  f4abfae20d  2017-03-09 00:45:33  2017-03-09 00:41:27  2017-03-09 00:48:49   \n",
      "\n",
      "        Part2StartTime  PodcastChangeLog  PodcastCodeNewbie  PodcastCodePen  \\\n",
      "1  2017-03-09 00:37:10               NaN                1.0             NaN   \n",
      "2  2017-03-09 00:38:02               1.0                NaN             1.0   \n",
      "3  2017-03-09 00:40:18               NaN                NaN             NaN   \n",
      "4  2017-03-09 00:42:50               NaN                NaN             NaN   \n",
      "6  2017-03-09 00:45:52               NaN                NaN             NaN   \n",
      "\n",
      "   PodcastDevTea  PodcastDotNET  PodcastGiantRobots  PodcastJSAir  \\\n",
      "1            NaN            NaN                 NaN           NaN   \n",
      "2            NaN            NaN                 NaN           NaN   \n",
      "3            NaN            NaN                 NaN           NaN   \n",
      "4            NaN            NaN                 NaN           NaN   \n",
      "6            NaN            NaN                 NaN           NaN   \n",
      "\n",
      "   PodcastJSJabber  PodcastNone PodcastOther  PodcastProgThrowdown  \\\n",
      "1              NaN          NaN          NaN                   NaN   \n",
      "2              NaN          NaN   Codenewbie                   NaN   \n",
      "3              NaN          NaN          NaN                   NaN   \n",
      "4              NaN          NaN          NaN                   NaN   \n",
      "6              NaN          NaN          NaN                   NaN   \n",
      "\n",
      "   PodcastRubyRogues  PodcastSEDaily  PodcastSERadio  PodcastShopTalk  \\\n",
      "1                NaN             NaN             NaN              NaN   \n",
      "2                NaN             NaN             NaN              1.0   \n",
      "3                NaN             NaN             NaN              NaN   \n",
      "4                NaN             NaN             NaN              NaN   \n",
      "6                NaN             NaN             NaN              NaN   \n",
      "\n",
      "   PodcastTalkPython  PodcastTheWebAhead  ResourceCodecademy  \\\n",
      "1                NaN                 NaN                 1.0   \n",
      "2                NaN                 NaN                 1.0   \n",
      "3                NaN                 NaN                 NaN   \n",
      "4                NaN                 NaN                 NaN   \n",
      "6                NaN                 NaN                 1.0   \n",
      "\n",
      "   ResourceCodeWars  ResourceCoursera  ResourceCSS  ResourceEdX  \\\n",
      "1               NaN               NaN          1.0          NaN   \n",
      "2               NaN               NaN          1.0          NaN   \n",
      "3               NaN               NaN          NaN          NaN   \n",
      "4               NaN               NaN          NaN          NaN   \n",
      "6               NaN               NaN          NaN          NaN   \n",
      "\n",
      "   ResourceEgghead  ResourceFCC  ResourceHackerRank  ResourceKA  \\\n",
      "1              NaN          1.0                 NaN         NaN   \n",
      "2              NaN          1.0                 NaN         NaN   \n",
      "3              1.0          1.0                 NaN         NaN   \n",
      "4              NaN          NaN                 NaN         NaN   \n",
      "6              NaN          1.0                 NaN         NaN   \n",
      "\n",
      "   ResourceLynda  ResourceMDN  ResourceOdinProj ResourceOther  \\\n",
      "1            NaN          NaN               NaN           NaN   \n",
      "2            NaN          1.0               NaN           NaN   \n",
      "3            NaN          1.0               NaN           NaN   \n",
      "4            NaN          NaN               NaN           NaN   \n",
      "6            NaN          NaN               NaN     Sololearn   \n",
      "\n",
      "   ResourcePluralSight  ResourceSkillcrush  ResourceSO  ResourceTreehouse  \\\n",
      "1                  NaN                 NaN         1.0                NaN   \n",
      "2                  NaN                 NaN         NaN                NaN   \n",
      "3                  NaN                 NaN         1.0                NaN   \n",
      "4                  NaN                 NaN         1.0                NaN   \n",
      "6                  1.0                 NaN         1.0                NaN   \n",
      "\n",
      "   ResourceUdacity  ResourceUdemy  ResourceW3S  \\\n",
      "1              NaN            1.0          1.0   \n",
      "2              1.0            1.0          NaN   \n",
      "3              NaN            NaN          NaN   \n",
      "4              NaN            NaN          NaN   \n",
      "6              NaN            NaN          1.0   \n",
      "\n",
      "                              SchoolDegree             SchoolMajor  \\\n",
      "1           some college credit, no degree                     NaN   \n",
      "2  high school diploma or equivalent (GED)                     NaN   \n",
      "3           some college credit, no degree                     NaN   \n",
      "4                        bachelor's degree  Information Technology   \n",
      "6           some college credit, no degree                     NaN   \n",
      "\n",
      "   StudentDebtOwe  YouTubeCodeCourse  YouTubeCodingTrain  YouTubeCodingTut360  \\\n",
      "1             NaN                NaN                 NaN                  NaN   \n",
      "2             NaN                NaN                 NaN                  1.0   \n",
      "3             NaN                NaN                 NaN                  NaN   \n",
      "4             NaN                NaN                 NaN                  NaN   \n",
      "6          8000.0                NaN                 NaN                  NaN   \n",
      "\n",
      "   YouTubeComputerphile  YouTubeDerekBanas  YouTubeDevTips  \\\n",
      "1                   NaN                NaN             NaN   \n",
      "2                   NaN                1.0             1.0   \n",
      "3                   NaN                NaN             1.0   \n",
      "4                   NaN                NaN             NaN   \n",
      "6                   NaN                NaN             NaN   \n",
      "\n",
      "   YouTubeEngineeredTruth  YouTubeFCC  YouTubeFunFunFunction  \\\n",
      "1                     NaN         1.0                    NaN   \n",
      "2                     NaN         NaN                    NaN   \n",
      "3                     NaN         1.0                    1.0   \n",
      "4                     NaN         NaN                    NaN   \n",
      "6                     NaN         NaN                    NaN   \n",
      "\n",
      "   YouTubeGoogleDev  YouTubeLearnCode  YouTubeLevelUpTuts  YouTubeMIT  \\\n",
      "1               NaN               NaN                 NaN         NaN   \n",
      "2               NaN               1.0                 1.0         NaN   \n",
      "3               NaN               NaN                 1.0         NaN   \n",
      "4               NaN               NaN                 NaN         NaN   \n",
      "6               NaN               NaN                 NaN         NaN   \n",
      "\n",
      "   YouTubeMozillaHacks YouTubeOther  YouTubeSimplilearn  YouTubeTheNewBoston  \\\n",
      "1                  NaN          NaN                 NaN                  NaN   \n",
      "2                  NaN          NaN                 NaN                  NaN   \n",
      "3                  NaN          NaN                 NaN                  NaN   \n",
      "4                  NaN          NaN                 NaN                  NaN   \n",
      "6                  NaN          NaN                 NaN                  NaN   \n",
      "\n",
      "   WebDev  MobDev  MoneyperMonth  \n",
      "1       1       0      13.333333  \n",
      "2       1       1     200.000000  \n",
      "3       1       0       0.000000  \n",
      "4       1       1       0.000000  \n",
      "6       1       0       0.000000  \n"
     ]
    }
   ],
   "source": [
    "sample3=sample2[(sample2[\"MoneyperMonth\"].notnull())|(sample2[\"CountryLive\"].notnull())]\n",
    "print(sample3.head())"
   ]
  },
  {
   "cell_type": "code",
   "execution_count": 25,
   "metadata": {
    "collapsed": false
   },
   "outputs": [
    {
     "name": "stdout",
     "output_type": "stream",
     "text": [
      "                          MoneyperMonth\n",
      "CountryLive                            \n",
      "United States of America     227.997996\n",
      "India                        135.100982\n",
      "United Kingdom                45.534443\n",
      "Canada                       113.510961\n"
     ]
    }
   ],
   "source": [
    "grouped2 = sample3[['CountryLive', \"MoneyperMonth\"]].groupby('CountryLive')\n",
    "mean_df=grouped2.agg(np.mean)\n",
    "mean_df=mean_df.loc[[\"United States of America\", \"India\", \"United Kingdom\", \"Canada\"], :]\n",
    "print(mean_df)"
   ]
  },
  {
   "cell_type": "markdown",
   "metadata": {},
   "source": [
    "The results for the United Kingdom and Canada are a bit surprising relative to the values we see for India. If we considered a few socio-economical metrics (like GDP per capita), we'd intuitively expect people in the UK and Canada to spend more on learning than people in India.\n",
    "\n",
    "It might be that we don't have have enough representative data for the United Kingdom and Canada, or we have some outliers (maybe coming from wrong survey answers) making the mean too large for India, or too low for the UK and Canada. Or it might be that the results are correct."
   ]
  },
  {
   "cell_type": "markdown",
   "metadata": {},
   "source": [
    "## Dealing with Extreme Outliers"
   ]
  },
  {
   "cell_type": "markdown",
   "metadata": {},
   "source": [
    "I'll use box plots to visualize the distribution of the money_per_month variable for each country."
   ]
  },
  {
   "cell_type": "code",
   "execution_count": 26,
   "metadata": {
    "collapsed": false
   },
   "outputs": [
    {
     "name": "stderr",
     "output_type": "stream",
     "text": [
      "/dataquest/system/env/python3/lib/python3.4/site-packages/seaborn/categorical.py:454: FutureWarning: remove_na is deprecated and is a private function. Do not use.\n",
      "  box_data = remove_na(group_data)\n"
     ]
    },
    {
     "data": {
      "text/plain": [
       "(0, 10000)"
      ]
     },
     "execution_count": 26,
     "metadata": {},
     "output_type": "execute_result"
    },
    {
     "data": {
      "image/png": "[encoded data removed]",
      "text/plain": [
       "<matplotlib.figure.Figure at 0x7f53bb7e9eb8>"
      ]
     },
     "metadata": {},
     "output_type": "display_data"
    }
   ],
   "source": [
    "countries=[\"United States of America\", \"India\", \"United Kingdom\", \"Canada\"]\n",
    "sample4=sample3[sample3['CountryLive'].isin(countries)]\n",
    "\n",
    "import seaborn as sns\n",
    "\n",
    "ax=sns.boxplot(x = 'CountryLive', y = 'MoneyperMonth', data = sample4)\n",
    "ax.set_ylim([0, 10000])"
   ]
  },
  {
   "cell_type": "code",
   "execution_count": 27,
   "metadata": {
    "collapsed": false
   },
   "outputs": [
    {
     "name": "stderr",
     "output_type": "stream",
     "text": [
      "/dataquest/system/env/python3/lib/python3.4/site-packages/seaborn/categorical.py:454: FutureWarning: remove_na is deprecated and is a private function. Do not use.\n",
      "  box_data = remove_na(group_data)\n"
     ]
    },
    {
     "data": {
      "text/plain": [
       "(0, 100)"
      ]
     },
     "execution_count": 27,
     "metadata": {},
     "output_type": "execute_result"
    },
    {
     "data": {
      "image/png": "[encoded data removed]",
      "text/plain": [
       "<matplotlib.figure.Figure at 0x7f53bb807438>"
      ]
     },
     "metadata": {},
     "output_type": "display_data"
    }
   ],
   "source": [
    "ax=sns.boxplot(x = 'CountryLive', y = 'MoneyperMonth', data = sample4)\n",
    "ax.set_ylim([0, 100])"
   ]
  },
  {
   "cell_type": "markdown",
   "metadata": {},
   "source": [
    "### The India distribution is dominated by outliers!"
   ]
  },
  {
   "cell_type": "code",
   "execution_count": 28,
   "metadata": {
    "collapsed": false
   },
   "outputs": [
    {
     "name": "stdout",
     "output_type": "stream",
     "text": [
      "[125.0, 33.125, 51.04166666666666, 62.5]\n"
     ]
    }
   ],
   "source": [
    "list_outliers=[]\n",
    "for c in countries:\n",
    "    df_temp=sample4[sample4['CountryLive']==c]\n",
    "    series_percentiles = df_temp['MoneyperMonth'].describe(percentiles = [.25, .75])\n",
    "    iqr = series_percentiles.loc[\"75%\"] - series_percentiles.loc[\"25%\"]\n",
    "    upper_bound = series_percentiles.loc[\"75%\"] + 1.5 * iqr\n",
    "    list_outliers.append(upper_bound)\n",
    "print(list_outliers)"
   ]
  },
  {
   "cell_type": "code",
   "execution_count": 29,
   "metadata": {
    "collapsed": false
   },
   "outputs": [
    {
     "name": "stdout",
     "output_type": "stream",
     "text": [
      "United States of America    125.000000\n",
      "India                        33.125000\n",
      "United Kingdom               51.041667\n",
      "Canada                       62.500000\n",
      "dtype: float64\n"
     ]
    }
   ],
   "source": [
    "series_outliers=pd.Series(list_outliers, index=countries)\n",
    "print(series_outliers)"
   ]
  },
  {
   "cell_type": "code",
   "execution_count": 30,
   "metadata": {
    "collapsed": false
   },
   "outputs": [
    {
     "name": "stdout",
     "output_type": "stream",
     "text": [
      "1        0\n",
      "2        1\n",
      "6        0\n",
      "13       0\n",
      "14       0\n",
      "15       0\n",
      "16       0\n",
      "18       0\n",
      "19       0\n",
      "21       0\n",
      "22       1\n",
      "23       0\n",
      "28       0\n",
      "30       0\n",
      "31       0\n",
      "32       0\n",
      "33       0\n",
      "34       0\n",
      "35       0\n",
      "37       0\n",
      "40       0\n",
      "42       0\n",
      "52       0\n",
      "55       0\n",
      "58       0\n",
      "63       0\n",
      "64       0\n",
      "66       0\n",
      "67       0\n",
      "68       1\n",
      "        ..\n",
      "17995    0\n",
      "17996    0\n",
      "18000    0\n",
      "18003    0\n",
      "18006    0\n",
      "18007    0\n",
      "18014    0\n",
      "18015    0\n",
      "18017    0\n",
      "18020    0\n",
      "18037    0\n",
      "18039    0\n",
      "18041    0\n",
      "18043    0\n",
      "18044    0\n",
      "18049    0\n",
      "18050    0\n",
      "18052    0\n",
      "18055    0\n",
      "18069    0\n",
      "18071    0\n",
      "18093    0\n",
      "18107    1\n",
      "18111    1\n",
      "18113    0\n",
      "18129    0\n",
      "18130    0\n",
      "18156    1\n",
      "18163    0\n",
      "18174    0\n",
      "Name: outliers, Length: 4228, dtype: int64\n"
     ]
    }
   ],
   "source": [
    "sample5=sample4.copy()\n",
    "def lim_outliers(row):\n",
    "    for c in countries:\n",
    "        if row['CountryLive']==c:\n",
    "            if row['MoneyperMonth']>series_outliers[c]:\n",
    "                return 1\n",
    "            else:\n",
    "                return 0       \n",
    "sample5[\"outliers\"]=sample5.apply(lim_outliers, axis=1)\n",
    "print(sample5[\"outliers\"])"
   ]
  },
  {
   "cell_type": "code",
   "execution_count": 31,
   "metadata": {
    "collapsed": false
   },
   "outputs": [
    {
     "name": "stdout",
     "output_type": "stream",
     "text": [
      "(3605, 140)\n"
     ]
    }
   ],
   "source": [
    "sample6=sample5.copy()\n",
    "sample6=sample6[sample6[\"outliers\"]==0]\n",
    "print(sample6.shape)"
   ]
  },
  {
   "cell_type": "code",
   "execution_count": 32,
   "metadata": {
    "collapsed": false
   },
   "outputs": [
    {
     "name": "stdout",
     "output_type": "stream",
     "text": [
      "                          MoneyperMonth\n",
      "CountryLive                            \n",
      "Canada                         6.826765\n",
      "India                          2.530940\n",
      "United Kingdom                 6.096647\n",
      "United States of America      14.428544\n"
     ]
    }
   ],
   "source": [
    "grouped3 = sample6[['CountryLive', \"MoneyperMonth\"]].groupby('CountryLive')\n",
    "mean_df=grouped3.agg(np.mean)\n",
    "print(mean_df)"
   ]
  },
  {
   "cell_type": "code",
   "execution_count": 33,
   "metadata": {
    "collapsed": false
   },
   "outputs": [
    {
     "name": "stderr",
     "output_type": "stream",
     "text": [
      "/dataquest/system/env/python3/lib/python3.4/site-packages/seaborn/categorical.py:454: FutureWarning: remove_na is deprecated and is a private function. Do not use.\n",
      "  box_data = remove_na(group_data)\n"
     ]
    },
    {
     "data": {
      "text/plain": [
       "(0, 100)"
      ]
     },
     "execution_count": 33,
     "metadata": {},
     "output_type": "execute_result"
    },
    {
     "data": {
      "image/png": "[encoded data removed]",
      "text/plain": [
       "<matplotlib.figure.Figure at 0x7f53b336b940>"
      ]
     },
     "metadata": {},
     "output_type": "display_data"
    }
   ],
   "source": [
    "ax=sns.boxplot(x = 'CountryLive', y = 'MoneyperMonth', data = sample6)\n",
    "ax.set_ylim([0, 100])"
   ]
  },
  {
   "cell_type": "code",
   "execution_count": 34,
   "metadata": {
    "collapsed": false
   },
   "outputs": [
    {
     "name": "stdout",
     "output_type": "stream",
     "text": [
      "                          MoneyperMonth\n",
      "CountryLive                            \n",
      "Canada                      1379.006539\n",
      "India                        938.978677\n",
      "United Kingdom              1426.615383\n",
      "United States of America   35854.930911\n"
     ]
    }
   ],
   "source": [
    "grouped4 = sample6[['CountryLive', \"MoneyperMonth\"]].groupby('CountryLive')\n",
    "total_money_per_country=grouped4.agg(np.sum)\n",
    "print(total_money_per_country)"
   ]
  },
  {
   "cell_type": "markdown",
   "metadata": {},
   "source": [
    "## Conclusions"
   ]
  },
  {
   "cell_type": "markdown",
   "metadata": {},
   "source": [
    "While it's clear the first market should be USA, the second is not so obvious.\n",
    "Canada and UK are both good markets according to my calculations and assumptions.\n",
    "Maybe it's better to consult the marketing team to select the \"easier\" market."
   ]
  }
 ],
 "metadata": {
  "kernelspec": {
   "display_name": "Python 3",
   "language": "python",
   "name": "python3"
  },
  "language_info": {
   "codemirror_mode": {
    "name": "ipython",
    "version": 3
   },
   "file_extension": ".py",
   "mimetype": "text/x-python",
   "name": "python",
   "nbconvert_exporter": "python",
   "pygments_lexer": "ipython3",
   "version": "3.4.3"
  }
 },
 "nbformat": 4,
 "nbformat_minor": 2
}
