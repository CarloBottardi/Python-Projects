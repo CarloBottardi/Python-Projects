{
 "cells": [
  {
   "cell_type": "markdown",
   "metadata": {},
   "source": [
    "# Predicting House Sale Prices"
   ]
  },
  {
   "cell_type": "markdown",
   "metadata": {},
   "source": [
    "I explored how the linear regression model worked, understood how the two different approaches to model fitting worked, and learned some techniques for cleaning, transforming, and selecting features. In this project, I can practice what I learned.\n",
    "\n",
    "I'll work with housing data for the city of Ames, Iowa, United States from 2006 to 2010 with the goal of predict the prices."
   ]
  },
  {
   "cell_type": "markdown",
   "metadata": {},
   "source": [
    "## Introduction"
   ]
  },
  {
   "cell_type": "markdown",
   "metadata": {},
   "source": [
    "For now I'll import the needed libraries, I'll read the dataset and create the skeleton of 3 functions that I'll expand later."
   ]
  },
  {
   "cell_type": "code",
   "execution_count": 1,
   "metadata": {
    "collapsed": true
   },
   "outputs": [],
   "source": [
    "import pandas as pd\n",
    "import matplotlib.pyplot as plt\n",
    "import numpy as np\n",
    "from sklearn.linear_model import LinearRegression\n",
    "from sklearn.metrics import mean_squared_error\n",
    "pd.options.display.max_columns = 999"
   ]
  },
  {
   "cell_type": "code",
   "execution_count": 2,
   "metadata": {
    "collapsed": false
   },
   "outputs": [],
   "source": [
    "data = pd.read_csv('AmesHousing.tsv', delimiter=\"\\t\")"
   ]
  },
  {
   "cell_type": "code",
   "execution_count": 3,
   "metadata": {
    "collapsed": true
   },
   "outputs": [],
   "source": [
    "def transform_features(df):\n",
    "    return df"
   ]
  },
  {
   "cell_type": "code",
   "execution_count": 4,
   "metadata": {
    "collapsed": true
   },
   "outputs": [],
   "source": [
    "def select_features(df):\n",
    "    return df.loc[:,[\"Gr Liv Area\", \"SalePrice\"]]"
   ]
  },
  {
   "cell_type": "code",
   "execution_count": 5,
   "metadata": {
    "collapsed": true
   },
   "outputs": [],
   "source": [
    "def train_and_test(df):\n",
    "    train = df[0:1460]\n",
    "    test = df[1460:]\n",
    "    numerical_train=select_features(df).select_dtypes(include=np.number).drop(\"SalePrice\", axis=1)\n",
    "    features=numerical_train.columns\n",
    "    lr = LinearRegression()\n",
    "    lr.fit(train[features], train[\"SalePrice\"])\n",
    "    predictions_test = lr.predict(test[features])\n",
    "    test_mse=mean_squared_error(test[\"SalePrice\"], predictions_test)\n",
    "    test_rmse=test_mse**(1/2)\n",
    "    return test_rmse"
   ]
  },
  {
   "cell_type": "code",
   "execution_count": 6,
   "metadata": {
    "collapsed": false
   },
   "outputs": [
    {
     "name": "stdout",
     "output_type": "stream",
     "text": [
      "57088.25161263909\n"
     ]
    }
   ],
   "source": [
    "print(train_and_test(data))"
   ]
  },
  {
   "cell_type": "markdown",
   "metadata": {},
   "source": [
    "## Feature Engineering"
   ]
  },
  {
   "cell_type": "markdown",
   "metadata": {},
   "source": [
    "Handle missing values:\n",
    "\n",
    "- Drop any column with 5% or more missing values for now.\n",
    "- For columns with less missing values, fill in with the most common value in that column."
   ]
  },
  {
   "cell_type": "code",
   "execution_count": 7,
   "metadata": {
    "collapsed": false
   },
   "outputs": [
    {
     "name": "stdout",
     "output_type": "stream",
     "text": [
      "<class 'pandas.core.frame.DataFrame'>\n",
      "RangeIndex: 1460 entries, 0 to 1459\n",
      "Data columns (total 71 columns):\n",
      "Order              1460 non-null int64\n",
      "PID                1460 non-null int64\n",
      "MS SubClass        1460 non-null int64\n",
      "MS Zoning          1460 non-null object\n",
      "Lot Area           1460 non-null int64\n",
      "Street             1460 non-null object\n",
      "Lot Shape          1460 non-null object\n",
      "Land Contour       1460 non-null object\n",
      "Utilities          1460 non-null object\n",
      "Lot Config         1460 non-null object\n",
      "Land Slope         1460 non-null object\n",
      "Neighborhood       1460 non-null object\n",
      "Condition 1        1460 non-null object\n",
      "Condition 2        1460 non-null object\n",
      "Bldg Type          1460 non-null object\n",
      "House Style        1460 non-null object\n",
      "Overall Qual       1460 non-null int64\n",
      "Overall Cond       1460 non-null int64\n",
      "Year Built         1460 non-null int64\n",
      "Year Remod/Add     1460 non-null int64\n",
      "Roof Style         1460 non-null object\n",
      "Roof Matl          1460 non-null object\n",
      "Exterior 1st       1460 non-null object\n",
      "Exterior 2nd       1460 non-null object\n",
      "Mas Vnr Type       1449 non-null object\n",
      "Mas Vnr Area       1449 non-null float64\n",
      "Exter Qual         1460 non-null object\n",
      "Exter Cond         1460 non-null object\n",
      "Foundation         1460 non-null object\n",
      "Bsmt Qual          1420 non-null object\n",
      "Bsmt Cond          1420 non-null object\n",
      "Bsmt Exposure      1419 non-null object\n",
      "BsmtFin Type 1     1420 non-null object\n",
      "BsmtFin SF 1       1459 non-null float64\n",
      "BsmtFin Type 2     1419 non-null object\n",
      "BsmtFin SF 2       1459 non-null float64\n",
      "Bsmt Unf SF        1459 non-null float64\n",
      "Total Bsmt SF      1459 non-null float64\n",
      "Heating            1460 non-null object\n",
      "Heating QC         1460 non-null object\n",
      "Central Air        1460 non-null object\n",
      "Electrical         1460 non-null object\n",
      "1st Flr SF         1460 non-null int64\n",
      "2nd Flr SF         1460 non-null int64\n",
      "Low Qual Fin SF    1460 non-null int64\n",
      "Gr Liv Area        1460 non-null int64\n",
      "Bsmt Full Bath     1459 non-null float64\n",
      "Bsmt Half Bath     1459 non-null float64\n",
      "Full Bath          1460 non-null int64\n",
      "Half Bath          1460 non-null int64\n",
      "Bedroom AbvGr      1460 non-null int64\n",
      "Kitchen AbvGr      1460 non-null int64\n",
      "Kitchen Qual       1460 non-null object\n",
      "TotRms AbvGrd      1460 non-null int64\n",
      "Functional         1460 non-null object\n",
      "Fireplaces         1460 non-null int64\n",
      "Garage Cars        1460 non-null float64\n",
      "Garage Area        1460 non-null float64\n",
      "Paved Drive        1460 non-null object\n",
      "Wood Deck SF       1460 non-null int64\n",
      "Open Porch SF      1460 non-null int64\n",
      "Enclosed Porch     1460 non-null int64\n",
      "3Ssn Porch         1460 non-null int64\n",
      "Screen Porch       1460 non-null int64\n",
      "Pool Area          1460 non-null int64\n",
      "Misc Val           1460 non-null int64\n",
      "Mo Sold            1460 non-null int64\n",
      "Yr Sold            1460 non-null int64\n",
      "Sale Type          1460 non-null object\n",
      "Sale Condition     1460 non-null object\n",
      "SalePrice          1460 non-null int64\n",
      "dtypes: float64(9), int64(28), object(34)\n",
      "memory usage: 809.9+ KB\n"
     ]
    }
   ],
   "source": [
    "train=data[0:1460]\n",
    "nans=train.isnull().sum()\n",
    "cols_to_drop=nans[nans>(len(train)//20)].index\n",
    "train2=train.drop(cols_to_drop, axis=1)\n",
    "train2.info()"
   ]
  },
  {
   "cell_type": "code",
   "execution_count": 8,
   "metadata": {
    "collapsed": false
   },
   "outputs": [
    {
     "name": "stdout",
     "output_type": "stream",
     "text": [
      "Index(['Mas Vnr Type', 'Mas Vnr Area', 'Bsmt Qual', 'Bsmt Cond',\n",
      "       'Bsmt Exposure', 'BsmtFin Type 1', 'BsmtFin SF 1', 'BsmtFin Type 2',\n",
      "       'BsmtFin SF 2', 'Bsmt Unf SF', 'Total Bsmt SF', 'Bsmt Full Bath',\n",
      "       'Bsmt Half Bath'],\n",
      "      dtype='object')\n"
     ]
    }
   ],
   "source": [
    "nans2=train2.isnull().sum()\n",
    "cols_few_nans=nans2[(nans2<(len(train)//20))&(nans2>0)].index\n",
    "print(cols_few_nans)"
   ]
  },
  {
   "cell_type": "code",
   "execution_count": 9,
   "metadata": {
    "collapsed": false
   },
   "outputs": [
    {
     "name": "stdout",
     "output_type": "stream",
     "text": [
      "Order              0\n",
      "PID                0\n",
      "MS SubClass        0\n",
      "MS Zoning          0\n",
      "Lot Area           0\n",
      "Street             0\n",
      "Lot Shape          0\n",
      "Land Contour       0\n",
      "Utilities          0\n",
      "Lot Config         0\n",
      "Land Slope         0\n",
      "Neighborhood       0\n",
      "Condition 1        0\n",
      "Condition 2        0\n",
      "Bldg Type          0\n",
      "House Style        0\n",
      "Overall Qual       0\n",
      "Overall Cond       0\n",
      "Year Built         0\n",
      "Year Remod/Add     0\n",
      "Roof Style         0\n",
      "Roof Matl          0\n",
      "Exterior 1st       0\n",
      "Exterior 2nd       0\n",
      "Mas Vnr Type       0\n",
      "Mas Vnr Area       0\n",
      "Exter Qual         0\n",
      "Exter Cond         0\n",
      "Foundation         0\n",
      "Bsmt Qual          0\n",
      "                  ..\n",
      "Electrical         0\n",
      "1st Flr SF         0\n",
      "2nd Flr SF         0\n",
      "Low Qual Fin SF    0\n",
      "Gr Liv Area        0\n",
      "Bsmt Full Bath     0\n",
      "Bsmt Half Bath     0\n",
      "Full Bath          0\n",
      "Half Bath          0\n",
      "Bedroom AbvGr      0\n",
      "Kitchen AbvGr      0\n",
      "Kitchen Qual       0\n",
      "TotRms AbvGrd      0\n",
      "Functional         0\n",
      "Fireplaces         0\n",
      "Garage Cars        0\n",
      "Garage Area        0\n",
      "Paved Drive        0\n",
      "Wood Deck SF       0\n",
      "Open Porch SF      0\n",
      "Enclosed Porch     0\n",
      "3Ssn Porch         0\n",
      "Screen Porch       0\n",
      "Pool Area          0\n",
      "Misc Val           0\n",
      "Mo Sold            0\n",
      "Yr Sold            0\n",
      "Sale Type          0\n",
      "Sale Condition     0\n",
      "SalePrice          0\n",
      "Length: 71, dtype: int64\n"
     ]
    }
   ],
   "source": [
    "train3=train2.copy()\n",
    "for column in cols_few_nans:\n",
    "    train3[column].fillna(train3[column].mode()[0], inplace=True)\n",
    "print(train3.isnull().sum())"
   ]
  },
  {
   "cell_type": "code",
   "execution_count": 10,
   "metadata": {
    "collapsed": false
   },
   "outputs": [
    {
     "name": "stdout",
     "output_type": "stream",
     "text": [
      "0\n"
     ]
    }
   ],
   "source": [
    "print(train3.isnull().sum().sum())"
   ]
  },
  {
   "cell_type": "markdown",
   "metadata": {},
   "source": [
    "What new features can we create, that better capture the information in some of the features?"
   ]
  },
  {
   "cell_type": "code",
   "execution_count": 11,
   "metadata": {
    "collapsed": false
   },
   "outputs": [
    {
     "name": "stdout",
     "output_type": "stream",
     "text": [
      "22     4\n",
      "24     4\n",
      "57     5\n",
      "27     6\n",
      "26     7\n",
      "28     7\n",
      "23     7\n",
      "25     9\n",
      "36    10\n",
      "21    10\n",
      "29    10\n",
      "19    10\n",
      "20    11\n",
      "34    11\n",
      "41    11\n",
      "46    11\n",
      "55    12\n",
      "56    12\n",
      "54    12\n",
      "38    13\n",
      "37    13\n",
      "45    13\n",
      "43    13\n",
      "47    13\n",
      "49    13\n",
      "18    13\n",
      "52    14\n",
      "35    15\n",
      "53    15\n",
      "40    16\n",
      "      ..\n",
      "48    16\n",
      "44    17\n",
      "17    18\n",
      "42    19\n",
      "33    19\n",
      "32    20\n",
      "15    20\n",
      "30    20\n",
      "31    21\n",
      "51    22\n",
      "16    23\n",
      "39    25\n",
      "13    27\n",
      "12    31\n",
      "14    31\n",
      "11    35\n",
      "10    37\n",
      "60    42\n",
      "7     42\n",
      "9     44\n",
      "8     50\n",
      "6     50\n",
      "5     55\n",
      "2     55\n",
      "58    55\n",
      "3     58\n",
      "4     59\n",
      "0     60\n",
      "1     75\n",
      "59    78\n",
      "Name: years_until_remod, Length: 61, dtype: int64\n"
     ]
    }
   ],
   "source": [
    "train4=train3.copy()\n",
    "train4[\"years_until_remod\"]=train4['Yr Sold']-train4['Year Remod/Add']\n",
    "values_remod=train4[\"years_until_remod\"].value_counts().sort_values()\n",
    "print(values_remod)"
   ]
  },
  {
   "cell_type": "code",
   "execution_count": 12,
   "metadata": {
    "collapsed": false
   },
   "outputs": [
    {
     "name": "stdout",
     "output_type": "stream",
     "text": [
      "136     1\n",
      "117     1\n",
      "127     1\n",
      "128     1\n",
      "125     1\n",
      "120     1\n",
      "97      1\n",
      "102     1\n",
      "115     1\n",
      "114     1\n",
      "111     1\n",
      "75      1\n",
      "107     1\n",
      "135     1\n",
      "104     1\n",
      "77      2\n",
      "96      2\n",
      "119     2\n",
      "92      2\n",
      "129     2\n",
      "118     2\n",
      "65      3\n",
      "23      3\n",
      "24      3\n",
      "27      3\n",
      "91      3\n",
      "72      3\n",
      "103     3\n",
      "64      3\n",
      "74      4\n",
      "       ..\n",
      "52     18\n",
      "49     18\n",
      "40     18\n",
      "50     19\n",
      "12     19\n",
      "43     19\n",
      "13     19\n",
      "60     19\n",
      "30     20\n",
      "48     21\n",
      "53     21\n",
      "15     22\n",
      "33     22\n",
      "31     24\n",
      "8      24\n",
      "0      24\n",
      "11     24\n",
      "39     26\n",
      "42     26\n",
      "10     28\n",
      "3      29\n",
      "32     29\n",
      "51     30\n",
      "9      30\n",
      "7      32\n",
      "4      36\n",
      "2      36\n",
      "5      45\n",
      "6      46\n",
      "1      74\n",
      "Name: years_before_sale, Length: 119, dtype: int64\n"
     ]
    }
   ],
   "source": [
    "train4[\"years_before_sale\"] = train4['Yr Sold']-train4['Year Built']\n",
    "values_sold=train4[\"years_before_sale\"].value_counts().sort_values()\n",
    "print(values_sold)"
   ]
  },
  {
   "cell_type": "markdown",
   "metadata": {},
   "source": [
    "Which columns need to be dropped for other reasons?\n",
    "\n",
    "- Which columns aren't useful for machine learning?\n",
    "- Which columns leak data about the final sale?"
   ]
  },
  {
   "cell_type": "code",
   "execution_count": 13,
   "metadata": {
    "collapsed": false
   },
   "outputs": [
    {
     "name": "stdout",
     "output_type": "stream",
     "text": [
      "<class 'pandas.core.frame.DataFrame'>\n",
      "RangeIndex: 1460 entries, 0 to 1459\n",
      "Data columns (total 67 columns):\n",
      "MS SubClass          1460 non-null int64\n",
      "MS Zoning            1460 non-null object\n",
      "Lot Area             1460 non-null int64\n",
      "Street               1460 non-null object\n",
      "Lot Shape            1460 non-null object\n",
      "Land Contour         1460 non-null object\n",
      "Utilities            1460 non-null object\n",
      "Lot Config           1460 non-null object\n",
      "Land Slope           1460 non-null object\n",
      "Neighborhood         1460 non-null object\n",
      "Condition 1          1460 non-null object\n",
      "Condition 2          1460 non-null object\n",
      "Bldg Type            1460 non-null object\n",
      "House Style          1460 non-null object\n",
      "Overall Qual         1460 non-null int64\n",
      "Overall Cond         1460 non-null int64\n",
      "Year Built           1460 non-null int64\n",
      "Year Remod/Add       1460 non-null int64\n",
      "Roof Style           1460 non-null object\n",
      "Roof Matl            1460 non-null object\n",
      "Exterior 1st         1460 non-null object\n",
      "Exterior 2nd         1460 non-null object\n",
      "Mas Vnr Type         1460 non-null object\n",
      "Mas Vnr Area         1460 non-null float64\n",
      "Exter Qual           1460 non-null object\n",
      "Exter Cond           1460 non-null object\n",
      "Foundation           1460 non-null object\n",
      "Bsmt Qual            1460 non-null object\n",
      "Bsmt Cond            1460 non-null object\n",
      "Bsmt Exposure        1460 non-null object\n",
      "BsmtFin Type 1       1460 non-null object\n",
      "BsmtFin SF 1         1460 non-null float64\n",
      "BsmtFin Type 2       1460 non-null object\n",
      "BsmtFin SF 2         1460 non-null float64\n",
      "Bsmt Unf SF          1460 non-null float64\n",
      "Total Bsmt SF        1460 non-null float64\n",
      "Heating              1460 non-null object\n",
      "Heating QC           1460 non-null object\n",
      "Central Air          1460 non-null object\n",
      "Electrical           1460 non-null object\n",
      "1st Flr SF           1460 non-null int64\n",
      "2nd Flr SF           1460 non-null int64\n",
      "Low Qual Fin SF      1460 non-null int64\n",
      "Gr Liv Area          1460 non-null int64\n",
      "Bsmt Full Bath       1460 non-null float64\n",
      "Bsmt Half Bath       1460 non-null float64\n",
      "Full Bath            1460 non-null int64\n",
      "Half Bath            1460 non-null int64\n",
      "Bedroom AbvGr        1460 non-null int64\n",
      "Kitchen AbvGr        1460 non-null int64\n",
      "Kitchen Qual         1460 non-null object\n",
      "TotRms AbvGrd        1460 non-null int64\n",
      "Functional           1460 non-null object\n",
      "Fireplaces           1460 non-null int64\n",
      "Garage Cars          1460 non-null float64\n",
      "Garage Area          1460 non-null float64\n",
      "Paved Drive          1460 non-null object\n",
      "Wood Deck SF         1460 non-null int64\n",
      "Open Porch SF        1460 non-null int64\n",
      "Enclosed Porch       1460 non-null int64\n",
      "3Ssn Porch           1460 non-null int64\n",
      "Screen Porch         1460 non-null int64\n",
      "Pool Area            1460 non-null int64\n",
      "Misc Val             1460 non-null int64\n",
      "SalePrice            1460 non-null int64\n",
      "years_until_remod    1460 non-null int64\n",
      "years_before_sale    1460 non-null int64\n",
      "dtypes: float64(9), int64(26), object(32)\n",
      "memory usage: 764.3+ KB\n"
     ]
    }
   ],
   "source": [
    "train5=train4.copy()\n",
    "cols_to_drop=[\"PID\", \"Order\", \"Mo Sold\", \"Sale Condition\", \"Sale Type\", \"Yr Sold\"]\n",
    "train5=train5.drop(cols_to_drop, axis=1)\n",
    "train5.info()"
   ]
  },
  {
   "cell_type": "markdown",
   "metadata": {},
   "source": [
    "## Feature Selection"
   ]
  },
  {
   "cell_type": "markdown",
   "metadata": {},
   "source": [
    "It's now time to move on to select the most useful features.  "
   ]
  },
  {
   "cell_type": "code",
   "execution_count": 14,
   "metadata": {
    "collapsed": true
   },
   "outputs": [],
   "source": [
    "import seaborn as sns\n",
    "%matplotlib inline"
   ]
  },
  {
   "cell_type": "code",
   "execution_count": 15,
   "metadata": {
    "collapsed": false
   },
   "outputs": [
    {
     "data": {
      "image/png": "[encoded data removed]",
      "text/plain": [
       "<matplotlib.figure.Figure at 0x7ff3b39b8208>"
      ]
     },
     "metadata": {},
     "output_type": "display_data"
    }
   ],
   "source": [
    "corrmat=train5.corr()\n",
    "sns.heatmap(corrmat)\n",
    "plt.show()"
   ]
  },
  {
   "cell_type": "markdown",
   "metadata": {},
   "source": [
    "I should keep the columns most correlated with the target (the \"price\" column). Since a negative correlation is fine as well let's sort the columns by the absolute value of correlation coefficient and make a ranking."
   ]
  },
  {
   "cell_type": "code",
   "execution_count": 16,
   "metadata": {
    "collapsed": false
   },
   "outputs": [
    {
     "name": "stdout",
     "output_type": "stream",
     "text": [
      "SalePrice            1.000000\n",
      "Overall Qual         0.804562\n",
      "Gr Liv Area          0.698990\n",
      "Total Bsmt SF        0.682986\n",
      "Garage Cars          0.663485\n",
      "Garage Area          0.662397\n",
      "1st Flr SF           0.657119\n",
      "years_before_sale    0.592273\n",
      "Year Built           0.591436\n",
      "years_until_remod    0.546212\n",
      "Year Remod/Add       0.545219\n",
      "Full Bath            0.518194\n",
      "Mas Vnr Area         0.513787\n",
      "BsmtFin SF 1         0.513579\n",
      "Fireplaces           0.485683\n",
      "TotRms AbvGrd        0.483701\n",
      "Open Porch SF        0.344383\n",
      "Wood Deck SF         0.319104\n",
      "Bsmt Full Bath       0.315024\n",
      "Lot Area             0.274730\n",
      "Name: SalePrice, dtype: float64\n"
     ]
    }
   ],
   "source": [
    "sorted_corrs=train5.corr().abs().loc[:,\"SalePrice\"].sort_values(ascending=False)\n",
    "print(sorted_corrs.head(20))"
   ]
  },
  {
   "cell_type": "code",
   "execution_count": 17,
   "metadata": {
    "collapsed": false
   },
   "outputs": [
    {
     "name": "stdout",
     "output_type": "stream",
     "text": [
      "35\n"
     ]
    }
   ],
   "source": [
    "numerical_cols=train5.select_dtypes(include=np.number).columns\n",
    "print(len(numerical_cols))"
   ]
  },
  {
   "cell_type": "code",
   "execution_count": 18,
   "metadata": {
    "collapsed": false
   },
   "outputs": [
    {
     "name": "stdout",
     "output_type": "stream",
     "text": [
      "['MS Zoning', 'Street', 'Lot Shape', 'Land Contour', 'Utilities', 'Lot Config', 'Land Slope', 'Condition 1', 'Condition 2', 'Bldg Type', 'House Style', 'Overall Cond', 'Roof Style', 'Roof Matl', 'Mas Vnr Type', 'Exter Qual', 'Exter Cond', 'Foundation', 'Bsmt Qual', 'Bsmt Cond', 'Bsmt Exposure', 'BsmtFin Type 1', 'BsmtFin Type 2', 'Heating', 'Heating QC', 'Central Air', 'Electrical', 'Bsmt Full Bath', 'Bsmt Half Bath', 'Full Bath', 'Half Bath', 'Bedroom AbvGr', 'Kitchen AbvGr', 'Kitchen Qual', 'Functional', 'Fireplaces', 'Garage Cars', 'Paved Drive', 'Pool Area']\n",
      "39\n"
     ]
    }
   ],
   "source": [
    "categ_cols=[]\n",
    "for column in train5.columns:\n",
    "    n_unique_values=len(train5[column].value_counts())\n",
    "    if n_unique_values<10:\n",
    "        categ_cols.append(column)\n",
    "print(categ_cols)\n",
    "print(len(categ_cols))"
   ]
  },
  {
   "cell_type": "code",
   "execution_count": 19,
   "metadata": {
    "collapsed": false
   },
   "outputs": [
    {
     "name": "stdout",
     "output_type": "stream",
     "text": [
      "['Overall Qual', 'Overall Cond', 'Bsmt Full Bath', 'Bsmt Half Bath', 'Full Bath', 'Half Bath', 'Bedroom AbvGr', 'Kitchen AbvGr', 'TotRms AbvGrd', 'Fireplaces', 'Garage Cars', 'Pool Area']\n",
      "12\n"
     ]
    }
   ],
   "source": [
    "categ_cols_num=[]\n",
    "for column in numerical_cols:\n",
    "    n_unique_values=len(train5[column].value_counts())\n",
    "    if n_unique_values<15:\n",
    "        categ_cols_num.append(column)\n",
    "print(categ_cols_num)\n",
    "print(len(categ_cols_num))"
   ]
  },
  {
   "cell_type": "code",
   "execution_count": 20,
   "metadata": {
    "collapsed": false
   },
   "outputs": [
    {
     "name": "stdout",
     "output_type": "stream",
     "text": [
      "['Street', 'Land Contour', 'Utilities', 'Land Slope', 'Condition 2', 'Roof Matl', 'Bsmt Cond', 'Heating', 'Central Air', 'Electrical', 'Bsmt Half Bath', 'Kitchen AbvGr', 'Functional', 'Paved Drive', 'Pool Area']\n",
      "15\n"
     ]
    }
   ],
   "source": [
    "cols_low_variance=[]\n",
    "for column in categ_cols:\n",
    "    first_value=train5[column].value_counts().sort_values(ascending=False).iloc[0]\n",
    "    ratio=first_value/train5[column].value_counts().sum()\n",
    "    if ratio>0.90:\n",
    "        cols_low_variance.append(column)\n",
    "print(cols_low_variance)\n",
    "print(len(cols_low_variance))"
   ]
  },
  {
   "cell_type": "code",
   "execution_count": 21,
   "metadata": {
    "collapsed": false
   },
   "outputs": [
    {
     "name": "stdout",
     "output_type": "stream",
     "text": [
      "Index(['SalePrice', 'Overall Qual', 'Gr Liv Area', 'Total Bsmt SF',\n",
      "       'Garage Cars', 'Garage Area', '1st Flr SF', 'years_before_sale',\n",
      "       'Year Built', 'years_until_remod', 'Year Remod/Add', 'Full Bath',\n",
      "       'Mas Vnr Area', 'BsmtFin SF 1', 'Fireplaces', 'TotRms AbvGrd'],\n",
      "      dtype='object')\n",
      "16\n"
     ]
    }
   ],
   "source": [
    "potential_features=sorted_corrs[sorted_corrs>0.4].index\n",
    "print(potential_features)\n",
    "print(len(potential_features))"
   ]
  },
  {
   "cell_type": "code",
   "execution_count": 22,
   "metadata": {
    "collapsed": false
   },
   "outputs": [
    {
     "name": "stdout",
     "output_type": "stream",
     "text": [
      "32\n"
     ]
    }
   ],
   "source": [
    "string_cols=train5.select_dtypes(include=['object']).columns\n",
    "print(len(string_cols))"
   ]
  },
  {
   "cell_type": "code",
   "execution_count": 23,
   "metadata": {
    "collapsed": false
   },
   "outputs": [
    {
     "name": "stdout",
     "output_type": "stream",
     "text": [
      "Neighborhood\n",
      "Exterior 1st\n",
      "Exterior 2nd\n",
      "['MS Zoning', 'Street', 'Lot Shape', 'Land Contour', 'Utilities', 'Lot Config', 'Land Slope', 'Condition 1', 'Condition 2', 'Bldg Type', 'House Style', 'Roof Style', 'Roof Matl', 'Mas Vnr Type', 'Exter Qual', 'Exter Cond', 'Foundation', 'Bsmt Qual', 'Bsmt Cond', 'Bsmt Exposure', 'BsmtFin Type 1', 'BsmtFin Type 2', 'Heating', 'Heating QC', 'Central Air', 'Electrical', 'Kitchen Qual', 'Functional', 'Paved Drive']\n",
      "29\n"
     ]
    }
   ],
   "source": [
    "categ_cols_str=[]\n",
    "for column in string_cols:\n",
    "    n_unique_values=len(train5[column].value_counts())\n",
    "    if n_unique_values<10:\n",
    "        categ_cols_str.append(column)\n",
    "    else:\n",
    "        print(column)\n",
    "print(categ_cols_str)\n",
    "print(len(categ_cols_str))"
   ]
  },
  {
   "cell_type": "code",
   "execution_count": 24,
   "metadata": {
    "collapsed": false
   },
   "outputs": [
    {
     "name": "stdout",
     "output_type": "stream",
     "text": [
      "['MS Zoning', 'Lot Shape', 'Lot Config', 'Condition 1', 'Bldg Type', 'House Style', 'Roof Style', 'Mas Vnr Type', 'Exter Qual', 'Exter Cond', 'Foundation', 'Bsmt Qual', 'Bsmt Exposure', 'BsmtFin Type 1', 'BsmtFin Type 2', 'Heating QC', 'Kitchen Qual']\n"
     ]
    }
   ],
   "source": [
    "cat_to_del=[]\n",
    "potential_features_str=[]\n",
    "for col in categ_cols_str:\n",
    "    if col in cols_low_variance:\n",
    "        cat_to_del.append(col)\n",
    "    else:\n",
    "        potential_features_str.append(col)\n",
    "print(potential_features_str)"
   ]
  },
  {
   "cell_type": "code",
   "execution_count": 25,
   "metadata": {
    "collapsed": false
   },
   "outputs": [
    {
     "name": "stdout",
     "output_type": "stream",
     "text": [
      "['SalePrice', 'Overall Qual', 'Gr Liv Area', 'Total Bsmt SF', 'Garage Cars', 'Garage Area', '1st Flr SF', 'years_before_sale', 'Year Built', 'years_until_remod', 'Year Remod/Add', 'Full Bath', 'Mas Vnr Area', 'BsmtFin SF 1', 'Fireplaces', 'TotRms AbvGrd']\n"
     ]
    }
   ],
   "source": [
    "potential_features_list=list(potential_features)\n",
    "print(potential_features_list)"
   ]
  },
  {
   "cell_type": "code",
   "execution_count": 26,
   "metadata": {
    "collapsed": false
   },
   "outputs": [
    {
     "name": "stdout",
     "output_type": "stream",
     "text": [
      "['SalePrice', 'Gr Liv Area', 'Total Bsmt SF', 'Garage Cars', 'Garage Area', '1st Flr SF', 'years_before_sale', 'Year Built', 'years_until_remod', 'Year Remod/Add', 'Full Bath', 'Mas Vnr Area', 'BsmtFin SF 1', 'Fireplaces', 'TotRms AbvGrd']\n"
     ]
    }
   ],
   "source": [
    "potential_features_list.remove('Overall Qual')\n",
    "print(potential_features_list)"
   ]
  },
  {
   "cell_type": "code",
   "execution_count": 27,
   "metadata": {
    "collapsed": false
   },
   "outputs": [
    {
     "name": "stdout",
     "output_type": "stream",
     "text": [
      "['MS Zoning', 'Lot Shape', 'Lot Config', 'Condition 1', 'Bldg Type', 'House Style', 'Roof Style', 'Mas Vnr Type', 'Exter Qual', 'Exter Cond', 'Foundation', 'Bsmt Qual', 'Bsmt Exposure', 'BsmtFin Type 1', 'BsmtFin Type 2', 'Heating QC', 'Kitchen Qual', 'Overall Qual']\n"
     ]
    }
   ],
   "source": [
    "potential_features_str.append('Overall Qual')\n",
    "print(potential_features_str)"
   ]
  },
  {
   "cell_type": "markdown",
   "metadata": {},
   "source": [
    "## Train and Test"
   ]
  },
  {
   "cell_type": "markdown",
   "metadata": {},
   "source": [
    "Up to now I have cleaned the dataset and selected the more suitable features. \n",
    "\n",
    "Now it's time of training and testing. When iterating on different features, using simple validation is a good idea. Let's add a parameter named k that controls the type of cross validation that occurs."
   ]
  },
  {
   "cell_type": "code",
   "execution_count": 28,
   "metadata": {
    "collapsed": false
   },
   "outputs": [
    {
     "name": "stdout",
     "output_type": "stream",
     "text": [
      "38399.72585731075\n",
      "35553.57082200654\n",
      "33234.374512600494\n",
      "32070.175270320964\n",
      "31304.787156384104\n",
      "31164.782785035204\n"
     ]
    }
   ],
   "source": [
    "from sklearn.model_selection import KFold\n",
    "\n",
    "def transform_features(df):\n",
    "    nans=df.isnull().sum()\n",
    "    cols_to_drop=nans[nans>(len(train)//20)].index\n",
    "    train2=df.drop(cols_to_drop, axis=1)\n",
    "    \n",
    "    nans2=train2.isnull().sum()\n",
    "    cols_few_nans=nans2[(nans2<(len(train)//20))&(nans2>0)].index\n",
    "    \n",
    "    train3=train2.copy()\n",
    "    for column in cols_few_nans:\n",
    "        train3[column].fillna(train3[column].mode()[0], inplace=True)\n",
    "    \n",
    "    train4=train3.copy()\n",
    "    train4[\"years_until_remod\"]=train4['Yr Sold']-train4['Year Remod/Add']\n",
    "    values_remod=train4[\"years_until_remod\"].value_counts().sort_values()\n",
    "    \n",
    "    train4[\"years_before_sale\"] = train4['Yr Sold']-train4['Year Built']\n",
    "    values_sold=train4[\"years_before_sale\"].value_counts().sort_values()\n",
    "    \n",
    "    train4 = train4.drop([\"PID\", \"Order\", \"Mo Sold\", \"Sale Condition\", \"Sale Type\", \"Year Built\", \"Year Remod/Add\"], axis=1)\n",
    "    return train4\n",
    "\n",
    "def select_features(df, coeff_threshold=0.4, uniq_threshold=10):\n",
    "    numerical_df = df.select_dtypes(include=['int', 'float'])\n",
    "    abs_corr_coeffs = numerical_df.corr()['SalePrice'].abs().sort_values()\n",
    "    df = df.drop(abs_corr_coeffs[abs_corr_coeffs < coeff_threshold].index, axis=1)\n",
    "    \n",
    "    nominal_features = [\"PID\", \"MS SubClass\", \"MS Zoning\", \"Street\", \"Alley\", \"Land Contour\", \"Lot Config\", \"Neighborhood\", \n",
    "                    \"Condition 1\", \"Condition 2\", \"Bldg Type\", \"House Style\", \"Roof Style\", \"Roof Matl\", \"Exterior 1st\", \n",
    "                    \"Exterior 2nd\", \"Mas Vnr Type\", \"Foundation\", \"Heating\", \"Central Air\", \"Garage Type\", \n",
    "                    \"Misc Feature\", \"Sale Type\", \"Sale Condition\"]\n",
    "    \n",
    "    transform_cat_cols = []\n",
    "    for col in nominal_features:\n",
    "        if col in df.columns:\n",
    "            transform_cat_cols.append(col)\n",
    "\n",
    "    uniqueness_counts = df[transform_cat_cols].apply(lambda col: len(col.value_counts())).sort_values()\n",
    "    drop_nonuniq_cols = uniqueness_counts[uniqueness_counts > 10].index\n",
    "    df = df.drop(drop_nonuniq_cols, axis=1)\n",
    "    \n",
    "    text_cols = df.select_dtypes(include=['object'])\n",
    "    for col in text_cols:\n",
    "        df[col] = df[col].astype('category')\n",
    "    df = pd.concat([df, pd.get_dummies(df.select_dtypes(include=['category']))], axis=1).drop(text_cols,axis=1)\n",
    "    \n",
    "    return df\n",
    "\n",
    "def train_and_test(df, k=0):\n",
    "    numeric_df = df.select_dtypes(include=['integer', 'float'])\n",
    "    features = numeric_df.columns.drop(\"SalePrice\")\n",
    "    lr = LinearRegression()\n",
    "    \n",
    "    if k == 0:\n",
    "        train = df[:1460]\n",
    "        test = df[1460:]\n",
    "\n",
    "        lr.fit(train[features], train[\"SalePrice\"])\n",
    "        predictions = lr.predict(test[features])\n",
    "        mse = mean_squared_error(test[\"SalePrice\"], predictions)\n",
    "        rmse = np.sqrt(mse)\n",
    "\n",
    "        return rmse\n",
    "    \n",
    "    if k == 1:\n",
    "        shuffled_df = df.sample(frac=1, )\n",
    "        train = df[:1460]\n",
    "        test = df[1460:]\n",
    "        \n",
    "        lr.fit(train[features], train[\"SalePrice\"])\n",
    "        predictions_one = lr.predict(test[features])        \n",
    "        \n",
    "        mse_one = mean_squared_error(test[\"SalePrice\"], predictions_one)\n",
    "        rmse_one = np.sqrt(mse_one)\n",
    "        \n",
    "        lr.fit(test[features], test[\"SalePrice\"])\n",
    "        predictions_two = lr.predict(train[features])        \n",
    "       \n",
    "        mse_two = mean_squared_error(train[\"SalePrice\"], predictions_two)\n",
    "        rmse_two = np.sqrt(mse_two)\n",
    "        \n",
    "        avg_rmse = np.mean([rmse_one, rmse_two])\n",
    "        return avg_rmse\n",
    "    else:\n",
    "        kf = KFold(n_splits=k, shuffle=True)\n",
    "        rmse_values = []\n",
    "        for train_index, test_index, in kf.split(df):\n",
    "            train = df.iloc[train_index]\n",
    "            test = df.iloc[test_index]\n",
    "            lr.fit(train[features], train[\"SalePrice\"])\n",
    "            predictions = lr.predict(test[features])\n",
    "            mse = mean_squared_error(test[\"SalePrice\"], predictions)\n",
    "            rmse = np.sqrt(mse)\n",
    "            rmse_values.append(rmse)\n",
    "        avg_rmse = np.mean(rmse_values)\n",
    "        return avg_rmse\n",
    "\n",
    "data = pd.read_csv(\"AmesHousing.tsv\", delimiter=\"\\t\")\n",
    "transform_data = transform_features(data)\n",
    "filtered_data = select_features(transform_data)\n",
    "for k in range(6):\n",
    "    rmse = train_and_test(filtered_data, k)\n",
    "    print(rmse)\n"
   ]
  }
 ],
 "metadata": {
  "anaconda-cloud": {},
  "kernelspec": {
   "display_name": "Python 3",
   "language": "python",
   "name": "python3"
  },
  "language_info": {
   "codemirror_mode": {
    "name": "ipython",
    "version": 3
   },
   "file_extension": ".py",
   "mimetype": "text/x-python",
   "name": "python",
   "nbconvert_exporter": "python",
   "pygments_lexer": "ipython3",
   "version": "3.4.3"
  }
 },
 "nbformat": 4,
 "nbformat_minor": 2
}
