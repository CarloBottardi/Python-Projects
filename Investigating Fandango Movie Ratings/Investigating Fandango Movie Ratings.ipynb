{
 "cells": [
  {
   "cell_type": "markdown",
   "metadata": {},
   "source": [
    "## Investigating Fandango Movie Ratings"
   ]
  },
  {
   "cell_type": "markdown",
   "metadata": {},
   "source": [
    "In October 2015, a data journalist named Walt Hickey analyzed movie ratings data and found strong evidence to suggest that Fandango's rating system was biased and dishonest (Fandango is an online movie ratings aggregator).\n",
    "\n",
    "Fandango displays a 5-star rating system on their website, where the minimum rating is 0 stars and the maximum is 5 stars.\n",
    "\n",
    "Hickey found that there's a significant discrepancy between the number of stars displayed to users and the actual rating, which he was able to find in the HTML of the page. He was able to find that:\n",
    "\n",
    "- The actual rating was almost always rounded up to the nearest half-star. For instance, a 4.1 movie would be rounded off to 4.5 stars, not to 4 stars, as you may expect.\n",
    "- In the case of 8% of the ratings analyzed, the rounding up was done to the nearest whole star. For instance, a 4.5 rating would be rounded off to 5 stars.\n",
    "- For one movie rating, the rounding off was completely bizarre: from a rating of 4 in the HTML of the page to a displayed rating of 5 stars.\n",
    "\n",
    "In this project, I'll analyze more recent movie ratings data to determine whether there has been any change in Fandango's rating system after Hickey's analysis."
   ]
  },
  {
   "cell_type": "markdown",
   "metadata": {},
   "source": [
    "## Understanding the Data"
   ]
  },
  {
   "cell_type": "markdown",
   "metadata": {},
   "source": [
    "I'll work with two samples of movie ratings: the data in one sample was collected previous to Hickey's analysis, while the other sample was collected after. Let's start by reading in the two samples (which are stored as CSV files) and getting familiar with their structure."
   ]
  },
  {
   "cell_type": "code",
   "execution_count": 1,
   "metadata": {
    "collapsed": true
   },
   "outputs": [],
   "source": [
    "import matplotlib.pyplot as plt\n",
    "import pandas as pd\n",
    "import seaborn as sns"
   ]
  },
  {
   "cell_type": "code",
   "execution_count": 2,
   "metadata": {
    "collapsed": true
   },
   "outputs": [],
   "source": [
    "fandango_before = pd.read_csv('fandango_score_comparison.csv')"
   ]
  },
  {
   "cell_type": "code",
   "execution_count": 3,
   "metadata": {
    "collapsed": true
   },
   "outputs": [],
   "source": [
    "fandango_after = pd.read_csv('movie_ratings_16_17.csv')"
   ]
  },
  {
   "cell_type": "code",
   "execution_count": 4,
   "metadata": {
    "collapsed": false
   },
   "outputs": [
    {
     "data": {
      "text/html": [
       "<div>\n",
       "<style scoped>\n",
       "    .dataframe tbody tr th:only-of-type {\n",
       "        vertical-align: middle;\n",
       "    }\n",
       "\n",
       "    .dataframe tbody tr th {\n",
       "        vertical-align: top;\n",
       "    }\n",
       "\n",
       "    .dataframe thead th {\n",
       "        text-align: right;\n",
       "    }\n",
       "</style>\n",
       "<table border=\"1\" class=\"dataframe\">\n",
       "  <thead>\n",
       "    <tr style=\"text-align: right;\">\n",
       "      <th></th>\n",
       "      <th>FILM</th>\n",
       "      <th>RottenTomatoes</th>\n",
       "      <th>RottenTomatoes_User</th>\n",
       "      <th>Metacritic</th>\n",
       "      <th>Metacritic_User</th>\n",
       "      <th>IMDB</th>\n",
       "      <th>Fandango_Stars</th>\n",
       "      <th>Fandango_Ratingvalue</th>\n",
       "      <th>RT_norm</th>\n",
       "      <th>RT_user_norm</th>\n",
       "      <th>...</th>\n",
       "      <th>IMDB_norm</th>\n",
       "      <th>RT_norm_round</th>\n",
       "      <th>RT_user_norm_round</th>\n",
       "      <th>Metacritic_norm_round</th>\n",
       "      <th>Metacritic_user_norm_round</th>\n",
       "      <th>IMDB_norm_round</th>\n",
       "      <th>Metacritic_user_vote_count</th>\n",
       "      <th>IMDB_user_vote_count</th>\n",
       "      <th>Fandango_votes</th>\n",
       "      <th>Fandango_Difference</th>\n",
       "    </tr>\n",
       "  </thead>\n",
       "  <tbody>\n",
       "    <tr>\n",
       "      <th>count</th>\n",
       "      <td>146</td>\n",
       "      <td>146.000000</td>\n",
       "      <td>146.000000</td>\n",
       "      <td>146.000000</td>\n",
       "      <td>146.000000</td>\n",
       "      <td>146.000000</td>\n",
       "      <td>146.000000</td>\n",
       "      <td>146.000000</td>\n",
       "      <td>146.000000</td>\n",
       "      <td>146.000000</td>\n",
       "      <td>...</td>\n",
       "      <td>146.000000</td>\n",
       "      <td>146.000000</td>\n",
       "      <td>146.000000</td>\n",
       "      <td>146.000000</td>\n",
       "      <td>146.000000</td>\n",
       "      <td>146.000000</td>\n",
       "      <td>146.000000</td>\n",
       "      <td>146.000000</td>\n",
       "      <td>146.000000</td>\n",
       "      <td>146.000000</td>\n",
       "    </tr>\n",
       "    <tr>\n",
       "      <th>unique</th>\n",
       "      <td>146</td>\n",
       "      <td>NaN</td>\n",
       "      <td>NaN</td>\n",
       "      <td>NaN</td>\n",
       "      <td>NaN</td>\n",
       "      <td>NaN</td>\n",
       "      <td>NaN</td>\n",
       "      <td>NaN</td>\n",
       "      <td>NaN</td>\n",
       "      <td>NaN</td>\n",
       "      <td>...</td>\n",
       "      <td>NaN</td>\n",
       "      <td>NaN</td>\n",
       "      <td>NaN</td>\n",
       "      <td>NaN</td>\n",
       "      <td>NaN</td>\n",
       "      <td>NaN</td>\n",
       "      <td>NaN</td>\n",
       "      <td>NaN</td>\n",
       "      <td>NaN</td>\n",
       "      <td>NaN</td>\n",
       "    </tr>\n",
       "    <tr>\n",
       "      <th>top</th>\n",
       "      <td>Jupiter Ascending (2015)</td>\n",
       "      <td>NaN</td>\n",
       "      <td>NaN</td>\n",
       "      <td>NaN</td>\n",
       "      <td>NaN</td>\n",
       "      <td>NaN</td>\n",
       "      <td>NaN</td>\n",
       "      <td>NaN</td>\n",
       "      <td>NaN</td>\n",
       "      <td>NaN</td>\n",
       "      <td>...</td>\n",
       "      <td>NaN</td>\n",
       "      <td>NaN</td>\n",
       "      <td>NaN</td>\n",
       "      <td>NaN</td>\n",
       "      <td>NaN</td>\n",
       "      <td>NaN</td>\n",
       "      <td>NaN</td>\n",
       "      <td>NaN</td>\n",
       "      <td>NaN</td>\n",
       "      <td>NaN</td>\n",
       "    </tr>\n",
       "    <tr>\n",
       "      <th>freq</th>\n",
       "      <td>1</td>\n",
       "      <td>NaN</td>\n",
       "      <td>NaN</td>\n",
       "      <td>NaN</td>\n",
       "      <td>NaN</td>\n",
       "      <td>NaN</td>\n",
       "      <td>NaN</td>\n",
       "      <td>NaN</td>\n",
       "      <td>NaN</td>\n",
       "      <td>NaN</td>\n",
       "      <td>...</td>\n",
       "      <td>NaN</td>\n",
       "      <td>NaN</td>\n",
       "      <td>NaN</td>\n",
       "      <td>NaN</td>\n",
       "      <td>NaN</td>\n",
       "      <td>NaN</td>\n",
       "      <td>NaN</td>\n",
       "      <td>NaN</td>\n",
       "      <td>NaN</td>\n",
       "      <td>NaN</td>\n",
       "    </tr>\n",
       "    <tr>\n",
       "      <th>mean</th>\n",
       "      <td>NaN</td>\n",
       "      <td>60.849315</td>\n",
       "      <td>63.876712</td>\n",
       "      <td>58.808219</td>\n",
       "      <td>6.519178</td>\n",
       "      <td>6.736986</td>\n",
       "      <td>4.089041</td>\n",
       "      <td>3.845205</td>\n",
       "      <td>3.042466</td>\n",
       "      <td>3.193836</td>\n",
       "      <td>...</td>\n",
       "      <td>3.368493</td>\n",
       "      <td>3.065068</td>\n",
       "      <td>3.226027</td>\n",
       "      <td>2.972603</td>\n",
       "      <td>3.270548</td>\n",
       "      <td>3.380137</td>\n",
       "      <td>185.705479</td>\n",
       "      <td>42846.205479</td>\n",
       "      <td>3848.787671</td>\n",
       "      <td>0.243836</td>\n",
       "    </tr>\n",
       "    <tr>\n",
       "      <th>std</th>\n",
       "      <td>NaN</td>\n",
       "      <td>30.168799</td>\n",
       "      <td>20.024430</td>\n",
       "      <td>19.517389</td>\n",
       "      <td>1.510712</td>\n",
       "      <td>0.958736</td>\n",
       "      <td>0.540386</td>\n",
       "      <td>0.502831</td>\n",
       "      <td>1.508440</td>\n",
       "      <td>1.001222</td>\n",
       "      <td>...</td>\n",
       "      <td>0.479368</td>\n",
       "      <td>1.514600</td>\n",
       "      <td>1.007014</td>\n",
       "      <td>0.990961</td>\n",
       "      <td>0.788116</td>\n",
       "      <td>0.502767</td>\n",
       "      <td>316.606515</td>\n",
       "      <td>67406.509171</td>\n",
       "      <td>6357.778617</td>\n",
       "      <td>0.152665</td>\n",
       "    </tr>\n",
       "    <tr>\n",
       "      <th>min</th>\n",
       "      <td>NaN</td>\n",
       "      <td>5.000000</td>\n",
       "      <td>20.000000</td>\n",
       "      <td>13.000000</td>\n",
       "      <td>2.400000</td>\n",
       "      <td>4.000000</td>\n",
       "      <td>3.000000</td>\n",
       "      <td>2.700000</td>\n",
       "      <td>0.250000</td>\n",
       "      <td>1.000000</td>\n",
       "      <td>...</td>\n",
       "      <td>2.000000</td>\n",
       "      <td>0.500000</td>\n",
       "      <td>1.000000</td>\n",
       "      <td>0.500000</td>\n",
       "      <td>1.000000</td>\n",
       "      <td>2.000000</td>\n",
       "      <td>4.000000</td>\n",
       "      <td>243.000000</td>\n",
       "      <td>35.000000</td>\n",
       "      <td>0.000000</td>\n",
       "    </tr>\n",
       "    <tr>\n",
       "      <th>25%</th>\n",
       "      <td>NaN</td>\n",
       "      <td>31.250000</td>\n",
       "      <td>50.000000</td>\n",
       "      <td>43.500000</td>\n",
       "      <td>5.700000</td>\n",
       "      <td>6.300000</td>\n",
       "      <td>3.500000</td>\n",
       "      <td>3.500000</td>\n",
       "      <td>1.562500</td>\n",
       "      <td>2.500000</td>\n",
       "      <td>...</td>\n",
       "      <td>3.150000</td>\n",
       "      <td>1.500000</td>\n",
       "      <td>2.500000</td>\n",
       "      <td>2.125000</td>\n",
       "      <td>3.000000</td>\n",
       "      <td>3.000000</td>\n",
       "      <td>33.250000</td>\n",
       "      <td>5627.000000</td>\n",
       "      <td>222.250000</td>\n",
       "      <td>0.100000</td>\n",
       "    </tr>\n",
       "    <tr>\n",
       "      <th>50%</th>\n",
       "      <td>NaN</td>\n",
       "      <td>63.500000</td>\n",
       "      <td>66.500000</td>\n",
       "      <td>59.000000</td>\n",
       "      <td>6.850000</td>\n",
       "      <td>6.900000</td>\n",
       "      <td>4.000000</td>\n",
       "      <td>3.900000</td>\n",
       "      <td>3.175000</td>\n",
       "      <td>3.325000</td>\n",
       "      <td>...</td>\n",
       "      <td>3.450000</td>\n",
       "      <td>3.000000</td>\n",
       "      <td>3.500000</td>\n",
       "      <td>3.000000</td>\n",
       "      <td>3.500000</td>\n",
       "      <td>3.500000</td>\n",
       "      <td>72.500000</td>\n",
       "      <td>19103.000000</td>\n",
       "      <td>1446.000000</td>\n",
       "      <td>0.200000</td>\n",
       "    </tr>\n",
       "    <tr>\n",
       "      <th>75%</th>\n",
       "      <td>NaN</td>\n",
       "      <td>89.000000</td>\n",
       "      <td>81.000000</td>\n",
       "      <td>75.000000</td>\n",
       "      <td>7.500000</td>\n",
       "      <td>7.400000</td>\n",
       "      <td>4.500000</td>\n",
       "      <td>4.200000</td>\n",
       "      <td>4.450000</td>\n",
       "      <td>4.050000</td>\n",
       "      <td>...</td>\n",
       "      <td>3.700000</td>\n",
       "      <td>4.500000</td>\n",
       "      <td>4.000000</td>\n",
       "      <td>4.000000</td>\n",
       "      <td>4.000000</td>\n",
       "      <td>3.500000</td>\n",
       "      <td>168.500000</td>\n",
       "      <td>45185.750000</td>\n",
       "      <td>4439.500000</td>\n",
       "      <td>0.400000</td>\n",
       "    </tr>\n",
       "    <tr>\n",
       "      <th>max</th>\n",
       "      <td>NaN</td>\n",
       "      <td>100.000000</td>\n",
       "      <td>94.000000</td>\n",
       "      <td>94.000000</td>\n",
       "      <td>9.600000</td>\n",
       "      <td>8.600000</td>\n",
       "      <td>5.000000</td>\n",
       "      <td>4.800000</td>\n",
       "      <td>5.000000</td>\n",
       "      <td>4.700000</td>\n",
       "      <td>...</td>\n",
       "      <td>4.300000</td>\n",
       "      <td>5.000000</td>\n",
       "      <td>4.500000</td>\n",
       "      <td>4.500000</td>\n",
       "      <td>5.000000</td>\n",
       "      <td>4.500000</td>\n",
       "      <td>2375.000000</td>\n",
       "      <td>334164.000000</td>\n",
       "      <td>34846.000000</td>\n",
       "      <td>0.500000</td>\n",
       "    </tr>\n",
       "  </tbody>\n",
       "</table>\n",
       "<p>11 rows × 22 columns</p>\n",
       "</div>"
      ],
      "text/plain": [
       "                            FILM  RottenTomatoes  RottenTomatoes_User  \\\n",
       "count                        146      146.000000           146.000000   \n",
       "unique                       146             NaN                  NaN   \n",
       "top     Jupiter Ascending (2015)             NaN                  NaN   \n",
       "freq                           1             NaN                  NaN   \n",
       "mean                         NaN       60.849315            63.876712   \n",
       "std                          NaN       30.168799            20.024430   \n",
       "min                          NaN        5.000000            20.000000   \n",
       "25%                          NaN       31.250000            50.000000   \n",
       "50%                          NaN       63.500000            66.500000   \n",
       "75%                          NaN       89.000000            81.000000   \n",
       "max                          NaN      100.000000            94.000000   \n",
       "\n",
       "        Metacritic  Metacritic_User        IMDB  Fandango_Stars  \\\n",
       "count   146.000000       146.000000  146.000000      146.000000   \n",
       "unique         NaN              NaN         NaN             NaN   \n",
       "top            NaN              NaN         NaN             NaN   \n",
       "freq           NaN              NaN         NaN             NaN   \n",
       "mean     58.808219         6.519178    6.736986        4.089041   \n",
       "std      19.517389         1.510712    0.958736        0.540386   \n",
       "min      13.000000         2.400000    4.000000        3.000000   \n",
       "25%      43.500000         5.700000    6.300000        3.500000   \n",
       "50%      59.000000         6.850000    6.900000        4.000000   \n",
       "75%      75.000000         7.500000    7.400000        4.500000   \n",
       "max      94.000000         9.600000    8.600000        5.000000   \n",
       "\n",
       "        Fandango_Ratingvalue     RT_norm  RT_user_norm         ...           \\\n",
       "count             146.000000  146.000000    146.000000         ...            \n",
       "unique                   NaN         NaN           NaN         ...            \n",
       "top                      NaN         NaN           NaN         ...            \n",
       "freq                     NaN         NaN           NaN         ...            \n",
       "mean                3.845205    3.042466      3.193836         ...            \n",
       "std                 0.502831    1.508440      1.001222         ...            \n",
       "min                 2.700000    0.250000      1.000000         ...            \n",
       "25%                 3.500000    1.562500      2.500000         ...            \n",
       "50%                 3.900000    3.175000      3.325000         ...            \n",
       "75%                 4.200000    4.450000      4.050000         ...            \n",
       "max                 4.800000    5.000000      4.700000         ...            \n",
       "\n",
       "         IMDB_norm  RT_norm_round  RT_user_norm_round  Metacritic_norm_round  \\\n",
       "count   146.000000     146.000000          146.000000             146.000000   \n",
       "unique         NaN            NaN                 NaN                    NaN   \n",
       "top            NaN            NaN                 NaN                    NaN   \n",
       "freq           NaN            NaN                 NaN                    NaN   \n",
       "mean      3.368493       3.065068            3.226027               2.972603   \n",
       "std       0.479368       1.514600            1.007014               0.990961   \n",
       "min       2.000000       0.500000            1.000000               0.500000   \n",
       "25%       3.150000       1.500000            2.500000               2.125000   \n",
       "50%       3.450000       3.000000            3.500000               3.000000   \n",
       "75%       3.700000       4.500000            4.000000               4.000000   \n",
       "max       4.300000       5.000000            4.500000               4.500000   \n",
       "\n",
       "        Metacritic_user_norm_round  IMDB_norm_round  \\\n",
       "count                   146.000000       146.000000   \n",
       "unique                         NaN              NaN   \n",
       "top                            NaN              NaN   \n",
       "freq                           NaN              NaN   \n",
       "mean                      3.270548         3.380137   \n",
       "std                       0.788116         0.502767   \n",
       "min                       1.000000         2.000000   \n",
       "25%                       3.000000         3.000000   \n",
       "50%                       3.500000         3.500000   \n",
       "75%                       4.000000         3.500000   \n",
       "max                       5.000000         4.500000   \n",
       "\n",
       "        Metacritic_user_vote_count  IMDB_user_vote_count  Fandango_votes  \\\n",
       "count                   146.000000            146.000000      146.000000   \n",
       "unique                         NaN                   NaN             NaN   \n",
       "top                            NaN                   NaN             NaN   \n",
       "freq                           NaN                   NaN             NaN   \n",
       "mean                    185.705479          42846.205479     3848.787671   \n",
       "std                     316.606515          67406.509171     6357.778617   \n",
       "min                       4.000000            243.000000       35.000000   \n",
       "25%                      33.250000           5627.000000      222.250000   \n",
       "50%                      72.500000          19103.000000     1446.000000   \n",
       "75%                     168.500000          45185.750000     4439.500000   \n",
       "max                    2375.000000         334164.000000    34846.000000   \n",
       "\n",
       "        Fandango_Difference  \n",
       "count            146.000000  \n",
       "unique                  NaN  \n",
       "top                     NaN  \n",
       "freq                    NaN  \n",
       "mean               0.243836  \n",
       "std                0.152665  \n",
       "min                0.000000  \n",
       "25%                0.100000  \n",
       "50%                0.200000  \n",
       "75%                0.400000  \n",
       "max                0.500000  \n",
       "\n",
       "[11 rows x 22 columns]"
      ]
     },
     "execution_count": 4,
     "metadata": {},
     "output_type": "execute_result"
    }
   ],
   "source": [
    "fandango_before.describe(include=\"all\")"
   ]
  },
  {
   "cell_type": "code",
   "execution_count": 5,
   "metadata": {
    "collapsed": false
   },
   "outputs": [
    {
     "data": {
      "text/html": [
       "<div>\n",
       "<style scoped>\n",
       "    .dataframe tbody tr th:only-of-type {\n",
       "        vertical-align: middle;\n",
       "    }\n",
       "\n",
       "    .dataframe tbody tr th {\n",
       "        vertical-align: top;\n",
       "    }\n",
       "\n",
       "    .dataframe thead th {\n",
       "        text-align: right;\n",
       "    }\n",
       "</style>\n",
       "<table border=\"1\" class=\"dataframe\">\n",
       "  <thead>\n",
       "    <tr style=\"text-align: right;\">\n",
       "      <th></th>\n",
       "      <th>movie</th>\n",
       "      <th>year</th>\n",
       "      <th>metascore</th>\n",
       "      <th>imdb</th>\n",
       "      <th>tmeter</th>\n",
       "      <th>audience</th>\n",
       "      <th>fandango</th>\n",
       "      <th>n_metascore</th>\n",
       "      <th>n_imdb</th>\n",
       "      <th>n_tmeter</th>\n",
       "      <th>n_audience</th>\n",
       "      <th>nr_metascore</th>\n",
       "      <th>nr_imdb</th>\n",
       "      <th>nr_tmeter</th>\n",
       "      <th>nr_audience</th>\n",
       "    </tr>\n",
       "  </thead>\n",
       "  <tbody>\n",
       "    <tr>\n",
       "      <th>count</th>\n",
       "      <td>214</td>\n",
       "      <td>214.000000</td>\n",
       "      <td>214.000000</td>\n",
       "      <td>214.000000</td>\n",
       "      <td>214.000000</td>\n",
       "      <td>214.000000</td>\n",
       "      <td>214.000000</td>\n",
       "      <td>214.000000</td>\n",
       "      <td>214.000000</td>\n",
       "      <td>214.000000</td>\n",
       "      <td>214.000000</td>\n",
       "      <td>214.000000</td>\n",
       "      <td>214.000000</td>\n",
       "      <td>214.000000</td>\n",
       "      <td>214.000000</td>\n",
       "    </tr>\n",
       "    <tr>\n",
       "      <th>unique</th>\n",
       "      <td>214</td>\n",
       "      <td>NaN</td>\n",
       "      <td>NaN</td>\n",
       "      <td>NaN</td>\n",
       "      <td>NaN</td>\n",
       "      <td>NaN</td>\n",
       "      <td>NaN</td>\n",
       "      <td>NaN</td>\n",
       "      <td>NaN</td>\n",
       "      <td>NaN</td>\n",
       "      <td>NaN</td>\n",
       "      <td>NaN</td>\n",
       "      <td>NaN</td>\n",
       "      <td>NaN</td>\n",
       "      <td>NaN</td>\n",
       "    </tr>\n",
       "    <tr>\n",
       "      <th>top</th>\n",
       "      <td>Miracles from Heaven</td>\n",
       "      <td>NaN</td>\n",
       "      <td>NaN</td>\n",
       "      <td>NaN</td>\n",
       "      <td>NaN</td>\n",
       "      <td>NaN</td>\n",
       "      <td>NaN</td>\n",
       "      <td>NaN</td>\n",
       "      <td>NaN</td>\n",
       "      <td>NaN</td>\n",
       "      <td>NaN</td>\n",
       "      <td>NaN</td>\n",
       "      <td>NaN</td>\n",
       "      <td>NaN</td>\n",
       "      <td>NaN</td>\n",
       "    </tr>\n",
       "    <tr>\n",
       "      <th>freq</th>\n",
       "      <td>1</td>\n",
       "      <td>NaN</td>\n",
       "      <td>NaN</td>\n",
       "      <td>NaN</td>\n",
       "      <td>NaN</td>\n",
       "      <td>NaN</td>\n",
       "      <td>NaN</td>\n",
       "      <td>NaN</td>\n",
       "      <td>NaN</td>\n",
       "      <td>NaN</td>\n",
       "      <td>NaN</td>\n",
       "      <td>NaN</td>\n",
       "      <td>NaN</td>\n",
       "      <td>NaN</td>\n",
       "      <td>NaN</td>\n",
       "    </tr>\n",
       "    <tr>\n",
       "      <th>mean</th>\n",
       "      <td>NaN</td>\n",
       "      <td>2016.107477</td>\n",
       "      <td>53.266355</td>\n",
       "      <td>6.440654</td>\n",
       "      <td>53.621495</td>\n",
       "      <td>58.626168</td>\n",
       "      <td>3.894860</td>\n",
       "      <td>2.663318</td>\n",
       "      <td>3.220327</td>\n",
       "      <td>2.681075</td>\n",
       "      <td>2.931308</td>\n",
       "      <td>2.658879</td>\n",
       "      <td>3.214953</td>\n",
       "      <td>2.691589</td>\n",
       "      <td>2.915888</td>\n",
       "    </tr>\n",
       "    <tr>\n",
       "      <th>std</th>\n",
       "      <td>NaN</td>\n",
       "      <td>0.310444</td>\n",
       "      <td>17.843585</td>\n",
       "      <td>1.030056</td>\n",
       "      <td>30.242396</td>\n",
       "      <td>21.100040</td>\n",
       "      <td>0.516781</td>\n",
       "      <td>0.892179</td>\n",
       "      <td>0.515028</td>\n",
       "      <td>1.512120</td>\n",
       "      <td>1.055002</td>\n",
       "      <td>0.924619</td>\n",
       "      <td>0.526803</td>\n",
       "      <td>1.519273</td>\n",
       "      <td>1.060352</td>\n",
       "    </tr>\n",
       "    <tr>\n",
       "      <th>min</th>\n",
       "      <td>NaN</td>\n",
       "      <td>2016.000000</td>\n",
       "      <td>11.000000</td>\n",
       "      <td>3.500000</td>\n",
       "      <td>0.000000</td>\n",
       "      <td>11.000000</td>\n",
       "      <td>2.500000</td>\n",
       "      <td>0.550000</td>\n",
       "      <td>1.750000</td>\n",
       "      <td>0.000000</td>\n",
       "      <td>0.550000</td>\n",
       "      <td>0.500000</td>\n",
       "      <td>2.000000</td>\n",
       "      <td>0.000000</td>\n",
       "      <td>0.500000</td>\n",
       "    </tr>\n",
       "    <tr>\n",
       "      <th>25%</th>\n",
       "      <td>NaN</td>\n",
       "      <td>2016.000000</td>\n",
       "      <td>39.000000</td>\n",
       "      <td>5.825000</td>\n",
       "      <td>27.000000</td>\n",
       "      <td>43.250000</td>\n",
       "      <td>3.500000</td>\n",
       "      <td>1.950000</td>\n",
       "      <td>2.912500</td>\n",
       "      <td>1.350000</td>\n",
       "      <td>2.162500</td>\n",
       "      <td>2.000000</td>\n",
       "      <td>3.000000</td>\n",
       "      <td>1.500000</td>\n",
       "      <td>2.000000</td>\n",
       "    </tr>\n",
       "    <tr>\n",
       "      <th>50%</th>\n",
       "      <td>NaN</td>\n",
       "      <td>2016.000000</td>\n",
       "      <td>53.500000</td>\n",
       "      <td>6.500000</td>\n",
       "      <td>56.500000</td>\n",
       "      <td>60.500000</td>\n",
       "      <td>4.000000</td>\n",
       "      <td>2.675000</td>\n",
       "      <td>3.250000</td>\n",
       "      <td>2.825000</td>\n",
       "      <td>3.025000</td>\n",
       "      <td>2.500000</td>\n",
       "      <td>3.000000</td>\n",
       "      <td>3.000000</td>\n",
       "      <td>3.000000</td>\n",
       "    </tr>\n",
       "    <tr>\n",
       "      <th>75%</th>\n",
       "      <td>NaN</td>\n",
       "      <td>2016.000000</td>\n",
       "      <td>66.000000</td>\n",
       "      <td>7.200000</td>\n",
       "      <td>83.000000</td>\n",
       "      <td>76.750000</td>\n",
       "      <td>4.500000</td>\n",
       "      <td>3.300000</td>\n",
       "      <td>3.600000</td>\n",
       "      <td>4.150000</td>\n",
       "      <td>3.837500</td>\n",
       "      <td>3.500000</td>\n",
       "      <td>3.500000</td>\n",
       "      <td>4.000000</td>\n",
       "      <td>4.000000</td>\n",
       "    </tr>\n",
       "    <tr>\n",
       "      <th>max</th>\n",
       "      <td>NaN</td>\n",
       "      <td>2017.000000</td>\n",
       "      <td>99.000000</td>\n",
       "      <td>8.500000</td>\n",
       "      <td>99.000000</td>\n",
       "      <td>93.000000</td>\n",
       "      <td>5.000000</td>\n",
       "      <td>4.950000</td>\n",
       "      <td>4.250000</td>\n",
       "      <td>4.950000</td>\n",
       "      <td>4.650000</td>\n",
       "      <td>5.000000</td>\n",
       "      <td>4.000000</td>\n",
       "      <td>5.000000</td>\n",
       "      <td>4.500000</td>\n",
       "    </tr>\n",
       "  </tbody>\n",
       "</table>\n",
       "</div>"
      ],
      "text/plain": [
       "                       movie         year   metascore        imdb      tmeter  \\\n",
       "count                    214   214.000000  214.000000  214.000000  214.000000   \n",
       "unique                   214          NaN         NaN         NaN         NaN   \n",
       "top     Miracles from Heaven          NaN         NaN         NaN         NaN   \n",
       "freq                       1          NaN         NaN         NaN         NaN   \n",
       "mean                     NaN  2016.107477   53.266355    6.440654   53.621495   \n",
       "std                      NaN     0.310444   17.843585    1.030056   30.242396   \n",
       "min                      NaN  2016.000000   11.000000    3.500000    0.000000   \n",
       "25%                      NaN  2016.000000   39.000000    5.825000   27.000000   \n",
       "50%                      NaN  2016.000000   53.500000    6.500000   56.500000   \n",
       "75%                      NaN  2016.000000   66.000000    7.200000   83.000000   \n",
       "max                      NaN  2017.000000   99.000000    8.500000   99.000000   \n",
       "\n",
       "          audience    fandango  n_metascore      n_imdb    n_tmeter  \\\n",
       "count   214.000000  214.000000   214.000000  214.000000  214.000000   \n",
       "unique         NaN         NaN          NaN         NaN         NaN   \n",
       "top            NaN         NaN          NaN         NaN         NaN   \n",
       "freq           NaN         NaN          NaN         NaN         NaN   \n",
       "mean     58.626168    3.894860     2.663318    3.220327    2.681075   \n",
       "std      21.100040    0.516781     0.892179    0.515028    1.512120   \n",
       "min      11.000000    2.500000     0.550000    1.750000    0.000000   \n",
       "25%      43.250000    3.500000     1.950000    2.912500    1.350000   \n",
       "50%      60.500000    4.000000     2.675000    3.250000    2.825000   \n",
       "75%      76.750000    4.500000     3.300000    3.600000    4.150000   \n",
       "max      93.000000    5.000000     4.950000    4.250000    4.950000   \n",
       "\n",
       "        n_audience  nr_metascore     nr_imdb   nr_tmeter  nr_audience  \n",
       "count   214.000000    214.000000  214.000000  214.000000   214.000000  \n",
       "unique         NaN           NaN         NaN         NaN          NaN  \n",
       "top            NaN           NaN         NaN         NaN          NaN  \n",
       "freq           NaN           NaN         NaN         NaN          NaN  \n",
       "mean      2.931308      2.658879    3.214953    2.691589     2.915888  \n",
       "std       1.055002      0.924619    0.526803    1.519273     1.060352  \n",
       "min       0.550000      0.500000    2.000000    0.000000     0.500000  \n",
       "25%       2.162500      2.000000    3.000000    1.500000     2.000000  \n",
       "50%       3.025000      2.500000    3.000000    3.000000     3.000000  \n",
       "75%       3.837500      3.500000    3.500000    4.000000     4.000000  \n",
       "max       4.650000      5.000000    4.000000    5.000000     4.500000  "
      ]
     },
     "execution_count": 5,
     "metadata": {},
     "output_type": "execute_result"
    }
   ],
   "source": [
    "fandango_after.describe(include=\"all\")"
   ]
  },
  {
   "cell_type": "code",
   "execution_count": 6,
   "metadata": {
    "collapsed": false
   },
   "outputs": [
    {
     "name": "stdout",
     "output_type": "stream",
     "text": [
      "Index(['FILM', 'RottenTomatoes', 'RottenTomatoes_User', 'Metacritic',\n",
      "       'Metacritic_User', 'IMDB', 'Fandango_Stars', 'Fandango_Ratingvalue',\n",
      "       'RT_norm', 'RT_user_norm', 'Metacritic_norm', 'Metacritic_user_nom',\n",
      "       'IMDB_norm', 'RT_norm_round', 'RT_user_norm_round',\n",
      "       'Metacritic_norm_round', 'Metacritic_user_norm_round',\n",
      "       'IMDB_norm_round', 'Metacritic_user_vote_count', 'IMDB_user_vote_count',\n",
      "       'Fandango_votes', 'Fandango_Difference'],\n",
      "      dtype='object')\n",
      "Index(['movie', 'year', 'metascore', 'imdb', 'tmeter', 'audience', 'fandango',\n",
      "       'n_metascore', 'n_imdb', 'n_tmeter', 'n_audience', 'nr_metascore',\n",
      "       'nr_imdb', 'nr_tmeter', 'nr_audience'],\n",
      "      dtype='object')\n"
     ]
    }
   ],
   "source": [
    "print(fandango_before.columns)\n",
    "print(fandango_after.columns)"
   ]
  },
  {
   "cell_type": "code",
   "execution_count": 7,
   "metadata": {
    "collapsed": false
   },
   "outputs": [
    {
     "name": "stdout",
     "output_type": "stream",
     "text": [
      "(214, 15)\n"
     ]
    }
   ],
   "source": [
    "print(fandango_after.shape)"
   ]
  },
  {
   "cell_type": "code",
   "execution_count": 8,
   "metadata": {
    "collapsed": false
   },
   "outputs": [
    {
     "name": "stdout",
     "output_type": "stream",
     "text": [
      "                             FILM  RottenTomatoes  RottenTomatoes_User  \\\n",
      "0  Avengers: Age of Ultron (2015)              74                   86   \n",
      "1               Cinderella (2015)              85                   80   \n",
      "2                  Ant-Man (2015)              80                   90   \n",
      "\n",
      "   Metacritic  Metacritic_User  IMDB  Fandango_Stars  Fandango_Ratingvalue  \\\n",
      "0          66              7.1   7.8             5.0                   4.5   \n",
      "1          67              7.5   7.1             5.0                   4.5   \n",
      "2          64              8.1   7.8             5.0                   4.5   \n",
      "\n",
      "   RT_norm  RT_user_norm         ...           IMDB_norm  RT_norm_round  \\\n",
      "0     3.70           4.3         ...                3.90            3.5   \n",
      "1     4.25           4.0         ...                3.55            4.5   \n",
      "2     4.00           4.5         ...                3.90            4.0   \n",
      "\n",
      "   RT_user_norm_round  Metacritic_norm_round  Metacritic_user_norm_round  \\\n",
      "0                 4.5                    3.5                         3.5   \n",
      "1                 4.0                    3.5                         4.0   \n",
      "2                 4.5                    3.0                         4.0   \n",
      "\n",
      "   IMDB_norm_round  Metacritic_user_vote_count  IMDB_user_vote_count  \\\n",
      "0              4.0                        1330                271107   \n",
      "1              3.5                         249                 65709   \n",
      "2              4.0                         627                103660   \n",
      "\n",
      "   Fandango_votes  Fandango_Difference  \n",
      "0           14846                  0.5  \n",
      "1           12640                  0.5  \n",
      "2           12055                  0.5  \n",
      "\n",
      "[3 rows x 22 columns]\n"
     ]
    }
   ],
   "source": [
    "print(fandango_before.head(3))"
   ]
  },
  {
   "cell_type": "code",
   "execution_count": 9,
   "metadata": {
    "collapsed": false
   },
   "outputs": [
    {
     "name": "stdout",
     "output_type": "stream",
     "text": [
      "                 movie  year  metascore  imdb  tmeter  audience  fandango  \\\n",
      "0  10 Cloverfield Lane  2016         76   7.2      90        79       3.5   \n",
      "1             13 Hours  2016         48   7.3      50        83       4.5   \n",
      "2  A Cure for Wellness  2016         47   6.6      40        47       3.0   \n",
      "\n",
      "   n_metascore  n_imdb  n_tmeter  n_audience  nr_metascore  nr_imdb  \\\n",
      "0         3.80    3.60       4.5        3.95           4.0      3.5   \n",
      "1         2.40    3.65       2.5        4.15           2.5      3.5   \n",
      "2         2.35    3.30       2.0        2.35           2.5      3.5   \n",
      "\n",
      "   nr_tmeter  nr_audience  \n",
      "0        4.5          4.0  \n",
      "1        2.5          4.0  \n",
      "2        2.0          2.5  \n"
     ]
    }
   ],
   "source": [
    "print(fandango_after.head(3))"
   ]
  },
  {
   "cell_type": "code",
   "execution_count": 10,
   "metadata": {
    "collapsed": false
   },
   "outputs": [],
   "source": [
    "analysis_before=fandango_before[['FILM', 'Fandango_Stars', 'Fandango_Ratingvalue', 'Fandango_votes', 'Fandango_Difference']]"
   ]
  },
  {
   "cell_type": "code",
   "execution_count": 11,
   "metadata": {
    "collapsed": true
   },
   "outputs": [],
   "source": [
    "analysis_after=fandango_after[['movie', 'year', 'fandango']]"
   ]
  },
  {
   "cell_type": "markdown",
   "metadata": {},
   "source": [
    "Because we want to find out whether the parameters of this population changed after Hickey's analysis, we're interested in sampling the population at two different periods in time — previous and after Hickey's analysis — so we can compare the two states.\n",
    "\n",
    "The data we're working with was sampled at the moments we want: one sample was taken previous to the analysis, and the other after the analysis. We want to describe the population, so we need to make sure that the samples are representative, otherwise we should expect a large sampling error and, ultimately, wrong conclusions.\n",
    "\n",
    "From Hickey's article and from the README.md of the data set's repository, we can see that he used the following sampling criteria:\n",
    "\n",
    "- The movie must have had at least 30 fan ratings on Fandango's website at the time of sampling (Aug. 24, 2015).\n",
    "- The movie must have had tickets on sale in 2015.\n",
    "\n",
    "The sampling was clearly not random because not every movie had the same chance to be included in the sample — some movies didn't have a chance at all (like those having under 30 fan ratings or those without tickets on sale in 2015). It's questionable whether this sample is representative of the entire population we're interested to describe. It seems more likely that it isn't, mostly because this sample is subject to temporal trends — e.g. movies in 2015 might have been outstandingly good or bad compared to other years.\n",
    "\n",
    "The sampling conditions for our other sample were (as it can be read in the README.md of the data set's repository):\n",
    "\n",
    "- The movie must have been released in 2016 or later.\n",
    "- The movie must have had a considerable number of votes and reviews (unclear how many from the README.md or from the data).\n",
    "\n",
    "This second sample is also subject to temporal trends and it's unlikely to be representative of our population of interest.\n",
    "\n",
    "Both these authors had certain research questions in mind when they sampled the data, and they used a set of criteria to get a sample that would fit their questions. Their sampling method is called purposive sampling (or judgmental/selective/subjective sampling). While these samples were good enough for their research, they don't seem too useful for us.\n",
    "\n",
    "At this point, we can either collect new data or change our the goal of our analysis. __We choose the latter and place some limitations on our initial goal__.\n",
    "\n",
    "Instead of trying to determine whether there has been any change in Fandango's rating system after Hickey's analysis, __our new goal is to determine whether there's any difference between Fandango's ratings for popular movies in 2015 and Fandango's ratings for popular movies in 2016__. This new goal should also be a fairly good proxy for our initial goal."
   ]
  },
  {
   "cell_type": "markdown",
   "metadata": {},
   "source": [
    "## Isolate the Samples We need"
   ]
  },
  {
   "cell_type": "markdown",
   "metadata": {},
   "source": [
    "With this new research goal, we have two populations of interest:\n",
    "\n",
    "- All Fandango's ratings for popular movies released in 2015.\n",
    "- All Fandango's ratings for popular movies released in 2016.\n",
    "\n",
    "We need to be clear about what counts as popular movies. We'll use Hickey's benchmark of 30 fan ratings and count a movie as popular only if it has 30 fan ratings or more on Fandango's website."
   ]
  },
  {
   "cell_type": "code",
   "execution_count": 12,
   "metadata": {
    "collapsed": false
   },
   "outputs": [
    {
     "name": "stdout",
     "output_type": "stream",
     "text": [
      "125              Now You See Me 2\n",
      "89                      Kickboxer\n",
      "171      The Disappointments Room\n",
      "159                The Accountant\n",
      "61                        Get Out\n",
      "45                Eddie the Eagle\n",
      "145                     Skiptrace\n",
      "77        In a Valley of Violence\n",
      "201                        Trolls\n",
      "21               Before the Flood\n",
      "86                        Julieta\n",
      "109              Midnight Special\n",
      "129                    Passengers\n",
      "6          A Street Cat Named Bob\n",
      "212                   Zoolander 2\n",
      "141                 Sausage Party\n",
      "59                         Genius\n",
      "42                  Dirty Grandpa\n",
      "121                         Nerve\n",
      "62                   Ghostbusters\n",
      "12                        Arrival\n",
      "188                The Neon Demon\n",
      "190    The Other Side of the Door\n",
      "127         Ouija: Origin of Evil\n",
      "104                     Marauders\n",
      "211    xXx: Return of Xander Cage\n",
      "162                       The BFG\n",
      "153                Swiss Army Man\n",
      "0             10 Cloverfield Lane\n",
      "148                         Split\n",
      "Name: movie, dtype: object\n"
     ]
    }
   ],
   "source": [
    "sample=analysis_after[\"movie\"].sample(30)\n",
    "print(sample)"
   ]
  },
  {
   "cell_type": "markdown",
   "metadata": {},
   "source": [
    "After I checked the movies on Google, the sample seems composed mostly by popular movies, so I consider it enough representative."
   ]
  },
  {
   "cell_type": "code",
   "execution_count": 13,
   "metadata": {
    "collapsed": true
   },
   "outputs": [],
   "source": [
    "movies_2015=analysis_before[analysis_before[\"FILM\"].str.contains(pat = '2015')]"
   ]
  },
  {
   "cell_type": "code",
   "execution_count": 14,
   "metadata": {
    "collapsed": true
   },
   "outputs": [],
   "source": [
    "movies_2016=analysis_after[analysis_after[\"year\"]==2016]"
   ]
  },
  {
   "cell_type": "code",
   "execution_count": 15,
   "metadata": {
    "collapsed": false
   },
   "outputs": [
    {
     "name": "stdout",
     "output_type": "stream",
     "text": [
      "108                         A Little Chaos (2015)\n",
      "61                          American Ultra (2015)\n",
      "87                                  Maggie (2015)\n",
      "88                      Mad Max: Fury Road (2015)\n",
      "44            Kingsman: The Secret Service (2015)\n",
      "15                                 Taken 3 (2015)\n",
      "59                               Mortdecai (2015)\n",
      "136    The Woman In Black 2 Angel of Death (2015)\n",
      "57                     Ricki and the Flash (2015)\n",
      "23                           Run All Night (2015)\n",
      "Name: FILM, dtype: object\n",
      "73     2016\n",
      "110    2016\n",
      "182    2016\n",
      "76     2016\n",
      "103    2016\n",
      "12     2016\n",
      "90     2016\n",
      "191    2016\n",
      "32     2016\n",
      "54     2016\n",
      "Name: year, dtype: int64\n"
     ]
    }
   ],
   "source": [
    "print(movies_2015[\"FILM\"].sample(10))\n",
    "print(movies_2016[\"year\"].sample(10))"
   ]
  },
  {
   "cell_type": "markdown",
   "metadata": {},
   "source": [
    "## Comparing Distribution Shapes for 2015 and 2016"
   ]
  },
  {
   "cell_type": "code",
   "execution_count": 16,
   "metadata": {
    "collapsed": false
   },
   "outputs": [
    {
     "data": {
      "image/png": "[encoded data removed]",
      "text/plain": [
       "<matplotlib.figure.Figure at 0x7f3a1f8d6b00>"
      ]
     },
     "metadata": {},
     "output_type": "display_data"
    }
   ],
   "source": [
    "%matplotlib inline\n",
    "plt.style.use('fivethirtyeight')\n",
    "movies_2015[\"Fandango_Stars\"].plot.kde(label = '2015', legend = True)\n",
    "movies_2016[\"fandango\"].plot.kde(label = '2016', legend = True)\n",
    "plt.title(\"Comparison of the Fandango ratings 2015-2016\").set_fontsize(\"large\")\n",
    "plt.xlabel('Stars')\n",
    "plt.ylabel('kde')\n",
    "ticks=[0, 0.5, 1.0, 1.5, 2.0, 2.5, 3.0, 3.5, 4.0, 4.5, 5.0]\n",
    "plt.xticks(ticks)\n",
    "plt.xlim(0, 5)\n",
    "plt.show()"
   ]
  },
  {
   "cell_type": "markdown",
   "metadata": {},
   "source": [
    "The shape of 2015 ratings is strongly left-skewed, while the 2016 is more softly left-skewed.\n",
    "While the 2015 curve is peaked on 4.5 and doesn't recall a gaussian at all, the 2016 is more similar to a real gaussian.\n",
    "A difference is evident, the 2016 ratings are generally lower. The 2016 curve has a more realistic shape, but still seems pretty \"optimistic\"."
   ]
  },
  {
   "cell_type": "markdown",
   "metadata": {},
   "source": [
    "## Comparing Relative Frequencies"
   ]
  },
  {
   "cell_type": "markdown",
   "metadata": {},
   "source": [
    "While comparing the distributions with the help of the kernel density plots was a great start, we now need to analyze more granular information."
   ]
  },
  {
   "cell_type": "code",
   "execution_count": 17,
   "metadata": {
    "collapsed": false
   },
   "outputs": [
    {
     "name": "stdout",
     "output_type": "stream",
     "text": [
      "3.0     8.527132\n",
      "3.5    17.829457\n",
      "4.0    28.682171\n",
      "4.5    37.984496\n",
      "5.0     6.976744\n",
      "Name: Fandango_Stars, dtype: float64\n",
      "2.5     3.141361\n",
      "3.0     7.329843\n",
      "3.5    24.083770\n",
      "4.0    40.314136\n",
      "4.5    24.607330\n",
      "5.0     0.523560\n",
      "Name: fandango, dtype: float64\n"
     ]
    }
   ],
   "source": [
    "freq_2015=movies_2015['Fandango_Stars'].value_counts(normalize = True)*100\n",
    "freq_2016=movies_2016['fandango'].value_counts(normalize = True)*100\n",
    "freq_2015=freq_2015.sort_index(ascending=True)\n",
    "freq_2016=freq_2016.sort_index(ascending=True)\n",
    "print(freq_2015)\n",
    "print(freq_2016)"
   ]
  },
  {
   "cell_type": "code",
   "execution_count": 18,
   "metadata": {
    "collapsed": false
   },
   "outputs": [
    {
     "data": {
      "image/png": "[encoded data removed]",
      "text/plain": [
       "<matplotlib.figure.Figure at 0x7f3a1f9378d0>"
      ]
     },
     "metadata": {},
     "output_type": "display_data"
    }
   ],
   "source": [
    "freq_2015.plot.line(label = '2015', legend = True)\n",
    "freq_2016.plot.line(label = '2016', legend = True)\n",
    "plt.xlabel('Stars')\n",
    "plt.ylabel('percentage')\n",
    "\n",
    "plt.show()"
   ]
  },
  {
   "cell_type": "markdown",
   "metadata": {},
   "source": [
    "There is a 20% of the total ratings from 4.5 and 5.0 stars in 2015 has been transferred to 3.5 and 4.0 stars in 2016.\n",
    "The transformation of the 2016 curve respect to the 2015 is still very clear."
   ]
  },
  {
   "cell_type": "markdown",
   "metadata": {},
   "source": [
    "## Determining the Direction of the Change"
   ]
  },
  {
   "cell_type": "markdown",
   "metadata": {},
   "source": [
    "To get a more precise picture about the direction of the difference, I'll take each distribution of movie ratings and compute its mean, median, and mode, and then compare these statistics to determine what they tell about the direction of the difference."
   ]
  },
  {
   "cell_type": "code",
   "execution_count": 19,
   "metadata": {
    "collapsed": false
   },
   "outputs": [
    {
     "name": "stdout",
     "output_type": "stream",
     "text": [
      "4.0852713178294575   4.0   4.5\n",
      "3.887434554973822   4.0   4.0\n"
     ]
    }
   ],
   "source": [
    "mean_2015=movies_2015[\"Fandango_Stars\"].mean()\n",
    "median_2015=movies_2015[\"Fandango_Stars\"].median()\n",
    "mode_2015=movies_2015[\"Fandango_Stars\"].mode().iloc[0]\n",
    "mean_2016=movies_2016['fandango'].mean()\n",
    "median_2016=movies_2016['fandango'].median()\n",
    "mode_2016=movies_2016['fandango'].mode().iloc[0]\n",
    "print(mean_2015, \" \", median_2015, \" \", mode_2015)\n",
    "print(mean_2016, \" \", median_2016, \" \", mode_2016)"
   ]
  },
  {
   "cell_type": "markdown",
   "metadata": {},
   "source": [
    "The 3 values are more close in the 2016 distribution, typical of the more symmetric distributions. The difference between the mean and the median is small, while the mode one is pretty big, since the distributions are peaked on 2 different values. Any way is confirmed that the 2016 marks are lower than the 2015 ones."
   ]
  },
  {
   "cell_type": "code",
   "execution_count": 20,
   "metadata": {
    "collapsed": false
   },
   "outputs": [
    {
     "name": "stdout",
     "output_type": "stream",
     "text": [
      "          mean  median  mode\n",
      "2015  4.085271     4.0   4.5\n",
      "2016  3.887435     4.0   4.0\n"
     ]
    }
   ],
   "source": [
    "statistics=pd.DataFrame([(mean_2015, median_2015, mode_2015),\n",
    "                        (mean_2016, median_2016, mode_2016)],\n",
    "                       index=(2015, 2016),\n",
    "                       columns=(\"mean\", \"median\", \"mode\"))\n",
    "print(statistics)"
   ]
  },
  {
   "cell_type": "code",
   "execution_count": 21,
   "metadata": {
    "collapsed": false
   },
   "outputs": [
    {
     "data": {
      "image/png": "[encoded data removed]",
      "text/plain": [
       "<matplotlib.figure.Figure at 0x7f3a1d7a85f8>"
      ]
     },
     "metadata": {},
     "output_type": "display_data"
    }
   ],
   "source": [
    "statistics.transpose().plot.bar(rot=0)\n",
    "plt.title(\"Comparing summary statistics 2015-2016\").set_fontsize(\"large\")\n",
    "plt.ylabel('Stars')\n",
    "plt.ylim(0, 5)\n",
    "plt.yticks(ticks)\n",
    "plt.legend(loc='best')\n",
    "plt.show()"
   ]
  },
  {
   "cell_type": "markdown",
   "metadata": {},
   "source": [
    "In conclusions: I demonstrated that there is indeed a slight difference between the 2 populations.\n",
    "Since I don't have any others data at my disposal I have to conclude that the change has been caused by the article which can have pushed Fandango administrators not to exaggerate."
   ]
  }
 ],
 "metadata": {
  "kernelspec": {
   "display_name": "Python 3",
   "language": "python",
   "name": "python3"
  },
  "language_info": {
   "codemirror_mode": {
    "name": "ipython",
    "version": 3
   },
   "file_extension": ".py",
   "mimetype": "text/x-python",
   "name": "python",
   "nbconvert_exporter": "python",
   "pygments_lexer": "ipython3",
   "version": "3.4.3"
  }
 },
 "nbformat": 4,
 "nbformat_minor": 2
}
