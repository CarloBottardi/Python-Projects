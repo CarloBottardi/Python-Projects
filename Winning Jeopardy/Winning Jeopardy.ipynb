{
 "cells": [
  {
   "cell_type": "markdown",
   "metadata": {},
   "source": [
    "# Winning Jeopardy!"
   ]
  },
  {
   "cell_type": "markdown",
   "metadata": {},
   "source": [
    "Jeopardy is a popular TV show in the US where participants answer questions to win money. It's been running for a few decades, and is a major force in popular culture.\n",
    "\n",
    "Let's say you want to compete on Jeopardy, and you're looking for any edge you can get to win. In this project, I'll work with a dataset of Jeopardy questions to figure out some patterns in the questions that could help you win.\n",
    "\n",
    "The dataset is named \"jeopardy.csv\", and contains 20000 rows from the beginning of a full dataset of Jeopardy questions.\n",
    "\n",
    "Each row in the dataset represents a single question on a single episode of Jeopardy. Here are explanations of each column:\n",
    "\n",
    "- Show Number -- the Jeopardy episode number of the show this question was in.\n",
    "- Air Date -- the date the episode aired.\n",
    "- Round -- the round of Jeopardy that the question was asked in. Jeopardy has several rounds as each episode progresses.\n",
    "- Category -- the category of the question.\n",
    "- Value -- the number of dollars answering the question correctly is worth.\n",
    "- Question -- the text of the question.\n",
    "- Answer -- the text of the answer."
   ]
  },
  {
   "cell_type": "code",
   "execution_count": 1,
   "metadata": {
    "collapsed": false
   },
   "outputs": [
    {
     "name": "stdout",
     "output_type": "stream",
     "text": [
      "   Show Number    Air Date      Round                         Category  Value  \\\n",
      "0         4680  2004-12-31  Jeopardy!                          HISTORY   $200   \n",
      "1         4680  2004-12-31  Jeopardy!  ESPN's TOP 10 ALL-TIME ATHLETES   $200   \n",
      "2         4680  2004-12-31  Jeopardy!      EVERYBODY TALKS ABOUT IT...   $200   \n",
      "3         4680  2004-12-31  Jeopardy!                 THE COMPANY LINE   $200   \n",
      "4         4680  2004-12-31  Jeopardy!              EPITAPHS & TRIBUTES   $200   \n",
      "\n",
      "                                            Question      Answer  \n",
      "0  For the last 8 years of his life, Galileo was ...  Copernicus  \n",
      "1  No. 2: 1912 Olympian; football star at Carlisl...  Jim Thorpe  \n",
      "2  The city of Yuma in this state has a record av...     Arizona  \n",
      "3  In 1963, live on \"The Art Linkletter Show\", th...  McDonald's  \n",
      "4  Signer of the Dec. of Indep., framer of the Co...  John Adams  \n"
     ]
    }
   ],
   "source": [
    "import pandas as pd\n",
    "jeopardy = pd.read_csv(\"jeopardy.csv\")\n",
    "print(jeopardy.head())"
   ]
  },
  {
   "cell_type": "code",
   "execution_count": 2,
   "metadata": {
    "collapsed": false
   },
   "outputs": [
    {
     "name": "stdout",
     "output_type": "stream",
     "text": [
      "Index(['Show Number', ' Air Date', ' Round', ' Category', ' Value',\n",
      "       ' Question', ' Answer'],\n",
      "      dtype='object')\n"
     ]
    }
   ],
   "source": [
    "print(jeopardy.columns)"
   ]
  },
  {
   "cell_type": "code",
   "execution_count": 3,
   "metadata": {
    "collapsed": false
   },
   "outputs": [
    {
     "name": "stdout",
     "output_type": "stream",
     "text": [
      "Index(['ShowNumber', 'AirDate', 'Round', 'Category', 'Value', 'Question',\n",
      "       'Answer'],\n",
      "      dtype='object')\n"
     ]
    }
   ],
   "source": [
    "jeopardy.columns=jeopardy.columns.str.replace(\" \", \"\")\n",
    "print(jeopardy.columns)"
   ]
  },
  {
   "cell_type": "code",
   "execution_count": 4,
   "metadata": {
    "collapsed": false
   },
   "outputs": [
    {
     "data": {
      "text/html": [
       "<div>\n",
       "<style scoped>\n",
       "    .dataframe tbody tr th:only-of-type {\n",
       "        vertical-align: middle;\n",
       "    }\n",
       "\n",
       "    .dataframe tbody tr th {\n",
       "        vertical-align: top;\n",
       "    }\n",
       "\n",
       "    .dataframe thead th {\n",
       "        text-align: right;\n",
       "    }\n",
       "</style>\n",
       "<table border=\"1\" class=\"dataframe\">\n",
       "  <thead>\n",
       "    <tr style=\"text-align: right;\">\n",
       "      <th></th>\n",
       "      <th>ShowNumber</th>\n",
       "      <th>AirDate</th>\n",
       "      <th>Round</th>\n",
       "      <th>Category</th>\n",
       "      <th>Value</th>\n",
       "      <th>Question</th>\n",
       "      <th>Answer</th>\n",
       "    </tr>\n",
       "  </thead>\n",
       "  <tbody>\n",
       "    <tr>\n",
       "      <th>count</th>\n",
       "      <td>19999.000000</td>\n",
       "      <td>19999</td>\n",
       "      <td>19999</td>\n",
       "      <td>19999</td>\n",
       "      <td>19999</td>\n",
       "      <td>19999</td>\n",
       "      <td>19999</td>\n",
       "    </tr>\n",
       "    <tr>\n",
       "      <th>unique</th>\n",
       "      <td>NaN</td>\n",
       "      <td>336</td>\n",
       "      <td>4</td>\n",
       "      <td>3581</td>\n",
       "      <td>76</td>\n",
       "      <td>19988</td>\n",
       "      <td>14963</td>\n",
       "    </tr>\n",
       "    <tr>\n",
       "      <th>top</th>\n",
       "      <td>NaN</td>\n",
       "      <td>2007-11-13</td>\n",
       "      <td>Jeopardy!</td>\n",
       "      <td>TELEVISION</td>\n",
       "      <td>$400</td>\n",
       "      <td>[audio clue]</td>\n",
       "      <td>Japan</td>\n",
       "    </tr>\n",
       "    <tr>\n",
       "      <th>freq</th>\n",
       "      <td>NaN</td>\n",
       "      <td>62</td>\n",
       "      <td>9901</td>\n",
       "      <td>51</td>\n",
       "      <td>3892</td>\n",
       "      <td>5</td>\n",
       "      <td>22</td>\n",
       "    </tr>\n",
       "    <tr>\n",
       "      <th>mean</th>\n",
       "      <td>4312.730537</td>\n",
       "      <td>NaN</td>\n",
       "      <td>NaN</td>\n",
       "      <td>NaN</td>\n",
       "      <td>NaN</td>\n",
       "      <td>NaN</td>\n",
       "      <td>NaN</td>\n",
       "    </tr>\n",
       "    <tr>\n",
       "      <th>std</th>\n",
       "      <td>1374.121672</td>\n",
       "      <td>NaN</td>\n",
       "      <td>NaN</td>\n",
       "      <td>NaN</td>\n",
       "      <td>NaN</td>\n",
       "      <td>NaN</td>\n",
       "      <td>NaN</td>\n",
       "    </tr>\n",
       "    <tr>\n",
       "      <th>min</th>\n",
       "      <td>10.000000</td>\n",
       "      <td>NaN</td>\n",
       "      <td>NaN</td>\n",
       "      <td>NaN</td>\n",
       "      <td>NaN</td>\n",
       "      <td>NaN</td>\n",
       "      <td>NaN</td>\n",
       "    </tr>\n",
       "    <tr>\n",
       "      <th>25%</th>\n",
       "      <td>3393.000000</td>\n",
       "      <td>NaN</td>\n",
       "      <td>NaN</td>\n",
       "      <td>NaN</td>\n",
       "      <td>NaN</td>\n",
       "      <td>NaN</td>\n",
       "      <td>NaN</td>\n",
       "    </tr>\n",
       "    <tr>\n",
       "      <th>50%</th>\n",
       "      <td>4582.000000</td>\n",
       "      <td>NaN</td>\n",
       "      <td>NaN</td>\n",
       "      <td>NaN</td>\n",
       "      <td>NaN</td>\n",
       "      <td>NaN</td>\n",
       "      <td>NaN</td>\n",
       "    </tr>\n",
       "    <tr>\n",
       "      <th>75%</th>\n",
       "      <td>5431.000000</td>\n",
       "      <td>NaN</td>\n",
       "      <td>NaN</td>\n",
       "      <td>NaN</td>\n",
       "      <td>NaN</td>\n",
       "      <td>NaN</td>\n",
       "      <td>NaN</td>\n",
       "    </tr>\n",
       "    <tr>\n",
       "      <th>max</th>\n",
       "      <td>6294.000000</td>\n",
       "      <td>NaN</td>\n",
       "      <td>NaN</td>\n",
       "      <td>NaN</td>\n",
       "      <td>NaN</td>\n",
       "      <td>NaN</td>\n",
       "      <td>NaN</td>\n",
       "    </tr>\n",
       "  </tbody>\n",
       "</table>\n",
       "</div>"
      ],
      "text/plain": [
       "          ShowNumber     AirDate      Round    Category  Value      Question  \\\n",
       "count   19999.000000       19999      19999       19999  19999         19999   \n",
       "unique           NaN         336          4        3581     76         19988   \n",
       "top              NaN  2007-11-13  Jeopardy!  TELEVISION   $400  [audio clue]   \n",
       "freq             NaN          62       9901          51   3892             5   \n",
       "mean     4312.730537         NaN        NaN         NaN    NaN           NaN   \n",
       "std      1374.121672         NaN        NaN         NaN    NaN           NaN   \n",
       "min        10.000000         NaN        NaN         NaN    NaN           NaN   \n",
       "25%      3393.000000         NaN        NaN         NaN    NaN           NaN   \n",
       "50%      4582.000000         NaN        NaN         NaN    NaN           NaN   \n",
       "75%      5431.000000         NaN        NaN         NaN    NaN           NaN   \n",
       "max      6294.000000         NaN        NaN         NaN    NaN           NaN   \n",
       "\n",
       "       Answer  \n",
       "count   19999  \n",
       "unique  14963  \n",
       "top     Japan  \n",
       "freq       22  \n",
       "mean      NaN  \n",
       "std       NaN  \n",
       "min       NaN  \n",
       "25%       NaN  \n",
       "50%       NaN  \n",
       "75%       NaN  \n",
       "max       NaN  "
      ]
     },
     "execution_count": 4,
     "metadata": {},
     "output_type": "execute_result"
    }
   ],
   "source": [
    "jeopardy.describe(include=\"all\")"
   ]
  },
  {
   "cell_type": "code",
   "execution_count": 5,
   "metadata": {
    "collapsed": false
   },
   "outputs": [
    {
     "name": "stdout",
     "output_type": "stream",
     "text": [
      "ShowNumber     int64\n",
      "AirDate       object\n",
      "Round         object\n",
      "Category      object\n",
      "Value         object\n",
      "Question      object\n",
      "Answer        object\n",
      "dtype: object\n"
     ]
    }
   ],
   "source": [
    "print(jeopardy.dtypes)"
   ]
  },
  {
   "cell_type": "markdown",
   "metadata": {},
   "source": [
    "## Normalizing text"
   ]
  },
  {
   "cell_type": "markdown",
   "metadata": {},
   "source": [
    "Before I start doing analysis on the Jeopardy questions, I need to normalize (lowercase the words and remove the punctuation) all of the text columns (the Question and Answer columns)."
   ]
  },
  {
   "cell_type": "code",
   "execution_count": 6,
   "metadata": {
    "collapsed": false
   },
   "outputs": [],
   "source": [
    "import string\n",
    "def normalize(el):\n",
    "    el2=el.lower()\n",
    "    el3=el2.translate(str.maketrans('', '', string.punctuation))\n",
    "    return el3\n",
    "\n",
    "jeopardy[\"clean_question\"]=jeopardy[\"Question\"].apply(normalize)\n",
    "jeopardy[\"clean_answer\"]=jeopardy[\"Answer\"].apply(normalize)"
   ]
  },
  {
   "cell_type": "code",
   "execution_count": 7,
   "metadata": {
    "collapsed": false
   },
   "outputs": [
    {
     "name": "stdout",
     "output_type": "stream",
     "text": [
      "0    for the last 8 years of his life galileo was u...\n",
      "1    no 2 1912 olympian football star at carlisle i...\n",
      "2    the city of yuma in this state has a record av...\n",
      "3    in 1963 live on the art linkletter show this c...\n",
      "4    signer of the dec of indep framer of the const...\n",
      "5    in the title of an aesop fable this insect sha...\n",
      "6    built in 312 bc to link rome  the south of ita...\n",
      "7    no 8 30 steals for the birmingham barons 2306 ...\n",
      "8    in the winter of 197172 a record 1122 inches o...\n",
      "9    this housewares store was named for the packag...\n",
      "Name: clean_question, dtype: object\n"
     ]
    }
   ],
   "source": [
    "print(jeopardy[\"clean_question\"].head(10))"
   ]
  },
  {
   "cell_type": "code",
   "execution_count": 8,
   "metadata": {
    "collapsed": false
   },
   "outputs": [
    {
     "name": "stdout",
     "output_type": "stream",
     "text": [
      "0        copernicus\n",
      "1        jim thorpe\n",
      "2           arizona\n",
      "3         mcdonalds\n",
      "4        john adams\n",
      "5           the ant\n",
      "6    the appian way\n",
      "7    michael jordan\n",
      "8        washington\n",
      "9     crate  barrel\n",
      "Name: clean_answer, dtype: object\n"
     ]
    }
   ],
   "source": [
    "print(jeopardy[\"clean_answer\"].head(10))"
   ]
  },
  {
   "cell_type": "markdown",
   "metadata": {},
   "source": [
    "## Normalizing Other Columns"
   ]
  },
  {
   "cell_type": "markdown",
   "metadata": {},
   "source": [
    "The Value column should be numeric, thus should remove the dollar sign from the beginning of each value and convert the column from text to numeric.\n",
    "\n",
    "The Air Date column should be a datetime, not a string."
   ]
  },
  {
   "cell_type": "code",
   "execution_count": 9,
   "metadata": {
    "collapsed": false
   },
   "outputs": [
    {
     "name": "stdout",
     "output_type": "stream",
     "text": [
      "0    200\n",
      "1    200\n",
      "2    200\n",
      "3    200\n",
      "4    200\n",
      "5    200\n",
      "6    400\n",
      "7    400\n",
      "8    400\n",
      "9    400\n",
      "Name: clean_value, dtype: int64\n"
     ]
    }
   ],
   "source": [
    "import math\n",
    "def norm_dollars(el):\n",
    "    el=el.translate(str.maketrans('', '', string.punctuation))\n",
    "    el = pd.to_numeric(el, errors='coerce', downcast='integer')\n",
    "    if math.isnan(el):\n",
    "        el=0\n",
    "    return el\n",
    "jeopardy[\"clean_value\"]=jeopardy[\"Value\"].apply(norm_dollars)\n",
    "print(jeopardy[\"clean_value\"].head(10))"
   ]
  },
  {
   "cell_type": "code",
   "execution_count": 10,
   "metadata": {
    "collapsed": false
   },
   "outputs": [
    {
     "name": "stdout",
     "output_type": "stream",
     "text": [
      "0   2004-12-31\n",
      "1   2004-12-31\n",
      "2   2004-12-31\n",
      "3   2004-12-31\n",
      "4   2004-12-31\n",
      "5   2004-12-31\n",
      "6   2004-12-31\n",
      "7   2004-12-31\n",
      "8   2004-12-31\n",
      "9   2004-12-31\n",
      "Name: AirDate, dtype: datetime64[ns]\n"
     ]
    }
   ],
   "source": [
    "jeopardy[\"AirDate\"] = pd.to_datetime(jeopardy[\"AirDate\"])\n",
    "print(jeopardy[\"AirDate\"].head(10))"
   ]
  },
  {
   "cell_type": "markdown",
   "metadata": {},
   "source": [
    "## Answers in Questions"
   ]
  },
  {
   "cell_type": "markdown",
   "metadata": {},
   "source": [
    "In order to figure out whether to study past questions, study general knowledge, or not study it all, it would be helpful to figure out two things:\n",
    "\n",
    "- How often the answer is deducible from the question.\n",
    "- How often new questions are repeats of older questions.\n",
    "\n",
    "You can answer the second question by seeing how often complex words (> 6 characters) reoccur. \n",
    "\n",
    "You can answer the first question by seeing how many times words in the answer also occur in the question. \n",
    "\n",
    "I'll work on the first question now, and come back to the second."
   ]
  },
  {
   "cell_type": "code",
   "execution_count": 11,
   "metadata": {
    "collapsed": false
   },
   "outputs": [
    {
     "name": "stdout",
     "output_type": "stream",
     "text": [
      "0.058861482035140716\n"
     ]
    }
   ],
   "source": [
    "def answer_from_question(row):\n",
    "    split_answer=row[\"clean_answer\"].split()\n",
    "    split_question=row[\"clean_question\"].split()\n",
    "    match_count=0\n",
    "    if \"the\" in split_answer:\n",
    "        split_answer.remove(\"the\")\n",
    "    if len(split_answer)==0:\n",
    "        return 0\n",
    "    else:\n",
    "        for word in split_answer:\n",
    "            if word in split_question:\n",
    "                match_count+=1\n",
    "        return match_count/len(split_answer)\n",
    "\n",
    "jeopardy[\"answer_in_question\"]=jeopardy.apply(answer_from_question, axis=1)\n",
    "mean_answer_in_question=jeopardy[\"answer_in_question\"].mean()\n",
    "print(mean_answer_in_question)"
   ]
  },
  {
   "cell_type": "markdown",
   "metadata": {},
   "source": [
    "From the above found mean, I can deduce how often the answer is deducible from the question: just in the 6% of the questions."
   ]
  },
  {
   "cell_type": "markdown",
   "metadata": {},
   "source": [
    "## Recycled Questions"
   ]
  },
  {
   "cell_type": "markdown",
   "metadata": {},
   "source": [
    "Let's see how often new questions are repeats of older ones. "
   ]
  },
  {
   "cell_type": "code",
   "execution_count": 12,
   "metadata": {
    "collapsed": false
   },
   "outputs": [
    {
     "name": "stdout",
     "output_type": "stream",
     "text": [
      "19325   1984-09-21\n",
      "19301   1984-09-21\n",
      "19302   1984-09-21\n",
      "19303   1984-09-21\n",
      "19304   1984-09-21\n",
      "19305   1984-09-21\n",
      "19306   1984-09-21\n",
      "19307   1984-09-21\n",
      "19308   1984-09-21\n",
      "19309   1984-09-21\n",
      "Name: AirDate, dtype: datetime64[ns]\n"
     ]
    }
   ],
   "source": [
    "question_overlap=[]\n",
    "terms_used = set()\n",
    "jeopardy=jeopardy.sort_values(by=\"AirDate\")\n",
    "print(jeopardy[\"AirDate\"].head(10))"
   ]
  },
  {
   "cell_type": "code",
   "execution_count": 13,
   "metadata": {
    "collapsed": false
   },
   "outputs": [
    {
     "name": "stdout",
     "output_type": "stream",
     "text": [
      "0.6889055316620328\n"
     ]
    }
   ],
   "source": [
    "for index, row in jeopardy.iterrows():\n",
    "    split_question=row[\"clean_question\"].split(\" \")\n",
    "    split_question=[word for word in split_question if len(word)>=6]\n",
    "    match_count = 0\n",
    "    for word in split_question:\n",
    "        if word in terms_used:\n",
    "            match_count+=1\n",
    "        terms_used.add(word)\n",
    "    if len(split_question)>0:\n",
    "        match_count=match_count/len(split_question)\n",
    "    question_overlap.append(match_count)\n",
    "jeopardy[\"question_overlap\"]=question_overlap\n",
    "mean_question_overlap=jeopardy[\"question_overlap\"].mean()\n",
    "print(mean_question_overlap)"
   ]
  },
  {
   "cell_type": "markdown",
   "metadata": {},
   "source": [
    "About the 70% of the words from the questions are recycled by older questions. This doesn't mean the entire sentence is copied but maybe we can investigate more this point."
   ]
  },
  {
   "cell_type": "markdown",
   "metadata": {},
   "source": [
    "## Low Value vs High Value Questions"
   ]
  },
  {
   "cell_type": "markdown",
   "metadata": {},
   "source": [
    "Let's say you only want to study questions that pertain to high value questions instead of low value questions. This will help you earn more money when you're on Jeopardy.\n",
    "\n",
    "I can actually figure out which terms correspond to high-value questions using a chi-squared test. I'll first need to narrow down the questions into two categories:\n",
    "\n",
    "- Low value -- Any row where Value is less than 800.\n",
    "- High value -- Any row where Value is greater than 800.\n",
    "\n",
    "I'll then be able to loop through each of the terms from the last screen, terms_used, and:\n",
    "\n",
    "- Find the number of low value questions the word occurs in.\n",
    "- Find the number of high value questions the word occurs in.\n",
    "- Find the percentage of questions the word occurs in.\n",
    "- Based on the percentage of questions the word occurs in, find expected counts.\n",
    "- Compute the chi squared value based on the expected counts and the observed counts for high and low value questions.\n",
    "\n",
    "I can then find the words with the biggest differences in usage between high and low value questions, by selecting the words with the highest associated chi-squared values."
   ]
  },
  {
   "cell_type": "code",
   "execution_count": 14,
   "metadata": {
    "collapsed": false
   },
   "outputs": [
    {
     "name": "stdout",
     "output_type": "stream",
     "text": [
      "      clean_value  high_value\n",
      "1953          800           0\n",
      "1954          800           0\n",
      "1955          800           0\n",
      "1945          400           0\n",
      "1922          400           0\n"
     ]
    }
   ],
   "source": [
    "def class_value(row):\n",
    "    if row[\"clean_value\"]>800:\n",
    "        return 1\n",
    "    else:\n",
    "        return 0\n",
    "\n",
    "jeopardy[\"high_value\"]=jeopardy.apply(class_value, axis=1)\n",
    "print(jeopardy[[\"clean_value\", \"high_value\"]].tail())"
   ]
  },
  {
   "cell_type": "code",
   "execution_count": 15,
   "metadata": {
    "collapsed": false
   },
   "outputs": [
    {
     "name": "stdout",
     "output_type": "stream",
     "text": [
      "0   2\n"
     ]
    }
   ],
   "source": [
    "def high_low_count(word):\n",
    "    low_count=0\n",
    "    high_count=0\n",
    "    for index, row in jeopardy.iterrows():\n",
    "        split_question=row[\"clean_question\"].split(\" \")\n",
    "        if word in split_question:\n",
    "            if row[\"high_value\"]==1:\n",
    "                high_count+=1\n",
    "            else:\n",
    "                low_count+=1\n",
    "    return high_count, low_count\n",
    "high, low = high_low_count(\"housewares\")\n",
    "print(high, \" \", low)"
   ]
  },
  {
   "cell_type": "code",
   "execution_count": 16,
   "metadata": {
    "collapsed": false
   },
   "outputs": [
    {
     "name": "stdout",
     "output_type": "stream",
     "text": [
      "[(0, 2), (1, 0), (1, 1), (1, 0), (0, 1), (0, 1), (1, 3), (1, 0), (2, 8), (0, 1)]\n",
      "['planetary', 'corridors', 'dreamt', 'ambroses', 'outgrossing', 'corcoran', 'heights', 'bosnian', 'honorary', 'freuds']\n"
     ]
    }
   ],
   "source": [
    "import random\n",
    "\n",
    "comparison_terms=[]\n",
    "for i in range(10):\n",
    "    comparison_terms.append(random.choice(tuple(terms_used)))\n",
    "observed_expected=[]\n",
    "for word in comparison_terms:\n",
    "    tuple_high_low = high_low_count(word)\n",
    "    observed_expected.append(tuple_high_low)\n",
    "print(observed_expected)\n",
    "print(comparison_terms)"
   ]
  },
  {
   "cell_type": "markdown",
   "metadata": {},
   "source": [
    "## Applying the Chi-Squared Test"
   ]
  },
  {
   "cell_type": "markdown",
   "metadata": {},
   "source": [
    "I've found the observed counts for a few terms. I can now compute the expected counts and the chi-squared value."
   ]
  },
  {
   "cell_type": "code",
   "execution_count": 17,
   "metadata": {
    "collapsed": false
   },
   "outputs": [
    {
     "name": "stdout",
     "output_type": "stream",
     "text": [
      "5734\n"
     ]
    }
   ],
   "source": [
    "high_value_count=len(jeopardy[jeopardy[\"high_value\"]==1])\n",
    "print(high_value_count)"
   ]
  },
  {
   "cell_type": "code",
   "execution_count": 18,
   "metadata": {
    "collapsed": false
   },
   "outputs": [
    {
     "name": "stdout",
     "output_type": "stream",
     "text": [
      "14265\n"
     ]
    }
   ],
   "source": [
    "low_value_count=len(jeopardy[jeopardy[\"high_value\"]==0])\n",
    "print(low_value_count)"
   ]
  },
  {
   "cell_type": "code",
   "execution_count": 19,
   "metadata": {
    "collapsed": false
   },
   "outputs": [
    {
     "name": "stdout",
     "output_type": "stream",
     "text": [
      "[Power_divergenceResult(statistic=0.803925692253768, pvalue=0.3699222378079571), Power_divergenceResult(statistic=2.487792117195675, pvalue=0.11473257634454047), Power_divergenceResult(statistic=0.4448774816612795, pvalue=0.5047776487545996), Power_divergenceResult(statistic=2.487792117195675, pvalue=0.11473257634454047), Power_divergenceResult(statistic=0.401962846126884, pvalue=0.5260772985705469), Power_divergenceResult(statistic=0.401962846126884, pvalue=0.5260772985705469), Power_divergenceResult(statistic=0.02636443308440769, pvalue=0.871013484688921), Power_divergenceResult(statistic=2.487792117195675, pvalue=0.11473257634454047), Power_divergenceResult(statistic=0.36767906209032747, pvalue=0.5442721040962595), Power_divergenceResult(statistic=0.401962846126884, pvalue=0.5260772985705469)]\n"
     ]
    }
   ],
   "source": [
    "from scipy.stats import chisquare\n",
    "chi_squared=[]\n",
    "for tuple_val in observed_expected:\n",
    "    total=tuple_val[0]+tuple_val[1]\n",
    "    total_prop=total/len(jeopardy)\n",
    "    prop_high_value_count=total_prop*high_value_count\n",
    "    prop_low_value_count=total_prop*low_value_count\n",
    "    expected_tuple_val=(prop_high_value_count, prop_low_value_count)\n",
    "    result = chisquare(tuple_val, expected_tuple_val)\n",
    "    chi_squared.append(result)\n",
    "print(chi_squared)"
   ]
  },
  {
   "cell_type": "markdown",
   "metadata": {},
   "source": [
    "There are not statistically significant results and anyway the frequencies of these words are very low."
   ]
  }
 ],
 "metadata": {
  "kernelspec": {
   "display_name": "Python 3",
   "language": "python",
   "name": "python3"
  },
  "language_info": {
   "codemirror_mode": {
    "name": "ipython",
    "version": 3
   },
   "file_extension": ".py",
   "mimetype": "text/x-python",
   "name": "python",
   "nbconvert_exporter": "python",
   "pygments_lexer": "ipython3",
   "version": "3.4.3"
  }
 },
 "nbformat": 4,
 "nbformat_minor": 0
}
