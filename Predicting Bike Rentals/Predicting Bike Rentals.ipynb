{
 "cells": [
  {
   "cell_type": "markdown",
   "metadata": {},
   "source": [
    "# Predicting Bike Rentals"
   ]
  },
  {
   "cell_type": "markdown",
   "metadata": {},
   "source": [
    "Many American cities have communal bike sharing stations where you can rent bicycles by the hour or day. Washington, D.C. is one of these cities. The District collects detailed data on the number of bicycles people rent by the hour and day.\n",
    "\n",
    "The dataset contains 17380 rows, with each row representing the number of bike rentals for a single hour of a single day.\n",
    "\n",
    "Here are the descriptions for the relevant columns:\n",
    "\n",
    "- instant - A unique sequential ID number for each row\n",
    "- dteday - The date of the rentals\n",
    "- season - The season in which the rentals occurred\n",
    "- yr - The year the rentals occurred\n",
    "- mnth - The month the rentals occurred\n",
    "- hr - The hour the rentals occurred\n",
    "- holiday - Whether or not the day was a holiday\n",
    "- weekday - The day of the week (as a number, 0 to 7)\n",
    "- workingday - Whether or not the day was a working day\n",
    "- weathersit - The weather (as a categorical variable)\n",
    "- temp - The temperature, on a 0-1 scale\n",
    "- atemp - The adjusted temperature\n",
    "- hum - The humidity, on a 0-1 scale\n",
    "- windspeed - The wind speed, on a 0-1 scale\n",
    "- casual - The number of casual riders (people who hadn't - previously signed up with the bike sharing program)\n",
    "- registered - The number of registered riders (people who had already signed up)\n",
    "- cnt - The total number of bike rentals (casual + registered)"
   ]
  },
  {
   "cell_type": "code",
   "execution_count": 1,
   "metadata": {
    "collapsed": false
   },
   "outputs": [
    {
     "name": "stdout",
     "output_type": "stream",
     "text": [
      "   instant      dteday  season  yr  mnth  hr  holiday  weekday  workingday  \\\n",
      "0        1  2011-01-01       1   0     1   0        0        6           0   \n",
      "1        2  2011-01-01       1   0     1   1        0        6           0   \n",
      "2        3  2011-01-01       1   0     1   2        0        6           0   \n",
      "3        4  2011-01-01       1   0     1   3        0        6           0   \n",
      "4        5  2011-01-01       1   0     1   4        0        6           0   \n",
      "\n",
      "   weathersit  temp   atemp   hum  windspeed  casual  registered  cnt  \n",
      "0           1  0.24  0.2879  0.81        0.0       3          13   16  \n",
      "1           1  0.22  0.2727  0.80        0.0       8          32   40  \n",
      "2           1  0.22  0.2727  0.80        0.0       5          27   32  \n",
      "3           1  0.24  0.2879  0.75        0.0       3          10   13  \n",
      "4           1  0.24  0.2879  0.75        0.0       0           1    1  \n",
      "(17379, 17)\n"
     ]
    }
   ],
   "source": [
    "import pandas as pd\n",
    "\n",
    "bike_rentals = pd.read_csv(\"bike_rental_hour.csv\")\n",
    "print(bike_rentals.head())\n",
    "print(bike_rentals.shape)"
   ]
  },
  {
   "cell_type": "code",
   "execution_count": 2,
   "metadata": {
    "collapsed": false
   },
   "outputs": [
    {
     "name": "stdout",
     "output_type": "stream",
     "text": [
      "       instant      dteday  season  yr  mnth  hr  holiday  weekday  \\\n",
      "17374    17375  2012-12-31       1   1    12  19        0        1   \n",
      "17375    17376  2012-12-31       1   1    12  20        0        1   \n",
      "17376    17377  2012-12-31       1   1    12  21        0        1   \n",
      "17377    17378  2012-12-31       1   1    12  22        0        1   \n",
      "17378    17379  2012-12-31       1   1    12  23        0        1   \n",
      "\n",
      "       workingday  weathersit  temp   atemp   hum  windspeed  casual  \\\n",
      "17374           1           2  0.26  0.2576  0.60     0.1642      11   \n",
      "17375           1           2  0.26  0.2576  0.60     0.1642       8   \n",
      "17376           1           1  0.26  0.2576  0.60     0.1642       7   \n",
      "17377           1           1  0.26  0.2727  0.56     0.1343      13   \n",
      "17378           1           1  0.26  0.2727  0.65     0.1343      12   \n",
      "\n",
      "       registered  cnt  \n",
      "17374         108  119  \n",
      "17375          81   89  \n",
      "17376          83   90  \n",
      "17377          48   61  \n",
      "17378          37   49  \n"
     ]
    }
   ],
   "source": [
    "print(bike_rentals.tail())"
   ]
  },
  {
   "cell_type": "code",
   "execution_count": 3,
   "metadata": {
    "collapsed": true
   },
   "outputs": [],
   "source": [
    "import matplotlib.pyplot as plt\n",
    "%matplotlib inline"
   ]
  },
  {
   "cell_type": "code",
   "execution_count": 4,
   "metadata": {
    "collapsed": false
   },
   "outputs": [
    {
     "data": {
      "image/png": "[encoded data removed]",
      "text/plain": [
       "<matplotlib.figure.Figure at 0x7fe5461882e8>"
      ]
     },
     "metadata": {},
     "output_type": "display_data"
    }
   ],
   "source": [
    "bike_rentals[\"cnt\"].hist()\n",
    "plt.show()"
   ]
  },
  {
   "cell_type": "code",
   "execution_count": 5,
   "metadata": {
    "collapsed": false
   },
   "outputs": [
    {
     "data": {
      "text/plain": [
       "count    17379.000000\n",
       "mean       189.463088\n",
       "std        181.387599\n",
       "min          1.000000\n",
       "25%         40.000000\n",
       "50%        142.000000\n",
       "75%        281.000000\n",
       "max        977.000000\n",
       "Name: cnt, dtype: float64"
      ]
     },
     "execution_count": 5,
     "metadata": {},
     "output_type": "execute_result"
    }
   ],
   "source": [
    "bike_rentals[\"cnt\"].describe()"
   ]
  },
  {
   "cell_type": "code",
   "execution_count": 6,
   "metadata": {
    "collapsed": true
   },
   "outputs": [],
   "source": [
    "import seaborn as sns"
   ]
  },
  {
   "cell_type": "code",
   "execution_count": 7,
   "metadata": {
    "collapsed": false
   },
   "outputs": [
    {
     "data": {
      "image/png": "[encoded data removed]",
      "text/plain": [
       "<matplotlib.figure.Figure at 0x7fe53c993ef0>"
      ]
     },
     "metadata": {},
     "output_type": "display_data"
    }
   ],
   "source": [
    "corrmat=bike_rentals.corr()\n",
    "sns.heatmap(corrmat)\n",
    "plt.show()"
   ]
  },
  {
   "cell_type": "markdown",
   "metadata": {},
   "source": [
    "## Tweaking the Features"
   ]
  },
  {
   "cell_type": "markdown",
   "metadata": {},
   "source": [
    "We can introduce some order into the training process by creating a new column based on the hr column with labels for morning, afternoon, evening, and night. This will bundle similar times together, enabling the model to make better decisions."
   ]
  },
  {
   "cell_type": "code",
   "execution_count": 8,
   "metadata": {
    "collapsed": true
   },
   "outputs": [],
   "source": [
    "def assign_label(el):\n",
    "    if (el>=6)&(el<12):\n",
    "        return 1\n",
    "    elif (el>=12)&(el<18):\n",
    "        return 2\n",
    "    elif (el>=18)&(el<24):\n",
    "        return 3\n",
    "    else:\n",
    "        return 4"
   ]
  },
  {
   "cell_type": "code",
   "execution_count": 9,
   "metadata": {
    "collapsed": false
   },
   "outputs": [
    {
     "name": "stdout",
     "output_type": "stream",
     "text": [
      "   instant      dteday  season  yr  mnth  hr  holiday  weekday  workingday  \\\n",
      "0        1  2011-01-01       1   0     1   0        0        6           0   \n",
      "1        2  2011-01-01       1   0     1   1        0        6           0   \n",
      "2        3  2011-01-01       1   0     1   2        0        6           0   \n",
      "3        4  2011-01-01       1   0     1   3        0        6           0   \n",
      "4        5  2011-01-01       1   0     1   4        0        6           0   \n",
      "\n",
      "   weathersit  temp   atemp   hum  windspeed  casual  registered  cnt  \\\n",
      "0           1  0.24  0.2879  0.81        0.0       3          13   16   \n",
      "1           1  0.22  0.2727  0.80        0.0       8          32   40   \n",
      "2           1  0.22  0.2727  0.80        0.0       5          27   32   \n",
      "3           1  0.24  0.2879  0.75        0.0       3          10   13   \n",
      "4           1  0.24  0.2879  0.75        0.0       0           1    1   \n",
      "\n",
      "   time_label  \n",
      "0           4  \n",
      "1           4  \n",
      "2           4  \n",
      "3           4  \n",
      "4           4  \n"
     ]
    }
   ],
   "source": [
    "bike_rentals[\"time_label\"]=bike_rentals[\"hr\"].apply(assign_label)\n",
    "print(bike_rentals.head())"
   ]
  },
  {
   "cell_type": "markdown",
   "metadata": {},
   "source": [
    "I've chosen mean squared error as metric since it makes more evident the bigger discrepancies between real and predicted value."
   ]
  },
  {
   "cell_type": "markdown",
   "metadata": {},
   "source": [
    "## Splitting the Data into Train and Test Sets"
   ]
  },
  {
   "cell_type": "markdown",
   "metadata": {},
   "source": [
    "I'll select the 80% of the dataset as train set and the remaining 20% as test set."
   ]
  },
  {
   "cell_type": "code",
   "execution_count": 10,
   "metadata": {
    "collapsed": false
   },
   "outputs": [
    {
     "name": "stdout",
     "output_type": "stream",
     "text": [
      "<class 'pandas.core.frame.DataFrame'>\n",
      "Int64Index: 13903 entries, 10296 to 7187\n",
      "Data columns (total 18 columns):\n",
      "instant       13903 non-null int64\n",
      "dteday        13903 non-null object\n",
      "season        13903 non-null int64\n",
      "yr            13903 non-null int64\n",
      "mnth          13903 non-null int64\n",
      "hr            13903 non-null int64\n",
      "holiday       13903 non-null int64\n",
      "weekday       13903 non-null int64\n",
      "workingday    13903 non-null int64\n",
      "weathersit    13903 non-null int64\n",
      "temp          13903 non-null float64\n",
      "atemp         13903 non-null float64\n",
      "hum           13903 non-null float64\n",
      "windspeed     13903 non-null float64\n",
      "casual        13903 non-null int64\n",
      "registered    13903 non-null int64\n",
      "cnt           13903 non-null int64\n",
      "time_label    13903 non-null int64\n",
      "dtypes: float64(4), int64(13), object(1)\n",
      "memory usage: 2.0+ MB\n"
     ]
    }
   ],
   "source": [
    "train = bike_rentals.sample(frac=0.8)\n",
    "train.info()"
   ]
  },
  {
   "cell_type": "code",
   "execution_count": 11,
   "metadata": {
    "collapsed": false
   },
   "outputs": [
    {
     "name": "stdout",
     "output_type": "stream",
     "text": [
      "<class 'pandas.core.frame.DataFrame'>\n",
      "Int64Index: 3476 entries, 16 to 17366\n",
      "Data columns (total 18 columns):\n",
      "instant       3476 non-null int64\n",
      "dteday        3476 non-null object\n",
      "season        3476 non-null int64\n",
      "yr            3476 non-null int64\n",
      "mnth          3476 non-null int64\n",
      "hr            3476 non-null int64\n",
      "holiday       3476 non-null int64\n",
      "weekday       3476 non-null int64\n",
      "workingday    3476 non-null int64\n",
      "weathersit    3476 non-null int64\n",
      "temp          3476 non-null float64\n",
      "atemp         3476 non-null float64\n",
      "hum           3476 non-null float64\n",
      "windspeed     3476 non-null float64\n",
      "casual        3476 non-null int64\n",
      "registered    3476 non-null int64\n",
      "cnt           3476 non-null int64\n",
      "time_label    3476 non-null int64\n",
      "dtypes: float64(4), int64(13), object(1)\n",
      "memory usage: 516.0+ KB\n"
     ]
    }
   ],
   "source": [
    "test = bike_rentals.loc[~bike_rentals.index.isin(train.index)]\n",
    "test.info()"
   ]
  },
  {
   "cell_type": "code",
   "execution_count": 12,
   "metadata": {
    "collapsed": false
   },
   "outputs": [
    {
     "name": "stdout",
     "output_type": "stream",
     "text": [
      "cnt           1.000000\n",
      "registered    0.972151\n",
      "casual        0.694564\n",
      "temp          0.404772\n",
      "atemp         0.400929\n",
      "hr            0.394071\n",
      "hum           0.322911\n",
      "instant       0.278379\n",
      "yr            0.250495\n",
      "season        0.178056\n",
      "weathersit    0.142426\n",
      "mnth          0.120638\n",
      "windspeed     0.093234\n",
      "holiday       0.030927\n",
      "workingday    0.030284\n",
      "weekday       0.026900\n",
      "Name: cnt, dtype: float64\n"
     ]
    }
   ],
   "source": [
    "sorted_corr=corrmat[\"cnt\"].abs().sort_values(ascending=False)\n",
    "print(sorted_corr)"
   ]
  },
  {
   "cell_type": "markdown",
   "metadata": {},
   "source": [
    "## Applying Linear Regression"
   ]
  },
  {
   "cell_type": "markdown",
   "metadata": {},
   "source": [
    "I'm ready to apply linear regression to the data. \n",
    "\n",
    "Linear regression works best when predictors are linearly correlated to the target and also independent, thus linear regression will probably work fairly well on this data, given that many of the columns are highly correlated with cnt.\n",
    "\n",
    "I initially tried to remove from the feature list the columns with absolute correlation < 0.1, but then I decided to include every available column since they improve sensibly the model."
   ]
  },
  {
   "cell_type": "code",
   "execution_count": 13,
   "metadata": {
    "collapsed": true
   },
   "outputs": [],
   "source": [
    "features = list(train.columns)\n",
    "features.remove(\"cnt\")\n",
    "features.remove(\"casual\")\n",
    "features.remove(\"registered\")\n",
    "features.remove(\"dteday\")"
   ]
  },
  {
   "cell_type": "code",
   "execution_count": 14,
   "metadata": {
    "collapsed": true
   },
   "outputs": [],
   "source": [
    "import numpy as np\n",
    "from sklearn.linear_model import LinearRegression\n",
    "from sklearn.metrics import mean_squared_error"
   ]
  },
  {
   "cell_type": "code",
   "execution_count": 15,
   "metadata": {
    "collapsed": false
   },
   "outputs": [
    {
     "name": "stdout",
     "output_type": "stream",
     "text": [
      "134.31657624098224\n"
     ]
    }
   ],
   "source": [
    "lr = LinearRegression()\n",
    "lr.fit(train[features], train[\"cnt\"])\n",
    "predictions_test = lr.predict(test[features])\n",
    "test_mse=mean_squared_error(test[\"cnt\"], predictions_test)\n",
    "test_rmse=test_mse**(1/2)\n",
    "print(test_rmse)"
   ]
  },
  {
   "cell_type": "code",
   "execution_count": 16,
   "metadata": {
    "collapsed": false
   },
   "outputs": [
    {
     "name": "stdout",
     "output_type": "stream",
     "text": [
      "18040.942653099595\n",
      "16        93\n",
      "18        35\n",
      "22        28\n",
      "27         6\n",
      "28         3\n",
      "29         2\n",
      "32        20\n",
      "37        59\n",
      "40        65\n",
      "42        30\n",
      "56        51\n",
      "57        61\n",
      "69         5\n",
      "71         1\n",
      "72         2\n",
      "74        36\n",
      "76       179\n",
      "77       100\n",
      "79        57\n",
      "80        78\n",
      "81        97\n",
      "92         6\n",
      "97        33\n",
      "101       57\n",
      "104       71\n",
      "108      190\n",
      "110      132\n",
      "111       89\n",
      "112       43\n",
      "114       19\n",
      "        ... \n",
      "17206     26\n",
      "17208     23\n",
      "17215      1\n",
      "17224    121\n",
      "17225    126\n",
      "17228     50\n",
      "17232     34\n",
      "17241     36\n",
      "17244     23\n",
      "17251     13\n",
      "17270    103\n",
      "17275    174\n",
      "17278    117\n",
      "17281     44\n",
      "17283     25\n",
      "17290    112\n",
      "17300    271\n",
      "17306     59\n",
      "17307     26\n",
      "17311      3\n",
      "17328     60\n",
      "17332     28\n",
      "17334     15\n",
      "17343    144\n",
      "17346    138\n",
      "17352     47\n",
      "17359      3\n",
      "17363    196\n",
      "17365    120\n",
      "17366    157\n",
      "Name: cnt, Length: 3476, dtype: int64   [123.48468676  69.75689135  90.31784882 ... 134.004916   155.50511013\n",
      " 182.89198823]\n"
     ]
    }
   ],
   "source": [
    "print(test_mse)\n",
    "print(test[\"cnt\"], \" \", predictions_test)"
   ]
  },
  {
   "cell_type": "markdown",
   "metadata": {},
   "source": [
    "The error is far too large, I need to refine the model."
   ]
  },
  {
   "cell_type": "markdown",
   "metadata": {},
   "source": [
    "## Applying Decision Trees"
   ]
  },
  {
   "cell_type": "markdown",
   "metadata": {},
   "source": [
    "In order to refine the model, by taking the nonlinear predictors into account, the decision tree regressor appears to have much higher accuracy than linear regression."
   ]
  },
  {
   "cell_type": "code",
   "execution_count": 17,
   "metadata": {
    "collapsed": true
   },
   "outputs": [],
   "source": [
    "from sklearn.tree import DecisionTreeRegressor"
   ]
  },
  {
   "cell_type": "code",
   "execution_count": 18,
   "metadata": {
    "collapsed": false
   },
   "outputs": [
    {
     "name": "stdout",
     "output_type": "stream",
     "text": [
      "152.3552373229009\n",
      "139.15716555896006\n",
      "127.12236591942835\n",
      "119.44844373647258\n",
      "111.52670538568583\n",
      "105.87893149561752\n",
      "85.7422665394173\n",
      "72.74911859846704\n",
      "64.86702508330663\n",
      "60.361982515989126\n",
      "57.03441531309081\n",
      "57.27352958389284\n",
      "55.35677227811295\n",
      "56.624340318656174\n",
      "57.71639096345073\n",
      "56.51383889490169\n",
      "57.40734932815963\n",
      "57.76091588098593\n",
      "57.01835159616202\n",
      "57.26396543211066\n",
      "59.960157686575876\n",
      "58.53607219378818\n",
      "57.515718840911916\n",
      "58.72341676968686\n",
      "56.50907532621156\n",
      "58.36104486044832\n",
      "57.664334213031005\n",
      "58.79280366544165\n",
      "57.27751042109249\n",
      "58.83586045040275\n",
      "58.92087351493264\n",
      "57.72209696087292\n",
      "57.61499483172023\n",
      "57.334619826156484\n",
      "59.94686945664864\n",
      "58.629816719102365\n",
      "58.19843243077351\n",
      "58.47954605885474\n",
      "58.08149457019404\n",
      "58.7830361538995\n",
      "59.23528061472469\n",
      "58.479066410856674\n",
      "57.9758317369629\n",
      "58.071305024113954\n",
      "58.42024404000638\n",
      "58.84972866434062\n",
      "58.21751008942806\n",
      "58.43360005724594\n",
      "58.24522827494902\n",
      "58.79141661359957\n",
      "59.528466950235995\n",
      "57.64419803691224\n",
      "58.737339795960274\n",
      "57.73021159033346\n",
      "59.637710399764025\n",
      "59.30515378803755\n",
      "57.830911018892216\n",
      "56.51870928661257\n",
      "59.16639221533671\n",
      "57.1237527656799\n",
      "57.91573081399576\n",
      "57.03564942163994\n",
      "58.09909048603901\n",
      "57.98466624019959\n",
      "58.83561142251732\n",
      "58.237618883025746\n",
      "58.67032339224421\n",
      "57.868233523179285\n",
      "57.8692899391961\n",
      "59.14422795848741\n",
      "57.77584308106999\n",
      "57.45077694994123\n",
      "57.015918981116315\n",
      "58.215325866198754\n",
      "58.35892966836201\n",
      "58.31213873277445\n",
      "59.29320951889672\n",
      "60.313803483770954\n",
      "58.60885586829881\n",
      "57.60643573798836\n",
      "58.188053238622835\n",
      "58.541542497005096\n",
      "58.174106760252705\n",
      "60.554336553950186\n",
      "58.48688787185045\n",
      "57.14435468816909\n",
      "59.1628231516053\n",
      "58.233039431863396\n",
      "56.93339940473479\n",
      "57.140357242292026\n",
      "57.51507532402434\n",
      "58.72078761038061\n",
      "58.07062879505977\n",
      "59.126398124026025\n",
      "59.02079512991627\n",
      "57.9494343286486\n",
      "59.86436770014438\n",
      "59.05681277073386\n",
      "58.98515299529214\n"
     ]
    }
   ],
   "source": [
    "rmses_tree_max_depth=[]\n",
    "for i in range(1,100):\n",
    "    reg = DecisionTreeRegressor(max_depth=i)\n",
    "    reg.fit(train[features], train[\"cnt\"])\n",
    "    predictions = reg.predict(test[features])\n",
    "    mse_tree=mean_squared_error(test[\"cnt\"], predictions)\n",
    "    rmse_tree=mse_tree**(1/2)\n",
    "    print(rmse_tree)\n",
    "    rmses_tree_max_depth.append(rmse_tree)\n",
    "    \"\"\"if (rmses_tree_max_depth[i-1]-rmses_tree_max_depth[i-2]<10)&(i>3):\n",
    "        break\"\"\""
   ]
  },
  {
   "cell_type": "code",
   "execution_count": 19,
   "metadata": {
    "collapsed": false
   },
   "outputs": [
    {
     "name": "stdout",
     "output_type": "stream",
     "text": [
      "[[152.3552373229009, 152.3552373229009, 152.3552373229009, 152.3552373229009, 152.3552373229009, 152.3552373229009], [139.15716555896006, 139.15716555896006, 139.15716555896006, 139.15716555896006, 139.15716555896006, 139.15716555896006], [127.12236591942835, 127.12236591942835, 127.12236591942835, 127.12236591942835, 127.12236591942835, 127.12236591942835], [119.44844373647258, 119.44844373647258, 119.44844373647258, 119.44844373647258, 119.44844373647258, 119.44844373647258], [111.52670538568583, 111.52670538568583, 111.52670538568583, 111.52670538568583, 111.52670538568583, 111.52670538568583], [105.87893149561752, 105.87893149561752, 105.87893149561752, 105.87893149561752, 105.87893149561752, 105.87893149561752], [85.74212889238275, 85.74223143707557, 85.7350280206833, 85.73510085223705, 85.73510085223705, 85.73299808764413], [72.71923694276484, 72.73052997682652, 72.70490911357574, 72.70488655729676, 72.70582318687154, 72.69174014117546], [64.79185998368551, 64.7421355622567, 64.66686432037235, 64.6933565266088, 64.6983738916841, 64.64476050294542], [60.276518889517234, 60.39024497893646, 59.986575716270146, 59.95638298563211, 59.99783742268563, 59.32741193629694], [57.2111274109762, 56.815797745805675, 56.18410380026225, 56.81422387979832, 56.93200879243262, 56.199694885388354], [54.512436424808364, 54.90042691145381, 54.697578012176024, 55.43990162038724, 55.3929794529676, 54.82745833911464], [54.24287010089247, 54.761334742197114, 54.03033898658513, 54.70795021973746, 54.370835774173905, 53.70862957898861], [53.4664243480235, 53.491774872190824, 53.05876853717609, 54.18413532692518, 53.88260780798513, 53.15635007119548], [53.83400559034416, 53.73574086962138, 53.39590646414072, 53.5113285546632, 53.96119189812554, 52.99243982555668], [53.533016245713014, 53.15682943833668, 52.68708463132597, 53.37712632704195, 53.33095282319445, 52.654388607123906], [54.20710810101514, 53.7280991825078, 53.828228208057496, 53.74738748364489, 53.456730007397034, 53.40034630276975], [54.19665572825357, 53.96511849698497, 53.783009133290186, 54.07116169865585, 53.95965711111231, 53.27099161082624], [54.22147044619974, 55.02606866938673, 53.46588347643538, 53.998346370465306, 53.79029983323535, 53.1703755606679], [54.371283711261654, 54.708885254924965, 53.76577034198137, 54.076135932531685, 53.959343534378725, 52.89201525370861], [54.40273626273561, 54.96833450521622, 53.631456287008454, 53.9554952142301, 53.96654824658564, 53.15547013071928], [55.27748434975801, 55.38772980643823, 53.81321244474343, 54.10231324373204, 54.316825816594815, 53.35404844932002], [55.0012619484799, 54.430561640176045, 53.956523080832, 53.69558768757462, 53.86989359141236, 53.24164298944484], [54.60142734572383, 54.4518888832171, 53.752545224188964, 53.92082830460471, 54.133210911381894, 53.35456219047305], [54.75620595122383, 54.70986866755505, 53.83645678839221, 54.09866769629079, 53.98657800994362, 53.15792928638565], [55.24314296007342, 54.75537168775965, 53.68319102242507, 53.80426543571591, 54.039336334575836, 53.15506844040988], [56.006152905742766, 54.713806639440456, 53.50367283766008, 54.428529532908755, 54.34049547593627, 53.35351932306954], [54.806263587242015, 55.03088753344929, 53.71132315995221, 54.12672694046704, 54.18270274780439, 53.066429203472964], [55.621509683347085, 54.326242554721524, 54.21039491015583, 53.862589312984426, 54.31030017102908, 53.19290692797821], [54.96460742859971, 54.44208462880845, 53.68822612268792, 53.68096543950607, 54.272203333356444, 52.989895779742156], [54.31132773456678, 54.870925354755734, 54.19230571099441, 54.370774545267395, 54.06288940908481, 53.083019822953815], [55.46640149132172, 55.12863186381755, 54.143849792199774, 54.27509913855204, 53.91621537984945, 53.19371137853116], [55.619228038529705, 55.426208616082604, 53.97994211671401, 54.11757931623652, 53.71979429478823, 53.011467749703364], [54.51223580782748, 54.85998482106234, 53.7751100562502, 53.87874328051837, 53.98302502128873, 53.13968271911275], [55.06124406721234, 54.677332850170764, 53.746104988771116, 53.90042277222865, 53.989528075561665, 53.57567692560792], [54.81534513615793, 54.400597878572015, 53.6200454918209, 53.91929459824579, 54.351857596930785, 53.522972187354554], [54.72540166950241, 54.47467253812938, 53.82191343698004, 54.49333976825303, 53.97867061303429, 53.300165372180054], [54.86189999497546, 55.18490298634978, 53.68997422586806, 54.10691451788383, 53.743138889101864, 52.99621475629591], [55.121913385107234, 54.895533997381705, 53.49887442697585, 53.97233163777607, 53.93658024661852, 52.85301470862064], [54.87903582491676, 54.224750723750994, 53.984625913120325, 54.295643844957674, 54.278227626556344, 53.5442458325164], [54.95065305519983, 54.342226691673496, 53.88560628555217, 54.10123929608007, 54.20847359799717, 53.00714527734016], [54.41651652659579, 54.668405619193216, 53.927801858958496, 54.01717953962332, 54.110165162864, 53.67972130252522], [55.11248385045561, 55.28247870973141, 54.03674630002851, 54.03620916058601, 53.97993023695891, 53.406057938128875], [54.855479612121684, 54.13790447903296, 54.37995173484485, 53.98548734713103, 54.06726432836591, 53.14339211597984], [55.17488972277116, 55.35028887158362, 53.93667472333024, 54.134844243593356, 53.99569208867489, 53.01218747833104], [54.410174359430975, 54.32847358917539, 53.90754515829493, 53.97390857964196, 54.0926507668153, 53.28233359394254], [55.44030430519389, 54.52518321127042, 53.257897144313176, 54.180175234944784, 54.08687377591181, 53.07555630206751], [55.357132130011095, 54.42095441661951, 53.55632710830174, 54.43410750963555, 53.889167158800156, 53.372667209402586], [54.62307965737188, 54.34169635887421, 53.38730512012559, 54.39800053003968, 54.21717067040747, 52.99350273325464], [55.47010745519296, 54.30390040433701, 53.956999520697615, 54.022544903997975, 54.076152664032264, 52.90917563056751], [54.61657380771583, 54.29680795213541, 53.66024758978959, 53.8357587409924, 54.087172388112855, 53.27953588819229], [54.428693286479636, 54.417535872428616, 53.296543706798225, 54.074228943072974, 53.57186276036672, 53.189032088513464], [54.322733401511904, 55.07466244593275, 54.08842637090119, 54.15557840221007, 54.095646790688086, 53.06672827030015], [54.4322706963676, 55.29020613398868, 54.03048088628394, 54.273969402274155, 54.28192285806621, 53.08124631723818], [54.46305842945255, 54.350700275718054, 53.556465819601826, 54.37818103810994, 53.91394789618604, 53.37927630774813], [54.88425313337783, 55.008684559348254, 53.89811667734111, 54.432970037899125, 53.637580716468605, 53.00583581536776], [54.12604267999037, 54.406181413487516, 53.93421100341769, 54.1509515654286, 53.95866437807369, 53.24071095253765], [54.83136627100283, 54.873491168360076, 54.15009957393571, 53.75058761088203, 54.08075671080057, 53.22126952335484], [54.001063240123365, 54.74037717520868, 54.36076223924109, 54.55997523093438, 53.79904112531665, 53.47404090906617], [54.28589688899011, 55.55938366789584, 53.69183682650573, 53.868971859708054, 54.24718058103281, 53.32563141155303], [54.5526976368761, 55.44180673354665, 53.30475857324777, 54.432566959203115, 54.02553759122922, 53.15699712298597], [54.990063639499496, 54.970163492068245, 54.40442107252798, 53.97586802068888, 53.989968165929454, 53.53535989196651], [54.275435297288396, 54.87257183380467, 53.66409883201472, 54.11246802127789, 54.32611061472179, 52.8324720903669], [54.81473319634767, 54.62143368324231, 53.7551902249632, 53.92240631201185, 54.11154309634637, 53.22336806932125], [55.26986742366412, 54.674797570028694, 53.4016739262862, 54.28442040142244, 53.92224093422699, 53.20897908466508], [54.73815996562008, 54.34415701018419, 54.07940225278157, 54.06279858951783, 54.03470307678692, 52.76302874594757], [54.41414879649317, 55.02339028717859, 54.25356563940814, 54.26363301527624, 54.09794071540863, 53.6429269159688], [54.54236560532868, 55.23067563416425, 53.75390885213865, 54.06211858512898, 54.332005537287486, 53.29035927839467], [54.589493714884696, 55.021122636651256, 54.09492561540923, 54.25684918107252, 53.7640152388106, 53.31301125887506], [54.13407595941933, 54.97985597576016, 53.38342665862602, 54.28817375755262, 54.37883831750721, 53.183816498089755], [54.62594333163374, 54.404786662175304, 54.07497016061235, 54.178467483674964, 54.07400349852542, 53.09966741903936], [54.376922618990676, 54.78606437862727, 53.69254314559786, 53.99141169395542, 53.990193544920416, 52.78343876645299], [54.89285376777646, 54.53586430763329, 53.849257223439714, 54.10441094026088, 53.8277568845773, 53.171522426762834], [54.4204234295816, 55.227442315405526, 53.439958117438024, 53.98570381123645, 54.196463597927846, 53.18090549066072], [55.3845962934175, 55.072468372421596, 53.420404536212146, 54.003419407343856, 53.81110089203259, 53.05004035700504], [55.08435332154524, 54.72116131243036, 53.82305651060322, 54.48810780457439, 53.96047593129299, 53.067292026070454], [54.62556690429069, 54.402218363199424, 53.53971292437319, 53.956110682909376, 53.69385048385432, 53.59343434481632], [55.25891643837774, 54.39727370957947, 53.70545829168253, 54.00296297843916, 53.90311171525422, 53.42069655487201], [55.186065668733214, 54.552346898509114, 53.62693698369472, 54.012945861330344, 53.9661186863563, 53.22860263571005], [55.0111424017197, 54.00630365625796, 53.80428675463309, 54.24542619377494, 54.07946405491368, 52.9543779970637], [55.466411594559524, 54.893270550286424, 53.771731152814546, 54.32633885600631, 54.13944479500489, 53.34486366270751], [55.24698334447314, 54.84470127615993, 53.40210947292046, 54.59708270026213, 53.973440253162, 53.06439134867709], [54.31605075935969, 54.21347881589569, 53.777145941830106, 54.17779132989783, 54.3417803594074, 53.2559702694199], [54.17486695105424, 54.22557687855115, 53.69033819684625, 53.800716672518334, 54.23626610150082, 53.11101904421854], [55.280155603826785, 54.029731886643816, 54.274804915355745, 53.820388322939955, 53.958189784770184, 53.188549341199426], [54.28749110725689, 55.256940813396795, 53.74256440705818, 54.309221604576955, 54.18308075394049, 53.16243981900422], [55.03415560348054, 54.586335111607944, 53.69133924961702, 54.15321072761903, 54.14795122053923, 53.05369086268523], [55.16424550148274, 54.26259601247712, 54.25124449713497, 53.79600127812031, 54.140666732421586, 53.17195806945052], [54.78468983103772, 54.5971165086345, 53.86195843843126, 53.70705023928574, 54.018387767443315, 53.15437890171683], [54.8859523655136, 54.668310260774625, 54.066093397328885, 54.0369896873149, 53.895751881522564, 53.56197016205967], [55.49259685762659, 55.03483096975571, 53.444464469472585, 54.176461915067904, 54.028851069861496, 53.21402634731114], [54.16931398623596, 55.037930883949905, 54.19764137532421, 54.11786475338263, 53.86899202132705, 53.336918002255], [54.94777530786595, 54.66858494320568, 53.88643924821607, 54.06674034369681, 54.083658674717626, 53.46800842111467], [55.94719543926094, 55.25623736300674, 53.92200798186267, 54.193979277833506, 53.78626094447282, 52.97128119511006], [54.448972154314326, 54.51824133298699, 53.88335749559489, 54.333278081847524, 53.74218461900636, 53.23565958216157], [54.57041174790502, 55.26741407376014, 53.668713485621815, 53.92900953584729, 53.86159594267354, 53.12102130270982], [54.300315317896064, 54.754064262865526, 53.91171114157984, 54.493262298128556, 54.292791635151104, 53.61430117075382], [54.99551914698727, 54.19021450768536, 53.8056609746746, 54.297208827287704, 54.406344784366304, 53.16013839137262], [54.4629493914186, 55.37277240134657, 53.26877298936721, 54.05807123271692, 54.085832201180835, 53.36681379272174]]\n"
     ]
    }
   ],
   "source": [
    "rmses_tree_max_depth_min_samples_split=[]\n",
    "for i in range(1,100):\n",
    "    rmses_tree_samples_split=[]\n",
    "    for j in range(5,11):\n",
    "        reg = DecisionTreeRegressor(max_depth=i, min_samples_split=j)\n",
    "        reg.fit(train[features], train[\"cnt\"])\n",
    "        predictions = reg.predict(test[features])\n",
    "        mse_tree_ssplit=mean_squared_error(test[\"cnt\"], predictions)\n",
    "        rmse_tree_ssplit=mse_tree_ssplit**(1/2)\n",
    "        rmses_tree_samples_split.append(rmse_tree_ssplit)\n",
    "    rmses_tree_max_depth_min_samples_split.append(rmses_tree_samples_split)\n",
    "print(rmses_tree_max_depth_min_samples_split)"
   ]
  },
  {
   "cell_type": "code",
   "execution_count": 20,
   "metadata": {
    "collapsed": false
   },
   "outputs": [
    {
     "name": "stdout",
     "output_type": "stream",
     "text": [
      "The best max depth is:  16\n"
     ]
    }
   ],
   "source": [
    "rmses_tree_max_depth_min_samples_leaf=[]\n",
    "rmse_mean_tree_samples_leaf_min=100000\n",
    "for i in range(7,19):\n",
    "    rmses_tree_samples_leaf=[]\n",
    "    for j in range(1,7):\n",
    "        reg = DecisionTreeRegressor(max_depth=i, min_samples_leaf=j)\n",
    "        reg.fit(train[features], train[\"cnt\"])\n",
    "        predictions = reg.predict(test[features])\n",
    "        mse_tree_sleaf=mean_squared_error(test[\"cnt\"], predictions)\n",
    "        rmse_tree_sleaf=mse_tree_sleaf**(1/2)\n",
    "        rmses_tree_samples_leaf.append(rmse_tree_sleaf)\n",
    "    rmses_tree_max_depth_min_samples_leaf.append(rmses_tree_samples_leaf)\n",
    "    if np.mean(rmses_tree_samples_leaf)<rmse_mean_tree_samples_leaf_min:\n",
    "        rmse_mean_tree_samples_leaf_min=np.mean(rmses_tree_samples_leaf)\n",
    "        best_max_depth=i\n",
    "print(\"The best max depth is: \", best_max_depth)"
   ]
  },
  {
   "cell_type": "code",
   "execution_count": 21,
   "metadata": {
    "collapsed": false
   },
   "outputs": [
    {
     "name": "stdout",
     "output_type": "stream",
     "text": [
      "The best min sample leaves is:  2\n"
     ]
    }
   ],
   "source": [
    "rmses_tree_samples_leaf=[]\n",
    "rmse_tree_samples_leaf_min=100000\n",
    "for j in range(1,7):\n",
    "    reg = DecisionTreeRegressor(max_depth=11, min_samples_leaf=j)\n",
    "    reg.fit(train[features], train[\"cnt\"])\n",
    "    predictions = reg.predict(test[features])\n",
    "    mse_tree_sleaf=mean_squared_error(test[\"cnt\"], predictions)\n",
    "    rmse_tree_sleaf=mse_tree_sleaf**(1/2)\n",
    "    rmses_tree_samples_leaf.append(rmse_tree_sleaf)\n",
    "    if rmse_tree_samples_leaf_min>rmse_tree_sleaf:\n",
    "        rmse_tree_samples_leaf_min=rmse_tree_sleaf\n",
    "        best_min_samples_leaf=j\n",
    "print(\"The best min sample leaves is: \", best_min_samples_leaf)"
   ]
  },
  {
   "cell_type": "markdown",
   "metadata": {},
   "source": [
    "It seems the best combination is max_depth=16, min_samples_leaf=2 to minimize the rmse."
   ]
  },
  {
   "cell_type": "markdown",
   "metadata": {},
   "source": [
    "## Applying Random Forest"
   ]
  },
  {
   "cell_type": "markdown",
   "metadata": {},
   "source": [
    "Let's try Random Forest algorithm. Random forests tend to be much more accurate than simple models like linear regression and due to the way random forests are constructed, they tend to overfit much less than decision trees."
   ]
  },
  {
   "cell_type": "code",
   "execution_count": 22,
   "metadata": {
    "collapsed": true
   },
   "outputs": [],
   "source": [
    "from sklearn.ensemble import RandomForestRegressor"
   ]
  },
  {
   "cell_type": "code",
   "execution_count": 23,
   "metadata": {
    "collapsed": false
   },
   "outputs": [
    {
     "name": "stdout",
     "output_type": "stream",
     "text": [
      "The best min sample leaves for the randomforest is:  1\n",
      "with a rmse of:  43.40991496874485\n"
     ]
    }
   ],
   "source": [
    "rmses_forest_samples_leaf=[]\n",
    "rmse_forest_samples_leaf_min=100000\n",
    "for j in range(1,7):\n",
    "    rfr = RandomForestRegressor(n_estimators=150, min_samples_leaf=j)\n",
    "    rfr.fit(train[features], train[\"cnt\"])\n",
    "    predictions = rfr.predict(test[features])\n",
    "    mse_forest_sleaf=mean_squared_error(test[\"cnt\"], predictions)\n",
    "    rmse_forest_sleaf=mse_forest_sleaf**(1/2)\n",
    "    rmses_forest_samples_leaf.append(rmse_forest_sleaf)\n",
    "    if rmse_forest_samples_leaf_min>rmse_forest_sleaf:\n",
    "        rmse_forest_samples_leaf_min=rmse_forest_sleaf\n",
    "        best_min_forest_samples_leaf=j\n",
    "print(\"The best min sample leaves for the randomforest is: \", best_min_forest_samples_leaf)\n",
    "print(\"with a rmse of: \", np.min(rmses_forest_samples_leaf))"
   ]
  },
  {
   "cell_type": "markdown",
   "metadata": {},
   "source": [
    "### Now the rmse is pretty low!"
   ]
  },
  {
   "cell_type": "markdown",
   "metadata": {},
   "source": [
    "## Predicting casual and registered instead of cnt."
   ]
  },
  {
   "cell_type": "code",
   "execution_count": 24,
   "metadata": {
    "collapsed": false
   },
   "outputs": [
    {
     "name": "stdout",
     "output_type": "stream",
     "text": [
      "The best min sample leaves for the target casual is:  1\n",
      "with a rmse of:  14.066722258319425\n"
     ]
    }
   ],
   "source": [
    "rmses_forest_casual=[]\n",
    "rmse_forest_casual_min=100000\n",
    "for j in range(1,7):\n",
    "    rfr = RandomForestRegressor(n_estimators=150, min_samples_leaf=j)\n",
    "    rfr.fit(train[features], train[\"casual\"])\n",
    "    predictions_casual = rfr.predict(test[features])\n",
    "    mse_forest_sleaf=mean_squared_error(test[\"casual\"], predictions_casual)\n",
    "    rmse_forest_sleaf=mse_forest_sleaf**(1/2)\n",
    "    rmses_forest_casual.append(rmse_forest_sleaf)\n",
    "    if rmse_forest_casual_min>rmse_forest_sleaf:\n",
    "        rmse_forest_casual_min=rmse_forest_sleaf\n",
    "        best_min_forest_casual=j\n",
    "print(\"The best min sample leaves for the target casual is: \", best_min_forest_casual)\n",
    "print(\"with a rmse of: \", np.min(rmses_forest_casual))"
   ]
  },
  {
   "cell_type": "code",
   "execution_count": 25,
   "metadata": {
    "collapsed": false
   },
   "outputs": [
    {
     "name": "stdout",
     "output_type": "stream",
     "text": [
      "The best min sample leaves for the target registered is:  1\n",
      "with a rmse of:  37.32468199324603\n"
     ]
    }
   ],
   "source": [
    "rmses_forest_registered=[]\n",
    "rmse_forest_registered_min=100000\n",
    "for j in range(1,7):\n",
    "    rfr = RandomForestRegressor(n_estimators=150, min_samples_leaf=j)\n",
    "    rfr.fit(train[features], train[\"registered\"])\n",
    "    predictions_registered = rfr.predict(test[features])\n",
    "    mse_forest_sleaf=mean_squared_error(test[\"registered\"], predictions_registered)\n",
    "    rmse_forest_sleaf=mse_forest_sleaf**(1/2)\n",
    "    rmses_forest_registered.append(rmse_forest_sleaf)\n",
    "    if rmse_forest_registered_min>rmse_forest_sleaf:\n",
    "        rmse_forest_registered_min=rmse_forest_sleaf\n",
    "        best_min_forest_registered=j\n",
    "print(\"The best min sample leaves for the target registered is: \", best_min_forest_registered)\n",
    "print(\"with a rmse of: \", np.min(rmses_forest_registered))"
   ]
  },
  {
   "cell_type": "code",
   "execution_count": 26,
   "metadata": {
    "collapsed": false
   },
   "outputs": [
    {
     "name": "stdout",
     "output_type": "stream",
     "text": [
      "[ 56.76658895  67.23734372  44.95283136 ... 436.79694346 119.40877533\n",
      " 132.98628468]\n"
     ]
    }
   ],
   "source": [
    "print(predictions_registered)"
   ]
  },
  {
   "cell_type": "code",
   "execution_count": 27,
   "metadata": {
    "collapsed": false
   },
   "outputs": [
    {
     "name": "stdout",
     "output_type": "stream",
     "text": [
      "45.19150057017356\n"
     ]
    }
   ],
   "source": [
    "predictions_casual_ser=pd.Series(predictions_casual)\n",
    "predictions_registered_ser=pd.Series(predictions_registered)\n",
    "predictions_cnt_comb_ser=predictions_casual_ser+predictions_registered_ser\n",
    "mse_cnt_comb=mean_squared_error(test[\"cnt\"], predictions_cnt_comb_ser)\n",
    "rmse_cnt_comb=mse_cnt_comb**(1/2)\n",
    "print(rmse_cnt_comb)"
   ]
  },
  {
   "cell_type": "markdown",
   "metadata": {},
   "source": [
    "Trying to predict \"casual\" and \"registered\" separately before summing them or to predict directly the \"cnt\" directly produce more or less the same result."
   ]
  }
 ],
 "metadata": {
  "kernelspec": {
   "display_name": "Python 3",
   "language": "python",
   "name": "python3"
  },
  "language_info": {
   "codemirror_mode": {
    "name": "ipython",
    "version": 3
   },
   "file_extension": ".py",
   "mimetype": "text/x-python",
   "name": "python",
   "nbconvert_exporter": "python",
   "pygments_lexer": "ipython3",
   "version": "3.4.3"
  }
 },
 "nbformat": 4,
 "nbformat_minor": 0
}
