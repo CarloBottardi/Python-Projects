{
 "cells": [
  {
   "cell_type": "markdown",
   "metadata": {},
   "source": [
    "# Star Wars Survey"
   ]
  },
  {
   "cell_type": "markdown",
   "metadata": {},
   "source": [
    "While waiting for Star Wars: The Force Awakens to come out, the team at FiveThirtyEight became interested in answering some questions about Star Wars fans. In particular, they wondered: does the rest of America realize that “The Empire Strikes Back” is clearly the best of the bunch?\n",
    "\n",
    "The team needed to collect data addressing this question. To do this, they surveyed Star Wars fans using the online tool SurveyMonkey. They received 835 total responses, which you download from [their GitHub repository](https://github.com/fivethirtyeight/data/tree/master/star-wars-survey)."
   ]
  },
  {
   "cell_type": "markdown",
   "metadata": {},
   "source": [
    "## Reading the dataset and removing the invalid rows"
   ]
  },
  {
   "cell_type": "code",
   "execution_count": 1,
   "metadata": {
    "collapsed": true
   },
   "outputs": [],
   "source": [
    "import pandas as pd\n",
    "star_wars = pd.read_csv(\"star_wars.csv\", encoding=\"ISO-8859-1\")"
   ]
  },
  {
   "cell_type": "code",
   "execution_count": 2,
   "metadata": {
    "collapsed": false
   },
   "outputs": [
    {
     "name": "stdout",
     "output_type": "stream",
     "text": [
      "Index(['RespondentID',\n",
      "       'Have you seen any of the 6 films in the Star Wars franchise?',\n",
      "       'Do you consider yourself to be a fan of the Star Wars film franchise?',\n",
      "       'Which of the following Star Wars films have you seen? Please select all that apply.',\n",
      "       'Unnamed: 4', 'Unnamed: 5', 'Unnamed: 6', 'Unnamed: 7', 'Unnamed: 8',\n",
      "       'Please rank the Star Wars films in order of preference with 1 being your favorite film in the franchise and 6 being your least favorite film.',\n",
      "       'Unnamed: 10', 'Unnamed: 11', 'Unnamed: 12', 'Unnamed: 13',\n",
      "       'Unnamed: 14',\n",
      "       'Please state whether you view the following characters favorably, unfavorably, or are unfamiliar with him/her.',\n",
      "       'Unnamed: 16', 'Unnamed: 17', 'Unnamed: 18', 'Unnamed: 19',\n",
      "       'Unnamed: 20', 'Unnamed: 21', 'Unnamed: 22', 'Unnamed: 23',\n",
      "       'Unnamed: 24', 'Unnamed: 25', 'Unnamed: 26', 'Unnamed: 27',\n",
      "       'Unnamed: 28', 'Which character shot first?',\n",
      "       'Are you familiar with the Expanded Universe?',\n",
      "       'Do you consider yourself to be a fan of the Expanded Universe?ÂÃ¦',\n",
      "       'Do you consider yourself to be a fan of the Star Trek franchise?',\n",
      "       'Gender', 'Age', 'Household Income', 'Education',\n",
      "       'Location (Census Region)'],\n",
      "      dtype='object')\n"
     ]
    }
   ],
   "source": [
    "print(star_wars.columns)"
   ]
  },
  {
   "cell_type": "code",
   "execution_count": 3,
   "metadata": {
    "collapsed": false
   },
   "outputs": [
    {
     "name": "stdout",
     "output_type": "stream",
     "text": [
      "   RespondentID Have you seen any of the 6 films in the Star Wars franchise?  \\\n",
      "0           NaN                                           Response             \n",
      "1  3.292880e+09                                                Yes             \n",
      "2  3.292880e+09                                                 No             \n",
      "3  3.292765e+09                                                Yes             \n",
      "4  3.292763e+09                                                Yes             \n",
      "5  3.292731e+09                                                Yes             \n",
      "6  3.292719e+09                                                Yes             \n",
      "7  3.292685e+09                                                Yes             \n",
      "8  3.292664e+09                                                Yes             \n",
      "9  3.292654e+09                                                Yes             \n",
      "\n",
      "  Do you consider yourself to be a fan of the Star Wars film franchise?  \\\n",
      "0                                           Response                      \n",
      "1                                                Yes                      \n",
      "2                                                NaN                      \n",
      "3                                                 No                      \n",
      "4                                                Yes                      \n",
      "5                                                Yes                      \n",
      "6                                                Yes                      \n",
      "7                                                Yes                      \n",
      "8                                                Yes                      \n",
      "9                                                Yes                      \n",
      "\n",
      "  Which of the following Star Wars films have you seen? Please select all that apply.  \\\n",
      "0           Star Wars: Episode I  The Phantom Menace                                    \n",
      "1           Star Wars: Episode I  The Phantom Menace                                    \n",
      "2                                                NaN                                    \n",
      "3           Star Wars: Episode I  The Phantom Menace                                    \n",
      "4           Star Wars: Episode I  The Phantom Menace                                    \n",
      "5           Star Wars: Episode I  The Phantom Menace                                    \n",
      "6           Star Wars: Episode I  The Phantom Menace                                    \n",
      "7           Star Wars: Episode I  The Phantom Menace                                    \n",
      "8           Star Wars: Episode I  The Phantom Menace                                    \n",
      "9           Star Wars: Episode I  The Phantom Menace                                    \n",
      "\n",
      "                                    Unnamed: 4  \\\n",
      "0  Star Wars: Episode II  Attack of the Clones   \n",
      "1  Star Wars: Episode II  Attack of the Clones   \n",
      "2                                          NaN   \n",
      "3  Star Wars: Episode II  Attack of the Clones   \n",
      "4  Star Wars: Episode II  Attack of the Clones   \n",
      "5  Star Wars: Episode II  Attack of the Clones   \n",
      "6  Star Wars: Episode II  Attack of the Clones   \n",
      "7  Star Wars: Episode II  Attack of the Clones   \n",
      "8  Star Wars: Episode II  Attack of the Clones   \n",
      "9  Star Wars: Episode II  Attack of the Clones   \n",
      "\n",
      "                                    Unnamed: 5  \\\n",
      "0  Star Wars: Episode III  Revenge of the Sith   \n",
      "1  Star Wars: Episode III  Revenge of the Sith   \n",
      "2                                          NaN   \n",
      "3  Star Wars: Episode III  Revenge of the Sith   \n",
      "4  Star Wars: Episode III  Revenge of the Sith   \n",
      "5  Star Wars: Episode III  Revenge of the Sith   \n",
      "6  Star Wars: Episode III  Revenge of the Sith   \n",
      "7  Star Wars: Episode III  Revenge of the Sith   \n",
      "8  Star Wars: Episode III  Revenge of the Sith   \n",
      "9  Star Wars: Episode III  Revenge of the Sith   \n",
      "\n",
      "                          Unnamed: 6  \\\n",
      "0  Star Wars: Episode IV  A New Hope   \n",
      "1  Star Wars: Episode IV  A New Hope   \n",
      "2                                NaN   \n",
      "3                                NaN   \n",
      "4  Star Wars: Episode IV  A New Hope   \n",
      "5  Star Wars: Episode IV  A New Hope   \n",
      "6  Star Wars: Episode IV  A New Hope   \n",
      "7  Star Wars: Episode IV  A New Hope   \n",
      "8  Star Wars: Episode IV  A New Hope   \n",
      "9  Star Wars: Episode IV  A New Hope   \n",
      "\n",
      "                                     Unnamed: 7  \\\n",
      "0  Star Wars: Episode V The Empire Strikes Back   \n",
      "1  Star Wars: Episode V The Empire Strikes Back   \n",
      "2                                           NaN   \n",
      "3                                           NaN   \n",
      "4  Star Wars: Episode V The Empire Strikes Back   \n",
      "5  Star Wars: Episode V The Empire Strikes Back   \n",
      "6  Star Wars: Episode V The Empire Strikes Back   \n",
      "7  Star Wars: Episode V The Empire Strikes Back   \n",
      "8  Star Wars: Episode V The Empire Strikes Back   \n",
      "9  Star Wars: Episode V The Empire Strikes Back   \n",
      "\n",
      "                                 Unnamed: 8  \\\n",
      "0  Star Wars: Episode VI Return of the Jedi   \n",
      "1  Star Wars: Episode VI Return of the Jedi   \n",
      "2                                       NaN   \n",
      "3                                       NaN   \n",
      "4  Star Wars: Episode VI Return of the Jedi   \n",
      "5  Star Wars: Episode VI Return of the Jedi   \n",
      "6  Star Wars: Episode VI Return of the Jedi   \n",
      "7  Star Wars: Episode VI Return of the Jedi   \n",
      "8  Star Wars: Episode VI Return of the Jedi   \n",
      "9  Star Wars: Episode VI Return of the Jedi   \n",
      "\n",
      "  Please rank the Star Wars films in order of preference with 1 being your favorite film in the franchise and 6 being your least favorite film.  \\\n",
      "0           Star Wars: Episode I  The Phantom Menace                                                                                              \n",
      "1                                                  3                                                                                              \n",
      "2                                                NaN                                                                                              \n",
      "3                                                  1                                                                                              \n",
      "4                                                  5                                                                                              \n",
      "5                                                  5                                                                                              \n",
      "6                                                  1                                                                                              \n",
      "7                                                  6                                                                                              \n",
      "8                                                  4                                                                                              \n",
      "9                                                  5                                                                                              \n",
      "\n",
      "            ...                    Unnamed: 28  \\\n",
      "0           ...                           Yoda   \n",
      "1           ...                 Very favorably   \n",
      "2           ...                            NaN   \n",
      "3           ...               Unfamiliar (N/A)   \n",
      "4           ...                 Very favorably   \n",
      "5           ...             Somewhat favorably   \n",
      "6           ...                 Very favorably   \n",
      "7           ...                 Very favorably   \n",
      "8           ...                 Very favorably   \n",
      "9           ...             Somewhat favorably   \n",
      "\n",
      "        Which character shot first?  \\\n",
      "0                          Response   \n",
      "1  I don't understand this question   \n",
      "2                               NaN   \n",
      "3  I don't understand this question   \n",
      "4  I don't understand this question   \n",
      "5                            Greedo   \n",
      "6                               Han   \n",
      "7                               Han   \n",
      "8                               Han   \n",
      "9                               Han   \n",
      "\n",
      "  Are you familiar with the Expanded Universe?  \\\n",
      "0                                     Response   \n",
      "1                                          Yes   \n",
      "2                                          NaN   \n",
      "3                                           No   \n",
      "4                                           No   \n",
      "5                                          Yes   \n",
      "6                                          Yes   \n",
      "7                                          Yes   \n",
      "8                                           No   \n",
      "9                                           No   \n",
      "\n",
      "  Do you consider yourself to be a fan of the Expanded Universe?ÂÃ¦  \\\n",
      "0                                           Response                   \n",
      "1                                                 No                   \n",
      "2                                                NaN                   \n",
      "3                                                NaN                   \n",
      "4                                                NaN                   \n",
      "5                                                 No                   \n",
      "6                                                 No                   \n",
      "7                                                 No                   \n",
      "8                                                NaN                   \n",
      "9                                                NaN                   \n",
      "\n",
      "  Do you consider yourself to be a fan of the Star Trek franchise?    Gender  \\\n",
      "0                                           Response                Response   \n",
      "1                                                 No                    Male   \n",
      "2                                                Yes                    Male   \n",
      "3                                                 No                    Male   \n",
      "4                                                Yes                    Male   \n",
      "5                                                 No                    Male   \n",
      "6                                                Yes                    Male   \n",
      "7                                                 No                    Male   \n",
      "8                                                Yes                    Male   \n",
      "9                                                 No                    Male   \n",
      "\n",
      "        Age     Household Income                         Education  \\\n",
      "0  Response             Response                          Response   \n",
      "1     18-29                  NaN                High school degree   \n",
      "2     18-29         $0 - $24,999                   Bachelor degree   \n",
      "3     18-29         $0 - $24,999                High school degree   \n",
      "4     18-29  $100,000 - $149,999  Some college or Associate degree   \n",
      "5     18-29  $100,000 - $149,999  Some college or Associate degree   \n",
      "6     18-29    $25,000 - $49,999                   Bachelor degree   \n",
      "7     18-29                  NaN                High school degree   \n",
      "8     18-29                  NaN                High school degree   \n",
      "9     18-29         $0 - $24,999  Some college or Associate degree   \n",
      "\n",
      "  Location (Census Region)  \n",
      "0                 Response  \n",
      "1           South Atlantic  \n",
      "2       West South Central  \n",
      "3       West North Central  \n",
      "4       West North Central  \n",
      "5       West North Central  \n",
      "6          Middle Atlantic  \n",
      "7       East North Central  \n",
      "8           South Atlantic  \n",
      "9           South Atlantic  \n",
      "\n",
      "[10 rows x 38 columns]\n"
     ]
    }
   ],
   "source": [
    "print(star_wars.head(10))"
   ]
  },
  {
   "cell_type": "code",
   "execution_count": 4,
   "metadata": {
    "collapsed": false
   },
   "outputs": [
    {
     "name": "stdout",
     "output_type": "stream",
     "text": [
      "1187\n"
     ]
    }
   ],
   "source": [
    "total_rows=len(star_wars.index)\n",
    "print(total_rows)"
   ]
  },
  {
   "cell_type": "code",
   "execution_count": 5,
   "metadata": {
    "collapsed": false
   },
   "outputs": [
    {
     "name": "stdout",
     "output_type": "stream",
     "text": [
      "1186\n"
     ]
    }
   ],
   "source": [
    "star_wars=star_wars[pd.notnull(star_wars[\"RespondentID\"])]\n",
    "total_rows=len(star_wars.index)\n",
    "print(total_rows)"
   ]
  },
  {
   "cell_type": "markdown",
   "metadata": {},
   "source": [
    "Now every row has a valid RespondentID."
   ]
  },
  {
   "cell_type": "markdown",
   "metadata": {},
   "source": [
    "## Cleaning and Mapping Yes/No Columns"
   ]
  },
  {
   "cell_type": "markdown",
   "metadata": {},
   "source": [
    "Looking at the next two columns, which are:\n",
    "\n",
    "- Have you seen any of the 6 films in the Star Wars franchise?\n",
    "- Do you consider yourself to be a fan of the Star Wars film franchise?\n",
    "\n",
    "I've seen both represent Yes/No questions. They can also be NaN where a respondent chooses not to answer a question.\n",
    "\n",
    "Both columns are currently string types, because the main values they contain are Yes and No. I can make the data a bit easier to analyze down the road by converting each column to a Boolean having only the values True, False, and NaN."
   ]
  },
  {
   "cell_type": "code",
   "execution_count": 6,
   "metadata": {
    "collapsed": false
   },
   "outputs": [],
   "source": [
    "yes_no = {\n",
    "    \"Yes\": True,\n",
    "    \"No\": False\n",
    "}\n",
    "seen_films=\"Have you seen any of the 6 films in the Star Wars franchise?\"\n",
    "fan=\"Do you consider yourself to be a fan of the Star Wars film franchise?\""
   ]
  },
  {
   "cell_type": "code",
   "execution_count": 7,
   "metadata": {
    "collapsed": false
   },
   "outputs": [],
   "source": [
    "star_wars[seen_films] = star_wars[seen_films].map(yes_no)\n",
    "star_wars[fan] = star_wars[fan].map(yes_no)"
   ]
  },
  {
   "cell_type": "markdown",
   "metadata": {},
   "source": [
    "## Cleaning and Mapping Checkbox Columns"
   ]
  },
  {
   "cell_type": "markdown",
   "metadata": {},
   "source": [
    "The next six columns represent a single checkbox question. The respondent checked off a series of boxes in response to the question, \"Which of the following Star Wars films have you seen? Please select all that apply.\"\n",
    "\n",
    "The columns for this question are:\n",
    "\n",
    "- \"Which of the following Star Wars films have you seen? Please select all that apply.\" - Whether or not the respondent saw Star Wars: Episode I The Phantom Menace.\n",
    "- \"Unnamed: 4\" - Whether or not the respondent saw Star Wars: Episode II Attack of the Clones.\n",
    "- \"Unnamed: 5\" - Whether or not the respondent saw Star Wars: Episode III Revenge of the Sith.\n",
    "- \"Unnamed: 6\" - Whether or not the respondent saw Star Wars: Episode IV A New Hope.\n",
    "- \"Unnamed: 7\" - Whether or not the respondent saw Star Wars: Episode V The Empire Strikes Back.\n",
    "- \"Unnamed: 8\" - Whether or not the respondent saw Star Wars: Episode VI Return of the Jedi.\n",
    "\n",
    "For each of these columns, if the value in a cell is the name of the movie, that means the respondent saw the movie. If the value is NaN, the respondent either didn't answer or didn't see the movie. I'll assume that they didn't see the movie.\n",
    "\n",
    "I need to convert each of these columns to a Boolean, then rename the column something more intuitive."
   ]
  },
  {
   "cell_type": "code",
   "execution_count": 8,
   "metadata": {
    "collapsed": false
   },
   "outputs": [
    {
     "name": "stdout",
     "output_type": "stream",
     "text": [
      "True     936\n",
      "False    250\n",
      "Name: Have you seen any of the 6 films in the Star Wars franchise?, dtype: int64\n",
      "True     552\n",
      "NaN      350\n",
      "False    284\n",
      "Name: Do you consider yourself to be a fan of the Star Wars film franchise?, dtype: int64\n"
     ]
    }
   ],
   "source": [
    "print(star_wars[seen_films].value_counts(dropna=False))\n",
    "print(star_wars[fan].value_counts(dropna=False))"
   ]
  },
  {
   "cell_type": "code",
   "execution_count": 9,
   "metadata": {
    "collapsed": false
   },
   "outputs": [
    {
     "name": "stdout",
     "output_type": "stream",
     "text": [
      "Index(['Which of the following Star Wars films have you seen? Please select all that apply.',\n",
      "       'Unnamed: 4', 'Unnamed: 5', 'Unnamed: 6', 'Unnamed: 7', 'Unnamed: 8'],\n",
      "      dtype='object')\n",
      "  Which of the following Star Wars films have you seen? Please select all that apply.  \\\n",
      "1           Star Wars: Episode I  The Phantom Menace                                    \n",
      "2                                                NaN                                    \n",
      "3           Star Wars: Episode I  The Phantom Menace                                    \n",
      "\n",
      "                                    Unnamed: 4  \\\n",
      "1  Star Wars: Episode II  Attack of the Clones   \n",
      "2                                          NaN   \n",
      "3  Star Wars: Episode II  Attack of the Clones   \n",
      "\n",
      "                                    Unnamed: 5  \\\n",
      "1  Star Wars: Episode III  Revenge of the Sith   \n",
      "2                                          NaN   \n",
      "3  Star Wars: Episode III  Revenge of the Sith   \n",
      "\n",
      "                          Unnamed: 6  \\\n",
      "1  Star Wars: Episode IV  A New Hope   \n",
      "2                                NaN   \n",
      "3                                NaN   \n",
      "\n",
      "                                     Unnamed: 7  \\\n",
      "1  Star Wars: Episode V The Empire Strikes Back   \n",
      "2                                           NaN   \n",
      "3                                           NaN   \n",
      "\n",
      "                                 Unnamed: 8  \n",
      "1  Star Wars: Episode VI Return of the Jedi  \n",
      "2                                       NaN  \n",
      "3                                       NaN  \n"
     ]
    }
   ],
   "source": [
    "print(star_wars.columns[3:9])\n",
    "print(star_wars.iloc[:,3:9].head(3))"
   ]
  },
  {
   "cell_type": "code",
   "execution_count": 10,
   "metadata": {
    "collapsed": true
   },
   "outputs": [],
   "source": [
    "import numpy as np\n",
    "bool_map = {\n",
    "    \"Star Wars: Episode I  The Phantom Menace\": True,\n",
    "    \"Star Wars: Episode II  Attack of the Clones\": True,\n",
    "    \"Star Wars: Episode III  Revenge of the Sith\": True,\n",
    "    \"Star Wars: Episode IV  A New Hope\": True,\n",
    "    \"Star Wars: Episode V The Empire Strikes Back\": True,\n",
    "    \"Star Wars: Episode VI Return of the Jedi\": True,\n",
    "    np.NaN: False\n",
    "}"
   ]
  },
  {
   "cell_type": "code",
   "execution_count": 11,
   "metadata": {
    "collapsed": true
   },
   "outputs": [],
   "source": [
    "which_film=\"Which of the following Star Wars films have you seen? Please select all that apply.\"\n",
    "star_wars[which_film] = star_wars[which_film].map(bool_map)\n",
    "star_wars[\"Unnamed: 4\"] = star_wars[\"Unnamed: 4\"].map(bool_map)\n",
    "star_wars[\"Unnamed: 5\"] = star_wars[\"Unnamed: 5\"].map(bool_map)\n",
    "star_wars[\"Unnamed: 6\"] = star_wars[\"Unnamed: 6\"].map(bool_map)\n",
    "star_wars[\"Unnamed: 7\"] = star_wars[\"Unnamed: 7\"].map(bool_map)\n",
    "star_wars[\"Unnamed: 8\"] = star_wars[\"Unnamed: 8\"].map(bool_map)"
   ]
  },
  {
   "cell_type": "code",
   "execution_count": 12,
   "metadata": {
    "collapsed": false
   },
   "outputs": [
    {
     "name": "stdout",
     "output_type": "stream",
     "text": [
      "   seen_1  seen_2  seen_3  seen_4  seen_5  seen_6\n",
      "1    True    True    True    True    True    True\n",
      "2   False   False   False   False   False   False\n",
      "3    True    True    True   False   False   False\n"
     ]
    }
   ],
   "source": [
    "columns_ren={\n",
    "    \"Which of the following Star Wars films have you seen? Please select all that apply.\": \"seen_1\",\n",
    "    \"Unnamed: 4\":\"seen_2\",\n",
    "    \"Unnamed: 5\":\"seen_3\",\n",
    "    \"Unnamed: 6\":\"seen_4\",\n",
    "    \"Unnamed: 7\":\"seen_5\",\n",
    "    \"Unnamed: 8\":\"seen_6\",\n",
    "}\n",
    "star_wars = star_wars.rename(columns=columns_ren)\n",
    "print(star_wars.iloc[:,3:9].head(3))"
   ]
  },
  {
   "cell_type": "markdown",
   "metadata": {},
   "source": [
    "## Cleaning the Ranking Columns"
   ]
  },
  {
   "cell_type": "markdown",
   "metadata": {},
   "source": [
    "The next six columns ask the respondent to rank the Star Wars movies in order of least favorite to most favorite. 1 means the film was the most favorite, and 6 means it was the least favorite. Each of the following columns can contain the value 1, 2, 3, 4, 5, 6, or NaN.\n",
    "\n",
    "I need to convert each column to a numeric type, then rename the columns so that we can tell what they represent more easily."
   ]
  },
  {
   "cell_type": "code",
   "execution_count": 13,
   "metadata": {
    "collapsed": false
   },
   "outputs": [
    {
     "name": "stdout",
     "output_type": "stream",
     "text": [
      "Index(['RespondentID',\n",
      "       'Have you seen any of the 6 films in the Star Wars franchise?',\n",
      "       'Do you consider yourself to be a fan of the Star Wars film franchise?',\n",
      "       'seen_1', 'seen_2', 'seen_3', 'seen_4', 'seen_5', 'seen_6', 'ranking_1',\n",
      "       'ranking_2', 'ranking_3', 'ranking_4', 'ranking_5', 'ranking_6',\n",
      "       'Please state whether you view the following characters favorably, unfavorably, or are unfamiliar with him/her.',\n",
      "       'Unnamed: 16', 'Unnamed: 17', 'Unnamed: 18', 'Unnamed: 19',\n",
      "       'Unnamed: 20', 'Unnamed: 21', 'Unnamed: 22', 'Unnamed: 23',\n",
      "       'Unnamed: 24', 'Unnamed: 25', 'Unnamed: 26', 'Unnamed: 27',\n",
      "       'Unnamed: 28', 'Which character shot first?',\n",
      "       'Are you familiar with the Expanded Universe?',\n",
      "       'Do you consider yourself to be a fan of the Expanded Universe?ÂÃ¦',\n",
      "       'Do you consider yourself to be a fan of the Star Trek franchise?',\n",
      "       'Gender', 'Age', 'Household Income', 'Education',\n",
      "       'Location (Census Region)'],\n",
      "      dtype='object')\n"
     ]
    }
   ],
   "source": [
    "star_wars[star_wars.columns[9:15]] = star_wars[star_wars.columns[9:15]].astype(float)\n",
    "columns_ren_2={\n",
    "    \"Please rank the Star Wars films in order of preference with 1 being your favorite film in the franchise and 6 being your least favorite film.\": \"ranking_1\",\n",
    "    \"Unnamed: 10\":\"ranking_2\",\n",
    "    \"Unnamed: 11\":\"ranking_3\",\n",
    "    \"Unnamed: 12\":\"ranking_4\",\n",
    "    \"Unnamed: 13\":\"ranking_5\",\n",
    "    \"Unnamed: 14\":\"ranking_6\",\n",
    "}\n",
    "star_wars = star_wars.rename(columns=columns_ren_2)\n",
    "print(star_wars.columns)"
   ]
  },
  {
   "cell_type": "markdown",
   "metadata": {},
   "source": [
    "## Finding the Highest-Ranked Movie"
   ]
  },
  {
   "cell_type": "markdown",
   "metadata": {},
   "source": [
    "Now that I've cleaned up the ranking columns, I can find the highest-ranked movie more quickly. To do this, I take the mean of each of the ranking columns."
   ]
  },
  {
   "cell_type": "code",
   "execution_count": 14,
   "metadata": {
    "collapsed": false
   },
   "outputs": [
    {
     "name": "stdout",
     "output_type": "stream",
     "text": [
      "ranking_1    3.732934\n",
      "ranking_2    4.087321\n",
      "ranking_3    4.341317\n",
      "ranking_4    3.272727\n",
      "ranking_5    2.513158\n",
      "ranking_6    3.047847\n",
      "dtype: float64\n"
     ]
    }
   ],
   "source": [
    "mean_rank=star_wars.iloc[:,9:15].mean(axis=0)\n",
    "print(mean_rank)"
   ]
  },
  {
   "cell_type": "code",
   "execution_count": 15,
   "metadata": {
    "collapsed": false
   },
   "outputs": [
    {
     "data": {
      "text/plain": [
       "<matplotlib.axes._subplots.AxesSubplot at 0x7fe6f798aa90>"
      ]
     },
     "execution_count": 15,
     "metadata": {},
     "output_type": "execute_result"
    },
    {
     "data": {
      "image/png": "[encoded data removed]",
      "text/plain": [
       "<matplotlib.figure.Figure at 0x7fe6f79766a0>"
      ]
     },
     "metadata": {},
     "output_type": "display_data"
    }
   ],
   "source": [
    "%matplotlib inline\n",
    "mean_rank.plot.bar()"
   ]
  },
  {
   "cell_type": "markdown",
   "metadata": {},
   "source": [
    "So far I've cleaned the columns 3:15 and I discovered that the favourite film according to the fans is \"The empire strikes back\".\n",
    "In fact it's an almost universal opinion that the original trilogy is better than the prequels."
   ]
  },
  {
   "cell_type": "markdown",
   "metadata": {},
   "source": [
    "## Finding the Most Viewed Movie"
   ]
  },
  {
   "cell_type": "markdown",
   "metadata": {},
   "source": [
    "I can figure out how many people have seen each movie just by taking the sum of the right column."
   ]
  },
  {
   "cell_type": "code",
   "execution_count": 16,
   "metadata": {
    "collapsed": false
   },
   "outputs": [
    {
     "data": {
      "text/plain": [
       "<matplotlib.axes._subplots.AxesSubplot at 0x7fe6f76f6400>"
      ]
     },
     "execution_count": 16,
     "metadata": {},
     "output_type": "execute_result"
    },
    {
     "data": {
      "image/png": "[encoded data removed]",
      "text/plain": [
       "<matplotlib.figure.Figure at 0x7fe6f5652e80>"
      ]
     },
     "metadata": {},
     "output_type": "display_data"
    }
   ],
   "source": [
    "how_much_seen=star_wars.iloc[:,3:9].sum(axis=0)\n",
    "how_much_seen.plot.bar()"
   ]
  },
  {
   "cell_type": "markdown",
   "metadata": {},
   "source": [
    "This result could be explained in this way:\n",
    "\"A new hope\" was a new film and not everyone have seen it, but then the franchise became popular and the two sequels have reached more popularity.\n",
    "\"Phantom menace\" was hyped by the franchise popularity but disappointed the fans, consequently the two sequels were less watched."
   ]
  },
  {
   "cell_type": "markdown",
   "metadata": {},
   "source": [
    "## Exploring the Data by Bynary Segments"
   ]
  },
  {
   "cell_type": "markdown",
   "metadata": {},
   "source": [
    "I know which movies the survey population as a whole has ranked the highest. Now I'll examine how certain segments of the survey population responded. There are several columns that segment our data into two groups:\n",
    "\n",
    "- Do you consider yourself to be a fan of the Star Wars film franchise? - True or False\n",
    "- Do you consider yourself to be a fan of the Star Trek franchise? - Yes or No\n",
    "- Gender - Male or Female\n",
    "\n",
    "I can split a dataframe into two groups based on a binary column by creating two subsets of that column."
   ]
  },
  {
   "cell_type": "code",
   "execution_count": 17,
   "metadata": {
    "collapsed": true
   },
   "outputs": [],
   "source": [
    "males = star_wars[star_wars[\"Gender\"] == \"Male\"]\n",
    "females = star_wars[star_wars[\"Gender\"] == \"Female\"]"
   ]
  },
  {
   "cell_type": "code",
   "execution_count": 18,
   "metadata": {
    "collapsed": false
   },
   "outputs": [
    {
     "data": {
      "text/plain": [
       "<matplotlib.axes._subplots.AxesSubplot at 0x7fe6f5633e10>"
      ]
     },
     "execution_count": 18,
     "metadata": {},
     "output_type": "execute_result"
    },
    {
     "data": {
      "image/png": "[encoded data removed]",
      "text/plain": [
       "<matplotlib.figure.Figure at 0x7fe6f5667d68>"
      ]
     },
     "metadata": {},
     "output_type": "display_data"
    }
   ],
   "source": [
    "mean_rank_males=males.iloc[:,9:15].mean(axis=0)\n",
    "mean_rank_males.plot.bar()"
   ]
  },
  {
   "cell_type": "code",
   "execution_count": 19,
   "metadata": {
    "collapsed": false
   },
   "outputs": [
    {
     "data": {
      "text/plain": [
       "<matplotlib.axes._subplots.AxesSubplot at 0x7fe6f55af208>"
      ]
     },
     "execution_count": 19,
     "metadata": {},
     "output_type": "execute_result"
    },
    {
     "data": {
      "image/png": "[encoded data removed]",
      "text/plain": [
       "<matplotlib.figure.Figure at 0x7fe6f55b24e0>"
      ]
     },
     "metadata": {},
     "output_type": "display_data"
    }
   ],
   "source": [
    "how_much_seen_males=males.iloc[:,3:9].sum(axis=0)\n",
    "how_much_seen_males.plot.bar()"
   ]
  },
  {
   "cell_type": "code",
   "execution_count": 20,
   "metadata": {
    "collapsed": false
   },
   "outputs": [
    {
     "data": {
      "text/plain": [
       "<matplotlib.axes._subplots.AxesSubplot at 0x7fe6f5571940>"
      ]
     },
     "execution_count": 20,
     "metadata": {},
     "output_type": "execute_result"
    },
    {
     "data": {
      "image/png": "[encoded data removed]",
      "text/plain": [
       "<matplotlib.figure.Figure at 0x7fe6f552dba8>"
      ]
     },
     "metadata": {},
     "output_type": "display_data"
    }
   ],
   "source": [
    "mean_rank_females=females.iloc[:,9:15].mean(axis=0)\n",
    "mean_rank_females.plot.bar()"
   ]
  },
  {
   "cell_type": "code",
   "execution_count": 21,
   "metadata": {
    "collapsed": false
   },
   "outputs": [
    {
     "data": {
      "text/plain": [
       "<matplotlib.axes._subplots.AxesSubplot at 0x7fe6f549fb00>"
      ]
     },
     "execution_count": 21,
     "metadata": {},
     "output_type": "execute_result"
    },
    {
     "data": {
      "image/png": "[encoded data removed]",
      "text/plain": [
       "<matplotlib.figure.Figure at 0x7fe6f54a60f0>"
      ]
     },
     "metadata": {},
     "output_type": "display_data"
    }
   ],
   "source": [
    "how_much_seen_females=females.iloc[:,3:9].sum(axis=0)\n",
    "how_much_seen_females.plot.bar()"
   ]
  },
  {
   "cell_type": "markdown",
   "metadata": {},
   "source": [
    "The two genders agree each other."
   ]
  },
  {
   "cell_type": "markdown",
   "metadata": {},
   "source": [
    "## Segment the data based on Education, Location and \"Which character shot first?\""
   ]
  },
  {
   "cell_type": "markdown",
   "metadata": {},
   "source": [
    "Now I try to investigate the ranking trends based on these different parameters."
   ]
  },
  {
   "cell_type": "code",
   "execution_count": 22,
   "metadata": {
    "collapsed": false
   },
   "outputs": [
    {
     "data": {
      "text/plain": [
       "<matplotlib.axes._subplots.AxesSubplot at 0x7fe6f541b128>"
      ]
     },
     "execution_count": 22,
     "metadata": {},
     "output_type": "execute_result"
    },
    {
     "data": {
      "image/png": "[encoded data removed]",
      "text/plain": [
       "<matplotlib.figure.Figure at 0x7fe6f54209b0>"
      ]
     },
     "metadata": {},
     "output_type": "display_data"
    }
   ],
   "source": [
    "grouped = star_wars.groupby('Education')\n",
    "star_wars_ed=grouped.agg(np.mean)\n",
    "star_wars_ed.iloc[:,8:14].plot.bar(legend=False)"
   ]
  },
  {
   "cell_type": "code",
   "execution_count": 23,
   "metadata": {
    "collapsed": false
   },
   "outputs": [
    {
     "data": {
      "text/plain": [
       "<matplotlib.axes._subplots.AxesSubplot at 0x7fe6f5428160>"
      ]
     },
     "execution_count": 23,
     "metadata": {},
     "output_type": "execute_result"
    },
    {
     "data": {
      "image/png": "[encoded data removed]",
      "text/plain": [
       "<matplotlib.figure.Figure at 0x7fe6f52fbcf8>"
      ]
     },
     "metadata": {},
     "output_type": "display_data"
    }
   ],
   "source": [
    "grouped = star_wars.groupby('Location (Census Region)')\n",
    "star_wars_loc=grouped.agg(np.mean)\n",
    "star_wars_loc.iloc[:,8:14].plot.bar(legend=False)"
   ]
  },
  {
   "cell_type": "code",
   "execution_count": 24,
   "metadata": {
    "collapsed": false
   },
   "outputs": [
    {
     "data": {
      "text/plain": [
       "<matplotlib.axes._subplots.AxesSubplot at 0x7fe6f5258c88>"
      ]
     },
     "execution_count": 24,
     "metadata": {},
     "output_type": "execute_result"
    },
    {
     "data": {
      "image/png": "[encoded data removed]",
      "text/plain": [
       "<matplotlib.figure.Figure at 0x7fe6f52cc1d0>"
      ]
     },
     "metadata": {},
     "output_type": "display_data"
    }
   ],
   "source": [
    "grouped = star_wars.groupby('Which character shot first?')\n",
    "star_wars_sh=grouped.agg(np.mean)\n",
    "star_wars_sh.iloc[:,8:14].plot.bar(legend=False)"
   ]
  },
  {
   "cell_type": "markdown",
   "metadata": {},
   "source": [
    "## Which character is viewed more favorably? Which more unfavorably?"
   ]
  },
  {
   "cell_type": "code",
   "execution_count": 25,
   "metadata": {
    "collapsed": false
   },
   "outputs": [
    {
     "name": "stdout",
     "output_type": "stream",
     "text": [
      "  Please state whether you view the following characters favorably, unfavorably, or are unfamiliar with him/her.  \\\n",
      "1                                     Very favorably                                                               \n",
      "2                                                NaN                                                               \n",
      "3                                 Somewhat favorably                                                               \n",
      "4                                     Very favorably                                                               \n",
      "\n",
      "          Unnamed: 16         Unnamed: 17         Unnamed: 18  \\\n",
      "1      Very favorably      Very favorably      Very favorably   \n",
      "2                 NaN                 NaN                 NaN   \n",
      "3  Somewhat favorably  Somewhat favorably  Somewhat favorably   \n",
      "4      Very favorably      Very favorably      Very favorably   \n",
      "\n",
      "          Unnamed: 19         Unnamed: 20       Unnamed: 21  \\\n",
      "1      Very favorably      Very favorably    Very favorably   \n",
      "2                 NaN                 NaN               NaN   \n",
      "3  Somewhat favorably    Unfamiliar (N/A)  Unfamiliar (N/A)   \n",
      "4      Very favorably  Somewhat favorably    Very favorably   \n",
      "\n",
      "          Unnamed: 22           Unnamed: 23       Unnamed: 24  \\\n",
      "1    Unfamiliar (N/A)      Unfamiliar (N/A)    Very favorably   \n",
      "2                 NaN                   NaN               NaN   \n",
      "3    Unfamiliar (N/A)      Unfamiliar (N/A)  Unfamiliar (N/A)   \n",
      "4  Somewhat favorably  Somewhat unfavorably    Very favorably   \n",
      "\n",
      "        Unnamed: 25       Unnamed: 26       Unnamed: 27       Unnamed: 28  \n",
      "1    Very favorably    Very favorably    Very favorably    Very favorably  \n",
      "2               NaN               NaN               NaN               NaN  \n",
      "3  Unfamiliar (N/A)  Unfamiliar (N/A)  Unfamiliar (N/A)  Unfamiliar (N/A)  \n",
      "4    Very favorably    Very favorably    Very favorably    Very favorably  \n"
     ]
    }
   ],
   "source": [
    "print(star_wars.iloc[:,15:29].head(4))"
   ]
  },
  {
   "cell_type": "code",
   "execution_count": 26,
   "metadata": {
    "collapsed": true
   },
   "outputs": [],
   "source": [
    "columns_ren_3={\n",
    "    \"Please state whether you view the following characters favorably, unfavorably, or are unfamiliar with him/her.\": \"Han\",\n",
    "    \"Unnamed: 16\":\"Luke\",\n",
    "    \"Unnamed: 17\":\"Leia\",\n",
    "    \"Unnamed: 18\":\"Anakin\",\n",
    "    \"Unnamed: 19\":\"Obi Wan\",\n",
    "    \"Unnamed: 20\":\"Palpatine\",\n",
    "    \"Unnamed: 21\":\"Darth Vader\",\n",
    "    \"Unnamed: 22\":\"Lando\",\n",
    "    \"Unnamed: 23\":\"Boba Fett\",\n",
    "    \"Unnamed: 24\":\"C-3P0\",\n",
    "    \"Unnamed: 25\":\"R2 D2\",\n",
    "    \"Unnamed: 26\":\"Jar Jar\",\n",
    "    \"Unnamed: 27\":\"Padme\",\n",
    "    \"Unnamed: 28\":\"Yoda\",\n",
    "}\n",
    "star_wars = star_wars.rename(columns=columns_ren_3)"
   ]
  },
  {
   "cell_type": "code",
   "execution_count": 27,
   "metadata": {
    "collapsed": false
   },
   "outputs": [
    {
     "name": "stdout",
     "output_type": "stream",
     "text": [
      "Very favorably                                 310\n",
      "Somewhat favorably                             171\n",
      "Very unfavorably                               149\n",
      "Somewhat unfavorably                           102\n",
      "Neither favorably nor unfavorably (neutral)     84\n",
      "Unfamiliar (N/A)                                10\n",
      "Name: Darth Vader, dtype: int64\n"
     ]
    }
   ],
   "source": [
    "print(star_wars[\"Darth Vader\"].value_counts())"
   ]
  },
  {
   "cell_type": "code",
   "execution_count": 28,
   "metadata": {
    "collapsed": true
   },
   "outputs": [],
   "source": [
    "def favorable(el):\n",
    "    if el==\"Very favorably\":\n",
    "        return 4\n",
    "    elif el==\"Somewhat favorably\":\n",
    "        return 3\n",
    "    elif el==\"Neither favorably nor unfavorably (neutral)\":\n",
    "        return 2\n",
    "    elif el==\"Somewhat unfavorably\":\n",
    "        return 1\n",
    "    elif el==\"Very unfavorably\":\n",
    "        return 0\n",
    "    else:\n",
    "        return np.nan\n",
    "star_wars.iloc[:,15:29]=star_wars.iloc[:,15:29].applymap(favorable)"
   ]
  },
  {
   "cell_type": "code",
   "execution_count": 29,
   "metadata": {
    "collapsed": false
   },
   "outputs": [
    {
     "data": {
      "text/plain": [
       "<matplotlib.axes._subplots.AxesSubplot at 0x7fe6f518a198>"
      ]
     },
     "execution_count": 29,
     "metadata": {},
     "output_type": "execute_result"
    },
    {
     "data": {
      "image/png": "[encoded data removed]",
      "text/plain": [
       "<matplotlib.figure.Figure at 0x7fe6f51657f0>"
      ]
     },
     "metadata": {},
     "output_type": "display_data"
    }
   ],
   "source": [
    "fav_sum=star_wars.iloc[:,15:29].sum(axis=0)\n",
    "fav_sum.plot.bar()"
   ]
  },
  {
   "cell_type": "markdown",
   "metadata": {
    "collapsed": true
   },
   "source": [
    "Some notable facts:\n",
    "\n",
    "- Han is more loved even than Luke.\n",
    "- Padme is considered more negatively than Darth Vader.\n",
    "- Jar Jar Binks is more hated even than the emperor himself and win the Hatred Cup!"
   ]
  }
 ],
 "metadata": {
  "kernelspec": {
   "display_name": "Python 3",
   "language": "python",
   "name": "python3"
  },
  "language_info": {
   "codemirror_mode": {
    "name": "ipython",
    "version": 3
   },
   "file_extension": ".py",
   "mimetype": "text/x-python",
   "name": "python",
   "nbconvert_exporter": "python",
   "pygments_lexer": "ipython3",
   "version": "3.4.3"
  }
 },
 "nbformat": 4,
 "nbformat_minor": 0
}
