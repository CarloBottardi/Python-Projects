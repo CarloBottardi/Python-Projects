{
 "cells": [
  {
   "cell_type": "markdown",
   "metadata": {},
   "source": [
    "# Mobile App for Lottery Addiction"
   ]
  },
  {
   "cell_type": "markdown",
   "metadata": {},
   "source": [
    "Many people start playing the lottery for fun, but for some this activity turns into a habit which eventually escalates into addiction. Like other compulsive gamblers, lottery addicts soon begin spending from their savings and loans, they start to accumulate debts, and eventually engage in desperate behaviors like theft.\n",
    "\n",
    "A medical institute that aims to prevent and treat gambling addictions wants to build a dedicated mobile app to help lottery addicts better estimate their chances of winning. The institute has a team of engineers that will build the app, but they need us to create the logical core of the app and calculate probabilities.\n",
    "\n",
    "My goal is to calculate the probabilities to win the main prize in a lottery."
   ]
  },
  {
   "cell_type": "markdown",
   "metadata": {},
   "source": [
    "## Core Functions"
   ]
  },
  {
   "cell_type": "markdown",
   "metadata": {},
   "source": [
    "I'll start by writing two functions that I'll use often:\n",
    "\n",
    "- A function that calculates factorials; and\n",
    "- A function that calculates combinations."
   ]
  },
  {
   "cell_type": "code",
   "execution_count": 1,
   "metadata": {
    "collapsed": true
   },
   "outputs": [],
   "source": [
    "def factorial(n):\n",
    "    final_product = 1\n",
    "    for i in range(n, 0, -1):\n",
    "        final_product *= i\n",
    "    return final_product\n",
    "def combinations(n, k):\n",
    "    numerator=factorial(n)\n",
    "    denominator=factorial(k)*factorial(n-k)\n",
    "    return numerator/denominator"
   ]
  },
  {
   "cell_type": "markdown",
   "metadata": {},
   "source": [
    "## One-ticket Probability"
   ]
  },
  {
   "cell_type": "markdown",
   "metadata": {},
   "source": [
    "In the 6/49 lottery, six numbers are drawn from a set of 49 numbers that range from 1 to 49. A player wins the big prize if the six numbers on their tickets match all the six numbers drawn. If a player has a ticket with the numbers {13, 22, 24, 27, 42, 44}, he only wins the big prize if the numbers drawn are {13, 22, 24, 27, 42, 44}. If only one number differs, he doesn't win.\n",
    "\n",
    "For the first version of the app, players will be able to calculate the probability of winning the big prize with the various numbers they play on a single ticket (for each ticket a player chooses six numbers out of 49). So, I'll start by building a function that calculates the probability of winning the big prize for any given ticket."
   ]
  },
  {
   "cell_type": "code",
   "execution_count": 2,
   "metadata": {
    "collapsed": true
   },
   "outputs": [],
   "source": [
    "def one_ticket_probability(list_six):\n",
    "    total_comb=combinations(49, 6)\n",
    "    winning_prob=1/total_comb\n",
    "    winning_perc=100*winning_prob\n",
    "    print(\"\"\"The winning probability with the numbers {} is:{:.7f}%.\n",
    "          This means you have 1 chance to win over {}.\"\"\".format(list_six,\n",
    "                    winning_perc, int(total_comb)))\n",
    "    return winning_prob"
   ]
  },
  {
   "cell_type": "code",
   "execution_count": 3,
   "metadata": {
    "collapsed": false
   },
   "outputs": [
    {
     "name": "stdout",
     "output_type": "stream",
     "text": [
      "The winning probability with the numbers [1, 2, 3, 4, 5, 6] is:0.0000072%.\n",
      "          This means you have 1 chance to win over 13983816.\n",
      "The winning probability with the numbers [3, 9, 17, 42, 45, 49] is:0.0000072%.\n",
      "          This means you have 1 chance to win over 13983816.\n",
      "The winning probability with the numbers [15, 2, 32, 45, 19, 18] is:0.0000072%.\n",
      "          This means you have 1 chance to win over 13983816.\n"
     ]
    },
    {
     "data": {
      "text/plain": [
       "7.151123842018516e-08"
      ]
     },
     "execution_count": 3,
     "metadata": {},
     "output_type": "execute_result"
    }
   ],
   "source": [
    "comb1=[1,2,3,4,5,6]\n",
    "comb2=[3,9,17,42,45,49]\n",
    "comb3=[15, 2, 32, 45, 19, 18]\n",
    "one_ticket_probability(comb1)\n",
    "one_ticket_probability(comb2)\n",
    "one_ticket_probability(comb3)"
   ]
  },
  {
   "cell_type": "markdown",
   "metadata": {},
   "source": [
    "## Historical Data Check for Canada Lottery"
   ]
  },
  {
   "cell_type": "markdown",
   "metadata": {},
   "source": [
    "Users should also be able to compare their ticket against the historical lottery data in Canada and determine whether they would have ever won by now.\n",
    "\n",
    "The historical data coming from the Canada 6/49 lottery are stored in the \"649.csv\"."
   ]
  },
  {
   "cell_type": "code",
   "execution_count": 4,
   "metadata": {
    "collapsed": false
   },
   "outputs": [
    {
     "name": "stdout",
     "output_type": "stream",
     "text": [
      "(3665, 11)\n"
     ]
    }
   ],
   "source": [
    "import pandas as pd\n",
    "\n",
    "lottery=pd.read_csv(\"649.csv\")\n",
    "print(lottery.shape)"
   ]
  },
  {
   "cell_type": "code",
   "execution_count": 5,
   "metadata": {
    "collapsed": false
   },
   "outputs": [
    {
     "name": "stdout",
     "output_type": "stream",
     "text": [
      "   PRODUCT  DRAW NUMBER  SEQUENCE NUMBER  DRAW DATE  NUMBER DRAWN 1  \\\n",
      "0      649            1                0  6/12/1982               3   \n",
      "1      649            2                0  6/19/1982               8   \n",
      "2      649            3                0  6/26/1982               1   \n",
      "\n",
      "   NUMBER DRAWN 2  NUMBER DRAWN 3  NUMBER DRAWN 4  NUMBER DRAWN 5  \\\n",
      "0              11              12              14              41   \n",
      "1              33              36              37              39   \n",
      "2               6              23              24              27   \n",
      "\n",
      "   NUMBER DRAWN 6  BONUS NUMBER  \n",
      "0              43            13  \n",
      "1              41             9  \n",
      "2              39            34  \n"
     ]
    }
   ],
   "source": [
    "print(lottery.head(3))"
   ]
  },
  {
   "cell_type": "code",
   "execution_count": 6,
   "metadata": {
    "collapsed": false
   },
   "outputs": [
    {
     "name": "stdout",
     "output_type": "stream",
     "text": [
      "      PRODUCT  DRAW NUMBER  SEQUENCE NUMBER  DRAW DATE  NUMBER DRAWN 1  \\\n",
      "3662      649         3589                0  6/13/2018               6   \n",
      "3663      649         3590                0  6/16/2018               2   \n",
      "3664      649         3591                0  6/20/2018              14   \n",
      "\n",
      "      NUMBER DRAWN 2  NUMBER DRAWN 3  NUMBER DRAWN 4  NUMBER DRAWN 5  \\\n",
      "3662              22              24              31              32   \n",
      "3663              15              21              31              38   \n",
      "3664              24              31              35              37   \n",
      "\n",
      "      NUMBER DRAWN 6  BONUS NUMBER  \n",
      "3662              34            16  \n",
      "3663              49             8  \n",
      "3664              48            17  \n"
     ]
    }
   ],
   "source": [
    "print(lottery.tail(3))"
   ]
  },
  {
   "cell_type": "markdown",
   "metadata": {},
   "source": [
    "## Function for Historical Data Check"
   ]
  },
  {
   "cell_type": "markdown",
   "metadata": {},
   "source": [
    "The engineering team tells us that we need to write a function that can help users determine whether they would have ever won by now using a certain combination of six numbers. These are the details we'll need to be aware of:\n",
    "\n",
    "- Inside the app, the user inputs six different numbers from 1 to 49.\n",
    "- Under the hood, the six numbers will come as a Python list and serve as an input to our function.\n",
    "- The engineering team wants us to write a function that prints:\n",
    "    - the number of times the combination selected occurred; and\n",
    "    - the probability of winning the big prize in the next drawing with that combination.\n",
    "\n",
    "I'll going to begin by extracting all the winning numbers from the lottery data set. The extract_numbers() function will go over each row of the dataframe and extract the six winning numbers as a Python set."
   ]
  },
  {
   "cell_type": "code",
   "execution_count": 7,
   "metadata": {
    "collapsed": true
   },
   "outputs": [],
   "source": [
    "def extract_numbers(row):\n",
    "    row = row[4:10]\n",
    "    row = set(row.values)\n",
    "    return row"
   ]
  },
  {
   "cell_type": "code",
   "execution_count": 8,
   "metadata": {
    "collapsed": true
   },
   "outputs": [],
   "source": [
    "winning_combs=lottery.apply(extract_numbers, axis=1)"
   ]
  },
  {
   "cell_type": "code",
   "execution_count": 9,
   "metadata": {
    "collapsed": false
   },
   "outputs": [
    {
     "name": "stdout",
     "output_type": "stream",
     "text": [
      "0    {3, 41, 11, 12, 43, 14}\n",
      "1    {33, 36, 37, 39, 8, 41}\n",
      "2     {1, 6, 39, 23, 24, 27}\n",
      "3     {3, 9, 10, 43, 13, 20}\n",
      "4    {34, 5, 14, 47, 21, 31}\n",
      "dtype: object\n"
     ]
    }
   ],
   "source": [
    "print(winning_combs.head())"
   ]
  },
  {
   "cell_type": "code",
   "execution_count": 10,
   "metadata": {
    "collapsed": true
   },
   "outputs": [],
   "source": [
    "def check_historical_occurence(user_list, winning_combs):\n",
    "    user_set=set(user_list)\n",
    "    win_times=winning_combs==user_set\n",
    "    number_of_winning=win_times.sum()\n",
    "    print(\"\"\"In the past, your combination ({}) occurred {} times\n",
    "\"\"\".format(user_list, number_of_winning))\n",
    "    print(\"\"\"The winning probability with the numbers {} is: 0.0000072%.\n",
    "This means you have 1 chance to win over 13983816.\"\"\".format(user_list))\n",
    "    print(\"----------------------------------------\")"
   ]
  },
  {
   "cell_type": "code",
   "execution_count": 11,
   "metadata": {
    "collapsed": false
   },
   "outputs": [
    {
     "name": "stdout",
     "output_type": "stream",
     "text": [
      "In the past, your combination ([1, 2, 3, 4, 5, 6]) occurred 0 times\n",
      "\n",
      "The winning probability with the numbers [1, 2, 3, 4, 5, 6] is: 0.0000072%.\n",
      "This means you have 1 chance to win over 13983816.\n",
      "----------------------------------------\n",
      "In the past, your combination ([3, 9, 17, 42, 45, 49]) occurred 0 times\n",
      "\n",
      "The winning probability with the numbers [3, 9, 17, 42, 45, 49] is: 0.0000072%.\n",
      "This means you have 1 chance to win over 13983816.\n",
      "----------------------------------------\n",
      "In the past, your combination ([15, 2, 32, 45, 19, 18]) occurred 0 times\n",
      "\n",
      "The winning probability with the numbers [15, 2, 32, 45, 19, 18] is: 0.0000072%.\n",
      "This means you have 1 chance to win over 13983816.\n",
      "----------------------------------------\n"
     ]
    }
   ],
   "source": [
    "check_historical_occurence(comb1, winning_combs)\n",
    "check_historical_occurence(comb2, winning_combs)\n",
    "check_historical_occurence(comb3, winning_combs)"
   ]
  },
  {
   "cell_type": "code",
   "execution_count": 12,
   "metadata": {
    "collapsed": false
   },
   "outputs": [
    {
     "name": "stdout",
     "output_type": "stream",
     "text": [
      "In the past, your combination ([14, 24, 31, 35, 37, 48]) occurred 1 times\n",
      "\n",
      "The winning probability with the numbers [14, 24, 31, 35, 37, 48] is: 0.0000072%.\n",
      "This means you have 1 chance to win over 13983816.\n",
      "----------------------------------------\n"
     ]
    }
   ],
   "source": [
    "comb4=[14,24,31,35,37,48]\n",
    "check_historical_occurence(comb4, winning_combs)"
   ]
  },
  {
   "cell_type": "markdown",
   "metadata": {},
   "source": [
    "## Multi-ticket Probability"
   ]
  },
  {
   "cell_type": "markdown",
   "metadata": {},
   "source": [
    "Lottery addicts usually play more than one ticket on a single drawing, thinking that this might increase their chances of winning significantly. Our purpose is to help them better estimate their chances of winning — on this screen, we're going to write a function that will allow the users to calculate the chances of winning for any number of different tickets.\n",
    "\n",
    "We've talked with the engineering team and they gave us the following information:\n",
    "\n",
    "- The user will input the number of different tickets they want to play (without inputting the specific combinations they intend to play).\n",
    "- Our function will see an integer between 1 and 13,983,816 (the maximum number of different tickets).\n",
    "- The function should print information about the probability of winning the big prize depending on the number of different tickets played."
   ]
  },
  {
   "cell_type": "code",
   "execution_count": 13,
   "metadata": {
    "collapsed": true
   },
   "outputs": [],
   "source": [
    "def multi_ticket_probability(t):\n",
    "    total_comb=combinations(49, 6)\n",
    "    winning_prob=t/total_comb\n",
    "    reduced_combs=int(total_comb/t)\n",
    "    winning_perc=100*winning_prob\n",
    "    if winning_perc>=1:\n",
    "        print(\"\"\"The winning probability with {} tickets is: {:.0f}%.\n",
    "          This means you have 1 chance to win over {}.\"\"\".format(t, winning_perc, reduced_combs))\n",
    "    elif (winning_perc>=0.1)&(winning_perc<1):\n",
    "        print(\"\"\"The winning probability with {} tickets is: {:.1f}%.\n",
    "          This means you have 1 chance to win over {}.\"\"\".format(t, winning_perc, reduced_combs))\n",
    "    elif (winning_perc>=0.01)&(winning_perc<0.1):\n",
    "        print(\"\"\"The winning probability with {} tickets is: {:.2f}%.\n",
    "          This means you have 1 chance to win over {}.\"\"\".format(t, winning_perc, reduced_combs))\n",
    "    elif (winning_perc>=0.001)&(winning_perc<00.1):\n",
    "        print(\"\"\"The winning probability with {} tickets is: {:.3f}%.\n",
    "          This means you have 1 chance to win over {}.\"\"\".format(t, winning_perc, reduced_combs))\n",
    "    elif (winning_perc>=0.0001)&(winning_perc<000.1):\n",
    "        print(\"\"\"The winning probability with {} tickets is: {:.4f}%.\n",
    "          This means you have 1 chance to win over {}.\"\"\".format(t, winning_perc, reduced_combs))\n",
    "    elif (winning_perc>=0.00001)&(winning_perc<0000.1):\n",
    "        print(\"\"\"The winning probability with {} tickets is: {:.5f}%.\n",
    "          This means you have 1 chance to win over {}.\"\"\".format(t, winning_perc, reduced_combs))"
   ]
  },
  {
   "cell_type": "code",
   "execution_count": 14,
   "metadata": {
    "collapsed": false
   },
   "outputs": [
    {
     "name": "stdout",
     "output_type": "stream",
     "text": [
      "The winning probability with 10 tickets is: 0.00007%.\n",
      "          This means you have 1 chance to win over 1398381.\n",
      "The winning probability with 100 tickets is: 0.0007%.\n",
      "          This means you have 1 chance to win over 139838.\n",
      "The winning probability with 10000 tickets is: 0.07%.\n",
      "          This means you have 1 chance to win over 1398.\n",
      "The winning probability with 1000000 tickets is: 7%.\n",
      "          This means you have 1 chance to win over 13.\n",
      "The winning probability with 6991908 tickets is: 50%.\n",
      "          This means you have 1 chance to win over 2.\n",
      "The winning probability with 13983816 tickets is: 100%.\n",
      "          This means you have 1 chance to win over 1.\n"
     ]
    }
   ],
   "source": [
    "list_n_tickets=[1, 10, 100, 10000, 1000000, 6991908, 13983816]\n",
    "for el in list_n_tickets:\n",
    "    multi_ticket_probability(el)"
   ]
  },
  {
   "cell_type": "markdown",
   "metadata": {},
   "source": [
    "## Less Winning Numbers"
   ]
  },
  {
   "cell_type": "markdown",
   "metadata": {},
   "source": [
    "In most 6/49 lotteries there are smaller prizes if a player's ticket match two, three, four, or five of the six numbers drawn. As a consequence, the users might be interested in knowing the probability of having two, three, four, or five winning numbers.\n",
    "\n",
    "These are the engineering details we'll need to be aware of:\n",
    "\n",
    "- Inside the app, the user inputs:\n",
    "    - six different numbers from 1 to 49;\n",
    "    - an integer between 2 and 5 that represents the number of winning numbers expected\n",
    "- Our function prints information about the probability of having the inputted number of winning numbers."
   ]
  },
  {
   "cell_type": "code",
   "execution_count": 15,
   "metadata": {
    "collapsed": true
   },
   "outputs": [],
   "source": [
    "def probability_less_6(i):\n",
    "    n_comb_played=combinations(6, i)\n",
    "    n_comb_remained=combinations(43, 6-i)\n",
    "    tot_outcomes=n_comb_played*n_comb_remained\n",
    "    n_tot_combs=combinations(49, 6)\n",
    "    winning_prob=100*tot_outcomes/n_tot_combs\n",
    "    n_tot_combs_simplified = round(n_tot_combs/tot_outcomes)\n",
    "    print(\"\"\"The probabilities to have {} winning numbers are: {:.6f}%.\n",
    "          This means you have 1 chance to win over {}.\"\"\".format(i, winning_prob, n_tot_combs_simplified))"
   ]
  },
  {
   "cell_type": "code",
   "execution_count": 16,
   "metadata": {
    "collapsed": false
   },
   "outputs": [
    {
     "name": "stdout",
     "output_type": "stream",
     "text": [
      "The probabilities to have 2 winning numbers are: 13.237803%.\n",
      "          This means you have 1 chance to win over 8.\n",
      "DO NOT PLAY\n",
      "The probabilities to have 3 winning numbers are: 1.765040%.\n",
      "          This means you have 1 chance to win over 57.\n",
      "DO NOT PLAY\n",
      "The probabilities to have 4 winning numbers are: 0.096862%.\n",
      "          This means you have 1 chance to win over 1032.\n",
      "DO NOT PLAY\n",
      "The probabilities to have 5 winning numbers are: 0.001845%.\n",
      "          This means you have 1 chance to win over 54201.\n",
      "DO NOT PLAY\n"
     ]
    }
   ],
   "source": [
    "input_list=[2,3,4,5]\n",
    "for i in input_list:\n",
    "    probability_less_6(i)\n",
    "    print(\"DO NOT PLAY\")"
   ]
  },
  {
   "cell_type": "markdown",
   "metadata": {},
   "source": [
    "Now I have calculated the probabilities to win with __EXACTLY__ 2, 3, 4, 5 played numbers.\n",
    "\n",
    "Below I have calculated the probabilities to win with __AT LEAST__ 2, 3, 4, 5 played numbers."
   ]
  },
  {
   "cell_type": "code",
   "execution_count": 17,
   "metadata": {
    "collapsed": true
   },
   "outputs": [],
   "source": [
    "def probability_at_least_less_6(i):\n",
    "    winning_prob=0\n",
    "    for j in range(i, 7):\n",
    "        n_comb_played=combinations(6, i)\n",
    "        n_comb_remained=combinations(43, 6-i)\n",
    "        tot_outcomes=n_comb_played*n_comb_remained\n",
    "        n_tot_combs=combinations(49, 6)\n",
    "        winning_prob+=tot_outcomes/n_tot_combs\n",
    "    winning_perc=100*winning_prob\n",
    "    n_tot_combs_simplified = round(1/winning_prob)\n",
    "    print(\"\"\"The probabilities to have at least {} winning numbers are: {:.6f}%.\n",
    "          This means you have more or less 1 chance to win over {}.\"\"\".format(i, winning_perc, n_tot_combs_simplified))"
   ]
  },
  {
   "cell_type": "code",
   "execution_count": 18,
   "metadata": {
    "collapsed": false
   },
   "outputs": [
    {
     "name": "stdout",
     "output_type": "stream",
     "text": [
      "The probabilities to have at least 2 winning numbers are: 66.189015%.\n",
      "          This means you have more or less 1 chance to win over 2.\n",
      "DO NOT PLAY\n",
      "The probabilities to have at least 3 winning numbers are: 7.060162%.\n",
      "          This means you have more or less 1 chance to win over 14.\n",
      "DO NOT PLAY\n",
      "The probabilities to have at least 4 winning numbers are: 0.290586%.\n",
      "          This means you have more or less 1 chance to win over 344.\n",
      "DO NOT PLAY\n",
      "The probabilities to have at least 5 winning numbers are: 0.003690%.\n",
      "          This means you have more or less 1 chance to win over 27100.\n",
      "DO NOT PLAY\n",
      "The probabilities to have at least 6 winning numbers are: 0.000007%.\n",
      "          This means you have more or less 1 chance to win over 13983816.\n",
      "DO NOT PLAY\n"
     ]
    }
   ],
   "source": [
    "input_list_2=[2,3,4,5,6]\n",
    "for i in input_list_2:\n",
    "    probability_at_least_less_6(i)\n",
    "    print(\"DO NOT PLAY\")"
   ]
  }
 ],
 "metadata": {
  "kernelspec": {
   "display_name": "Python 3",
   "language": "python",
   "name": "python3"
  },
  "language_info": {
   "codemirror_mode": {
    "name": "ipython",
    "version": 3
   },
   "file_extension": ".py",
   "mimetype": "text/x-python",
   "name": "python",
   "nbconvert_exporter": "python",
   "pygments_lexer": "ipython3",
   "version": "3.4.3"
  }
 },
 "nbformat": 4,
 "nbformat_minor": 2
}
